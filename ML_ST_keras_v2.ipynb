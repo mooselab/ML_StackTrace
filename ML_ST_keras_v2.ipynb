{
 "cells": [
  {
   "cell_type": "markdown",
   "id": "782e8f80-78a9-4e0b-9384-896f365185cf",
   "metadata": {},
   "source": [
    "# Stack Traces Project (keras)"
   ]
  },
  {
   "cell_type": "markdown",
   "id": "3fb3cb62-d481-464d-bac4-fb42528b9ca4",
   "metadata": {
    "tags": []
   },
   "source": [
    "## Importing the necessary libraries"
   ]
  },
  {
   "cell_type": "code",
   "execution_count": 267,
   "id": "ce22b98e-8698-4c40-8ca0-245c1f8adf6d",
   "metadata": {},
   "outputs": [],
   "source": [
    "import pandas as pd\n",
    "import numpy as np\n",
    "import re\n",
    "from pathlib import Path\n",
    "from typing import Tuple, List, Optional, Union, Tuple\n",
    "from pprint import pprint\n",
    "import matplotlib.pyplot as plt\n",
    "from matplotlib.ticker import AutoMinorLocator\n",
    "from matplotlib import gridspec\n",
    "import string\n",
    "import seaborn as sns\n",
    "import datetime\n",
    "from itertools import permutations\n",
    "import heapq\n",
    "import csv\n",
    "import pickle\n",
    "import matplotlib.ticker as mtick\n",
    "import collections\n",
    "import os\n",
    "from tabulate import tabulate\n",
    "from openpyxl import load_workbook\n",
    "\n",
    "# pd.options.display.max_colwidth = 500\n",
    "# pd.options.display.max_columns = None\n",
    "# pd.options.display.max_rows = None\n",
    "pd.set_option('display.max_rows', 500)\n",
    "pd.set_option('display.max_columns', 500)\n",
    "pd.set_option('display.width', 1000)"
   ]
  },
  {
   "cell_type": "markdown",
   "id": "fce0f3f2-df8e-49fa-b853-7b834194a10b",
   "metadata": {},
   "source": [
    "## Setting up the project environment"
   ]
  },
  {
   "cell_type": "code",
   "execution_count": 268,
   "id": "a33fcc34-2081-48b3-8cb7-817b87d3fe7c",
   "metadata": {},
   "outputs": [],
   "source": [
    "# .csv configuration\n",
    "encoding = \"utf-8\"\n",
    "delimiter = None\n",
    "working_directory_path = \"../\""
   ]
  },
  {
   "cell_type": "markdown",
   "id": "40d94d09-86aa-46ee-9a4f-3de1442d24b9",
   "metadata": {},
   "source": [
    "## Loading the question dataset"
   ]
  },
  {
   "cell_type": "code",
   "execution_count": 269,
   "id": "a4c9e24a-26aa-454f-a424-5a667d25817f",
   "metadata": {
    "tags": []
   },
   "outputs": [],
   "source": [
    "pure_data = working_directory_path + \"question_tag.csv\"\n",
    "path = Path(pure_data)\n",
    "\n",
    "if path.suffix == \".csv\":\n",
    "    df_sotorrent = pd.read_csv(path, encoding=encoding)\n",
    "else:\n",
    "    raise ValueError(\"{data_file_path.suffix} extensions are not supported\")"
   ]
  },
  {
   "cell_type": "code",
   "execution_count": 270,
   "id": "1401237b-1dd9-49ba-ad91-50929602772b",
   "metadata": {},
   "outputs": [
    {
     "data": {
      "text/plain": [
       "(163194, 11)"
      ]
     },
     "execution_count": 270,
     "metadata": {},
     "output_type": "execute_result"
    }
   ],
   "source": [
    "df_sotorrent.shape"
   ]
  },
  {
   "cell_type": "code",
   "execution_count": 271,
   "id": "c616d9ac-5921-465c-aaf3-f2578e4864c3",
   "metadata": {},
   "outputs": [],
   "source": [
    "df_sotorrent['Source'] = 'old'"
   ]
  },
  {
   "cell_type": "markdown",
   "id": "e2314e81-5865-4ebd-8dab-a9e60d110eaf",
   "metadata": {},
   "source": [
    "Update the DB"
   ]
  },
  {
   "cell_type": "raw",
   "id": "f6381d8d-24d6-43b4-938e-67c9305b1318",
   "metadata": {},
   "source": [
    "Ref: https://data.stackexchange.com/stackoverflow/query/edit/1769158\n",
    "\n",
    "SELECT \n",
    "      Id, \n",
    "      PostTypeId, \n",
    "      AcceptedAnswerId, \n",
    "      CreationDate, \n",
    "      ViewCount, \n",
    "      AnswerCount, \n",
    "      CommentCount, \n",
    "      Score,\n",
    "      Title,\n",
    "      Body,\n",
    "      Tags\n",
    "FROM Posts \n",
    "WHERE (tags like '%tensorflow%' OR\n",
    "      tags LIKE '%pytorch%' OR\n",
    "      tags LIKE '%scikit-learn%' OR\n",
    "      tags LIKE '%keras%' OR\n",
    "      tags LIKE '%nltk%' OR\n",
    "      tags LIKE '%huggingface%' OR\n",
    "      tags LIKE '%spark-ml%') AND\n",
    "      creationDate > '2021-01-25 00:00:00' AND\n",
    "      PostTypeId=1\n",
    "ORDER BY [creationDate] DESC"
   ]
  },
  {
   "cell_type": "code",
   "execution_count": 272,
   "id": "48e538f7-e9e5-4dab-ac00-7c179f4892ef",
   "metadata": {},
   "outputs": [],
   "source": [
    "pure_data = working_directory_path + \"proj1_update_qst.csv\"\n",
    "path = Path(pure_data)\n",
    "\n",
    "if path.suffix == \".csv\":\n",
    "    df_remained = pd.read_csv(path, encoding=encoding)\n",
    "else:\n",
    "    raise ValueError(\"{data_file_path.suffix} extensions are not supported\")"
   ]
  },
  {
   "cell_type": "code",
   "execution_count": 273,
   "id": "cd5b336b-1fe2-4bc6-a99c-837f3f672283",
   "metadata": {},
   "outputs": [
    {
     "data": {
      "text/plain": [
       "(49918, 11)"
      ]
     },
     "execution_count": 273,
     "metadata": {},
     "output_type": "execute_result"
    }
   ],
   "source": [
    "df_remained.shape"
   ]
  },
  {
   "cell_type": "code",
   "execution_count": 274,
   "id": "300bd414-ed1e-4bff-80f8-c3f6894c1295",
   "metadata": {},
   "outputs": [],
   "source": [
    "df_remained['source'] = 'new'"
   ]
  },
  {
   "cell_type": "markdown",
   "id": "1ed36c3a-6087-495c-822b-9fb83c84ec23",
   "metadata": {},
   "source": [
    "Concat two data frames"
   ]
  },
  {
   "cell_type": "code",
   "execution_count": 275,
   "id": "96f69893-e004-497d-a407-0dc3cc3bb0dc",
   "metadata": {},
   "outputs": [
    {
     "data": {
      "text/plain": [
       "(213112, 13)"
      ]
     },
     "execution_count": 275,
     "metadata": {},
     "output_type": "execute_result"
    }
   ],
   "source": [
    "df = pd.concat([df_sotorrent, df_remained])\n",
    "df.shape"
   ]
  },
  {
   "cell_type": "code",
   "execution_count": 276,
   "id": "8311d4f5-9748-465f-b6f4-023dde556a42",
   "metadata": {},
   "outputs": [],
   "source": [
    "df.drop_duplicates([\"Id\", \"PostTypeId\", \"AcceptedAnswerId\", \"ViewCount\", \"AnswerCount\", \"CommentCount\", \"Score\", \"Title\", 'Body', 'Tags'], ignore_index=False, inplace=True)\n",
    "df = df.reset_index(drop=True)"
   ]
  },
  {
   "cell_type": "code",
   "execution_count": 277,
   "id": "bc3f69f7-987e-4076-b1e1-0e345ff45fb2",
   "metadata": {},
   "outputs": [
    {
     "name": "stdout",
     "output_type": "stream",
     "text": [
      "The total number of records (w/o considering specific tag set) : 171114\n"
     ]
    }
   ],
   "source": [
    "print(\"The total number of records (w/o considering specific tag set) :\", df.shape[0])"
   ]
  },
  {
   "cell_type": "markdown",
   "id": "2e408693",
   "metadata": {},
   "source": [
    "## Answering the first research question (RQ1)"
   ]
  },
  {
   "cell_type": "markdown",
   "id": "db9a6e6e-46f4-432b-81c6-a5f646d6dd08",
   "metadata": {},
   "source": [
    "### Filtering the specific tags"
   ]
  },
  {
   "cell_type": "code",
   "execution_count": 278,
   "id": "eae1d276-5b01-482b-b244-cd89bef86bd7",
   "metadata": {},
   "outputs": [],
   "source": [
    "def tag_filter(pref_tags: List, tags: str) -> bool:\n",
    "    regex = \"\"\n",
    "    for tag in pref_tags:\n",
    "        regex += '(?=.*\\\\b'+ tag +'([+-]?([0-9]*[.])?[0-9]*)\\\\b)'\n",
    "    regex = r\"^\" + regex + \".*$\"\n",
    "    tags = tags.strip().lower()\n",
    "    match_result = re.match(regex, tags, re.MULTILINE | re.IGNORECASE)\n",
    "    if match_result is None:\n",
    "        return 0\n",
    "    else:\n",
    "        return 1"
   ]
  },
  {
   "cell_type": "code",
   "execution_count": 279,
   "id": "6b05dfaf-8a60-4a86-b341-b78d16a32226",
   "metadata": {},
   "outputs": [],
   "source": [
    "tags = [\"keras\", \"python\"]\n",
    "df['HasPreferableTags'] = df['Tags'].apply(lambda row_tags: tag_filter(tags, row_tags))"
   ]
  },
  {
   "cell_type": "code",
   "execution_count": 280,
   "id": "40b740ac-83e0-45f1-a2be-e8825609ee76",
   "metadata": {},
   "outputs": [],
   "source": [
    "df_w_keras_tags = df[df['HasPreferableTags']==True]"
   ]
  },
  {
   "cell_type": "code",
   "execution_count": 281,
   "id": "3a2d3ed2-b450-4151-8856-352d7e8a2463",
   "metadata": {},
   "outputs": [],
   "source": [
    "df_w_keras_tags = df_w_keras_tags.drop(['HasPreferableTags'], axis='columns')"
   ]
  },
  {
   "cell_type": "code",
   "execution_count": 282,
   "id": "32db8e0e-ad52-40ee-aab0-229a72267751",
   "metadata": {},
   "outputs": [
    {
     "data": {
      "text/plain": [
       "(30344, 13)"
      ]
     },
     "execution_count": 282,
     "metadata": {},
     "output_type": "execute_result"
    }
   ],
   "source": [
    "df_w_keras_tags.shape"
   ]
  },
  {
   "cell_type": "markdown",
   "id": "0ebb0623-d6d8-4261-90f3-c3eace22e119",
   "metadata": {},
   "source": [
    "We found there are some duplocated rows in our DB, so we eleminate those based on some columns "
   ]
  },
  {
   "cell_type": "code",
   "execution_count": 283,
   "id": "eb8b23cc-bffd-4fc3-a8c6-1fae9798336f",
   "metadata": {},
   "outputs": [],
   "source": [
    "df_w_keras_tags.drop_duplicates([\"Id\", \"PostTypeId\", \"AcceptedAnswerId\", \"ViewCount\", \"AnswerCount\", \"CommentCount\", \"Score\", \"Title\"], ignore_index=False, inplace=True)\n",
    "df_w_keras_tags = df_w_keras_tags.reset_index(drop=True)"
   ]
  },
  {
   "cell_type": "code",
   "execution_count": 284,
   "id": "b79a315e-28a4-4ae4-8fb7-dcfb510a291e",
   "metadata": {},
   "outputs": [
    {
     "data": {
      "text/plain": [
       "(30344, 13)"
      ]
     },
     "execution_count": 284,
     "metadata": {},
     "output_type": "execute_result"
    }
   ],
   "source": [
    "df_w_keras_tags.shape"
   ]
  },
  {
   "cell_type": "markdown",
   "id": "77c96c84-dedb-4f7f-a464-f8c8e8607970",
   "metadata": {
    "tags": []
   },
   "source": [
    "The new dataset that has a specific tag/s is reduced to:"
   ]
  },
  {
   "cell_type": "code",
   "execution_count": 285,
   "id": "15fdfa92-2d73-4f6c-af4d-4a814b7d11d6",
   "metadata": {},
   "outputs": [
    {
     "name": "stdout",
     "output_type": "stream",
     "text": [
      "The orginal DB:  171114\n",
      "The new DB (sp):  30344\n",
      "The difference is:  140770\n"
     ]
    }
   ],
   "source": [
    "print(\"The orginal DB: \", df.shape[0])\n",
    "print(\"The new DB (sp): \", df_w_keras_tags.shape[0])\n",
    "print(\"The difference is: \", df.shape[0] - df_w_keras_tags.shape[0])"
   ]
  },
  {
   "cell_type": "code",
   "execution_count": 286,
   "id": "2050397c-ca76-4c95-843d-71fbd9940991",
   "metadata": {},
   "outputs": [
    {
     "data": {
      "text/html": [
       "<div>\n",
       "<style scoped>\n",
       "    .dataframe tbody tr th:only-of-type {\n",
       "        vertical-align: middle;\n",
       "    }\n",
       "\n",
       "    .dataframe tbody tr th {\n",
       "        vertical-align: top;\n",
       "    }\n",
       "\n",
       "    .dataframe thead th {\n",
       "        text-align: right;\n",
       "    }\n",
       "</style>\n",
       "<table border=\"1\" class=\"dataframe\">\n",
       "  <thead>\n",
       "    <tr style=\"text-align: right;\">\n",
       "      <th></th>\n",
       "      <th>Id</th>\n",
       "      <th>PostTypeId</th>\n",
       "      <th>AcceptedAnswerId</th>\n",
       "      <th>CreationDate</th>\n",
       "      <th>ViewCount</th>\n",
       "      <th>AnswerCount</th>\n",
       "      <th>CommentCount</th>\n",
       "      <th>Score</th>\n",
       "      <th>Title</th>\n",
       "      <th>Body</th>\n",
       "      <th>Tags</th>\n",
       "      <th>Source</th>\n",
       "      <th>source</th>\n",
       "    </tr>\n",
       "  </thead>\n",
       "  <tbody>\n",
       "    <tr>\n",
       "      <th>0</th>\n",
       "      <td>52019226</td>\n",
       "      <td>1</td>\n",
       "      <td>52019631.0</td>\n",
       "      <td>2018-08-25 16:32:19</td>\n",
       "      <td>312</td>\n",
       "      <td>1</td>\n",
       "      <td>2</td>\n",
       "      <td>0</td>\n",
       "      <td>Keras w/ Tensorflow intermediate layer extraction in batches</td>\n",
       "      <td>&lt;p&gt;I am currently trying to leverage an intermediate layer from my already trained DL model as an embedding to a given input. The code below already works at getting the layer I want, however it is extremely slow to do this iteratively for a large number of inputs.&lt;/p&gt;\\n\\n&lt;pre&gt;&lt;code&gt;model = load_model('model.h5')\\ninp = model.input\\noutputs = [layer.output for layer in model.layers]\\nfunctors = [K.function([inp]+ [K.learning_phase()], [out]) for out in outputs]\\n\\ndef text2tensor(text):\\n   ...</td>\n",
       "      <td>&lt;python&gt;&lt;tensorflow&gt;&lt;keras&gt;&lt;deep-learning&gt;&lt;batch-processing&gt;</td>\n",
       "      <td>old</td>\n",
       "      <td>NaN</td>\n",
       "    </tr>\n",
       "    <tr>\n",
       "      <th>1</th>\n",
       "      <td>64070871</td>\n",
       "      <td>1</td>\n",
       "      <td>NaN</td>\n",
       "      <td>2020-09-25 20:19:10</td>\n",
       "      <td>45</td>\n",
       "      <td>0</td>\n",
       "      <td>1</td>\n",
       "      <td>1</td>\n",
       "      <td>How can i reshape TFRecord dataset to train RNN model?</td>\n",
       "      <td>&lt;p&gt;I am trying to feed an RNN model with &lt;code&gt;.tfrecords&lt;/code&gt; datasets (train,test) in order to train it. But i am getting an error about the size of input0. &lt;br&gt;\\nI think &lt;code&gt;train_data&lt;/code&gt; wants to reshape to 4 dims but i am not sure.&lt;/p&gt;\\n&lt;hr /&gt;\\n&lt;p&gt;The bellow function returning the datasets from &lt;code&gt;.tfrecords&lt;/code&gt; with features and one hot encoded label.&lt;/p&gt;\\n&lt;pre&gt;&lt;code&gt;def get_dataset(directory, num_classes=60, batch_size=32, drop_remainder=False,\\n                shuffle=F...</td>\n",
       "      <td>&lt;python&gt;&lt;tensorflow&gt;&lt;machine-learning&gt;&lt;keras&gt;&lt;recurrent-neural-network&gt;</td>\n",
       "      <td>old</td>\n",
       "      <td>NaN</td>\n",
       "    </tr>\n",
       "    <tr>\n",
       "      <th>2</th>\n",
       "      <td>54004682</td>\n",
       "      <td>1</td>\n",
       "      <td>54005594.0</td>\n",
       "      <td>2019-01-02 10:27:49</td>\n",
       "      <td>1510</td>\n",
       "      <td>1</td>\n",
       "      <td>0</td>\n",
       "      <td>4</td>\n",
       "      <td>Loading a video dataset (Keras)</td>\n",
       "      <td>&lt;p&gt;I'm trying to implement an LRCN/C(LSTM)RNN to classify emotions in videos. My dataset structure is split in two folders - \"train_set\" and \"valid_set\". \\nWhen you open, either of them, you can find 3 folders, \"positive\", \"negative\" and \"surprise\". Lastly, each of these 3 folders has video-folders, each of which is a collection of frames of a video in .jpg. Videos have different length, hence a video-folder can have 200 frames, the one next to it 1200, 700...! To load the dataset I am using...</td>\n",
       "      <td>&lt;python&gt;&lt;tensorflow&gt;&lt;video&gt;&lt;keras&gt;</td>\n",
       "      <td>old</td>\n",
       "      <td>NaN</td>\n",
       "    </tr>\n",
       "    <tr>\n",
       "      <th>3</th>\n",
       "      <td>59113797</td>\n",
       "      <td>1</td>\n",
       "      <td>NaN</td>\n",
       "      <td>2019-11-30 06:30:12</td>\n",
       "      <td>139</td>\n",
       "      <td>1</td>\n",
       "      <td>4</td>\n",
       "      <td>0</td>\n",
       "      <td>Keras model training hanging on first epoch</td>\n",
       "      <td>&lt;p&gt;I have been trying to train a keras model but it keeps getting stuck at the start of the first epoch. The worst thing is that it is not throwing any errors. I am training on a GTX 1050TI&lt;/p&gt;\\n\\n&lt;p&gt;Below is a sample of my code:&lt;/p&gt;\\n\\n&lt;pre&gt;&lt;code&gt;import tensorflow as tf\\nimport os\\n\\nfrom tensorflow import keras\\nfrom keras_preprocessing.image import ImageDataGenerator\\nfrom keras_applications.xception import Xception\\n\\n\\nimport matplotlib.pyplot as plt\\n\\n\\ntrain_dir='C:\\\\Users\\\\AYERHAN M...</td>\n",
       "      <td>&lt;python&gt;&lt;tensorflow&gt;&lt;keras&gt;&lt;neural-network&gt;&lt;deep-learning&gt;</td>\n",
       "      <td>old</td>\n",
       "      <td>NaN</td>\n",
       "    </tr>\n",
       "    <tr>\n",
       "      <th>4</th>\n",
       "      <td>58245855</td>\n",
       "      <td>1</td>\n",
       "      <td>58315643.0</td>\n",
       "      <td>2019-10-05 06:13:39</td>\n",
       "      <td>231</td>\n",
       "      <td>1</td>\n",
       "      <td>2</td>\n",
       "      <td>1</td>\n",
       "      <td>Numpy arrays used in training in TF1--Keras have much lower accuracy in TF2</td>\n",
       "      <td>&lt;p&gt;I had a neural net in keras that performed well. Now with the deprecation that came with Tensorflow 2 I had to rewrite the model. Now it is giving me worse accuracy metrics. &lt;/p&gt;\\n\\n&lt;p&gt;My suspicion is that tf2 wants you to use their data structure to train models and they give a example of how to go from Numpy to tf.data.Dataset &lt;a href=\"https://www.tensorflow.org/tutorials/load_data/numpy\" rel=\"nofollow noreferrer\"&gt;here&lt;/a&gt;.&lt;/p&gt;\\n\\n&lt;p&gt;So I did:&lt;/p&gt;\\n\\n&lt;pre&gt;&lt;code&gt;train_dataset = tf.data.D...</td>\n",
       "      <td>&lt;python-3.x&gt;&lt;tensorflow&gt;&lt;tensorflow-datasets&gt;&lt;tensorflow2.0&gt;&lt;tf.keras&gt;</td>\n",
       "      <td>old</td>\n",
       "      <td>NaN</td>\n",
       "    </tr>\n",
       "  </tbody>\n",
       "</table>\n",
       "</div>"
      ],
      "text/plain": [
       "         Id  PostTypeId  AcceptedAnswerId         CreationDate  ViewCount  AnswerCount  CommentCount  Score                                                                        Title                                                                                                                                                                                                                                                                                                                                                                                                                                                                                                                 Body                                                                     Tags Source source\n",
       "0  52019226           1        52019631.0  2018-08-25 16:32:19        312            1             2      0                 Keras w/ Tensorflow intermediate layer extraction in batches  <p>I am currently trying to leverage an intermediate layer from my already trained DL model as an embedding to a given input. The code below already works at getting the layer I want, however it is extremely slow to do this iteratively for a large number of inputs.</p>\\n\\n<pre><code>model = load_model('model.h5')\\ninp = model.input\\noutputs = [layer.output for layer in model.layers]\\nfunctors = [K.function([inp]+ [K.learning_phase()], [out]) for out in outputs]\\n\\ndef text2tensor(text):\\n   ...             <python><tensorflow><keras><deep-learning><batch-processing>    old    NaN\n",
       "1  64070871           1               NaN  2020-09-25 20:19:10         45            0             1      1                       How can i reshape TFRecord dataset to train RNN model?  <p>I am trying to feed an RNN model with <code>.tfrecords</code> datasets (train,test) in order to train it. But i am getting an error about the size of input0. <br>\\nI think <code>train_data</code> wants to reshape to 4 dims but i am not sure.</p>\\n<hr />\\n<p>The bellow function returning the datasets from <code>.tfrecords</code> with features and one hot encoded label.</p>\\n<pre><code>def get_dataset(directory, num_classes=60, batch_size=32, drop_remainder=False,\\n                shuffle=F...  <python><tensorflow><machine-learning><keras><recurrent-neural-network>    old    NaN\n",
       "2  54004682           1        54005594.0  2019-01-02 10:27:49       1510            1             0      4                                              Loading a video dataset (Keras)  <p>I'm trying to implement an LRCN/C(LSTM)RNN to classify emotions in videos. My dataset structure is split in two folders - \"train_set\" and \"valid_set\". \\nWhen you open, either of them, you can find 3 folders, \"positive\", \"negative\" and \"surprise\". Lastly, each of these 3 folders has video-folders, each of which is a collection of frames of a video in .jpg. Videos have different length, hence a video-folder can have 200 frames, the one next to it 1200, 700...! To load the dataset I am using...                                       <python><tensorflow><video><keras>    old    NaN\n",
       "3  59113797           1               NaN  2019-11-30 06:30:12        139            1             4      0                                  Keras model training hanging on first epoch  <p>I have been trying to train a keras model but it keeps getting stuck at the start of the first epoch. The worst thing is that it is not throwing any errors. I am training on a GTX 1050TI</p>\\n\\n<p>Below is a sample of my code:</p>\\n\\n<pre><code>import tensorflow as tf\\nimport os\\n\\nfrom tensorflow import keras\\nfrom keras_preprocessing.image import ImageDataGenerator\\nfrom keras_applications.xception import Xception\\n\\n\\nimport matplotlib.pyplot as plt\\n\\n\\ntrain_dir='C:\\\\Users\\\\AYERHAN M...               <python><tensorflow><keras><neural-network><deep-learning>    old    NaN\n",
       "4  58245855           1        58315643.0  2019-10-05 06:13:39        231            1             2      1  Numpy arrays used in training in TF1--Keras have much lower accuracy in TF2  <p>I had a neural net in keras that performed well. Now with the deprecation that came with Tensorflow 2 I had to rewrite the model. Now it is giving me worse accuracy metrics. </p>\\n\\n<p>My suspicion is that tf2 wants you to use their data structure to train models and they give a example of how to go from Numpy to tf.data.Dataset <a href=\"https://www.tensorflow.org/tutorials/load_data/numpy\" rel=\"nofollow noreferrer\">here</a>.</p>\\n\\n<p>So I did:</p>\\n\\n<pre><code>train_dataset = tf.data.D...   <python-3.x><tensorflow><tensorflow-datasets><tensorflow2.0><tf.keras>    old    NaN"
      ]
     },
     "execution_count": 286,
     "metadata": {},
     "output_type": "execute_result"
    }
   ],
   "source": [
    "df_w_keras_tags.head()"
   ]
  },
  {
   "cell_type": "markdown",
   "id": "28990026-83cc-4af5-94f6-5b2a75eb41f7",
   "metadata": {
    "tags": []
   },
   "source": [
    "### Extracting the code parts from body"
   ]
  },
  {
   "cell_type": "code",
   "execution_count": 287,
   "id": "23057f26-0779-428d-885f-7b166ea7ebca",
   "metadata": {},
   "outputs": [],
   "source": [
    "def extract_code_blocks(body: str, _id: int) -> List:\n",
    "    global index\n",
    "    # regex = r\"<pre><code>((.*?)|(\\n)*)*(<\\/code><\\/pre>|</pre></code>)\"\n",
    "    # regex = r\"(<pre>|(<pre((.*?)|(\\n)*)*><code>))((.*?)|(\\n)*)*(<\\/code><\\/pre>|</pre></code>|</pre>)\"\n",
    "    regex = r\"<pre(><code>|>|(((.*?)|(\\n)*)><code>)|((.*?)|(\\n)*)>)((.*?)|(\\n)*)*(<\\/code><\\/pre>|</pre></code>|</pre>)\"\n",
    "    matches = re.finditer(regex, body, re.MULTILINE | re.IGNORECASE)\n",
    "    result = []\n",
    "    \n",
    "    try:\n",
    "        for matchNum, match in enumerate(matches, start=1):\n",
    "            code = match.group()\n",
    "            code = re.sub('<pre(><code>|>|(((.*?)|(\\n)*)><code>)|((.*?)|(\\n)*)>)', '', code)\n",
    "            code = code.replace(\"<pre><code>\", \"\")\n",
    "            code = code.replace(\"</pre></code>\", \"\")\n",
    "            code = code.replace(\"</code></pre>\", \"\")\n",
    "            result.append(code)\n",
    "    except:\n",
    "        print(\"\\n Error(1): \", _id)\n",
    "        print(body)\n",
    "        return None\n",
    "    \n",
    "    return result"
   ]
  },
  {
   "cell_type": "code",
   "execution_count": 288,
   "id": "f87db6b2-b24a-45d5-a7d2-e234bc3f0f73",
   "metadata": {
    "tags": []
   },
   "outputs": [],
   "source": [
    "df_w_keras_tags['Code'] = df_w_keras_tags.apply(lambda row: extract_code_blocks(row.Body, row.Id), axis=1)"
   ]
  },
  {
   "cell_type": "code",
   "execution_count": 289,
   "id": "25534f29-f886-4366-9c74-366cb41becd3",
   "metadata": {},
   "outputs": [],
   "source": [
    "# print(df_w_tags.iloc[7]['Body'])\n",
    "# print(type(extract_code_blocks(df_w_tags.iloc[7]['Body'])))\n",
    "# print(len(extract_code_blocks(df_w_tags.iloc[7]['Body'])))\n",
    "# print(extract_code_blocks(df_w_tags.iloc[7]['Body'])[0])"
   ]
  },
  {
   "cell_type": "markdown",
   "id": "3a8b1e27-61be-4359-9b1c-c80828413913",
   "metadata": {},
   "source": [
    "Reset the index of dataframe:"
   ]
  },
  {
   "cell_type": "code",
   "execution_count": 290,
   "id": "e700b0aa-2f79-43c5-90e8-f969379e8f5d",
   "metadata": {},
   "outputs": [],
   "source": [
    "df_w_keras_tags = df_w_keras_tags.reset_index(drop=True)"
   ]
  },
  {
   "cell_type": "markdown",
   "id": "4bdbd611",
   "metadata": {},
   "source": [
    "#### Finding the number of questions that have a code or not"
   ]
  },
  {
   "cell_type": "code",
   "execution_count": 291,
   "id": "717748e7",
   "metadata": {},
   "outputs": [],
   "source": [
    "count__question_w_code  = 0\n",
    "count__question_wo_code = 0\n",
    "count__num_codes = 0\n",
    "\n",
    "def counting_w_or_wo_code(row_code: List) -> bool:\n",
    "    global count__question_w_code, count__question_wo_code, count__num_codes\n",
    "    \n",
    "    if row_code:\n",
    "        count__question_w_code = count__question_w_code + 1\n",
    "        count__num_codes += len(row_code)\n",
    "        return True\n",
    "    else:\n",
    "        count__question_wo_code = count__question_wo_code + 1\n",
    "        return False"
   ]
  },
  {
   "cell_type": "code",
   "execution_count": 292,
   "id": "9a723e24",
   "metadata": {},
   "outputs": [],
   "source": [
    "df_w_keras_tags['Has_code'] = df_w_keras_tags['Code'].apply(lambda row_code: counting_w_or_wo_code(row_code))"
   ]
  },
  {
   "cell_type": "code",
   "execution_count": 293,
   "id": "d8547f91-ce63-4b34-a349-f13a0815fb18",
   "metadata": {},
   "outputs": [
    {
     "name": "stdout",
     "output_type": "stream",
     "text": [
      "We have 30344 records in our DB, including 26439 posts that have code block in themselve and 3905 w/o any code block.\n",
      "We have 61179 number of code blocks including stacktrace, snippet code, error message.\n"
     ]
    }
   ],
   "source": [
    "print(f\"We have {df_w_keras_tags.shape[0]} records in our DB, including {count__question_w_code} posts that have code block in themselve and {count__question_wo_code} w/o any code block.\")\n",
    "print(f\"We have {count__num_codes} number of code blocks including stacktrace, snippet code, error message.\")"
   ]
  },
  {
   "cell_type": "markdown",
   "id": "ebd63ed7-eb63-42e3-b2a5-bc9641a5de68",
   "metadata": {},
   "source": [
    "### Define two lists for storing the information of the questions w or w/o Code Block"
   ]
  },
  {
   "cell_type": "code",
   "execution_count": 294,
   "id": "b44b9a6a-140f-4f38-b16f-d8e15e839a76",
   "metadata": {},
   "outputs": [],
   "source": [
    "Question_w_code_info = []\n",
    "Question_wo_code_info = []\n",
    "\n",
    "def counting_w_or_wo_code(row_id: int, \n",
    "                           row_cr: object, \n",
    "                           row_vc: int, \n",
    "                           row_ac: int, \n",
    "                           row_cc: int, \n",
    "                           row_sc: int, \n",
    "                           row_ac_an_id: float, \n",
    "                           has_code: bool) -> None:\n",
    "    \n",
    "    global Question_w_code_info, Question_wo_code_info\n",
    "\n",
    "    if has_code:\n",
    "        Question_w_code_info.append((row_id, row_cr, row_vc, row_ac, row_cc, row_sc, row_ac_an_id))\n",
    "\n",
    "    else:\n",
    "        Question_wo_code_info.append((row_id, row_cr, row_vc, row_ac, row_cc, row_sc, row_ac_an_id))"
   ]
  },
  {
   "cell_type": "code",
   "execution_count": 295,
   "id": "7e93c5a0-3392-486c-bbff-bd269b758523",
   "metadata": {},
   "outputs": [],
   "source": [
    "_ = df_w_keras_tags.apply(lambda row: counting_w_or_wo_code(row.Id, \n",
    "                                                           row.CreationDate, \n",
    "                                                           row.ViewCount,\n",
    "                                                           row.AnswerCount,\n",
    "                                                           row.CommentCount,\n",
    "                                                           row.Score,\n",
    "                                                           row.AcceptedAnswerId,\n",
    "                                                           row.Has_code), axis=1)"
   ]
  },
  {
   "cell_type": "markdown",
   "id": "1c23ebc0-7b80-4c39-8df1-8d47da8c5d02",
   "metadata": {},
   "source": [
    "Create dfs based on the two lists, Question_w_code_info and Question_wo_code_info and filled their answers"
   ]
  },
  {
   "cell_type": "code",
   "execution_count": 296,
   "id": "42393cac-4d55-40c3-91b4-ff5b0c46e46a",
   "metadata": {},
   "outputs": [],
   "source": [
    "df_q_w_code_v1 = pd.DataFrame(columns=['First_ans_time', 'First_acc_ans_time', 'Answers'])\n",
    "\n",
    "df_q_w_code_v1[\"Q_info\"] = Question_w_code_info\n",
    "\n",
    "df_q_w_code_v1[\"Q_id\"]          = df_q_w_code_v1['Q_info'].apply(lambda q_info: q_info[0])\n",
    "df_q_w_code_v1[\"Q_create_time\"] = df_q_w_code_v1['Q_info'].apply(lambda q_info: q_info[1])\n",
    "df_q_w_code_v1[\"View_count\"]    = df_q_w_code_v1['Q_info'].apply(lambda q_info: q_info[2])\n",
    "df_q_w_code_v1[\"Answer_count\"]  = df_q_w_code_v1['Q_info'].apply(lambda q_info: q_info[3])\n",
    "df_q_w_code_v1[\"Comment_count\"] = df_q_w_code_v1['Q_info'].apply(lambda q_info: q_info[4])\n",
    "df_q_w_code_v1[\"Score\"]         = df_q_w_code_v1['Q_info'].apply(lambda q_info: q_info[5])\n",
    "df_q_w_code_v1[\"Accepted_Answer_id\"] = df_q_w_code_v1['Q_info'].apply(lambda q_info: q_info[6])\n",
    "df_q_w_code_v1 = df_q_w_code_v1.drop(['Q_info'], axis='columns')\n",
    "df_q_w_code_v1[\"Q_create_time\"]      = pd.to_datetime(df_q_w_code_v1[\"Q_create_time\"])\n",
    "df_q_w_code_v1[\"First_acc_ans_time\"] = pd.to_datetime(df_q_w_code_v1[\"First_acc_ans_time\"])\n",
    "df_q_w_code_v1[\"First_ans_time\"]     = pd.to_datetime(df_q_w_code_v1[\"First_ans_time\"])"
   ]
  },
  {
   "cell_type": "code",
   "execution_count": 297,
   "id": "85d12996-1ea2-4467-b684-eef698f5d288",
   "metadata": {},
   "outputs": [],
   "source": [
    "# Store\n",
    "df_q_w_code_v1[\"Q_id\"].to_csv('../code_output_csv/df_keras_q_w_code.csv', encoding='utf-8')"
   ]
  },
  {
   "cell_type": "raw",
   "id": "6986107d-0813-4c97-842f-9d39e842b4c7",
   "metadata": {},
   "source": [
    "SELECT df_keras_q_w_code.Q_id, all_results.Id, all_results.CreationDate, all_results.ParentId\n",
    "FROM df_keras_q_w_code\n",
    "INNER JOIN all_results\n",
    "ON df_keras_q_w_code.Q_id = all_results.ParentId;"
   ]
  },
  {
   "cell_type": "raw",
   "id": "dfb4c0c1-7650-4b65-94ad-4faa7d1d4c2f",
   "metadata": {},
   "source": [
    "with cte1 as (\n",
    "SELECT\n",
    "        p.Id, \n",
    "        p.PostTypeId, \n",
    "        p.AcceptedAnswerId, \n",
    "        p.CreationDate, \n",
    "        p.ViewCount, \n",
    "        p.AnswerCount, \n",
    "        p.CommentCount, \n",
    "        p.Score,\n",
    "        p.Title,\n",
    "        p.Body,\n",
    "        p.Tags,\n",
    "        p.parentid\n",
    "\n",
    "FROM Posts as p\n",
    "inner join posts q \n",
    "        on q.id = coalesce(p.parentid, p.id) -- only questions have tags\n",
    "\n",
    "WHERE \n",
    "      p.PostTypeId=1 AND                     -- Just answers\n",
    "      --(p.Tags LIKE '%tensorflow%' OR\n",
    "       -- p.Tags LIKE '%pytorch%' AND\n",
    "       -- p.Tags LIKE '%scikit-learn%' AND\n",
    "       p.Tags LIKE '%keras%' AND\n",
    "       -- p.Tags LIKE '%nltk%' OR\n",
    "       -- p.Tags LIKE '%huggingface%' AND\n",
    "       -- p.Tags LIKE '%spark-ml%' AND\n",
    "       p.Tags LIKE '%python%'\n",
    ")\n",
    "select\n",
    "        r.parentid as Q_id,\n",
    "        r.parentid as ParentId,\n",
    "        r.Id, \n",
    "        --r.AcceptedAnswerId, \n",
    "        --r.PostTypeId,\n",
    "        --cte1.Id, \n",
    "        --cte1.PostTypeId,\n",
    "        r.CreationDate\n",
    "        --cte1.CreationDate as Q_CreationDate\n",
    "        --r.Score,\n",
    "        --cte1.AcceptedAnswerId\n",
    "        --cte1.ViewCount, \n",
    "        --cte1.AnswerCount,\n",
    "        --cte1.CommentCount, \n",
    "        --cte1.Score\n",
    "        --cte1.Title,\n",
    "        --cte1.Body,\n",
    "        --cte1.Tags,\n",
    "from posts r \n",
    "inner join cte1\n",
    "       on cte1.id = r.parentid\n",
    "where\n",
    "      r.PostTypeId = 2"
   ]
  },
  {
   "cell_type": "markdown",
   "id": "c8ce1bda-bfff-411f-86a5-6c0a92992de3",
   "metadata": {},
   "source": [
    "The below csv file is the result of the top query"
   ]
  },
  {
   "cell_type": "code",
   "execution_count": 298,
   "id": "1e40b3f0-9026-4d3a-a6c4-456d32e061b3",
   "metadata": {},
   "outputs": [],
   "source": [
    "pure_data = working_directory_path + \"db_results/\" + \"keras_ans_all.csv\"\n",
    "path = Path(pure_data)\n",
    "\n",
    "if path.suffix == \".csv\":\n",
    "    df_night = pd.read_csv(path, encoding=encoding)\n",
    "else:\n",
    "    raise ValueError(\"{data_file_path.suffix} extensions are not supported\")"
   ]
  },
  {
   "cell_type": "code",
   "execution_count": 299,
   "id": "f45faa6f-fa05-43e1-bff7-803cddaa6d17",
   "metadata": {},
   "outputs": [],
   "source": [
    "pd_tmp_w = pd.merge(df_q_w_code_v1, df_night, how='outer',left_on=['Q_id'], right_on=['ParentId']).reset_index(drop=True)\n",
    "\n",
    "pd_tmp_w[\"Answer_tup\"] = pd_tmp_w.apply(lambda x: (x.Id, x.CreationDate), axis=1)\n",
    "\n",
    "pd_tmp_new_w = pd_tmp_w.groupby([\"Q_id_x\", \"Q_create_time\", \"View_count\", \"Comment_count\", \"Score\", \"Answer_count\", \"Accepted_Answer_id\"], dropna=False)[\"Answer_tup\"].agg(list).reset_index()\n",
    "pd_tmp_new2_w = pd_tmp_new_w[pd_tmp_new_w.Answer_count != 0].reset_index(drop=True)"
   ]
  },
  {
   "cell_type": "code",
   "execution_count": 300,
   "id": "0c6701e2-f7fc-49df-8cfa-af8fbaf25c6f",
   "metadata": {},
   "outputs": [
    {
     "name": "stdout",
     "output_type": "stream",
     "text": [
      "Warning!:  39280813 4.0 [(39385599.0, '2016-09-08 08:01:19'), (39988934.0, '2016-10-12 00:56:59'), (50921203.0, '2018-06-19 05:32:07')]\n",
      "Warning!:  42556972 2.0 [(46344059.0, '2017-09-21 12:33:30')]\n",
      "Warning!:  42812230 4.0 [(42812559.0, '2017-03-15 14:25:40'), (48106769.0, '2018-01-05 03:18:49'), (53670071.0, '2018-12-07 12:59:04')]\n",
      "Warning!:  43058675 2.0 [(43058711.0, '2017-03-28 00:37:11')]\n",
      "Warning!:  45442843 2.0 [(45531884.0, '2017-08-06 12:06:14')]\n",
      "Warning!:  45537372 2.0 [(45583044.0, '2017-08-09 06:25:00')]\n",
      "Warning!:  45945398 7.0 [(45945785.0, '2017-08-29 18:12:52'), (45948885.0, '2017-08-29 21:55:13'), (48875491.0, '2018-02-19 23:05:34'), (54280782.0, '2019-01-20 20:42:05'), (54423546.0, '2019-01-29 14:44:06'), (59027548.0, '2019-11-25 08:17:12')]\n",
      "Warning!:  48979426 4.0 [(56060197.0, '2019-05-09 13:09:32'), (59776666.0, '2020-01-16 19:38:27'), (62719871.0, '2020-07-03 17:07:31')]\n",
      "Warning!:  49005892 2.0 [(59804457.0, '2020-01-18 20:18:13')]\n",
      "Warning!:  49237117 5.0 [(49238753.0, '2018-03-12 15:21:56'), (49238987.0, '2018-03-12 15:32:39'), (52917974.0, '2018-10-21 17:24:43'), (55747328.0, '2019-04-18 13:41:51')]\n",
      "Warning!:  50010929 4.0 [(50048350.0, '2018-04-26 16:53:14'), (50161767.0, '2018-05-03 18:32:52'), (55664372.0, '2019-04-13 10:16:30')]\n",
      "Warning!:  50571245 2.0 [(50588762.0, '2018-05-29 16:16:23')]\n",
      "Warning!:  50892119 2.0 [(50892355.0, '2018-06-16 22:47:50')]\n",
      "Warning!:  50895110 3.0 [(51896376.0, '2018-08-17 13:22:59'), (54888253.0, '2019-02-26 14:54:55')]\n",
      "Warning!:  53366768 3.0 [(53380590.0, '2018-11-19 18:25:07'), (53405554.0, '2018-11-21 05:04:53')]\n",
      "Warning!:  54025916 2.0 [(54029617.0, '2019-01-03 20:51:21')]\n",
      "Warning!:  54274107 2.0 [(54274774.0, '2019-01-20 08:30:57')]\n",
      "Warning!:  54805568 2.0 [(nan, nan)]\n",
      "Warning!:  55481393 2.0 [(59642171.0, '2020-01-08 08:41:51')]\n",
      "Warning!:  55533413 3.0 [(55543516.0, '2019-04-05 21:20:06'), (55827001.0, '2019-04-24 09:40:38')]\n",
      "Warning!:  55634133 3.0 [(55634686.0, '2019-04-11 14:16:31'), (55634744.0, '2019-04-11 14:19:33')]\n",
      "Warning!:  56460901 2.0 [(62140763.0, '2020-06-01 20:48:20')]\n",
      "Warning!:  56498504 3.0 [(56505215.0, '2019-06-08 09:45:08')]\n",
      "Warning!:  56627371 2.0 [(58065919.0, '2019-09-23 15:43:37')]\n",
      "Warning!:  57062456 7.0 [(58726643.0, '2019-11-06 09:15:11'), (58900033.0, '2019-11-17 11:35:22'), (59639212.0, '2020-01-08 03:57:12'), (61002414.0, '2020-04-02 22:50:27'), (62379815.0, '2020-06-15 00:48:20'), (63280924.0, '2020-08-06 09:45:12')]\n",
      "Warning!:  57190095 3.0 [(57192370.0, '2019-07-24 23:12:19'), (57256143.0, '2019-07-29 14:41:48')]\n",
      "Warning!:  57539273 2.0 [(57546746.0, '2019-08-18 17:14:25')]\n",
      "Warning!:  57542946 2.0 [(57546258.0, '2019-08-18 16:06:13')]\n",
      "Warning!:  58154611 2.0 [(nan, nan)]\n",
      "Warning!:  58728086 3.0 [(59525939.0, '2019-12-30 05:04:12'), (64144594.0, '2020-09-30 19:36:06')]\n",
      "Warning!:  58911856 2.0 [(nan, nan)]\n",
      "Warning!:  59380430 3.0 [(59381897.0, '2019-12-17 20:51:21'), (61188801.0, '2020-04-13 13:20:19')]\n",
      "Warning!:  59392084 3.0 [(63946065.0, '2020-09-17 20:54:18'), (64135699.0, '2020-09-30 10:31:56')]\n",
      "Warning!:  59459468 2.0 [(59464417.0, '2019-12-24 05:55:53')]\n",
      "Warning!:  59522643 2.0 [(59523463.0, '2019-12-29 21:29:23')]\n",
      "Warning!:  59783361 2.0 [(59783618.0, '2020-01-17 08:28:11')]\n",
      "Warning!:  60199316 2.0 [(60199477.0, '2020-02-13 02:06:10')]\n",
      "Warning!:  60398061 2.0 [(60398170.0, '2020-02-25 15:33:55')]\n",
      "Warning!:  60923982 2.0 [(60927524.0, '2020-03-30 09:25:27')]\n",
      "Warning!:  61425296 9.0 [(61529308.0, '2020-04-30 17:27:54'), (61555448.0, '2020-05-02 06:40:07'), (61556348.0, '2020-05-02 08:17:31'), (61565801.0, '2020-05-02 20:22:28'), (61567062.0, '2020-05-02 22:20:37'), (61578364.0, '2020-05-03 16:58:12'), (61580287.0, '2020-05-03 19:16:59'), (61583254.0, '2020-05-04 00:07:44')]\n",
      "Warning!:  61563730 2.0 [(61564142.0, '2020-05-02 18:10:51')]\n",
      "Warning!:  61837014 2.0 [(61837256.0, '2020-05-16 13:07:08')]\n",
      "Warning!:  62092147 3.0 [(62092401.0, '2020-05-29 18:21:36'), (62202181.0, '2020-06-04 18:56:24')]\n",
      "Warning!:  62311222 3.0 [(62311595.0, '2020-06-10 19:26:28'), (62311811.0, '2020-06-10 19:39:12')]\n",
      "Warning!:  62482404 2.0 [(62502083.0, '2020-06-21 17:26:46')]\n",
      "Warning!:  62678401 2.0 [(62678585.0, '2020-07-01 14:00:47')]\n",
      "Warning!:  62808712 2.0 [(62881059.0, '2020-07-13 17:25:00')]\n",
      "Warning!:  62836692 2.0 [(62837403.0, '2020-07-10 15:19:53')]\n",
      "Warning!:  63114255 2.0 [(63114571.0, '2020-07-27 11:41:19')]\n",
      "Warning!:  63313062 2.0 [(nan, nan)]\n",
      "Warning!:  63561570 2.0 [(63561931.0, '2020-08-24 13:22:51')]\n",
      "Warning!:  63655484 3.0 [(63671028.0, '2020-08-31 12:40:48'), (67484158.0, '2021-05-11 09:36:44')]\n",
      "Warning!:  63738681 3.0 [(63738887.0, '2020-09-04 09:56:50'), (63739202.0, '2020-09-04 10:17:29')]\n",
      "Warning!:  64434655 2.0 [(64438413.0, '2020-10-20 04:19:07')]\n",
      "Warning!:  64646247 2.0 [(64646350.0, '2020-11-02 13:18:18')]\n",
      "Warning!:  64993322 2.0 [(64994759.0, '2020-11-24 21:00:34')]\n"
     ]
    }
   ],
   "source": [
    "def checker_ans_and_ans_tup(q_id: int, ans_count: int, ans_list: list) -> None:\n",
    "    if len(ans_list) < ans_count:\n",
    "        print(\"Warning!: \", int(q_id), ans_count, ans_list)\n",
    "        \n",
    "_ = pd_tmp_new2_w.apply(lambda row: checker_ans_and_ans_tup(row.Q_id_x, row.Answer_count, row.Answer_tup), axis=1)"
   ]
  },
  {
   "cell_type": "code",
   "execution_count": 301,
   "id": "ede30e36-94e3-46a8-a4bf-93ee8bb0d6bb",
   "metadata": {},
   "outputs": [],
   "source": [
    "pd_tmp_new2_w.insert(len(pd_tmp_new2_w.columns), 'First_ans_time', np.nan)\n",
    "pd_tmp_new2_w.insert(len(pd_tmp_new2_w.columns), 'First_acc_ans_time', np.nan)\n",
    "pd_tmp_new3_w = pd_tmp_new2_w.copy()"
   ]
  },
  {
   "cell_type": "code",
   "execution_count": 302,
   "id": "c8a77995-f0dc-4c9e-b2ef-34b28ed28de2",
   "metadata": {
    "tags": []
   },
   "outputs": [],
   "source": [
    "for index1, row_status in pd_tmp_new3_w.iterrows():   \n",
    "    flag = 0\n",
    "    fr_time = pd.to_datetime(datetime.datetime.now())\n",
    "    acc_time = pd.to_datetime(datetime.datetime.now())\n",
    "        \n",
    "    if not row_status[\"Answer_tup\"]:\n",
    "        pd_tmp_new3_w.at[index1,'First_ans_time'] = np.nan\n",
    "        pd_tmp_new3_w.at[index1,'First_acc_ans_time'] = np.nan\n",
    "        continue\n",
    "\n",
    "    for answer in row_status[\"Answer_tup\"]:\n",
    "        \n",
    "        anwer_time = pd.to_datetime(answer[1])\n",
    "        \n",
    "        if flag == 0:\n",
    "            fr_time = anwer_time\n",
    "            flag = 1\n",
    "        \n",
    "        if fr_time > anwer_time:\n",
    "            fr_time = anwer_time\n",
    "        \n",
    "        if row_status[\"Accepted_Answer_id\"] == answer[0]:\n",
    "            acc_time = anwer_time\n",
    "\n",
    "    pd_tmp_new3_w.at[index1,'First_ans_time'] = fr_time\n",
    "        \n",
    "    if pd.isna(row_status[\"Accepted_Answer_id\"]):\n",
    "        acc_time = np.nan\n",
    "    \n",
    "    pd_tmp_new3_w.at[index1,'First_acc_ans_time'] = acc_time\n",
    "\n",
    "pd_tmp_new3_w[\"Duration_ans\"] = pd_tmp_new3_w.apply(lambda row: (row.First_ans_time-row.Q_create_time).total_seconds()/3600 if not pd.isna(row.First_ans_time) else np.nan, axis=1)\n",
    "pd_tmp_new3_w[\"Duration_acc_ans\"] = pd_tmp_new3_w.apply(lambda row: (row.First_acc_ans_time-row.Q_create_time).total_seconds()/3600 if not pd.isna(row.First_acc_ans_time) else np.nan, axis=1)"
   ]
  },
  {
   "cell_type": "markdown",
   "id": "7dc69830-b63f-4696-8d86-25ec5b49f41e",
   "metadata": {},
   "source": [
    "We did the same behaviour for the Question_wo_code_info list."
   ]
  },
  {
   "cell_type": "code",
   "execution_count": 303,
   "id": "b6e57dad-db68-4579-bfb2-aaa08da7881c",
   "metadata": {},
   "outputs": [],
   "source": [
    "df_q_wo_code_v1 = pd.DataFrame(columns=['First_ans_time', 'First_acc_ans_time', 'Answers'])\n",
    "\n",
    "df_q_wo_code_v1[\"Q_info\"] = Question_wo_code_info\n",
    "\n",
    "df_q_wo_code_v1[\"Q_id\"]          = df_q_wo_code_v1['Q_info'].apply(lambda q_info: q_info[0])\n",
    "df_q_wo_code_v1[\"Q_create_time\"] = df_q_wo_code_v1['Q_info'].apply(lambda q_info: q_info[1])\n",
    "df_q_wo_code_v1[\"View_count\"]    = df_q_wo_code_v1['Q_info'].apply(lambda q_info: q_info[2])\n",
    "df_q_wo_code_v1[\"Answer_count\"]  = df_q_wo_code_v1['Q_info'].apply(lambda q_info: q_info[3])\n",
    "df_q_wo_code_v1[\"Comment_count\"] = df_q_wo_code_v1['Q_info'].apply(lambda q_info: q_info[4])\n",
    "df_q_wo_code_v1[\"Score\"]         = df_q_wo_code_v1['Q_info'].apply(lambda q_info: q_info[5])\n",
    "df_q_wo_code_v1[\"Accepted_Answer_id\"] = df_q_wo_code_v1['Q_info'].apply(lambda q_info: q_info[6])\n",
    "df_q_wo_code_v1 = df_q_wo_code_v1.drop(['Q_info'], axis='columns')\n",
    "df_q_wo_code_v1[\"Q_create_time\"] = pd.to_datetime(df_q_wo_code_v1[\"Q_create_time\"])\n",
    "df_q_wo_code_v1[\"First_acc_ans_time\"] = pd.to_datetime(df_q_wo_code_v1[\"First_acc_ans_time\"])\n",
    "df_q_wo_code_v1[\"First_ans_time\"]     = pd.to_datetime(df_q_wo_code_v1[\"First_ans_time\"])"
   ]
  },
  {
   "cell_type": "code",
   "execution_count": 304,
   "id": "2b0a19d6-a919-4acb-9101-9ec0bb3a73d9",
   "metadata": {},
   "outputs": [],
   "source": [
    "# Store\n",
    "df_q_wo_code_v1[\"Q_id\"].to_csv('../code_output_csv/df_keras_q_wo_code.csv', encoding='utf-8')"
   ]
  },
  {
   "cell_type": "raw",
   "id": "e3c41fc5-ade4-4b12-9368-7262b638af3f",
   "metadata": {
    "tags": []
   },
   "source": [
    "SELECT df_keras_q_wo_code.Q_id, all_results.Id, all_results.CreationDate, all_results.ParentId\n",
    "FROM df_keras_q_wo_code\n",
    "INNER JOIN all_results\n",
    "ON df_keras_q_wo_code.Q_id = all_results.ParentId;"
   ]
  },
  {
   "cell_type": "markdown",
   "id": "653acab6-162d-4ac3-9291-2c70bc944a6a",
   "metadata": {},
   "source": [
    "We used the all answers csv file again. "
   ]
  },
  {
   "cell_type": "code",
   "execution_count": 305,
   "id": "d6db3fba-6f54-4d5d-b550-3ba7bbef2b16",
   "metadata": {},
   "outputs": [],
   "source": [
    "pure_data = working_directory_path + \"db_results/\" + \"keras_ans_all.csv\"\n",
    "path = Path(pure_data)\n",
    "\n",
    "if path.suffix == \".csv\":\n",
    "    df_night_wo = pd.read_csv(path, encoding=encoding)\n",
    "else:\n",
    "    raise ValueError(\"{data_file_path.suffix} extensions are not supported\")"
   ]
  },
  {
   "cell_type": "code",
   "execution_count": 306,
   "id": "f78b3fbd-aa46-44ab-9ee5-a63eefe96cd0",
   "metadata": {},
   "outputs": [],
   "source": [
    "df_night_wo = df_night_wo.reset_index(drop=True)\n",
    "df_q_wo_code_v1['Answers'] = df_q_wo_code_v1.apply(lambda x: [], axis=1)\n",
    "\n",
    "pd_tmp_wo = pd.merge(df_q_wo_code_v1, df_night_wo, how='left',left_on=['Q_id'],right_on=['ParentId']).reset_index(drop=True)\n",
    "\n",
    "pd_tmp_wo[\"Answer_tup\"] = pd_tmp_wo.apply(lambda x: (x.Id, x.CreationDate), axis=1)\n",
    "pd_tmp_new_wo = pd_tmp_wo.groupby([\"Q_id_x\", \"Q_create_time\", \"View_count\", \"Comment_count\", \"Score\", \"Answer_count\", \"Accepted_Answer_id\"], dropna=False)[\"Answer_tup\"].agg(list).reset_index()\n",
    "pd_tmp_new2_wo = pd_tmp_new_wo[pd_tmp_new_wo.Answer_count != 0].reset_index(drop=True)"
   ]
  },
  {
   "cell_type": "code",
   "execution_count": 307,
   "id": "14c954c0-cd32-42f2-a086-88bf10041767",
   "metadata": {},
   "outputs": [
    {
     "name": "stdout",
     "output_type": "stream",
     "text": [
      "Warning!:  35050753 5 [(nan, nan)]\n",
      "Warning!:  47946413 2 [(47996856.0, '2017-12-27 18:18:10')]\n",
      "Warning!:  50474336 2 [(50474657.0, '2018-05-22 18:54:02')]\n",
      "Warning!:  51202181 4 [(51202289.0, '2018-07-06 02:39:50'), (51202401.0, '2018-07-06 02:53:36'), (55680849.0, '2019-04-14 23:11:17')]\n",
      "Warning!:  55514435 2 [(58683231.0, '2019-11-03 18:15:52')]\n",
      "Warning!:  55923311 3 [(55937010.0, '2019-05-01 13:27:15'), (64014670.0, '2020-09-22 17:17:21')]\n",
      "Warning!:  57610804 2 [(57614277.0, '2019-08-22 17:20:30')]\n",
      "Warning!:  60580178 2 [(nan, nan)]\n",
      "Warning!:  62073259 2 [(nan, nan)]\n",
      "Warning!:  64734203 2 [(64734388.0, '2020-11-08 02:53:34')]\n",
      "Warning!:  64738104 2 [(nan, nan)]\n"
     ]
    }
   ],
   "source": [
    "_ = pd_tmp_new2_wo.apply(lambda row: checker_ans_and_ans_tup(row.Q_id_x, row.Answer_count, row.Answer_tup), axis=1)"
   ]
  },
  {
   "cell_type": "code",
   "execution_count": 308,
   "id": "5bc16074-1766-4c19-b08c-515a12b11ae2",
   "metadata": {},
   "outputs": [],
   "source": [
    "pd_tmp_new2_wo.insert(len(pd_tmp_new2_wo.columns), 'First_ans_time', np.nan)\n",
    "pd_tmp_new2_wo.insert(len(pd_tmp_new2_wo.columns), 'First_acc_ans_time', np.nan)\n",
    "pd_tmp_new3_wo = pd_tmp_new2_wo.copy()"
   ]
  },
  {
   "cell_type": "code",
   "execution_count": 309,
   "id": "7741c7cc-9ed9-4b7b-8af6-7c3c577d3717",
   "metadata": {},
   "outputs": [],
   "source": [
    "for index1, row_status in pd_tmp_new3_wo.iterrows():   \n",
    "    flag = 0\n",
    "    fr_time = pd.to_datetime(datetime.datetime.now())\n",
    "    acc_time = pd.to_datetime(datetime.datetime.now())\n",
    "        \n",
    "    if not row_status[\"Answer_tup\"]:\n",
    "        pd_tmp_new3_wo.at[index1,'First_ans_time'] = np.nan\n",
    "        pd_tmp_new3_wo.at[index1,'First_acc_ans_time'] = np.nan\n",
    "        continue\n",
    "\n",
    "    for answer in row_status[\"Answer_tup\"]:\n",
    "        \n",
    "        anwer_time = pd.to_datetime(answer[1])\n",
    "        \n",
    "        if flag == 0:\n",
    "            fr_time = anwer_time\n",
    "            flag = 1\n",
    "        \n",
    "        if fr_time > anwer_time:\n",
    "            fr_time = anwer_time\n",
    "        \n",
    "        if row_status[\"Accepted_Answer_id\"] == answer[0]:\n",
    "            acc_time = anwer_time\n",
    "\n",
    "    pd_tmp_new3_wo.at[index1,'First_ans_time'] = fr_time\n",
    "        \n",
    "    if pd.isna(row_status[\"Accepted_Answer_id\"]):\n",
    "        acc_time = np.nan\n",
    "    \n",
    "    pd_tmp_new3_wo.at[index1,'First_acc_ans_time'] = acc_time\n",
    "    \n",
    "pd_tmp_new3_wo[\"Duration_ans\"] = pd_tmp_new3_wo.apply(lambda row: (row.First_ans_time-row.Q_create_time).total_seconds()/3600 if not pd.isna(row.First_ans_time) else np.nan, axis=1)\n",
    "pd_tmp_new3_wo[\"Duration_acc_ans\"] = pd_tmp_new3_wo.apply(lambda row: (row.First_acc_ans_time-row.Q_create_time).total_seconds()/3600 if not pd.isna(row.First_acc_ans_time) else np.nan, axis=1)"
   ]
  },
  {
   "cell_type": "code",
   "execution_count": 310,
   "id": "8585686a-1ef1-4413-be43-f396bdaf19f4",
   "metadata": {},
   "outputs": [],
   "source": [
    "# Store\n",
    "pd_tmp_new3_w.to_csv('./CSV_data/plt_keras_q_w_code.csv', encoding='utf-8')\n",
    "pd_tmp_new3_wo.to_csv('./CSV_data/plt_keras_q_wo_code.csv', encoding='utf-8')"
   ]
  },
  {
   "cell_type": "markdown",
   "id": "76009349",
   "metadata": {},
   "source": [
    "### Extracting the text parts from body"
   ]
  },
  {
   "cell_type": "code",
   "execution_count": 311,
   "id": "426b615b",
   "metadata": {},
   "outputs": [],
   "source": [
    "def extract_text_blocks(id: int, body: str) -> Optional[List]:\n",
    "    # It's bug\n",
    "    if id in [10005, 14212, 21959, 26677, 53279, 22356, 16143]: \n",
    "        body = body + \"</p>\"\n",
    "\n",
    "    regex = r\"(<p>((.*?)|(\\n)*)*<\\/p>)|(<ul>((.*?)|(\\n)*)*<\\/ul>)|(<ol>((.*?)|(\\n)*)*<\\/ol>)\"\n",
    "    matches = re.finditer(regex, body, re.MULTILINE | re.IGNORECASE)\n",
    "    result = []\n",
    "    \n",
    "    # if id in [18397]:\n",
    "    #     return result\n",
    "\n",
    "    try:\n",
    "        for matchNum, match in enumerate(matches, start=1):\n",
    "            text = match.group()\n",
    "            text = text.replace(\"<p>\", \"\")\n",
    "            text = text.replace(\"<strong>\", \"\")\n",
    "            text = text.replace(\"<br>\", \"\")\n",
    "            text = text.replace(\"<ol>\", \"\")\n",
    "            text = text.replace(\"<ul>\", \"\")\n",
    "            text = text.replace(\"<li>\", \"\")\n",
    "            text = text.replace(\"</p>\", \"\")\n",
    "            text = text.replace(\"</strong>\", \"\")\n",
    "            text = text.replace(\"</ol>\", \"\")\n",
    "            text = text.replace(\"</ul>\", \"\")\n",
    "            text = text.replace(\"</li>\", \"\")\n",
    "            result.append(text)\n",
    "        return result\n",
    "    except:\n",
    "        print(\"Error(1): \", id)\n",
    "        print(body)\n",
    "        return None"
   ]
  },
  {
   "cell_type": "code",
   "execution_count": 312,
   "id": "96ff4ec3",
   "metadata": {},
   "outputs": [],
   "source": [
    "df_w_keras_tags['Text'] = df_w_keras_tags.apply(lambda row: extract_text_blocks(row.name, row.Body), axis=1)"
   ]
  },
  {
   "cell_type": "markdown",
   "id": "ec3bb294",
   "metadata": {},
   "source": [
    "#### Finding the number of body words"
   ]
  },
  {
   "cell_type": "code",
   "execution_count": 313,
   "id": "18933061",
   "metadata": {},
   "outputs": [],
   "source": [
    "def find_q_text_words(text_list: List) -> int:\n",
    "    word_count = 0\n",
    "    for text in text_list:\n",
    "        word_count += sum([i.strip(string.punctuation).isalpha() for i in text.split()])\n",
    "    return word_count"
   ]
  },
  {
   "cell_type": "code",
   "execution_count": 314,
   "id": "15bc8431",
   "metadata": {},
   "outputs": [],
   "source": [
    "df_w_keras_tags['Q_text_words_num'] = df_w_keras_tags[\"Text\"].apply(lambda text_list: find_q_text_words(text_list))"
   ]
  },
  {
   "cell_type": "markdown",
   "id": "b24d4e61-0992-43cf-bfc4-83cebb7d1bbf",
   "metadata": {},
   "source": [
    "Save the dataframe as csv format"
   ]
  },
  {
   "cell_type": "code",
   "execution_count": 315,
   "id": "3d8f131a-19f7-46b8-b8e3-399ba5537607",
   "metadata": {
    "tags": []
   },
   "outputs": [],
   "source": [
    "# df_w_Tens_tags.to_csv('./amin_result_v1.csv', encoding='utf-8')"
   ]
  },
  {
   "cell_type": "markdown",
   "id": "a4a5ff90-afcd-45a3-9d2d-a2b58de44dd9",
   "metadata": {},
   "source": [
    "### Find the Regular Expressions for Unix and Windows base Pathnames"
   ]
  },
  {
   "cell_type": "markdown",
   "id": "d3406a54-9a09-4255-8287-d16fab93833d",
   "metadata": {},
   "source": [
    "#### 1) Absolute and Relative Pathnames in UNIX OS"
   ]
  },
  {
   "cell_type": "markdown",
   "id": "20c90be3-66df-4290-972f-940233a71e7c",
   "metadata": {},
   "source": [
    "Stack/trace example: https://stackoverflow.com/questions/37337728/tensorflow-internalerror-blas-sgemm-launch-failed"
   ]
  },
  {
   "cell_type": "markdown",
   "id": "30e9d6c0-8adb-4939-9f06-329b036eb875",
   "metadata": {},
   "source": [
    "Find the restrictions and limitations related to the Unix pathnames: https://www.cyberciti.biz/faq/linuxunix-rules-for-naming-file-and-directory-names/"
   ]
  },
  {
   "cell_type": "markdown",
   "id": "fe32c563-d1db-4f0a-9820-62fd42a6591e",
   "metadata": {},
   "source": [
    "Online regular expression environment for testing: https://regex101.com/r/ZyEx5u/4"
   ]
  },
  {
   "cell_type": "markdown",
   "id": "76d9456a-4c9e-4a8f-bee5-86a5be847e82",
   "metadata": {},
   "source": [
    "> Regular Expression: \"[^\\n\\&\\:\\|\\>\\<\\/\\ \\\"\\;\\&]*(\\/[^\\n\\&\\:\\|\\>\\<\\/]+)+\\/([^\\n\\&\\:\\|\\>\\<\\/]+)(\\.pyc|\\.py)\""
   ]
  },
  {
   "cell_type": "markdown",
   "id": "d6bb6875-32a5-4f52-b33a-9cb522a49f72",
   "metadata": {},
   "source": [
    "#### 1) Pathnames in Windows OS"
   ]
  },
  {
   "cell_type": "markdown",
   "id": "dcd9c86a-e55e-4200-85ff-ed3033b4ee64",
   "metadata": {},
   "source": [
    "Stack/trace example: https://stackoverflow.com/questions/49434031/tensorflow-on-windows-cpu-version-importerror-no-module-named-pywrap-tensorf"
   ]
  },
  {
   "cell_type": "markdown",
   "id": "84dd40a8-d970-435c-a06d-6a32130d3055",
   "metadata": {},
   "source": [
    "Find the restrictions and limitations related to the Windows pathnames: <br /> \n",
    "https://docs.microsoft.com/en-us/dotnet/standard/io/file-path-formats <br />\n",
    "https://docs.microsoft.com/en-us/windows/win32/fileio/naming-a-file"
   ]
  },
  {
   "cell_type": "markdown",
   "id": "ced5ffa1-d9f8-4e8c-b9a8-8f438af95a1a",
   "metadata": {},
   "source": [
    "Online regular expression environment for testing: https://regex101.com/r/L6xmCa/1 , https://regex101.com/r/wz1WqW/1"
   ]
  },
  {
   "cell_type": "markdown",
   "id": "2ec1be13-b32c-4d50-9ea2-490eafe5b139",
   "metadata": {},
   "source": [
    "> Regular Expression: \"[a-zA-Z]:\\\\?([^\\<\\>\\:\\\"\\\\\\/\\/\\|\\?\\*\\n]+\\\\)+([^\\<\\>\\:\\\"\\\\\\/\\/\\|\\?\\*\\n]+)(\\.pyc|\\.py)\""
   ]
  },
  {
   "cell_type": "code",
   "execution_count": 316,
   "id": "bc401c12-44a2-402c-9e4a-1de67941e502",
   "metadata": {},
   "outputs": [],
   "source": [
    "def extract_pathnames_from_code_column(code_sec: List, _id: int) -> Tuple[str, List]: \n",
    "    try:\n",
    "        result_post_file_names = []\n",
    "        OS_flag = None\n",
    "        error_index = None\n",
    "        error_code = None\n",
    "        regex_unix    = r\"[^\\n\\&\\:\\|\\>\\<\\/\\ \\\"\\;\\&]*(\\/[^\\n\\&\\:\\|\\>\\<\\/]+)+\\/([^\\n\\&\\:\\|\\>\\<\\/\\\\]+)(\\.pyc|\\.py)[^\\d\\n]+(\\d*)\\W*in\\s\\W*\\d*([a-zA-Z_$][a-zA-Z_$0-9]*)\"\n",
    "        regex_windows = r\"(([a-zA-Z]:)|\\~)\\\\?\\/?([^\\<\\>\\:\\\"\\\\\\|\\?\\*\\n]+\\\\)+([^\\<\\>\\:\\\"\\\\\\/\\/\\|\\?\\*\\n]+)(\\.pyc|\\.py)[^\\d\\n]+(\\d*)\\W*in\\W+([a-zA-Z_$][a-zA-Z_$0-9]*)\"\n",
    "        \n",
    "        for idx, code in enumerate(code_sec):\n",
    "            pattern_unix  = re.compile(regex_unix)\n",
    "            pattern_windows  = re.compile(regex_windows)\n",
    "            if pattern_unix.search(code):\n",
    "                OS_flag = \"unix\"\n",
    "                break\n",
    "            elif pattern_windows.search(code):\n",
    "                OS_flag = \"windows\"\n",
    "                break\n",
    "                \n",
    "        if OS_flag == \"unix\":\n",
    "            for idx, code in enumerate(code_sec):\n",
    "                error_index = idx\n",
    "                code = code.replace(\"\\\\n\", \"\\n\")\n",
    "                code = code.replace('&lt;', '<')\n",
    "                code = code.replace('&gt;', '>')\n",
    "                code = code.replace('&quot;', '\"')\n",
    "                error_code = code\n",
    "                matches = re.finditer(regex_unix, code, re.MULTILINE)\n",
    "                file_names_for_each_code_part = []\n",
    "                \n",
    "                for matchNum, match in enumerate(matches, start=1):\n",
    "                    file_names_for_each_code_part.append((match.groups()[1].strip(), match.groups()[4].strip()))\n",
    "#                     file_names_for_each_code_part.append(match.groups()[1].strip())\n",
    "                    # print (\"Match {matchNum} was found at {start}-{end}: {match}\".format(matchNum = matchNum, start = match.start(), end = match.end(), match = match.group()))\n",
    "                    # for groupNum in range(0, len(match.groups())):\n",
    "                        # groupNum = groupNum + 1\n",
    "                        # print (\"Group {groupNum} found at {start}-{end}: {group}\".format(groupNum = groupNum, start = match.start(groupNum), end = match.end(groupNum), group = match.group(groupNum)))\n",
    "#                 print(file_names_for_each_code_part)\n",
    "#                 file_names_for_each_code_part = list(set(file_names_for_each_code_part))            # Create a unique list\n",
    "#                 print(file_names_for_each_code_part)\n",
    "                \n",
    "                if file_names_for_each_code_part:                                                   # Ignore the empty list\n",
    "                    result_post_file_names.append(file_names_for_each_code_part)\n",
    "                    \n",
    "        elif OS_flag == \"windows\":\n",
    "            for idx, code in enumerate(code_sec):\n",
    "                code = code.replace('&lt;', '<')\n",
    "                code = code.replace('&gt;', '>')\n",
    "                code = code.replace('&quot;', '\"')\n",
    "                error_code = code\n",
    "                matches = re.finditer(regex_windows, code, re.MULTILINE)                            \n",
    "                file_names_for_each_code_part = []\n",
    "\n",
    "                for matchNum, match in enumerate(matches, start=1):\n",
    "                    file_names_for_each_code_part.append((match.groups()[3].strip(), match.groups()[6].strip()))\n",
    "#                     file_names_for_each_code_part.append(match.groups()[1].strip())\n",
    "                    # print (\"Match {matchNum} was found at {start}-{end}: {match}\".format(matchNum = matchNum, start = match.start(), end = match.end(), match = match.group()))\n",
    "                    # for groupNum in range(0, len(match.groups())):\n",
    "                        # groupNum = groupNum + 1\n",
    "                        # print (\"Group {groupNum} found at {start}-{end}: {group}\".format(groupNum = groupNum, start = match.start(groupNum), end = match.end(groupNum), group = match.group(groupNum)))\n",
    "#                 file_names_for_each_code_part = [s.strip() for s in file_names_for_each_code_part]  # Strip the list\n",
    "#                 file_names_for_each_code_part = list(set(file_names_for_each_code_part))            # create a unique list\n",
    "                if file_names_for_each_code_part:                                                     # Ignore the empty list\n",
    "                    result_post_file_names.append(file_names_for_each_code_part)\n",
    "            \n",
    "    except:\n",
    "        print(\"\\n Error Id:\", _id, \" Error index:\", error_index, \"\\n\")\n",
    "        print(error_code)\n",
    "        return None, None\n",
    "\n",
    "    return OS_flag, result_post_file_names"
   ]
  },
  {
   "cell_type": "code",
   "execution_count": 317,
   "id": "fc583436-6446-47b3-8811-ee3b316c57cf",
   "metadata": {},
   "outputs": [
    {
     "data": {
      "text/plain": [
       "('windows',\n",
       " [[('sequential', 'predict_classes'),\n",
       "   ('training', 'predict'),\n",
       "   ('training_arrays', 'model_iteration'),\n",
       "   ('backend', '__call__'),\n",
       "   ('session', '__call__')]])"
      ]
     },
     "execution_count": 317,
     "metadata": {},
     "output_type": "execute_result"
    }
   ],
   "source": [
    "# Example for Unix path\n",
    "# https://stackoverflow.com/questions/51839415/tensorflow-valueerror-rank-mismatch\n",
    "# df_w_keras_tags.iloc[9][:]\n",
    "extract_pathnames_from_code_column(df_w_keras_tags[\"Code\"][51], 0)"
   ]
  },
  {
   "cell_type": "code",
   "execution_count": 318,
   "id": "8642e202-ad70-4f13-9440-57eeeb3fda8a",
   "metadata": {
    "scrolled": true
   },
   "outputs": [],
   "source": [
    "# Example for Windows path\n",
    "# df_w_keras_tags['Code'] = df_w_keras_tags['Body'].apply(lambda row_body: extract_code_blocks(row_body))\n",
    "# print(df_w_keras_tags[\"Code\"][9])\n",
    "# extract_pathnames_from_code_column(df_w_keras_tags[\"Code\"][84])\n",
    "# extract_pathnames_from_code_column(df_w_keras_tags[\"Code\"][606])"
   ]
  },
  {
   "cell_type": "code",
   "execution_count": 319,
   "id": "0c61970a",
   "metadata": {},
   "outputs": [],
   "source": [
    "# df_w_keras_tags[\"Body\"][606]"
   ]
  },
  {
   "cell_type": "code",
   "execution_count": 320,
   "id": "0dd38400-fb42-4dc7-8f9d-deb13a98c1a0",
   "metadata": {
    "tags": []
   },
   "outputs": [],
   "source": [
    "df_w_keras_tags['Bugy_py_files'] = df_w_keras_tags.apply(lambda row: extract_pathnames_from_code_column(row.Code, row.Id), axis=1)"
   ]
  },
  {
   "cell_type": "markdown",
   "id": "23e7d4de",
   "metadata": {},
   "source": [
    "Save the dataframe as csv format"
   ]
  },
  {
   "cell_type": "code",
   "execution_count": 321,
   "id": "4e4ea318-37e3-4d03-b3a2-566723d22160",
   "metadata": {
    "tags": []
   },
   "outputs": [],
   "source": [
    "# df_w_keras_tags.loc[df_w_PT_tags['Id'] == 46509039]"
   ]
  },
  {
   "cell_type": "code",
   "execution_count": 322,
   "id": "4718e5db-2866-4f96-8a3a-2a09e559cb99",
   "metadata": {},
   "outputs": [],
   "source": [
    "# df_w_keras_tags[[\"Title\", \"Code\", \"Bugy_py_files\"]].head(100)\n",
    "# df_w_keras_tags.to_csv('./keras_Code_bug.csv', sep='\\n', encoding='utf-8')\n",
    "# df_w_keras_tags['Bugy_py_files'].to_csv('./keras_bugy_tuples.csv', encoding='utf-8')"
   ]
  },
  {
   "cell_type": "code",
   "execution_count": 323,
   "id": "a7e0c3f2",
   "metadata": {},
   "outputs": [],
   "source": [
    "def create_has_trace_col(cal_tuple) -> bool:\n",
    "    if cal_tuple[0] == \"windows\" or cal_tuple[0] == \"unix\":\n",
    "        return True\n",
    "    elif cal_tuple[0] is None:\n",
    "        return False\n",
    "    else:\n",
    "        print(\"Error!\")"
   ]
  },
  {
   "cell_type": "code",
   "execution_count": 324,
   "id": "acd983ea",
   "metadata": {},
   "outputs": [],
   "source": [
    "df_w_keras_tags['Has_trace'] = df_w_keras_tags['Bugy_py_files'].apply(lambda cell_tuple: create_has_trace_col(cell_tuple))"
   ]
  },
  {
   "cell_type": "markdown",
   "id": "5e60aff5",
   "metadata": {},
   "source": [
    "#### Finding the number and type of LOC in the body of post:"
   ]
  },
  {
   "cell_type": "markdown",
   "id": "b33da7bf-c174-48ba-999c-766d91c33a7a",
   "metadata": {},
   "source": [
    "For example how many pairs did you find in a post and defining the OS of that stack trace"
   ]
  },
  {
   "cell_type": "code",
   "execution_count": 325,
   "id": "9c25a136",
   "metadata": {},
   "outputs": [],
   "source": [
    "def finding_line_of_code(code_list: List) -> Tuple[int, int, int]:\n",
    "    line_count_trace_win   = 0\n",
    "    line_count_trace_unix  = 0\n",
    "    line_count_simple_code = 0\n",
    "    \n",
    "    for code in code_list:\n",
    "        regex_unix    = r\"[^\\n\\&\\:\\|\\>\\<\\/\\ \\\"\\;\\&]*(\\/[^\\n\\&\\:\\|\\>\\<\\/]+)+\\/([^\\n\\&\\:\\|\\>\\<\\/\\\\]+)(\\.pyc|\\.py)[^\\d\\n]+(\\d*)\\W*in\\s\\W*\\d*([a-zA-Z_$][a-zA-Z_$0-9]*)\"\n",
    "        regex_windows = r\"(([a-zA-Z]:)|\\~)\\\\?\\/?([^\\<\\>\\:\\\"\\\\\\|\\?\\*\\n]+\\\\)+([^\\<\\>\\:\\\"\\\\\\/\\/\\|\\?\\*\\n]+)(\\.pyc|\\.py)[^\\d\\n]+(\\d*)\\W*in\\W+([a-zA-Z_$][a-zA-Z_$0-9]*)\"\n",
    "        # regex_unix    = r\"[^\\n\\&\\:\\|\\>\\<\\/\\ \\\"\\;\\&]*(\\/[^\\n\\&\\:\\|\\>\\<\\/]+)+\\/([^\\n\\&\\:\\|\\>\\<\\/]+)(\\.pyc|\\.py)[^\\d\\n]+(\\d*)\\W*in\\W+([a-zA-Z_$][a-zA-Z_$0-9]*)\" version 2\n",
    "        # regex_unix    = r\"[^\\n\\&\\:\\|\\>\\<\\/\\ \\\"\\;\\&]*(\\/[^\\n\\&\\:\\|\\>\\<\\/]+)+\\/([^\\n\\&\\:\\|\\>\\<\\/]+)(\\.pyc|\\.py)[^\\d\\n]+(\\d+)\\W*in\\W*([a-zA-Z_$][a-zA-Z_$0-9]*)\" version 1\n",
    "        # regex_windows = r\"[a-zA-Z]:\\\\?([^\\<\\>\\:\\\"\\\\\\/\\/\\|\\?\\*\\n]+\\\\)+([^\\<\\>\\:\\\"\\\\\\/\\/\\|\\?\\*\\n]+)(\\.pyc|\\.py)[^\\d\\n]+(\\d+)\\W*in\\W*([a-zA-Z_$][a-zA-Z_$0-9]*)\"\n",
    "        pattern_unix  = re.compile(regex_unix)\n",
    "        pattern_windows = re.compile(regex_windows)\n",
    "        if pattern_unix.search(code):\n",
    "            OS_flag = \"unix\"\n",
    "        elif pattern_windows.search(code):\n",
    "            OS_flag = \"windows\"\n",
    "        else:\n",
    "            OS_flag = \"nothing\"\n",
    "            \n",
    "        code_wo_empty_line = os.linesep.join([s for s in code.splitlines() if s])\n",
    "            \n",
    "        if OS_flag == \"unix\":\n",
    "            line_count_trace_unix += len(code_wo_empty_line.splitlines())\n",
    "        elif OS_flag == \"windows\":\n",
    "            line_count_trace_win += len(code_wo_empty_line.splitlines())\n",
    "        elif OS_flag == \"nothing\":\n",
    "            line_count_simple_code += len(code_wo_empty_line.splitlines()) \n",
    "        else:\n",
    "            print(\"Error!\")\n",
    "\n",
    "    return (line_count_trace_unix, line_count_trace_win, line_count_simple_code)"
   ]
  },
  {
   "cell_type": "code",
   "execution_count": 326,
   "id": "4054d8d7",
   "metadata": {},
   "outputs": [
    {
     "data": {
      "text/plain": [
       "(0, 0, 17)"
      ]
     },
     "execution_count": 326,
     "metadata": {},
     "output_type": "execute_result"
    }
   ],
   "source": [
    "finding_line_of_code(df_w_keras_tags.loc[19, 'Code'])"
   ]
  },
  {
   "cell_type": "code",
   "execution_count": 327,
   "id": "c2f3958c",
   "metadata": {},
   "outputs": [],
   "source": [
    "df_w_keras_tags['Line_code_u_w_s'] = df_w_keras_tags['Code'].apply(lambda code_list: finding_line_of_code(code_list))"
   ]
  },
  {
   "cell_type": "code",
   "execution_count": 328,
   "id": "b3e57594",
   "metadata": {},
   "outputs": [],
   "source": [
    "df_w_keras_tags['Line_code_uix'] = df_w_keras_tags['Line_code_u_w_s'].apply(lambda loc_tuple: loc_tuple[0])"
   ]
  },
  {
   "cell_type": "code",
   "execution_count": 329,
   "id": "4a683106",
   "metadata": {},
   "outputs": [],
   "source": [
    "df_w_keras_tags['Line_code_win'] = df_w_keras_tags['Line_code_u_w_s'].apply(lambda loc_tuple: loc_tuple[1])"
   ]
  },
  {
   "cell_type": "code",
   "execution_count": 330,
   "id": "b99bf6ab",
   "metadata": {},
   "outputs": [],
   "source": [
    "# Has a code (Python code) inside the post\n",
    "df_w_keras_tags['Line_code_simple_code'] = df_w_keras_tags['Line_code_u_w_s'].apply(lambda loc_tuple: loc_tuple[2])"
   ]
  },
  {
   "cell_type": "code",
   "execution_count": 331,
   "id": "3534efd4",
   "metadata": {
    "scrolled": true,
    "tags": []
   },
   "outputs": [
    {
     "data": {
      "text/html": [
       "<div>\n",
       "<style scoped>\n",
       "    .dataframe tbody tr th:only-of-type {\n",
       "        vertical-align: middle;\n",
       "    }\n",
       "\n",
       "    .dataframe tbody tr th {\n",
       "        vertical-align: top;\n",
       "    }\n",
       "\n",
       "    .dataframe thead th {\n",
       "        text-align: right;\n",
       "    }\n",
       "</style>\n",
       "<table border=\"1\" class=\"dataframe\">\n",
       "  <thead>\n",
       "    <tr style=\"text-align: right;\">\n",
       "      <th></th>\n",
       "      <th>Id</th>\n",
       "      <th>PostTypeId</th>\n",
       "      <th>AcceptedAnswerId</th>\n",
       "      <th>CreationDate</th>\n",
       "      <th>ViewCount</th>\n",
       "      <th>AnswerCount</th>\n",
       "      <th>CommentCount</th>\n",
       "      <th>Score</th>\n",
       "      <th>Title</th>\n",
       "      <th>Body</th>\n",
       "      <th>Tags</th>\n",
       "      <th>Source</th>\n",
       "      <th>source</th>\n",
       "      <th>Code</th>\n",
       "      <th>Has_code</th>\n",
       "      <th>Text</th>\n",
       "      <th>Q_text_words_num</th>\n",
       "      <th>Bugy_py_files</th>\n",
       "      <th>Has_trace</th>\n",
       "      <th>Line_code_u_w_s</th>\n",
       "      <th>Line_code_uix</th>\n",
       "      <th>Line_code_win</th>\n",
       "      <th>Line_code_simple_code</th>\n",
       "    </tr>\n",
       "  </thead>\n",
       "  <tbody>\n",
       "    <tr>\n",
       "      <th>0</th>\n",
       "      <td>52019226</td>\n",
       "      <td>1</td>\n",
       "      <td>52019631.0</td>\n",
       "      <td>2018-08-25 16:32:19</td>\n",
       "      <td>312</td>\n",
       "      <td>1</td>\n",
       "      <td>2</td>\n",
       "      <td>0</td>\n",
       "      <td>Keras w/ Tensorflow intermediate layer extraction in batches</td>\n",
       "      <td>&lt;p&gt;I am currently trying to leverage an intermediate layer from my already trained DL model as an embedding to a given input. The code below already works at getting the layer I want, however it is extremely slow to do this iteratively for a large number of inputs.&lt;/p&gt;\\n\\n&lt;pre&gt;&lt;code&gt;model = load_model('model.h5')\\ninp = model.input\\noutputs = [layer.output for layer in model.layers]\\nfunctors = [K.function([inp]+ [K.learning_phase()], [out]) for out in outputs]\\n\\ndef text2tensor(text):\\n   ...</td>\n",
       "      <td>&lt;python&gt;&lt;tensorflow&gt;&lt;keras&gt;&lt;deep-learning&gt;&lt;batch-processing&gt;</td>\n",
       "      <td>old</td>\n",
       "      <td>NaN</td>\n",
       "      <td>[model = load_model('model.h5')\\ninp = model.input\\noutputs = [layer.output for layer in model.layers]\\nfunctors = [K.function([inp]+ [K.learning_phase()], [out]) for out in outputs]\\n\\ndef text2tensor(text):\\n    \"\"\"Convert string to tensor\"\"\"\\n    tensor = tokenizer.texts_to_sequences([text])\\n    tensor = pad_sequences(tensor, maxlen=10, padding='pre')\\n    return tensor\\n\\ndef get_embedding(tensor, at_layer):\\n    \"\"\"Get output at particular layer in network \"\"\"\\n    functors = [K.functi...</td>\n",
       "      <td>True</td>\n",
       "      <td>[I am currently trying to leverage an intermediate layer from my already trained DL model as an embedding to a given input. The code below already works at getting the layer I want, however it is extremely slow to do this iteratively for a large number of inputs., How do I make use of batch processing so that I don't have to do this one by one? It is extremely slow with the above implementation, but it works.]</td>\n",
       "      <td>77</td>\n",
       "      <td>(None, [])</td>\n",
       "      <td>False</td>\n",
       "      <td>(0, 0, 23)</td>\n",
       "      <td>0</td>\n",
       "      <td>0</td>\n",
       "      <td>23</td>\n",
       "    </tr>\n",
       "    <tr>\n",
       "      <th>1</th>\n",
       "      <td>64070871</td>\n",
       "      <td>1</td>\n",
       "      <td>NaN</td>\n",
       "      <td>2020-09-25 20:19:10</td>\n",
       "      <td>45</td>\n",
       "      <td>0</td>\n",
       "      <td>1</td>\n",
       "      <td>1</td>\n",
       "      <td>How can i reshape TFRecord dataset to train RNN model?</td>\n",
       "      <td>&lt;p&gt;I am trying to feed an RNN model with &lt;code&gt;.tfrecords&lt;/code&gt; datasets (train,test) in order to train it. But i am getting an error about the size of input0. &lt;br&gt;\\nI think &lt;code&gt;train_data&lt;/code&gt; wants to reshape to 4 dims but i am not sure.&lt;/p&gt;\\n&lt;hr /&gt;\\n&lt;p&gt;The bellow function returning the datasets from &lt;code&gt;.tfrecords&lt;/code&gt; with features and one hot encoded label.&lt;/p&gt;\\n&lt;pre&gt;&lt;code&gt;def get_dataset(directory, num_classes=60, batch_size=32, drop_remainder=False,\\n                shuffle=F...</td>\n",
       "      <td>&lt;python&gt;&lt;tensorflow&gt;&lt;machine-learning&gt;&lt;keras&gt;&lt;recurrent-neural-network&gt;</td>\n",
       "      <td>old</td>\n",
       "      <td>NaN</td>\n",
       "      <td>[def get_dataset(directory, num_classes=60, batch_size=32, drop_remainder=False,\\n                shuffle=False, shuffle_size=1000):\\n    # dictionary describing the features.\\n    feature_description = {\\n        'features': tf.io.FixedLenFeature([], tf.string),\\n        'label': tf.io.FixedLenFeature([], tf.int64)\\n    }\\n\\n    # parse each proto and, the features within\\n    def _parse_feature_function(example_proto):\\n        features = tf.io.parse_single_example(example_proto, feature_d...</td>\n",
       "      <td>True</td>\n",
       "      <td>[I am trying to feed an RNN model with &lt;code&gt;.tfrecords&lt;/code&gt; datasets (train,test) in order to train it. But i am getting an error about the size of input0. \\nI think &lt;code&gt;train_data&lt;/code&gt; wants to reshape to 4 dims but i am not sure., The bellow function returning the datasets from &lt;code&gt;.tfrecords&lt;/code&gt; with features and one hot encoded label., The displayed error:, ValueError: Input 0 of layer sequential is incompatible with the layer: expected ndim=4, found ndim=5. Full shape receiv...</td>\n",
       "      <td>70</td>\n",
       "      <td>(None, [])</td>\n",
       "      <td>False</td>\n",
       "      <td>(0, 0, 44)</td>\n",
       "      <td>0</td>\n",
       "      <td>0</td>\n",
       "      <td>44</td>\n",
       "    </tr>\n",
       "  </tbody>\n",
       "</table>\n",
       "</div>"
      ],
      "text/plain": [
       "         Id  PostTypeId  AcceptedAnswerId         CreationDate  ViewCount  AnswerCount  CommentCount  Score                                                         Title                                                                                                                                                                                                                                                                                                                                                                                                                                                                                                                 Body                                                                     Tags Source source  \\\n",
       "0  52019226           1        52019631.0  2018-08-25 16:32:19        312            1             2      0  Keras w/ Tensorflow intermediate layer extraction in batches  <p>I am currently trying to leverage an intermediate layer from my already trained DL model as an embedding to a given input. The code below already works at getting the layer I want, however it is extremely slow to do this iteratively for a large number of inputs.</p>\\n\\n<pre><code>model = load_model('model.h5')\\ninp = model.input\\noutputs = [layer.output for layer in model.layers]\\nfunctors = [K.function([inp]+ [K.learning_phase()], [out]) for out in outputs]\\n\\ndef text2tensor(text):\\n   ...             <python><tensorflow><keras><deep-learning><batch-processing>    old    NaN   \n",
       "1  64070871           1               NaN  2020-09-25 20:19:10         45            0             1      1        How can i reshape TFRecord dataset to train RNN model?  <p>I am trying to feed an RNN model with <code>.tfrecords</code> datasets (train,test) in order to train it. But i am getting an error about the size of input0. <br>\\nI think <code>train_data</code> wants to reshape to 4 dims but i am not sure.</p>\\n<hr />\\n<p>The bellow function returning the datasets from <code>.tfrecords</code> with features and one hot encoded label.</p>\\n<pre><code>def get_dataset(directory, num_classes=60, batch_size=32, drop_remainder=False,\\n                shuffle=F...  <python><tensorflow><machine-learning><keras><recurrent-neural-network>    old    NaN   \n",
       "\n",
       "                                                                                                                                                                                                                                                                                                                                                                                                                                                                                                                  Code  Has_code  \\\n",
       "0  [model = load_model('model.h5')\\ninp = model.input\\noutputs = [layer.output for layer in model.layers]\\nfunctors = [K.function([inp]+ [K.learning_phase()], [out]) for out in outputs]\\n\\ndef text2tensor(text):\\n    \"\"\"Convert string to tensor\"\"\"\\n    tensor = tokenizer.texts_to_sequences([text])\\n    tensor = pad_sequences(tensor, maxlen=10, padding='pre')\\n    return tensor\\n\\ndef get_embedding(tensor, at_layer):\\n    \"\"\"Get output at particular layer in network \"\"\"\\n    functors = [K.functi...      True   \n",
       "1  [def get_dataset(directory, num_classes=60, batch_size=32, drop_remainder=False,\\n                shuffle=False, shuffle_size=1000):\\n    # dictionary describing the features.\\n    feature_description = {\\n        'features': tf.io.FixedLenFeature([], tf.string),\\n        'label': tf.io.FixedLenFeature([], tf.int64)\\n    }\\n\\n    # parse each proto and, the features within\\n    def _parse_feature_function(example_proto):\\n        features = tf.io.parse_single_example(example_proto, feature_d...      True   \n",
       "\n",
       "                                                                                                                                                                                                                                                                                                                                                                                                                                                                                                                  Text  Q_text_words_num Bugy_py_files  Has_trace Line_code_u_w_s  Line_code_uix  Line_code_win  Line_code_simple_code  \n",
       "0                                                                                        [I am currently trying to leverage an intermediate layer from my already trained DL model as an embedding to a given input. The code below already works at getting the layer I want, however it is extremely slow to do this iteratively for a large number of inputs., How do I make use of batch processing so that I don't have to do this one by one? It is extremely slow with the above implementation, but it works.]                77    (None, [])      False      (0, 0, 23)              0              0                     23  \n",
       "1  [I am trying to feed an RNN model with <code>.tfrecords</code> datasets (train,test) in order to train it. But i am getting an error about the size of input0. \\nI think <code>train_data</code> wants to reshape to 4 dims but i am not sure., The bellow function returning the datasets from <code>.tfrecords</code> with features and one hot encoded label., The displayed error:, ValueError: Input 0 of layer sequential is incompatible with the layer: expected ndim=4, found ndim=5. Full shape receiv...                70    (None, [])      False      (0, 0, 44)              0              0                     44  "
      ]
     },
     "execution_count": 331,
     "metadata": {},
     "output_type": "execute_result"
    }
   ],
   "source": [
    "df_w_keras_tags.head(2)"
   ]
  },
  {
   "cell_type": "markdown",
   "id": "06fde1f5",
   "metadata": {},
   "source": [
    "#### Question Post's Length (body of the post): Defining the lists for plotting their comparisons"
   ]
  },
  {
   "cell_type": "code",
   "execution_count": 332,
   "id": "bd5dee83",
   "metadata": {},
   "outputs": [],
   "source": [
    "list_num_words_w_tra  = []\n",
    "list_num_words_wo_tra = []\n",
    "\n",
    "for index1, row in df_w_keras_tags.iterrows():\n",
    "    if row.Has_trace is True:\n",
    "        list_num_words_w_tra.append(row.Q_text_words_num)\n",
    "    elif row.Has_trace is False:\n",
    "        list_num_words_wo_tra.append(row.Q_text_words_num)\n",
    "    else:\n",
    "        print(\"Error!\")"
   ]
  },
  {
   "cell_type": "markdown",
   "id": "684ae0b5-da13-4ad7-b853-44783e21104b",
   "metadata": {},
   "source": [
    "#### OS Stack Traces: Defining the number of stack straces the belongs to the Unix or Windows OS"
   ]
  },
  {
   "cell_type": "code",
   "execution_count": 333,
   "id": "bd3530e5-831c-4db8-b250-089f05938c10",
   "metadata": {},
   "outputs": [
    {
     "name": "stdout",
     "output_type": "stream",
     "text": [
      "We found the 1254 of stackoverflow's posts that belong to the Windows OS.\n",
      "We found the 2865 of stackoverflow's posts that belong to the Unix OS.\n"
     ]
    }
   ],
   "source": [
    "counter_win  = 0\n",
    "counter_unix = 0\n",
    "# dim_win  = []\n",
    "# dim_unix = []\n",
    "\n",
    "for tp in df_w_keras_tags[\"Bugy_py_files\"]:\n",
    "    if tp[0] == \"windows\":\n",
    "        counter_win += 1\n",
    "#         np_array = np.array(tuple[1], dtype=object)\n",
    "#         dim_win.append(np_array.shape)\n",
    "        \n",
    "    elif tp[0] == \"unix\":\n",
    "        counter_unix += 1\n",
    "#         np_array = np.array(tuple[1], dtype=object)\n",
    "#         dim_unix.append(np_array.shape)\n",
    "\n",
    "print(f\"We found the {counter_win} of stackoverflow's posts that belong to the Windows OS.\")\n",
    "print(f\"We found the {counter_unix} of stackoverflow's posts that belong to the Unix OS.\")\n",
    "# print(\"The dimensions of Windows labels is: \", set(dim_win))\n",
    "# print(\"The dimensions of Unix labels is: \", set(dim_unix))"
   ]
  },
  {
   "cell_type": "code",
   "execution_count": 334,
   "id": "862bb743-f63d-4f4f-9b62-e38bb4711f08",
   "metadata": {},
   "outputs": [
    {
     "data": {
      "text/plain": [
       "Id                         int64\n",
       "PostTypeId                 int64\n",
       "AcceptedAnswerId         float64\n",
       "CreationDate              object\n",
       "ViewCount                  int64\n",
       "AnswerCount                int64\n",
       "CommentCount               int64\n",
       "Score                      int64\n",
       "Title                     object\n",
       "Body                      object\n",
       "Tags                      object\n",
       "Source                    object\n",
       "source                    object\n",
       "Code                      object\n",
       "Has_code                    bool\n",
       "Text                      object\n",
       "Q_text_words_num           int64\n",
       "Bugy_py_files             object\n",
       "Has_trace                   bool\n",
       "Line_code_u_w_s           object\n",
       "Line_code_uix              int64\n",
       "Line_code_win              int64\n",
       "Line_code_simple_code      int64\n",
       "dtype: object"
      ]
     },
     "execution_count": 334,
     "metadata": {},
     "output_type": "execute_result"
    }
   ],
   "source": [
    "df_w_keras_tags.dtypes"
   ]
  },
  {
   "cell_type": "markdown",
   "id": "85e4c57c-d11e-4e1d-ac85-9c155d748630",
   "metadata": {},
   "source": [
    "#### Define two lists for storing the information of the questions w or w/o stack traces"
   ]
  },
  {
   "cell_type": "code",
   "execution_count": 335,
   "id": "7a685f8b",
   "metadata": {},
   "outputs": [],
   "source": [
    "count_w_t  = 0\n",
    "count_wo_t = 0\n",
    "count_win  = 0\n",
    "count_unix = 0\n",
    "\n",
    "Question_with_trace_info = []\n",
    "Question_with_wo_trace_info = []\n",
    "\n",
    "def counting_w_or_wo_trace(row_id: int, \n",
    "                           row_cr: object, \n",
    "                           row_vc: int, \n",
    "                           row_ac: int, \n",
    "                           row_cc: int, \n",
    "                           row_sc: int, \n",
    "                           row_ac_an_id: float, \n",
    "                           row_t: object, \n",
    "                           has_code: bool) -> None:\n",
    "    \n",
    "    global count_w_t, count_wo_t, count_win, count_unix, Question_with_trace_info, Question_with_wo_trace_info\n",
    "\n",
    "    if has_code:\n",
    "        if row_t[0] is not None:\n",
    "            count_w_t = count_w_t + 1\n",
    "            Question_with_trace_info.append((row_id, row_cr, row_vc, row_ac, row_cc, row_sc, row_ac_an_id))\n",
    "            \n",
    "            if row_t[0] == 'unix':\n",
    "                count_unix = count_unix + 1\n",
    "            else:\n",
    "                count_win = count_win + 1\n",
    "        else:\n",
    "            count_wo_t = count_wo_t + 1\n",
    "            Question_with_wo_trace_info.append((row_id, row_cr, row_vc, row_ac, row_cc, row_sc, row_ac_an_id))"
   ]
  },
  {
   "cell_type": "code",
   "execution_count": 336,
   "id": "ee29fdfd",
   "metadata": {
    "tags": []
   },
   "outputs": [],
   "source": [
    "_ = df_w_keras_tags.apply(lambda row: counting_w_or_wo_trace(row.Id, \n",
    "                                                               row.CreationDate, \n",
    "                                                               row.ViewCount,\n",
    "                                                               row.AnswerCount,\n",
    "                                                               row.CommentCount,\n",
    "                                                               row.Score,\n",
    "                                                               row.AcceptedAnswerId,\n",
    "                                                               row.Bugy_py_files, \n",
    "                                                               row.Has_code), axis=1)"
   ]
  },
  {
   "cell_type": "markdown",
   "id": "255f73aa-307c-4ca5-ad1f-9c80e0067c0f",
   "metadata": {},
   "source": [
    "#### Creating a string matrix of pairs"
   ]
  },
  {
   "cell_type": "markdown",
   "id": "ccfe9422-3706-4fc3-9135-8cbd87353226",
   "metadata": {
    "tags": []
   },
   "source": [
    "https://stackoverflow.com/questions/32037893/numpy-fix-array-with-rows-of-different-lengths-by-filling-the-empty-elements-wi"
   ]
  },
  {
   "cell_type": "code",
   "execution_count": 337,
   "id": "3390d5ca-986e-4ddf-a48f-eb4e45ab46dc",
   "metadata": {},
   "outputs": [],
   "source": [
    "def numpy_fillna(data: List) -> np.ndarray:\n",
    "    # Get lengths of each row of data\n",
    "    lens = np.array([len(i) for i in data])\n",
    "\n",
    "    # Mask of valid places in each row\n",
    "    mask = np.arange(lens.max()) < lens[:, None]\n",
    "\n",
    "    # Setup output array and put elements from data into masked positions\n",
    "    out = np.zeros(mask.shape, dtype='object')\n",
    "    out[mask] = np.concatenate(data)\n",
    "    \n",
    "    return out"
   ]
  },
  {
   "cell_type": "code",
   "execution_count": 338,
   "id": "043411f3-4d8b-43b5-89e2-7a9b5d9e1385",
   "metadata": {
    "tags": []
   },
   "outputs": [],
   "source": [
    "_2D_array_with_str = []\n",
    "\n",
    "# The below list store the post Id for each instances (or row in _2D_array). \n",
    "# We have to mention that the index of _2D_array and _Id_array helps us to find the id pattern quickly.\n",
    "_Id_array = []\n",
    "\n",
    "for index1, row in df_w_keras_tags.iterrows():\n",
    "    row_tuple = row.Bugy_py_files\n",
    "    row_id = row.Id\n",
    "    \n",
    "    # row: (some rows have multiple patterns)\n",
    "    # ('unix', [[('estimator', 'train'), ('estimator', '_train_model'), \n",
    "    #            ('estimator', '_train_model_default'), ('estimator', '_call_model_fn'), ('nn_ops', 'sparse_softmax_cross_entropy_with_logits')]])\n",
    "    \n",
    "    if row_tuple[0] is None: continue\n",
    "    \n",
    "    for element in row_tuple[1]:\n",
    "        _Id_array.append(row_id)\n",
    "        element_tmp = element[:]\n",
    "        _2D_array_with_str.append(element_tmp)\n",
    "\n",
    "# _2D_array_pad = numpy_fillna(_2D_array)"
   ]
  },
  {
   "cell_type": "markdown",
   "id": "0fffa51f-6992-42c2-9cf0-fd1888ae4047",
   "metadata": {},
   "source": [
    "#### Creating a numerical matrix"
   ]
  },
  {
   "cell_type": "markdown",
   "id": "eb2ab766-8031-4eca-9cef-455c127c6283",
   "metadata": {},
   "source": [
    "https://www.geeksforgeeks.org/python-pandas-factorize/"
   ]
  },
  {
   "cell_type": "markdown",
   "id": "e4cbea84-d201-4010-9759-c32f05b80aa9",
   "metadata": {},
   "source": [
    "##### Creating a dictionary based on pairs and assigning a unique number to that"
   ]
  },
  {
   "cell_type": "code",
   "execution_count": 339,
   "id": "8257c9af",
   "metadata": {},
   "outputs": [],
   "source": [
    "# dict pair : int\n",
    "\n",
    "dic = {} \n",
    "specific_val = 1\n",
    "for row in _2D_array_with_str:\n",
    "    for element in row:\n",
    "        if element not in dic:\n",
    "            dic[element] = specific_val\n",
    "            specific_val += 1"
   ]
  },
  {
   "cell_type": "code",
   "execution_count": 340,
   "id": "82ffd8ee",
   "metadata": {},
   "outputs": [
    {
     "name": "stdout",
     "output_type": "stream",
     "text": [
      "The number of unique pairs is:  5003\n"
     ]
    }
   ],
   "source": [
    "print(\"The number of unique pairs is: \", max(dic.values()))"
   ]
  },
  {
   "cell_type": "markdown",
   "id": "dedfa8c9-9b6c-4643-b0b7-6b39e7fe40e4",
   "metadata": {},
   "source": [
    "##### Converting strings on the _2D_array into numbers "
   ]
  },
  {
   "cell_type": "code",
   "execution_count": 341,
   "id": "a2bf0be4-4828-4126-8816-81c1a4a3f4e3",
   "metadata": {},
   "outputs": [],
   "source": [
    "# _2D_array_with_str"
   ]
  },
  {
   "cell_type": "code",
   "execution_count": 342,
   "id": "7a556c82-ad7d-43c9-b7f1-c852da489f0e",
   "metadata": {},
   "outputs": [],
   "source": [
    "# _2D_array = list()\n",
    "# _2D_array_str = _2D_array_with_str.copy()\n",
    "# _2D_array = _2D_array_with_str[:]\n",
    "_2D_array = _2D_array_with_str[:]"
   ]
  },
  {
   "cell_type": "code",
   "execution_count": 343,
   "id": "0ff5062e",
   "metadata": {},
   "outputs": [],
   "source": [
    "for i, row in enumerate(_2D_array):\n",
    "    for j in range(len(row)):\n",
    "        _2D_array[i][j] = dic[_2D_array[i][j]]"
   ]
  },
  {
   "cell_type": "code",
   "execution_count": 344,
   "id": "b3971037-915c-4994-9107-5b36a9d62e33",
   "metadata": {},
   "outputs": [],
   "source": [
    "# _2D_array_with_str"
   ]
  },
  {
   "cell_type": "code",
   "execution_count": 345,
   "id": "ec5559a2",
   "metadata": {
    "tags": []
   },
   "outputs": [],
   "source": [
    "# _2D_array[0:10]"
   ]
  },
  {
   "cell_type": "code",
   "execution_count": 346,
   "id": "f97135b6",
   "metadata": {},
   "outputs": [],
   "source": [
    "# uniqe_dic int : pair\n",
    "uniqe_dic = dict([(value, key) for key, value in dic.items()])"
   ]
  },
  {
   "cell_type": "markdown",
   "id": "3a621bac-8178-438b-8464-73225fe218a7",
   "metadata": {},
   "source": [
    "By the below function we deleted duplicated rows in 2d_array:"
   ]
  },
  {
   "cell_type": "code",
   "execution_count": 347,
   "id": "ca3c46e1-7f42-4369-8ea3-6a25dbadc990",
   "metadata": {},
   "outputs": [],
   "source": [
    "def find_2d_array_dup(_2d_array: list) -> Tuple[int, list]:\n",
    "    \n",
    "    dup_count = 0\n",
    "    _2d_array_tmp = _2d_array.copy()\n",
    "    _2d_array_tmp_next = []\n",
    "    \n",
    "    idx = 0\n",
    "    while idx != len(_2d_array_tmp):\n",
    "        \n",
    "        for indx_previous in range(0, idx+1):\n",
    "            _2d_array_tmp_next.append(_2d_array_tmp[indx_previous])\n",
    "        \n",
    "        for indx_next in range(idx+1, len(_2d_array_tmp)):\n",
    "#             print(idx, indx_next)\n",
    "#             print(_2d_array_tmp)\n",
    "#             print(_2d_array_tmp_next)\n",
    "\n",
    "            if _2d_array_tmp[idx] == _2d_array_tmp[indx_next]:\n",
    "                dup_count += 1\n",
    "            else:\n",
    "                _2d_array_tmp_next.append(_2d_array_tmp[indx_next])\n",
    "#         print(_2d_array_tmp_next)\n",
    "#         print(len(_2d_array_tmp_next))\n",
    "#         break\n",
    "        _2d_array_tmp = _2d_array_tmp_next\n",
    "        _2d_array_tmp_next = []\n",
    "        idx += 1\n",
    "    \n",
    "    return dup_count, _2d_array_tmp"
   ]
  },
  {
   "cell_type": "code",
   "execution_count": 348,
   "id": "cd20b1db-3f52-4f69-ad94-f91eff4c5a81",
   "metadata": {},
   "outputs": [],
   "source": [
    "# duplication_row, _2D_array_new = find_2d_array_dup(_2D_array)"
   ]
  },
  {
   "cell_type": "code",
   "execution_count": 349,
   "id": "038074a7-a09a-4288-9368-db126c18d2d2",
   "metadata": {},
   "outputs": [],
   "source": [
    "# print(f\"We decresed the number of patterns from {len(_2D_array)} to {len(_2D_array_new)}.\")"
   ]
  },
  {
   "cell_type": "markdown",
   "id": "fa324359",
   "metadata": {},
   "source": [
    "## Answering the second research question (RQ2): Finding Patterns"
   ]
  },
  {
   "cell_type": "markdown",
   "id": "31312935",
   "metadata": {},
   "source": [
    "## Contiguous Sequential Pattern Mining"
   ]
  },
  {
   "cell_type": "markdown",
   "id": "d2e4c26c",
   "metadata": {},
   "source": [
    "https://www.cc.gatech.edu/~hic/CS7616/pdf/lecture13.pdf"
   ]
  },
  {
   "cell_type": "markdown",
   "id": "9c8ff498",
   "metadata": {
    "tags": []
   },
   "source": [
    "### Approach (1):"
   ]
  },
  {
   "cell_type": "markdown",
   "id": "b6c9bae7",
   "metadata": {},
   "source": [
    "The shortest yet efficient implementation of the famous frequent sequential pattern mining algorithm PrefixSpan, the famous frequent closed sequential pattern mining algorithm BIDE (in closed.py), and the frequent generator sequential pattern mining algorithm FEAT (in generator.py), as a unified and holistic algorithm framework."
   ]
  },
  {
   "cell_type": "markdown",
   "id": "96570036",
   "metadata": {},
   "source": [
    "https://github.com/chuanconggao/PrefixSpan-py"
   ]
  },
  {
   "cell_type": "code",
   "execution_count": 350,
   "id": "5eaa5c75",
   "metadata": {},
   "outputs": [],
   "source": [
    "# !pip3 install -U prefixspan"
   ]
  },
  {
   "cell_type": "code",
   "execution_count": 351,
   "id": "35702190",
   "metadata": {},
   "outputs": [],
   "source": [
    "# from prefixspan import PrefixSpan"
   ]
  },
  {
   "cell_type": "code",
   "execution_count": 352,
   "id": "c509adf6",
   "metadata": {},
   "outputs": [],
   "source": [
    "# ps = PrefixSpan(_2D_array_pad)"
   ]
  },
  {
   "cell_type": "code",
   "execution_count": 353,
   "id": "df9fc672",
   "metadata": {},
   "outputs": [],
   "source": [
    "# k = ps.frequent(5)"
   ]
  },
  {
   "cell_type": "code",
   "execution_count": 354,
   "id": "b69e8fc1",
   "metadata": {},
   "outputs": [],
   "source": [
    "# file = open(\"/home-students/amghad/sample.txt\", \"w\")\n",
    "# str_list = repr(k)\n",
    "# file.write(str_list)\n",
    "# file.close()"
   ]
  },
  {
   "cell_type": "markdown",
   "id": "34f2979a",
   "metadata": {},
   "source": [
    "### Approach (2): "
   ]
  },
  {
   "cell_type": "markdown",
   "id": "566a8e0a",
   "metadata": {},
   "source": [
    "pymining is a small collection of data mining algorithms implemented in Python. I did not design any of the algorithms, but I use them in my own research so I thought other developers might be interested to use them as well."
   ]
  },
  {
   "cell_type": "markdown",
   "id": "94392e0f",
   "metadata": {},
   "source": [
    "https://github.com/bartdag/pymining"
   ]
  },
  {
   "cell_type": "markdown",
   "id": "411e8d57",
   "metadata": {},
   "source": [
    "### Approach (3): By this approach we simply check all possible status for each row (or pattern)"
   ]
  },
  {
   "cell_type": "markdown",
   "id": "4ec37188-5c46-407b-b193-55c54b2e1841",
   "metadata": {},
   "source": [
    "We want to create a dict based on the vectors on the numerical matrix."
   ]
  },
  {
   "cell_type": "markdown",
   "id": "e2f60f00-0840-41a0-8398-8f863bc2bc68",
   "metadata": {},
   "source": [
    "By the below function, we tried to find and search the patterns for each vector based on the window_size"
   ]
  },
  {
   "cell_type": "raw",
   "id": "0d8aae18-d1d3-4282-9bf7-f7fe45ca5d6b",
   "metadata": {},
   "source": [
    "Input Vector: [1, 2, 6, 3]"
   ]
  },
  {
   "cell_type": "raw",
   "id": "822ce776-1a3b-476d-92e6-be663d91ff05",
   "metadata": {},
   "source": [
    "{0: [(2, [(1, 2), (2, 6), (6, 3)]),\n",
    "    (3, [(1, 2, 6), (2, 6, 3)]),\n",
    "    (4, [(1, 2, 6, 3)])]\n",
    " ...}"
   ]
  },
  {
   "cell_type": "markdown",
   "id": "9233612b-f3b4-4328-88ed-7843b13d0957",
   "metadata": {},
   "source": [
    "0: The index of vector <br>\n",
    "list: Contains tuples with different windows_size"
   ]
  },
  {
   "cell_type": "code",
   "execution_count": 355,
   "id": "03fb9196",
   "metadata": {},
   "outputs": [],
   "source": [
    "def append_to_dicc_new(dicc: dict, vec_id: int, list_: list) -> dict:\n",
    "    if vec_id not in dicc:\n",
    "        # key not exist\n",
    "        dicc[vec_id] = list_\n",
    "    else:\n",
    "        # key exist\n",
    "        for tuple_ in list_:\n",
    "            for item in dicc[vec_id]:\n",
    "                if item[0] == tuple_[0]:\n",
    "                    item[1].append(tuple_[1][0])\n",
    "                    break\n",
    "    return dicc"
   ]
  },
  {
   "cell_type": "markdown",
   "id": "b2a2a340-fad0-4464-a15b-01f01995d3b0",
   "metadata": {},
   "source": [
    "The \"low\" parameter can help us control the lower bound of the window_size."
   ]
  },
  {
   "cell_type": "code",
   "execution_count": 356,
   "id": "1c3380c6",
   "metadata": {},
   "outputs": [],
   "source": [
    "low = 0    # <~~~~~~~ define the lower bound threshold\n",
    "up = len(uniqe_dic)\n",
    "dicc = {}     \n",
    "\n",
    "for i_v, vector in enumerate(_2D_array):    \n",
    "    for index, element in enumerate(vector):\n",
    "        list_ = []\n",
    "        for wind_size in range(low, len(vector)+1-index):\n",
    "            list_.append((wind_size, [(*vector[index:index+wind_size], )]))\n",
    "        dicc = append_to_dicc_new(dicc, i_v, list_)    "
   ]
  },
  {
   "cell_type": "code",
   "execution_count": 357,
   "id": "88e6b3a4-6f49-462d-aac4-afa5cb3d4725",
   "metadata": {},
   "outputs": [],
   "source": [
    "# _2D_array"
   ]
  },
  {
   "cell_type": "code",
   "execution_count": 358,
   "id": "ddd8bf1e-a7ad-45d8-99ab-a22e4b3f53c9",
   "metadata": {},
   "outputs": [],
   "source": [
    "# dicc.keys()"
   ]
  },
  {
   "cell_type": "code",
   "execution_count": 359,
   "id": "f09aefad",
   "metadata": {},
   "outputs": [],
   "source": [
    "def remove_duplication(dup_list: list) -> list:\n",
    "    final_list = []\n",
    "    for item in dup_list:\n",
    "        if item not in final_list:\n",
    "            final_list.append(item)\n",
    "        else:\n",
    "            indx = final_list.index(item)\n",
    "            counter = final_list[indx][0] + 1\n",
    "            pair = final_list[indx][1]\n",
    "            final_list.remove(item)\n",
    "            final_list.append((counter, pair))\n",
    "    \n",
    "    return final_list"
   ]
  },
  {
   "cell_type": "markdown",
   "id": "a95a41ac-d183-4807-a0d1-fa9328e359cf",
   "metadata": {},
   "source": [
    "dic_count is a dictionary that key is window_size, and value is a list that contains tuples. Each tuple shows a pair and the number of pair's iteration on the matrix."
   ]
  },
  {
   "cell_type": "raw",
   "id": "4befab67-c057-41a7-84c5-aa6b89e363ef",
   "metadata": {},
   "source": [
    "{2: [(1, (5, 1)),\n",
    "  (1, (1, 6)),\n",
    "  (1, (1, 2)),\n",
    "  (1, (2, 6)),\n",
    "  (2, (6, 3)),\n",
    "  (1, (6, 1)),\n",
    "  (2, (1, 3)),\n",
    "  (3, (4, 5)),\n",
    "  (5, (3, 4)),\n",
    "  (2, (4, 3)),\n",
    "  (1, (3, 6)),\n",
    "  (1, (2, 3)),\n",
    "  (1, (3, 1)),\n",
    "  (2, (1, 4)),\n",
    "  (1, (4, 6))],\n",
    "  ...}"
   ]
  },
  {
   "cell_type": "code",
   "execution_count": 360,
   "id": "9ef3ffab",
   "metadata": {},
   "outputs": [],
   "source": [
    "dic_count = {}\n",
    "\n",
    "for vec_i, list_tuples in dicc.items():\n",
    "#     print(vec_i, list_tuples,\"\\n\")\n",
    "    for tuples_ in list_tuples:\n",
    "#         print(tuples_)\n",
    "        \n",
    "        if tuples_[0] not in dic_count:\n",
    "            lst_ = [(1, tuple_) for tuple_ in tuples_[1]] \n",
    "            \n",
    "            if len(lst_) != len(set(lst_)):\n",
    "                lst_ = remove_duplication(lst_)\n",
    "            \n",
    "            dic_count[tuples_[0]] = lst_  \n",
    "        else:\n",
    "            #(2, [(1, 3), (1, 4), (3, 4), (4, 5), (5, 1)]\n",
    "            #break\n",
    "            for tuple_ in tuples_[1]:\n",
    "                flag = 0 \n",
    "                for item in dic_count[tuples_[0]]:\n",
    "                    if item[1] == tuple_:\n",
    "                        counter = item[0] + 1\n",
    "                        dic_count[tuples_[0]].remove(item)\n",
    "                        dic_count[tuples_[0]].append((counter, item[1]))\n",
    "                        flag = 1\n",
    "                        break\n",
    "                # tuple is new\n",
    "                if flag == 0:\n",
    "                    dic_count[tuples_[0]].append((1, tuple_))\n",
    "#                 else: \n",
    "#                     print(\"Error100\")"
   ]
  },
  {
   "cell_type": "markdown",
   "id": "85825caa-0ea6-49f4-afb9-467ca6dcd2f8",
   "metadata": {},
   "source": [
    "dic_count is a dictionary that key is window_size, and value is a list that contains tuples. Each tuple shows a pair and the number of pair's iteration on the matrix."
   ]
  },
  {
   "cell_type": "markdown",
   "id": "ef1f87b4-36e2-4376-8f3f-ba55164a1b72",
   "metadata": {},
   "source": [
    "For each window_size we count the number of patterns that we found"
   ]
  },
  {
   "cell_type": "code",
   "execution_count": 361,
   "id": "735ff20e-0a61-4acb-b2e4-3c9e4e9886cc",
   "metadata": {},
   "outputs": [
    {
     "data": {
      "text/plain": [
       "[(9492, ()), (9491, ()), (9493, ())]"
      ]
     },
     "execution_count": 361,
     "metadata": {},
     "output_type": "execute_result"
    }
   ],
   "source": [
    "dic_count.pop(0)"
   ]
  },
  {
   "cell_type": "code",
   "execution_count": 362,
   "id": "2db34be8-e770-4e6f-a243-1f70b1766461",
   "metadata": {},
   "outputs": [
    {
     "data": {
      "image/png": "[encoded data removed]",
      "text/plain": [
       "<Figure size 600x400 with 1 Axes>"
      ]
     },
     "metadata": {},
     "output_type": "display_data"
    }
   ],
   "source": [
    "inst_length = dic_count.keys()\n",
    "inst_count = [len(value) for key, value in dic_count.items()]\n",
    "comulative_inst_count = np.cumsum(inst_count)\n",
    "\n",
    "per_comulative_inst_count = []\n",
    "for element in comulative_inst_count:\n",
    "    per_comulative_inst_count.append((element*100)/comulative_inst_count[-1])\n",
    "\n",
    "fig = plt.figure(figsize=(6, 4), dpi=100)\n",
    "ax1 = fig.add_subplot(111)\n",
    "\n",
    "ax1.plot(inst_length, per_comulative_inst_count, '--o', color='#4b8262', linewidth=2)\n",
    "plt.xlabel('Instance\\'s length')\n",
    "plt.ylabel('Cumulative % of stack trace instances')\n",
    "ax1.set_title('keras RQ2')\n",
    "\n",
    "# plt.vlines(x=5, ymin=60, ymax=95, color='red')\n",
    "\n",
    "# plt.text(5.5, 65, 'sentence', rotation=0)\n",
    "ax1.axis(ymin=0, ymax=102)\n",
    "ax1.yaxis.set_major_formatter(mtick.PercentFormatter())\n",
    "\n",
    "plt.grid(True)\n",
    "plt.show()"
   ]
  },
  {
   "cell_type": "code",
   "execution_count": 363,
   "id": "42ac2495-df65-4f9b-a88d-c2fc13e51d38",
   "metadata": {
    "tags": []
   },
   "outputs": [
    {
     "data": {
      "image/png": "[encoded data removed]",
      "text/plain": [
       "<Figure size 700x420 with 1 Axes>"
      ]
     },
     "metadata": {},
     "output_type": "display_data"
    }
   ],
   "source": [
    "# import matplotlib.pyplot as plt; plt.rcdefaults()\n",
    "# import numpy as np\n",
    "# import matplotlib.pyplot as plt\n",
    "fig, ax = plt.subplots(figsize =(10, 6), dpi=70)\n",
    "ax.barh(list(inst_length), inst_count, align='center', alpha=0.5, log=True)\n",
    "\n",
    "for i in ax.patches:\n",
    "    plt.text(i.get_width()+0.2, i.get_y()+0.3,\n",
    "             str(round((i.get_width()), 2)),\n",
    "             fontsize = 10, fontweight ='bold',\n",
    "             color ='grey')\n",
    "\n",
    "# Add Plot Title\n",
    "ax.set_title('The frequency of stack trace intances for each instance\\'s length',loc ='center')\n",
    "# ax.set_yticks(y_pos, objects)\n",
    "ax.set_xlabel('Frequency')\n",
    "ax.set_ylabel('Instance\\'s length')\n",
    "\n",
    "plt.show()"
   ]
  },
  {
   "cell_type": "markdown",
   "id": "baa8dc6b-c1d8-45fc-a851-184118ca1a3a",
   "metadata": {},
   "source": [
    "### Approach (4): CC-Span"
   ]
  },
  {
   "cell_type": "code",
   "execution_count": 364,
   "id": "87d8aea6-501b-4a56-98ea-2cdad58ed6dc",
   "metadata": {},
   "outputs": [],
   "source": [
    "def append_to_dicc_new(dicc, vec_id, list_):\n",
    "    if vec_id not in dicc:\n",
    "        # key not exist\n",
    "        dicc[vec_id] = list_\n",
    "    else:\n",
    "        # key exist\n",
    "        for tuple_ in list_:\n",
    "            for item in dicc[vec_id]:\n",
    "                if item[0] == tuple_[0]:\n",
    "                    item[1].append(tuple_[1][0])\n",
    "                    break\n",
    "    return dicc"
   ]
  },
  {
   "cell_type": "code",
   "execution_count": 365,
   "id": "b8570828-2fb9-4945-b5df-70c17a4ebf81",
   "metadata": {},
   "outputs": [
    {
     "data": {
      "text/plain": [
       "4319"
      ]
     },
     "execution_count": 365,
     "metadata": {},
     "output_type": "execute_result"
    }
   ],
   "source": [
    "len(_2D_array)"
   ]
  },
  {
   "cell_type": "code",
   "execution_count": 366,
   "id": "f9370071-2ec9-4fbb-8b33-8e66e38b8c48",
   "metadata": {},
   "outputs": [],
   "source": [
    "# Searching Pattern\n",
    "low = 1     # <~~~~~~~ define the lower bound threshold\n",
    "up = len(uniqe_dic)\n",
    "dicc = {}     \n",
    "\n",
    "for i_v, vector in enumerate(_2D_array):    \n",
    "    for index, element in enumerate(vector):\n",
    "        list_ = []\n",
    "        for wind_size in range(low, len(vector)+1-index):\n",
    "            list_.append((wind_size, [(*vector[index:index+wind_size], )]))\n",
    "        dicc = append_to_dicc_new(dicc, i_v, list_)    "
   ]
  },
  {
   "cell_type": "code",
   "execution_count": 367,
   "id": "a64a3b0e-ffa9-4999-96cf-5bdc766df1a5",
   "metadata": {},
   "outputs": [],
   "source": [
    "# Counting\n",
    "def remove_duplication(dup_list):\n",
    "    final_list = []\n",
    "    for item in dup_list:\n",
    "        if item not in final_list:\n",
    "            final_list.append(item)\n",
    "        else:\n",
    "            indx = final_list.index(item)\n",
    "            counter = final_list[indx][0] + 1\n",
    "            pair = final_list[indx][1]\n",
    "            final_list.remove(item)\n",
    "            final_list.append((counter, pair))\n",
    "    \n",
    "    return final_list"
   ]
  },
  {
   "cell_type": "code",
   "execution_count": 368,
   "id": "ca4b370c-9b01-4e16-a3a6-a7a58bc463e2",
   "metadata": {},
   "outputs": [],
   "source": [
    "dic_count = {}\n",
    "\n",
    "for vec_i, list_tuples in dicc.items():\n",
    "#     print(vec_i, list_tuples,\"\\n\")\n",
    "    for tuples_ in list_tuples:\n",
    "#         print(tuples_)\n",
    "        \n",
    "        if tuples_[0] not in dic_count:\n",
    "            lst_ = [(1, tuple_) for tuple_ in tuples_[1]] \n",
    "            \n",
    "            if len(lst_) != len(set(lst_)):\n",
    "                lst_ = remove_duplication(lst_)\n",
    "            \n",
    "            dic_count[tuples_[0]] = lst_  \n",
    "        else:\n",
    "            #(2, [(1, 3), (1, 4), (3, 4), (4, 5), (5, 1)]\n",
    "            #break\n",
    "            for tuple_ in tuples_[1]:\n",
    "                flag = 0 \n",
    "                for item in dic_count[tuples_[0]]:\n",
    "                    if item[1] == tuple_:\n",
    "                        counter = item[0] + 1\n",
    "                        dic_count[tuples_[0]].remove(item)\n",
    "                        dic_count[tuples_[0]].append((counter, item[1]))\n",
    "                        flag = 1\n",
    "                        break\n",
    "                # tuple is new\n",
    "                if flag == 0:\n",
    "                    dic_count[tuples_[0]].append((1, tuple_))\n",
    "#                 else: \n",
    "#                     print(\"Error100\")\n",
    "#     print(\"salam\", dic_count[2], \"\\n\\n\" )\n",
    "#     if vec_i == 1:\n",
    "#         break\n",
    "\n",
    "# _2d_array = [[1, 3, 4, 3, 4, 5, 1, 4],\n",
    "#              [1, 6, 3, 4, 5],\n",
    "#              [1, 2, 6, 3],\n",
    "#              [6, 1, 3, 4, 5],\n",
    "#              [3, 4, 3, 6],\n",
    "#              [2, 3, 1, 4, 6]]"
   ]
  },
  {
   "cell_type": "code",
   "execution_count": 369,
   "id": "cb0c9fd7-b3c5-4e61-84bd-bd84f14b392a",
   "metadata": {},
   "outputs": [],
   "source": [
    "def is_subsequence(needle: list, haystack: list) -> bool:\n",
    "    # >>> is_subsequence([2, 3, 4], [1, 2, 3, 4, 5, 6])\n",
    "    return any(\n",
    "        haystack[i:i+len(needle)] == needle\n",
    "        for i in range(len(haystack) - len(needle) + 1)\n",
    "    )"
   ]
  },
  {
   "cell_type": "code",
   "execution_count": 370,
   "id": "777e6228-2296-47e7-bc0a-aa9f658346a8",
   "metadata": {},
   "outputs": [],
   "source": [
    "def CloConSeqGen(dic_count: dict, threshold: int) -> list:\n",
    "    closed_list = []\n",
    "    for key, v_list in dic_count.items():\n",
    "        #print(key, v_list)\n",
    "        for item_tup in v_list:\n",
    "            tmp_flag = False\n",
    "            for key, v_list_search in dic_count.items():\n",
    "                for item_tup_search in v_list_search:\n",
    "                    #print(\"compare with: \", item_tup_search[1])\n",
    "                    if len(item_tup_search[1]) >= len(item_tup[1]) and is_subsequence(item_tup[1], item_tup_search[1]) and item_tup[1] != item_tup_search[1]:\n",
    "                        if item_tup[0] == item_tup_search[0]:\n",
    "                            tmp_flag = True\n",
    "            if not tmp_flag and item_tup[0] > threshold:\n",
    "\n",
    "                closed_list.append(item_tup)\n",
    "    return closed_list"
   ]
  },
  {
   "cell_type": "code",
   "execution_count": 371,
   "id": "dfbd276c-0735-4163-910b-27bd57d50fa9",
   "metadata": {
    "tags": []
   },
   "outputs": [
    {
     "data": {
      "text/plain": [
       "dict_keys([1, 2, 3, 4, 5, 6, 7, 8, 9, 10, 11, 12, 13, 14, 15, 16, 17, 18, 19, 20, 21, 22, 23, 24, 25, 26, 27, 28, 29, 30, 31, 32, 33, 34, 35, 36, 37, 38, 39, 40, 41, 42, 43, 44, 45, 46, 47, 48, 49, 50, 51, 52, 53, 54, 55, 56, 57, 58, 59, 60, 61, 62, 63, 64, 65, 66, 67, 68, 69, 70, 71, 72, 73, 74, 75, 76, 77, 78, 79, 80, 81, 82, 83, 84, 85, 86, 87, 88, 89, 90, 91, 92, 93, 94, 95, 96, 97, 98, 99, 100, 101, 102, 103, 104, 105, 106, 107, 108, 109, 110, 111, 112, 113, 114, 115, 116, 117, 118, 119, 120, 121, 122])"
      ]
     },
     "execution_count": 371,
     "metadata": {},
     "output_type": "execute_result"
    }
   ],
   "source": [
    "dic_count.keys()"
   ]
  },
  {
   "cell_type": "code",
   "execution_count": 372,
   "id": "70d292da-2e31-4ae1-9590-255586e51611",
   "metadata": {},
   "outputs": [],
   "source": [
    "def CloConSeqGen_v2(dic_count: dict) -> list:\n",
    "    closed_list = []\n",
    "    flag_first_step = True\n",
    "    for win_size in list(reversed(list(dic_count))):\n",
    "        # Just add the last or the biggest window_size to the list \n",
    "        if flag_first_step:\n",
    "            flag_first_step = False\n",
    "            for item in dic_count[win_size]:\n",
    "                closed_list.append(item)\n",
    "            continue\n",
    "        \n",
    "        # For other window sizes\n",
    "        for item_tup_new in dic_count[win_size]:\n",
    "            flag_visit = False\n",
    "            for item_tup_old in closed_list:\n",
    "                if item_tup_new[0] == item_tup_old[0] and is_subsequence(item_tup_new[1], item_tup_old[1]):\n",
    "                    flag_visit = True\n",
    "                    break\n",
    "            if not flag_visit:\n",
    "                closed_list.append(item_tup_new)\n",
    "\n",
    "    return len(closed_list)"
   ]
  },
  {
   "cell_type": "code",
   "execution_count": 373,
   "id": "cbc205ce-b533-4d9e-81c6-623cc7d67941",
   "metadata": {},
   "outputs": [],
   "source": [
    "def CloConSeqGen_v3(dic_count: dict, threshold: int) -> list:\n",
    "    closed_list = []\n",
    "    removed_closed_list = []\n",
    "    flag_first_step = True\n",
    "    for win_size in list(reversed(list(dic_count))):\n",
    "        # Just add the last or the biggest window_size to the list \n",
    "        if flag_first_step:\n",
    "            for item in dic_count[win_size]:\n",
    "                if item[0] >= threshold:\n",
    "                    flag_first_step = False\n",
    "                    closed_list.append(item)\n",
    "                else:\n",
    "                    removed_closed_list.append(item)\n",
    "            continue\n",
    "        \n",
    "        # For other window sizes\n",
    "        for item_tup_new in dic_count[win_size]:\n",
    "            flag_visit = False\n",
    "            for item_tup_old in closed_list:\n",
    "                if item_tup_new[0] == item_tup_old[0] and is_subsequence(item_tup_new[1], item_tup_old[1]):\n",
    "                    flag_visit = True\n",
    "                    break  \n",
    "            if (not flag_visit) and (item_tup_new[0] >= threshold):\n",
    "                closed_list.append(item_tup_new)\n",
    "            else:\n",
    "                removed_closed_list.append(item_tup_new)\n",
    "\n",
    "    return closed_list, removed_closed_list"
   ]
  },
  {
   "cell_type": "code",
   "execution_count": 374,
   "id": "57c0af36-4426-4796-9124-a3fbffa9354d",
   "metadata": {},
   "outputs": [],
   "source": [
    "# print(CloConSeqGen_v2(dic_count))\n",
    "# print(CloConSeqGen_v3(dic_count, 1))\n",
    "# print(CloConSeqGen_v3(dic_count, 5))"
   ]
  },
  {
   "cell_type": "code",
   "execution_count": 375,
   "id": "227bf25d-7b45-42cf-818e-d417cf39afd9",
   "metadata": {},
   "outputs": [],
   "source": [
    "# print(CloConSeqGen_v2(dic_count))\n",
    "# print(CloConSeqGen_v3(dic_count, threshold=1))\n",
    "# print(CloConSeqGen_v3(dic_count, threshold=1))\n",
    "# result, result_remove = CloConSeqGen_v3(dic_count, threshold=2)"
   ]
  },
  {
   "cell_type": "markdown",
   "id": "230f6c79-191c-4ee2-a7c9-e9401b7566c9",
   "metadata": {},
   "source": [
    "### Prepare data for support and pattern length when support is 1"
   ]
  },
  {
   "cell_type": "code",
   "execution_count": 376,
   "id": "fdc068df-aa93-43a5-9a4c-d794dca1ddf8",
   "metadata": {},
   "outputs": [],
   "source": [
    "result, result_remove = CloConSeqGen_v3(dic_count, threshold=1)"
   ]
  },
  {
   "cell_type": "code",
   "execution_count": 377,
   "id": "4337b03f-e920-42e6-b5d6-a0936dc350ab",
   "metadata": {},
   "outputs": [
    {
     "data": {
      "text/plain": [
       "6406"
      ]
     },
     "execution_count": 377,
     "metadata": {},
     "output_type": "execute_result"
    }
   ],
   "source": [
    "len(result)"
   ]
  },
  {
   "cell_type": "code",
   "execution_count": 378,
   "id": "f9b00c8a-2f0e-40a7-92ff-962cad9bf658",
   "metadata": {},
   "outputs": [],
   "source": [
    "# Find the low and high boundries of CloConSeqGen_v3 result\n",
    "for element in result:\n",
    "    if result.index(element) == 0:\n",
    "        low = element[0] \n",
    "        high = element[0]\n",
    "        continue\n",
    "    if low > element[0]:\n",
    "        low = element[0]\n",
    "    elif high < element[0]:\n",
    "        high = element[0]\n",
    "        \n",
    "sorted_result = sorted(result, key=lambda tup: tup[0])\n",
    "\n",
    "sup_x = sorted(set([element[0] for element in result]))\n",
    "len_sup_y = []\n",
    "\n",
    "for sup in sup_x:\n",
    "    len_sup_y.append(len(sorted_result) - [y[0] for y in sorted_result].index(sup))\n",
    "    \n",
    "per_len_sup_y = [(x*100)/len_sup_y[0] for x in len_sup_y]"
   ]
  },
  {
   "cell_type": "code",
   "execution_count": 379,
   "id": "7289acc1-43ea-46d3-b80d-24c1e4261251",
   "metadata": {},
   "outputs": [],
   "source": [
    "dic_tf_sup = {\"x\":sup_x, \"y\":per_len_sup_y}\n",
    "pickle.dump(dic_tf_sup, open(\"./Pickle_data/dic_keras_sup.p\", \"wb\"))"
   ]
  },
  {
   "cell_type": "code",
   "execution_count": 380,
   "id": "d9f5e832-7572-4a1d-91a0-a807f2b298af",
   "metadata": {},
   "outputs": [],
   "source": [
    "win_size_list = []\n",
    "for element in result:\n",
    "    win_size_list.append(len(element[1]))\n",
    "win_size_set = set(win_size_list)\n",
    "counter=collections.Counter(win_size_list)\n",
    "\n",
    "counter = dict(sorted(counter.items()))\n",
    "comulative_y = np.cumsum(list(counter.values()))\n",
    "\n",
    "per_list_patterns = []\n",
    "for element in comulative_y:\n",
    "    per_list_patterns.append((element*100)/comulative_y[-1])"
   ]
  },
  {
   "cell_type": "code",
   "execution_count": 381,
   "id": "b88744e3-113a-4f5f-9e19-c3b202d0d6cb",
   "metadata": {},
   "outputs": [],
   "source": [
    "dic_tf_win = {\"x\":list(counter.keys()), \"y\":per_list_patterns}\n",
    "pickle.dump(dic_tf_win, open( \"./Pickle_data/dic_keras_win.p\", \"wb\" ) )"
   ]
  },
  {
   "cell_type": "markdown",
   "id": "dffa07e1-d0d9-42f8-b9e7-0a463f24dff7",
   "metadata": {},
   "source": [
    "### Prepare data for support and pattern length when support is 2"
   ]
  },
  {
   "cell_type": "code",
   "execution_count": 382,
   "id": "73ce1054-8b7f-4e5e-bea3-f8909d5cc7a2",
   "metadata": {},
   "outputs": [],
   "source": [
    "result, result_remove = CloConSeqGen_v3(dic_count, threshold=2)"
   ]
  },
  {
   "cell_type": "code",
   "execution_count": 383,
   "id": "827b1c72-a704-40d2-9727-01c506a5fdc1",
   "metadata": {},
   "outputs": [
    {
     "data": {
      "text/plain": [
       "4043"
      ]
     },
     "execution_count": 383,
     "metadata": {},
     "output_type": "execute_result"
    }
   ],
   "source": [
    "len(result)"
   ]
  },
  {
   "cell_type": "code",
   "execution_count": 384,
   "id": "67ac384f-2bb3-4436-bdde-1baa66580850",
   "metadata": {
    "tags": []
   },
   "outputs": [],
   "source": [
    "def convert_num_string(input_list: list, unique_dic: dict) -> list:\n",
    "    convert_lst = []\n",
    "    for pattern in input_list:\n",
    "        string_pattern_tuple = ()\n",
    "        for item in pattern[1]:\n",
    "            string_pattern_tuple = string_pattern_tuple + (unique_dic[item],)\n",
    "        convert_lst.append((pattern[0], string_pattern_tuple))\n",
    "    return convert_lst"
   ]
  },
  {
   "cell_type": "code",
   "execution_count": 385,
   "id": "5a50964f-25a7-420a-93c9-3063977a8470",
   "metadata": {},
   "outputs": [],
   "source": [
    "def order_sublist(lst_big: list, lst_small: list) -> bool:\n",
    "    return lst_small in [lst_big[i:len(lst_small)+i] for i in range(len(lst_big))]"
   ]
  },
  {
   "cell_type": "code",
   "execution_count": 386,
   "id": "addeb75a-073e-4883-a9fd-b4f68911705a",
   "metadata": {},
   "outputs": [],
   "source": [
    "result_str = convert_num_string(result, uniqe_dic)\n",
    "assert len(result) == len(result_str), \"It should be the same.\"\n",
    "pattern_str_w_qid = []\n",
    "\n",
    "for pattern in result_str:\n",
    "    for q_id in _Id_array:\n",
    "        # assert not df_w_sklearn_tags.loc[df_w_sklearn_tags['Id'] == q_id].Bugy_py_files.empty, \"It's not possible!\"\n",
    "        exit_flag_q_id = False\n",
    "        \n",
    "        for item in df_w_keras_tags['Bugy_py_files'].to_numpy()[df_w_keras_tags['Id'].to_numpy() == q_id].item()[1]:\n",
    "           \n",
    "            if order_sublist(item, list(pattern[1])):\n",
    "                # pattern_str_w_qid.append((pattern[0], pattern[1]))\n",
    "                \n",
    "                exist = False\n",
    "                for ele in pattern_str_w_qid:\n",
    "                    if ele[1] == pattern[0] and ele[2] == pattern[1]:\n",
    "                        exist = True\n",
    "                        ele[0].append(q_id)\n",
    "                        \n",
    "                        if len(ele[0]) ==  pattern[0]: exit_flag_q_id = True\n",
    "                if not exist:\n",
    "                    pattern_str_w_qid.append((list([q_id]), pattern[0], pattern[1]))\n",
    "                    if pattern[0] == 1: exit_flag_q_id = True\n",
    "        \n",
    "        if exit_flag_q_id: break\n",
    "            \n",
    "    # print(\"\\n\\n\")\n",
    "pickle.dump(pattern_str_w_qid, open(\"./Pickle_data/keras_ccspan_2_result_pure.p\", \"wb\"))"
   ]
  },
  {
   "cell_type": "code",
   "execution_count": 387,
   "id": "722f9e7d",
   "metadata": {},
   "outputs": [],
   "source": [
    "def get_top_patterns(patterns_lst: list, top: int) -> list:\n",
    "    assert top != 0, \"The top value is wrong!\"\n",
    "    top_list = []\n",
    "    support_set = set()\n",
    "    \n",
    "    # Find the support list\n",
    "    for pattern in patterns_lst:\n",
    "        support_set.add(pattern[0])\n",
    "        \n",
    "    top_support_list = sorted(list(support_set))[0:top]\n",
    "    \n",
    "    for pattern in patterns_lst:\n",
    "        if pattern[0] in top_support_list:\n",
    "            top_list.append(pattern)\n",
    "            \n",
    "    return top_list"
   ]
  },
  {
   "cell_type": "markdown",
   "id": "3a455b92-37e7-4d77-8ea1-4312b0a48faf",
   "metadata": {},
   "source": [
    "The below function based on the dic_count dictionary trys to find x top patterns for each window_size"
   ]
  },
  {
   "cell_type": "code",
   "execution_count": 388,
   "id": "d07908ba",
   "metadata": {},
   "outputs": [],
   "source": [
    "top_pattern_num = get_top_patterns(result, 100)"
   ]
  },
  {
   "cell_type": "code",
   "execution_count": 389,
   "id": "3fa153b3-af93-4c74-907f-36fefcce2096",
   "metadata": {},
   "outputs": [
    {
     "data": {
      "text/plain": [
       "4043"
      ]
     },
     "execution_count": 389,
     "metadata": {},
     "output_type": "execute_result"
    }
   ],
   "source": [
    "len(result)"
   ]
  },
  {
   "cell_type": "code",
   "execution_count": 390,
   "id": "7279c556",
   "metadata": {
    "tags": []
   },
   "outputs": [],
   "source": [
    "def convert_num_string(input_list: list, unique_dic: dict) -> list:\n",
    "    convert_lst = []\n",
    "    for pattern in input_list:\n",
    "        string_pattern_tuple = ()\n",
    "        for item in pattern[1]:\n",
    "            string_pattern_tuple = string_pattern_tuple + (unique_dic[item],)\n",
    "        convert_lst.append((pattern[0], string_pattern_tuple))\n",
    "    return convert_lst"
   ]
  },
  {
   "cell_type": "markdown",
   "id": "bf82bce5-7af6-4782-b604-28cfe546b864",
   "metadata": {},
   "source": [
    "The below code converts the number pairs to the string pairs"
   ]
  },
  {
   "cell_type": "code",
   "execution_count": 391,
   "id": "d86e89e0-774f-4435-99cf-1b1f6cbbb396",
   "metadata": {},
   "outputs": [],
   "source": [
    "top_pattern_str = convert_num_string(top_pattern_num, uniqe_dic)"
   ]
  },
  {
   "cell_type": "code",
   "execution_count": 392,
   "id": "f4c8d3ff-a0b4-4464-ba4e-80170401506d",
   "metadata": {},
   "outputs": [],
   "source": [
    "# top_pattern_str"
   ]
  },
  {
   "cell_type": "markdown",
   "id": "ffdac07b-dca6-4c30-9d08-786f01535355",
   "metadata": {
    "tags": []
   },
   "source": [
    "#### Find the Id of a post based on its pattern:"
   ]
  },
  {
   "cell_type": "code",
   "execution_count": 393,
   "id": "314c9c2e-1104-466f-ae09-ffb379fbc9d7",
   "metadata": {
    "tags": []
   },
   "outputs": [],
   "source": [
    "assert len(_2D_array_with_str) == len(_2D_array), \"Always should be the same.\""
   ]
  },
  {
   "cell_type": "code",
   "execution_count": 394,
   "id": "f4fff9b0-4939-474b-9db2-03740e518292",
   "metadata": {
    "tags": []
   },
   "outputs": [
    {
     "data": {
      "text/plain": [
       "4319"
      ]
     },
     "execution_count": 394,
     "metadata": {},
     "output_type": "execute_result"
    }
   ],
   "source": [
    "len(_Id_array)\n",
    "# , _Id_array"
   ]
  },
  {
   "cell_type": "code",
   "execution_count": 395,
   "id": "4795d690-d2e1-4f04-b37a-8f0eab767651",
   "metadata": {},
   "outputs": [],
   "source": [
    "result, result_remove = CloConSeqGen_v3(dic_count, threshold=2)"
   ]
  },
  {
   "cell_type": "code",
   "execution_count": 396,
   "id": "618652dd-8e19-44fd-bb01-91f6810eeafd",
   "metadata": {},
   "outputs": [],
   "source": [
    "def find_q_id_based_on_str_pattern(total_IDs: list, pattern_str_lst: list) -> dict:\n",
    "    dict_pattern_and_qid = {}\n",
    "    \n",
    "    for pattern in pattern_str_lst:\n",
    "        for q_id in total_IDs:\n",
    "            # assert not df_w_keras_tags.loc[df_w_keras_tags['Id'] == q_id].Bugy_py_files.empty, \"It's not possible!\"\n",
    "\n",
    "            for item in df_w_keras_tags['Bugy_py_files'].to_numpy()[df_w_keras_tags['Id'].to_numpy() == q_id].item()[1]:\n",
    "            # for item in df_w_keras_tags.loc[df_w_keras_tags['Id'] == q_id].Bugy_py_files.values[0][1]:\n",
    "                if order_sublist(item, list(pattern[1])):\n",
    "                    pattern_tpl = (*pattern[1], )\n",
    "                    if pattern_tpl not in dict_pattern_and_qid.keys():\n",
    "                        dict_pattern_and_qid[pattern_tpl] = set({q_id})\n",
    "                    else:\n",
    "                        dict_pattern_and_qid[pattern_tpl].add(q_id)\n",
    "    return dict_pattern_and_qid"
   ]
  },
  {
   "cell_type": "code",
   "execution_count": 397,
   "id": "af140a17-af6e-40a5-a774-a111c2db2a2c",
   "metadata": {},
   "outputs": [],
   "source": [
    "def get_q_number(dict_pattern_and_qid: dict) -> int:\n",
    "    q_total_set = set({})\n",
    "    \n",
    "    for key, value in dict_pattern_and_qid.items():\n",
    "        # print(value)\n",
    "        q_total_set.update(value)\n",
    "\n",
    "    return len(q_total_set), q_total_set"
   ]
  },
  {
   "cell_type": "code",
   "execution_count": 398,
   "id": "d8345bd6-b985-49e1-a114-0f5b7accbe53",
   "metadata": {},
   "outputs": [
    {
     "name": "stdout",
     "output_type": "stream",
     "text": [
      "3659\n"
     ]
    }
   ],
   "source": [
    "dict_pattern_and_qid = find_q_id_based_on_str_pattern(_Id_array, convert_num_string(result, uniqe_dic))\n",
    "len_q_total_set, q_total_set =  get_q_number(dict_pattern_and_qid)\n",
    "print(len_q_total_set)"
   ]
  },
  {
   "cell_type": "code",
   "execution_count": null,
   "id": "fb5074b1-ea39-4121-841c-b147b04e6cdc",
   "metadata": {
    "tags": []
   },
   "outputs": [],
   "source": [
    "lst_q_id_has_pattern = []\n",
    "for top_pattern in top_pattern_str:\n",
    "    # print(\"Pattern(small set): \\t\", top_pattern[1])\n",
    "    for q_id in _Id_array:\n",
    "        # print(q_id)\n",
    "        # assert not df_w_keras_tags.loc[df_w_keras_tags['Id'] == q_id].Bugy_py_files.empty, \"It's pot possible!\"\n",
    "        \n",
    "        for item in df_w_keras_tags['Bugy_py_files'].to_numpy()[df_w_keras_tags['Id'].to_numpy() == q_id].item()[1]:\n",
    "            # print(\"Big set: \\t\", item)\n",
    "            if order_sublist(item, list(top_pattern[1])):\n",
    "                # print(\"Big Set: \\t\", item)\n",
    "                # print(\"Small Set: \\t\", list(top_pattern[1]))\n",
    "                # print(\"\\n\\n\")\n",
    "                lst_q_id_has_pattern.append(q_id)\n",
    "    # print(\"\\n\\n\")"
   ]
  },
  {
   "cell_type": "code",
   "execution_count": null,
   "id": "4e23791a-9002-46e6-aeb8-2d6b65bb6d43",
   "metadata": {},
   "outputs": [],
   "source": [
    "assert lst_q_id_has_pattern, \"It not should be empty.\""
   ]
  },
  {
   "cell_type": "code",
   "execution_count": null,
   "id": "6a60bb8a-137e-4bc5-89e3-6bc3c180c48d",
   "metadata": {},
   "outputs": [],
   "source": [
    "df_pattern = df_w_keras_tags.loc[df_w_keras_tags['Id'].isin(lst_q_id_has_pattern)].reset_index(drop=True)"
   ]
  },
  {
   "cell_type": "code",
   "execution_count": null,
   "id": "e62807f4-5baf-4a4e-9b22-5e5a030e5f27",
   "metadata": {},
   "outputs": [],
   "source": [
    "df_pattern.rename(columns = {'Id':'Q_id', 'CreationDate':'Q_create_time'}, inplace = True)"
   ]
  },
  {
   "cell_type": "code",
   "execution_count": null,
   "id": "7ffc07a5-f62c-488d-b873-b22c99368924",
   "metadata": {
    "tags": []
   },
   "outputs": [],
   "source": [
    "pure_data = working_directory_path + \"db_results/\" + \"keras_ans_all.csv\"\n",
    "path = Path(pure_data)\n",
    "\n",
    "if path.suffix == \".csv\":\n",
    "    df_night = pd.read_csv(path, encoding=encoding)\n",
    "else:\n",
    "    raise ValueError(\"{data_file_path.suffix} extensions are not supported\")"
   ]
  },
  {
   "cell_type": "code",
   "execution_count": null,
   "id": "fa58c7cb-163b-4c69-a8ef-d51ec98d694f",
   "metadata": {},
   "outputs": [],
   "source": [
    "pd_tmp_w = pd.merge(df_pattern, df_night, how='outer',left_on=['Q_id'], right_on=['ParentId']).reset_index(drop=True)\n",
    "pd_tmp_w[\"Answer_tup\"] = pd_tmp_w.apply(lambda x: (x.Id, x.CreationDate), axis=1)\n",
    "pd_tmp_new_w = pd_tmp_w.groupby([\"Q_id_x\", \"Q_create_time\", \"ViewCount\", \"CommentCount\", \"Score\", \"AnswerCount\", \"AcceptedAnswerId\"], dropna=False)[\"Answer_tup\"].agg(list).reset_index()\n",
    "df_pattern_ans = pd_tmp_new_w[pd_tmp_new_w.AnswerCount != 0].reset_index(drop=True)"
   ]
  },
  {
   "cell_type": "code",
   "execution_count": null,
   "id": "cd2e8a96-1d56-4914-b24a-77278e0eb99e",
   "metadata": {},
   "outputs": [],
   "source": [
    "df_pattern_ans = df_pattern_ans[df_pattern_ans.AcceptedAnswerId > 0]"
   ]
  },
  {
   "cell_type": "code",
   "execution_count": null,
   "id": "a2e1b206-dfda-47ed-9469-06dc34e4d446",
   "metadata": {},
   "outputs": [],
   "source": [
    "def check_patt_ans(lst_ans_id_1, lst_ans_id_2):\n",
    "    assert set(lst_ans_id_1) == set(lst_ans_id_2), \"We couldn't find all answers.\"\n",
    "    assert len(lst_ans_id_1) == len(lst_ans_id_2), \"The length of answer lists are not the same.\""
   ]
  },
  {
   "cell_type": "code",
   "execution_count": null,
   "id": "73a6b524-d003-41d2-a51d-7b36e1306f17",
   "metadata": {},
   "outputs": [],
   "source": [
    "check_patt_ans(df_pattern_ans.AcceptedAnswerId, df_pattern[df_pattern.AcceptedAnswerId > 0].AcceptedAnswerId)"
   ]
  },
  {
   "cell_type": "code",
   "execution_count": null,
   "id": "73f97050-f8ad-4ac2-8339-7f1addc3f7cd",
   "metadata": {},
   "outputs": [],
   "source": [
    "df_pattern_ans.insert(len(df_pattern_ans.columns), 'First_ans_time', np.nan)\n",
    "df_pattern_ans.insert(len(df_pattern_ans.columns), 'First_acc_ans_time', np.nan)"
   ]
  },
  {
   "cell_type": "code",
   "execution_count": null,
   "id": "57cb3a82-8e38-4310-a2ed-1c89601e205d",
   "metadata": {},
   "outputs": [],
   "source": [
    "def assign_the_answers(df: pd.DataFrame) -> pd.DataFrame:\n",
    "    for index1, row_status in df.iterrows():   \n",
    "        flag = 0\n",
    "        fr_time = pd.to_datetime(datetime.datetime.now())\n",
    "        acc_time = pd.to_datetime(datetime.datetime.now())\n",
    "\n",
    "        if not row_status[\"Answer_tup\"]:\n",
    "            pd_tmp_new3_w.at[index1,'First_ans_time'] = np.nan\n",
    "            pd_tmp_new3_w.at[index1,'First_acc_ans_time'] = np.nan\n",
    "            continue\n",
    "\n",
    "        for answer in row_status[\"Answer_tup\"]:\n",
    "\n",
    "            anwer_time = pd.to_datetime(answer[1])\n",
    "\n",
    "            if flag == 0:\n",
    "                fr_time = anwer_time\n",
    "                flag = 1\n",
    "\n",
    "            if fr_time > anwer_time:\n",
    "                fr_time = anwer_time\n",
    "\n",
    "            if row_status[\"AcceptedAnswerId\"] == answer[0]:\n",
    "                acc_time = anwer_time\n",
    "\n",
    "        df.at[index1,'First_ans_time'] = fr_time\n",
    "\n",
    "        if pd.isna(row_status[\"AcceptedAnswerId\"]):\n",
    "            acc_time = np.nan\n",
    "\n",
    "        df.at[index1,'First_acc_ans_time'] = acc_time\n",
    "    return df"
   ]
  },
  {
   "cell_type": "code",
   "execution_count": null,
   "id": "16ceb7d8-c5bc-44eb-815b-b3ebd36a92f7",
   "metadata": {},
   "outputs": [],
   "source": [
    "df_pattern_ans = assign_the_answers(df_pattern_ans)"
   ]
  },
  {
   "cell_type": "code",
   "execution_count": null,
   "id": "ce318475-189c-4af8-9566-054f69be6435",
   "metadata": {},
   "outputs": [],
   "source": [
    "df_pattern_ans[\"Q_create_time\"]      = pd.to_datetime(df_pattern_ans[\"Q_create_time\"])\n",
    "df_pattern_ans[\"First_acc_ans_time\"] = pd.to_datetime(df_pattern_ans[\"First_acc_ans_time\"])\n",
    "df_pattern_ans[\"First_ans_time\"]     = pd.to_datetime(df_pattern_ans[\"First_ans_time\"])"
   ]
  },
  {
   "cell_type": "code",
   "execution_count": null,
   "id": "d51bf41c-e69c-4e36-bbdd-b95db19b00b9",
   "metadata": {},
   "outputs": [],
   "source": [
    "df_pattern_ans[\"Duration_ans\"] = df_pattern_ans.apply(lambda row: (row.First_ans_time-row.Q_create_time).total_seconds()/3600 if not pd.isna(row.First_ans_time) else np.nan, axis=1)\n",
    "df_pattern_ans[\"Duration_acc_ans\"] = df_pattern_ans.apply(lambda row: (row.First_acc_ans_time-row.Q_create_time).total_seconds()/3600 if not pd.isna(row.First_acc_ans_time) else np.nan, axis=1)"
   ]
  },
  {
   "cell_type": "code",
   "execution_count": null,
   "id": "af4dc3e2-21f2-421d-8432-9acad1c4fc2e",
   "metadata": {},
   "outputs": [],
   "source": [
    "df_pattern_ans.head()"
   ]
  },
  {
   "cell_type": "code",
   "execution_count": null,
   "id": "5661abcc-2375-4a2d-ac90-bed22f468e54",
   "metadata": {},
   "outputs": [],
   "source": [
    "df_result = pd.DataFrame(columns=['Index', 'Q_id', 'Title', 'OS', '# ST-Post', '# ST', 'Link'])\n",
    "\n",
    "for _indx, row in df_pattern.iterrows():\n",
    "    _c = 0\n",
    "    for item in row.Bugy_py_files[1]:\n",
    "        _c += len(item)\n",
    "    _link = \"https://stackoverflow.com/questions/\" + str(row.Q_id)\n",
    "    tmp_dic = {'Index': _indx+1, 'Q_id': row.Q_id, 'Title': row.Title, 'OS': row.Bugy_py_files[0], '# ST-Post': len(row.Bugy_py_files[1]), '# ST': _c, 'Link': _link}\n",
    "    df2 = pd.DataFrame(tmp_dic, index={len(tmp_dic)+1})\n",
    "    df_result = pd.concat([df_result, df2], ignore_index=True)"
   ]
  },
  {
   "cell_type": "code",
   "execution_count": null,
   "id": "c4cf331b-860e-4f6a-91bc-57c99ab10afb",
   "metadata": {},
   "outputs": [],
   "source": [
    "regex_unix    = r\"[^\\n\\&\\:\\|\\>\\<\\/\\ \\\"\\;\\&]*(\\/[^\\n\\&\\:\\|\\>\\<\\/]+)+\\/([^\\n\\&\\:\\|\\>\\<\\/\\\\]+)(\\.pyc|\\.py)[^\\d\\n]+(\\d*)\\W*in\\s\\W*\\d*([a-zA-Z_$][a-zA-Z_$0-9]*)\"\n",
    "regex_windows = r\"(([a-zA-Z]:)|\\~)\\\\?\\/?([^\\<\\>\\:\\\"\\\\\\|\\?\\*\\n]+\\\\)+([^\\<\\>\\:\\\"\\\\\\/\\/\\|\\?\\*\\n]+)(\\.pyc|\\.py)[^\\d\\n]+(\\d*)\\W*in\\W+([a-zA-Z_$][a-zA-Z_$0-9]*)\"\n",
    "# https://regex101.com/r/5yCAdA/1   Unix\n",
    "# https://regex101.com/r/50Vcmo/1 Windows"
   ]
  },
  {
   "cell_type": "code",
   "execution_count": null,
   "id": "b139b576-02c8-4019-9829-c5387d7464aa",
   "metadata": {},
   "outputs": [],
   "source": [
    "pd.options.display.max_colwidth = 500\n",
    "df_pattern.loc[df_pattern.Q_id == 54219826].Bugy_py_files"
   ]
  },
  {
   "cell_type": "code",
   "execution_count": null,
   "id": "024b8cd9-ab58-4448-a5f6-15b0fb6cb3f3",
   "metadata": {},
   "outputs": [],
   "source": [
    "df_pattern.loc[df_pattern.Q_id == 54219826]"
   ]
  },
  {
   "cell_type": "code",
   "execution_count": null,
   "id": "5766c065-c694-422e-b157-19a55f52f36b",
   "metadata": {},
   "outputs": [],
   "source": [
    "lst_id_has_trace_wo_err_mess = []\n",
    "c_has_trace   = 0\n",
    "c_has_err_mes = 0\n",
    "\n",
    "def extract_error_messages(id: int, Has_code: bool, Has_trace: bool, code_sec: List) -> Optional[List]:\n",
    "    try:\n",
    "        global lst_id_has_trace_wo_err_mess, c_has_trace, c_has_err_mes\n",
    "        \n",
    "        if Has_trace: c_has_trace += 1\n",
    "        # if not (Has_trace and Has_code): print(f\"Error (2): It's not possiable. Has_code: {Has_code}, Has_trace: {Has_trace}\")\n",
    "            \n",
    "        result_total = []\n",
    "        \n",
    "        for code in code_sec:\n",
    "            # regex = r\"([A-Z]\\w+(Error|Warning|Exception))([^:]*):\\s(.*)$\"\n",
    "            # V3\n",
    "            regex = r\"^([A-Z]\\w+Error)(\\w|\\s|\\(|\\)|\\d)*:\\s(.*)$\"\n",
    "            # regex = r\"([A-Z]\\w+Error):\\s(.*)$\"\n",
    "            code = code.replace(\"\\\\n\", \"\\n\")\n",
    "            code = code.replace('&lt;', '<')\n",
    "            code = code.replace('&gt;', '>')\n",
    "            code = code.replace('&quot;', '\"')\n",
    "            matches = re.finditer(regex, code, re.MULTILINE)\n",
    "            result_each_code_part = []\n",
    "\n",
    "            for matchNum, match in enumerate(matches, start=1):\n",
    "                result_each_code_part.append((match.groups()[0].strip(), match.groups()[2].strip()))\n",
    "            \n",
    "            if result_each_code_part:   # Ignore the empty list\n",
    "                result_total.append(result_each_code_part)\n",
    "\n",
    "        if (not result_total) and Has_trace: \n",
    "            # print(\"Warning!: We have to check this is ID: \", id)\n",
    "            lst_id_has_trace_wo_err_mess.append(id)\n",
    "        \n",
    "        if result_total:\n",
    "            c_has_err_mes += len(result_total)\n",
    "            \n",
    "        return result_total\n",
    "    \n",
    "    except:\n",
    "        print(\"Error(1): \", id)\n",
    "        print(code_sec)\n",
    "        return None"
   ]
  },
  {
   "cell_type": "code",
   "execution_count": null,
   "id": "ea3133ee-8feb-4741-9663-10ba2d5aae6f",
   "metadata": {
    "tags": []
   },
   "outputs": [],
   "source": [
    "df_pattern[\"Err_msg\"] = df_pattern.apply(lambda row: extract_error_messages(row.Q_id, row.Has_code, row.Has_trace, row.Code), axis=1)"
   ]
  },
  {
   "cell_type": "code",
   "execution_count": null,
   "id": "dcbf43e9-7d3c-485a-9a1f-0a2d5da10956",
   "metadata": {},
   "outputs": [],
   "source": [
    "print(f\"We captured {c_has_trace} stack traces, however {c_has_trace-len(lst_id_has_trace_wo_err_mess)} stacktraces have a one type of error messages. I mean, {len(lst_id_has_trace_wo_err_mess)} stack traces didn't have any error message.\")"
   ]
  },
  {
   "cell_type": "code",
   "execution_count": null,
   "id": "96c34043-59ca-49ec-add3-929367024323",
   "metadata": {},
   "outputs": [],
   "source": [
    "df_tmp = df_pattern[df_pattern['Err_msg'].map(lambda err_msg_list: len(err_msg_list)) > 0]\n",
    "df_tmp.reset_index(drop=True, inplace=True)"
   ]
  },
  {
   "cell_type": "code",
   "execution_count": null,
   "id": "4609acf2-489e-42c5-bd10-dcebd3796e8b",
   "metadata": {},
   "outputs": [],
   "source": [
    "df_pattern_err_msg = pd.DataFrame(columns=['Q_id', 'ErrorType', 'ErrorMessage'])"
   ]
  },
  {
   "cell_type": "code",
   "execution_count": null,
   "id": "f43bcfba-7be1-46f4-95b9-6a44c09d9194",
   "metadata": {},
   "outputs": [],
   "source": [
    "def message_extractor(msg_q_id: str, msg_list: list) -> None:\n",
    "    global df_pattern_err_msg\n",
    "    for msg_t in msg_list:\n",
    "        for message in msg_t:\n",
    "            df_pattern_err_msg = pd.concat([df_pattern_err_msg, pd.DataFrame.from_records([{'Q_id': msg_q_id, 'ErrorType': message[0], 'ErrorMessage': message[1]}])], ignore_index=True)"
   ]
  },
  {
   "cell_type": "code",
   "execution_count": null,
   "id": "13526342-f7cf-43a0-b013-5acd281f3038",
   "metadata": {
    "tags": []
   },
   "outputs": [],
   "source": [
    "_ = df_tmp.apply(lambda row: message_extractor(row.Q_id, row.Err_msg), axis=1)"
   ]
  },
  {
   "cell_type": "code",
   "execution_count": null,
   "id": "2fbfe0ce-8a87-473e-bc51-b06e22ca6817",
   "metadata": {},
   "outputs": [],
   "source": [
    "df_pattern_err_msg.shape"
   ]
  },
  {
   "cell_type": "code",
   "execution_count": null,
   "id": "8b4d6c77-2c1a-462a-bf95-3e7aec229d15",
   "metadata": {},
   "outputs": [],
   "source": [
    "df_pattern_err_msg.head()"
   ]
  },
  {
   "cell_type": "code",
   "execution_count": null,
   "id": "b010615a-39a7-4a9b-b211-565e51094f9c",
   "metadata": {},
   "outputs": [],
   "source": [
    "# Make sure all the elements are string\n",
    "df_pattern_err_msg = df_pattern_err_msg.applymap(str)\n",
    "\n",
    "# Notice: strip() function will remove leading and trailing whitespaces.\n",
    "df_pattern_err_msg['ErrorType'] = df_pattern_err_msg['ErrorType'].apply(lambda x: x.strip())"
   ]
  },
  {
   "cell_type": "code",
   "execution_count": null,
   "id": "898083b2-8efa-4536-be80-156b6925b254",
   "metadata": {},
   "outputs": [],
   "source": [
    "TOP = 10\n",
    "df_tmp = df_pattern_err_msg.groupby(['ErrorType'])['ErrorType'].count().reset_index(name='count').sort_values(['count'], ascending=False)\n",
    "df2 = df_tmp.iloc[:TOP]\n",
    "df2 = df2.append({'ErrorType': 'Other', 'count': df_tmp['count'].iloc[TOP:].sum()}, ignore_index=True)\n",
    "colors = ['tab:blue', 'tab:cyan', 'tab:gray', 'tab:orange', 'tab:red', 'burlywood', 'y']\n",
    "\n",
    "fig, ax = plt.subplots(figsize=(8, 8))\n",
    "\n",
    "patches, texts, pcts =  ax.pie(df2.set_index('ErrorType')['count'],\n",
    "                               labels=df2['ErrorType'],\n",
    "                                autopct='%1.1f%%', \n",
    "                                pctdistance=0.7, \n",
    "                                labeldistance=1.1, \n",
    "                                # textprops={'fontsize': 12},\n",
    "                                textprops={'size': 'x-large'},\n",
    "                                colors=colors,\n",
    "                                wedgeprops={'linewidth': 3.0, 'edgecolor': 'white'},)\n",
    "\n",
    "s = df2.groupby('ErrorType')['count'].sum().map(lambda x : x).sort_values(ascending = False)\n",
    "labels = [f'{name}, {percentage*100:0.1f}%' for name, percentage in zip(s.index, s / s.sum())]\n",
    "ax.legend(bbox_to_anchor=(1.2, 1), \n",
    "           loc='upper left', \n",
    "           # labels=labels,\n",
    "           title=\"Error Types\",\n",
    "           # labelcolor=colors,\n",
    "           fontsize=14)\n",
    "\n",
    "\n",
    "plt.setp(pcts, color='white', fontweight='bold')\n",
    "ax.set_title(\"keras Error Distribution\", fontsize=18)\n",
    "for i, patch in enumerate(patches):\n",
    "    texts[i].set_color(patch.get_facecolor())\n",
    "    \n",
    "plt.setp(texts, fontweight=600)\n",
    "\n",
    "ax.axis('equal')  \n",
    "# plt.tight_layout()\n",
    "# ax.figure.savefig('piechart.png', bbox_inches='tight')"
   ]
  },
  {
   "cell_type": "code",
   "execution_count": null,
   "id": "fd039f6a-c399-4022-b617-f3c029525e91",
   "metadata": {},
   "outputs": [],
   "source": [
    "# Get the frequency of each message type\n",
    "print(df_pattern_err_msg.groupby(['ErrorType'])['ErrorType'].count().reset_index(name='count').sort_values(['count'], ascending=False).nlargest(20, 'count'))\n",
    "df_pattern_err_msg.shape"
   ]
  },
  {
   "cell_type": "code",
   "execution_count": null,
   "id": "bd469d64-2c15-4fa9-81df-790273d8e48a",
   "metadata": {},
   "outputs": [],
   "source": [
    "print(\"Score median: \", df_pattern.Score.median())\n",
    "print(\"View median: \", df_pattern.ViewCount.median())\n",
    "print(\"Answer_count median: \", df_pattern.AnswerCount.median())\n",
    "print(\"Comment median: \", df_pattern.CommentCount.median())\n",
    "print(\"# Accepted answer:\", df_pattern.AcceptedAnswerId.count(), \"  Total Accepted answer:\", df_pattern.AcceptedAnswerId.shape[0], \"  Percentage of Accepted answer:\", \"{:.2f}\".format(df_pattern.AcceptedAnswerId.count() *100 / df_pattern.AcceptedAnswerId.shape[0]))\n",
    "print(\"LOC median: \", (df_pattern[df_pattern.Has_trace == True].Line_code_win + df_pattern[df_pattern.Has_trace == True].Line_code_uix).median())\n",
    "print(\"LOP median: \", df_pattern.Q_text_words_num.median())\n",
    "print(\"Answer duration median: \", \"{:.2f}\".format(df_pattern_ans.Duration_ans.median()))\n",
    "print(\"Accepted Answer duration median: \", \"{:.2f}\".format(df_pattern_ans.Duration_acc_ans.median()))"
   ]
  },
  {
   "cell_type": "code",
   "execution_count": null,
   "id": "130682a1-c135-4957-aac8-e4f9af3deed8",
   "metadata": {},
   "outputs": [],
   "source": [
    "df_pattern_err_msg.Q_id = df_pattern_err_msg.Q_id.astype(int)\n",
    "df_result.Q_id = df_result.Q_id.astype(int)\n",
    "df_result_mrg = pd.merge(df_pattern_err_msg, df_result, on=[\"Q_id\"], how='right')"
   ]
  },
  {
   "cell_type": "code",
   "execution_count": null,
   "id": "84a25154-9b96-4755-a17c-b3ad44a30f13",
   "metadata": {
    "tags": []
   },
   "outputs": [],
   "source": [
    "from tabulate import tabulate\n",
    "# print(tabulate(df_pattern_err_msg, headers='keys', tablefmt='psql', showindex=False))\n",
    "# print(tabulate(df_result, headers='keys', tablefmt='psql', showindex=False))"
   ]
  },
  {
   "cell_type": "code",
   "execution_count": null,
   "id": "cc2d75c9-e960-47a1-8a40-2324edfec61d",
   "metadata": {
    "tags": []
   },
   "outputs": [],
   "source": [
    "import os\n",
    "from openpyxl import load_workbook\n",
    "\n",
    "\n",
    "def append_df_to_excel(filename, df, sheet_name='Sheet1', startrow=None,\n",
    "                       truncate_sheet=False, \n",
    "                       **to_excel_kwargs):\n",
    "    \"\"\"\n",
    "    Append a DataFrame [df] to existing Excel file [filename]\n",
    "    into [sheet_name] Sheet.\n",
    "    If [filename] doesn't exist, then this function will create it.\n",
    "\n",
    "    @param filename: File path or existing ExcelWriter\n",
    "                     (Example: '/path/to/file.xlsx')\n",
    "    @param df: DataFrame to save to workbook\n",
    "    @param sheet_name: Name of sheet which will contain DataFrame.\n",
    "                       (default: 'Sheet1')\n",
    "    @param startrow: upper left cell row to dump data frame.\n",
    "                     Per default (startrow=None) calculate the last row\n",
    "                     in the existing DF and write to the next row...\n",
    "    @param truncate_sheet: truncate (remove and recreate) [sheet_name]\n",
    "                           before writing DataFrame to Excel file\n",
    "    @param to_excel_kwargs: arguments which will be passed to `DataFrame.to_excel()`\n",
    "                            [can be a dictionary]\n",
    "    @return: None\n",
    "\n",
    "    Usage examples:\n",
    "\n",
    "    >>> append_df_to_excel('d:/temp/test.xlsx', df)\n",
    "\n",
    "    >>> append_df_to_excel('d:/temp/test.xlsx', df, header=None, index=False)\n",
    "\n",
    "    >>> append_df_to_excel('d:/temp/test.xlsx', df, sheet_name='Sheet2',\n",
    "                           index=False)\n",
    "\n",
    "    >>> append_df_to_excel('d:/temp/test.xlsx', df, sheet_name='Sheet2', \n",
    "                           index=False, startrow=25)\n",
    "\n",
    "    (c) [MaxU](https://stackoverflow.com/users/5741205/maxu?tab=profile)\n",
    "    \"\"\"\n",
    "    # Excel file doesn't exist - saving and exiting\n",
    "    if not os.path.isfile(filename):\n",
    "        df.to_excel(\n",
    "            filename,\n",
    "            sheet_name=sheet_name, \n",
    "            startrow=startrow if startrow is not None else 0, \n",
    "            **to_excel_kwargs)\n",
    "        return\n",
    "    \n",
    "    # ignore [engine] parameter if it was passed\n",
    "    if 'engine' in to_excel_kwargs:\n",
    "        to_excel_kwargs.pop('engine')\n",
    "\n",
    "    writer = pd.ExcelWriter(filename, engine='openpyxl', mode='a', if_sheet_exists='replace')\n",
    "\n",
    "    # try to open an existing workbook\n",
    "    writer.book = load_workbook(filename)\n",
    "    \n",
    "    # get the last row in the existing Excel sheet\n",
    "    # if it was not specified explicitly\n",
    "    if startrow is None and sheet_name in writer.book.sheetnames:\n",
    "        startrow = writer.book[sheet_name].max_row\n",
    "\n",
    "    # truncate sheet\n",
    "    if truncate_sheet and sheet_name in writer.book.sheetnames:\n",
    "        # index of [sheet_name] sheet\n",
    "        idx = writer.book.sheetnames.index(sheet_name)\n",
    "        # remove [sheet_name]\n",
    "        writer.book.remove(writer.book.worksheets[idx])\n",
    "        # create an empty sheet [sheet_name] using old index\n",
    "        writer.book.create_sheet(sheet_name, idx)\n",
    "    \n",
    "    # copy existing sheets\n",
    "    writer.sheets = {ws.title:ws for ws in writer.book.worksheets}\n",
    "\n",
    "    if startrow is None:\n",
    "        startrow = 0\n",
    "\n",
    "    # write out the new sheet\n",
    "    df.to_excel(writer, sheet_name, startrow=startrow, **to_excel_kwargs)\n",
    "\n",
    "    # save the workbook\n",
    "    writer.save()"
   ]
  },
  {
   "cell_type": "code",
   "execution_count": null,
   "id": "a50d3414-2cb0-4e58-9e91-7cb0349c6565",
   "metadata": {},
   "outputs": [],
   "source": [
    "# df_result_mrg.drop(\"Index\", axis=1, inplace=True)\n",
    "# df_result_mrg.to_excel(\"../Emp_st_p_1.xlsx\", sheet_name='keras') \n",
    "# df_result_mrg.drop(\"Index\", axis=1, inplace=True)\n",
    "append_df_to_excel(\"../Emp_st_p_1.xlsx\", df_result_mrg, sheet_name='keras')"
   ]
  },
  {
   "cell_type": "markdown",
   "id": "e8cced58-9ff8-4848-9327-7adc8c285af1",
   "metadata": {
    "tags": []
   },
   "source": [
    "### Create covered question plot"
   ]
  },
  {
   "cell_type": "markdown",
   "id": "a700189b-9906-404b-8085-9c957ca04684",
   "metadata": {},
   "source": [
    "Create the x-axist: sorted based on the support"
   ]
  },
  {
   "cell_type": "code",
   "execution_count": null,
   "id": "968d38b9-6de8-4149-b666-7401ba1c8907",
   "metadata": {},
   "outputs": [],
   "source": [
    "result_str = convert_num_string(result, uniqe_dic)\n",
    "len(result_str)"
   ]
  },
  {
   "cell_type": "code",
   "execution_count": null,
   "id": "e4a31c7f-753a-447e-87b2-58ac5a0f05eb",
   "metadata": {},
   "outputs": [],
   "source": [
    "result_str_rev_sorted = sorted(result_str, key=lambda tup: tup[0], reverse=True)\n",
    "x_number_of_patterns = list(range(1, len(result_str_rev_sorted)+1))"
   ]
  },
  {
   "cell_type": "markdown",
   "id": "1b81c2f7-d4ff-4a20-a51d-9d8fd747172b",
   "metadata": {},
   "source": [
    "Create the y-axist: % of coverd questions"
   ]
  },
  {
   "cell_type": "code",
   "execution_count": null,
   "id": "37f55323-d4b7-4219-b371-eff271162abb",
   "metadata": {},
   "outputs": [],
   "source": [
    "number_of_unique_questions, set_of_unique_questions = get_q_number(dict_pattern_and_qid)"
   ]
  },
  {
   "cell_type": "code",
   "execution_count": null,
   "id": "89f0aa1b-a93b-4125-9de9-b9d86d5f4743",
   "metadata": {},
   "outputs": [],
   "source": [
    "visited_questions = set()\n",
    "y_axis_peresentage_of_coverage = []\n",
    "for support, pattern in result_str_rev_sorted:    \n",
    "    visited_questions.update(dict_pattern_and_qid[pattern])\n",
    "    if len(visited_questions) < len(set_of_unique_questions):\n",
    "        y_axis_peresentage_of_coverage.append(len(visited_questions)*100/len(set_of_unique_questions))\n",
    "    elif len(visited_questions) > len(set_of_unique_questions):\n",
    "        print(\"Error(100)!\")\n",
    "    elif len(visited_questions) == len(set_of_unique_questions):\n",
    "        y_axis_peresentage_of_coverage.append(100)"
   ]
  },
  {
   "cell_type": "code",
   "execution_count": null,
   "id": "6518f55d-5d49-4f26-a0d0-fa4339316d34",
   "metadata": {},
   "outputs": [],
   "source": [
    "fig, ax = plt.subplots(figsize=(8, 6), dpi=110)\n",
    "\n",
    "ax.plot(x_number_of_patterns, y_axis_peresentage_of_coverage, '-', color='green', linewidth=2)\n",
    "\n",
    "ax.set_title('Keras', fontname=\"Times New Roman\", fontsize=16)\n",
    "\n",
    "ax.set_xlabel('The number of patterns', labelpad=10, fontname=\"Times New Roman\", fontsize=14)\n",
    "ax.set_xticks(range(1, max(x_number_of_patterns)+1, 200))\n",
    "\n",
    "ax.yaxis.set_major_formatter(mtick.PercentFormatter())\n",
    "ax.set_ylabel('The percentage of covered questions', labelpad=10, fontname=\"Times New Roman\", fontsize=14)\n",
    "ax.set_yticks(range(0, 101, 10))\n",
    "\n",
    "\n",
    "fig.tight_layout()\n",
    "# plt.savefig('sp_le_rq1.pdf')\n",
    "plt.show()"
   ]
  },
  {
   "cell_type": "code",
   "execution_count": null,
   "id": "1dba5753-81d9-4698-926c-8442cbf11982",
   "metadata": {},
   "outputs": [],
   "source": [
    "plt_dic_keras_covered_ques = {\"x\":x_number_of_patterns, \"y\":y_axis_peresentage_of_coverage}\n",
    "pickle.dump(plt_dic_keras_covered_ques, open(\"./Pickle_data/plt_dic_keras_covered_ques.p\", \"wb\"))"
   ]
  },
  {
   "cell_type": "markdown",
   "id": "bb0d5666-371d-436f-a415-e6be8de02df3",
   "metadata": {},
   "source": [
    "## Answer time"
   ]
  },
  {
   "cell_type": "markdown",
   "id": "448de367",
   "metadata": {
    "tags": []
   },
   "source": [
    "### Loading Answer Dataset"
   ]
  },
  {
   "cell_type": "code",
   "execution_count": null,
   "id": "6b763dbb",
   "metadata": {
    "tags": []
   },
   "outputs": [],
   "source": [
    "# pure_ans_data = working_directory_path + \"ansSample.csv\"\n",
    "# path_ans = Path(pure_ans_data)\n",
    "\n",
    "# if path_ans.suffix == \".csv\":\n",
    "#     df_ans = pd.read_csv(path_ans, encoding=encoding)\n",
    "# else:\n",
    "#     raise ValueError(\"{data_file_path.suffix} extensions are not supported\")"
   ]
  },
  {
   "cell_type": "markdown",
   "id": "0daf259d-561a-4487-9908-da7e4da40191",
   "metadata": {},
   "source": [
    "## Create DF based on the questions contain stack traces"
   ]
  },
  {
   "cell_type": "code",
   "execution_count": null,
   "id": "31d5963c",
   "metadata": {},
   "outputs": [],
   "source": [
    "df_status_w_stack = pd.DataFrame(columns=['First_ans_time', 'First_acc_ans_time', 'Answers'])"
   ]
  },
  {
   "cell_type": "code",
   "execution_count": null,
   "id": "522f93f4",
   "metadata": {},
   "outputs": [],
   "source": [
    "df_status_w_stack[\"Q_info\"] = Question_with_trace_info"
   ]
  },
  {
   "cell_type": "code",
   "execution_count": null,
   "id": "3f03ba0c",
   "metadata": {},
   "outputs": [],
   "source": [
    "Question_with_trace_info[0]"
   ]
  },
  {
   "cell_type": "code",
   "execution_count": null,
   "id": "b3e2b596",
   "metadata": {},
   "outputs": [],
   "source": [
    "df_status_w_stack[\"Q_id\"]          = df_status_w_stack['Q_info'].apply(lambda q_info: q_info[0])\n",
    "df_status_w_stack[\"Q_create_time\"] = df_status_w_stack['Q_info'].apply(lambda q_info: q_info[1])\n",
    "df_status_w_stack[\"View_count\"]    = df_status_w_stack['Q_info'].apply(lambda q_info: q_info[2])\n",
    "df_status_w_stack[\"Answer_count\"]  = df_status_w_stack['Q_info'].apply(lambda q_info: q_info[3])\n",
    "df_status_w_stack[\"Comment_count\"] = df_status_w_stack['Q_info'].apply(lambda q_info: q_info[4])\n",
    "df_status_w_stack[\"Score\"]         = df_status_w_stack['Q_info'].apply(lambda q_info: q_info[5])\n",
    "df_status_w_stack[\"Accepted_Answer_id\"] = df_status_w_stack['Q_info'].apply(lambda q_info: q_info[6])"
   ]
  },
  {
   "cell_type": "code",
   "execution_count": null,
   "id": "28deb778",
   "metadata": {},
   "outputs": [],
   "source": [
    "df_status_w_stack = df_status_w_stack.drop(['Q_info'], axis='columns')"
   ]
  },
  {
   "cell_type": "code",
   "execution_count": null,
   "id": "ba5793bb",
   "metadata": {},
   "outputs": [],
   "source": [
    "df_status_w_stack[\"Q_create_time\"]      = pd.to_datetime(df_status_w_stack[\"Q_create_time\"])\n",
    "df_status_w_stack[\"First_acc_ans_time\"] = pd.to_datetime(df_status_w_stack[\"First_acc_ans_time\"])\n",
    "df_status_w_stack[\"First_ans_time\"]     = pd.to_datetime(df_status_w_stack[\"First_ans_time\"])"
   ]
  },
  {
   "cell_type": "markdown",
   "id": "4dfd1bbb",
   "metadata": {},
   "source": [
    "#### Filling the Answers column: A list contains the id and time of answers"
   ]
  },
  {
   "cell_type": "markdown",
   "id": "6ba7d931-c4d3-492a-8276-abc6de000ea3",
   "metadata": {},
   "source": [
    "We have to prepare and find answers that has sp parrentID, so first we catch the questions and store as table in DB. Before this job we have to create a table with all answrs and apply inner join to those tables:"
   ]
  },
  {
   "cell_type": "code",
   "execution_count": null,
   "id": "f4d8093c-3c26-4d31-adab-ad1c4bd66959",
   "metadata": {},
   "outputs": [],
   "source": [
    "df_status_w_stack[\"Q_id\"].to_csv('../code_output_csv/df_keras_w_stack.csv', encoding='utf-8')"
   ]
  },
  {
   "cell_type": "raw",
   "id": "61f7376f-6f99-46ba-ac0e-296c646279bd",
   "metadata": {},
   "source": [
    "SELECT df_keras_w_stack.Q_id, all_results.Id, all_results.CreationDate, all_results.ParentId\n",
    "FROM df_keras_w_stack\n",
    "INNER JOIN all_results\n",
    "ON df_keras_w_stack.Q_id = all_results.ParentId;"
   ]
  },
  {
   "cell_type": "code",
   "execution_count": null,
   "id": "510bf191",
   "metadata": {
    "tags": []
   },
   "outputs": [],
   "source": [
    "pure_data = working_directory_path + \"db_results/\" + \"keras_ans_all.csv\"\n",
    "path = Path(pure_data)\n",
    "\n",
    "if path.suffix == \".csv\":\n",
    "    df_night = pd.read_csv(path, encoding=encoding)\n",
    "else:\n",
    "    raise ValueError(\"{data_file_path.suffix} extensions are not supported\")"
   ]
  },
  {
   "cell_type": "code",
   "execution_count": null,
   "id": "fd4de2ff",
   "metadata": {
    "tags": []
   },
   "outputs": [],
   "source": [
    "# df_status_w_stack['Answers'] = df_status_w_stack.apply(lambda x: [], axis=1)"
   ]
  },
  {
   "cell_type": "code",
   "execution_count": null,
   "id": "ba9770ef",
   "metadata": {},
   "outputs": [],
   "source": [
    "# for index1, row_status in df_status_w_stack.iterrows():\n",
    "#     for index2, row_night in df_night.iterrows():\n",
    "#             if row_night[\"ParentId\"] == row_status[\"Q_id\"]:\n",
    "#                     row_status['Answers'].append((row_night[\"Id\"], row_night[\"CreationDate\"]))"
   ]
  },
  {
   "cell_type": "code",
   "execution_count": null,
   "id": "ba9e9b00-b12d-498a-a816-9284be6bf1b8",
   "metadata": {},
   "outputs": [],
   "source": [
    "df_status_w_stack.head()"
   ]
  },
  {
   "cell_type": "code",
   "execution_count": null,
   "id": "b3732d4c-0d2b-4cfa-9cd3-c1ad1472244a",
   "metadata": {},
   "outputs": [],
   "source": [
    "pd_tmp_w = pd.merge(df_status_w_stack, df_night, how='outer',left_on=['Q_id'], right_on=['ParentId']).reset_index(drop=True)\n",
    "pd_tmp_w[\"Answer_tup\"] = pd_tmp_w.apply(lambda x: (x.Id, x.CreationDate), axis=1)\n",
    "pd_tmp_new_w = pd_tmp_w.groupby([\"Q_id_x\", \"Q_create_time\", \"View_count\", \"Comment_count\", \"Score\", \"Answer_count\", \"Accepted_Answer_id\"], dropna=False)[\"Answer_tup\"].agg(list).reset_index()\n",
    "pd_tmp_new2_w = pd_tmp_new_w[pd_tmp_new_w.Answer_count != 0].reset_index(drop=True)"
   ]
  },
  {
   "cell_type": "code",
   "execution_count": null,
   "id": "1e42a88a",
   "metadata": {},
   "outputs": [],
   "source": [
    "# df_status_w_stack[\"Answers\"] = df_status_w_stack[\"Answers\"].apply(lambda answers_list: list(set(answers_list)))"
   ]
  },
  {
   "cell_type": "code",
   "execution_count": null,
   "id": "bff2f339",
   "metadata": {
    "scrolled": true
   },
   "outputs": [],
   "source": [
    "# df_status_w_stack.apply(lambda row: checker_1(row.name, row.Answers, row.Answer_count), axis=1)\n",
    "_ = pd_tmp_new2_w.apply(lambda row: checker_ans_and_ans_tup(row.Q_id_x, row.Answer_count, row.Answer_tup), axis=1)"
   ]
  },
  {
   "cell_type": "code",
   "execution_count": null,
   "id": "0735f1d5-381b-454f-b369-0968480dfa99",
   "metadata": {},
   "outputs": [],
   "source": [
    "pd_tmp_new2_w.insert(len(pd_tmp_new2_w.columns), 'First_ans_time', np.nan)\n",
    "pd_tmp_new2_w.insert(len(pd_tmp_new2_w.columns), 'First_acc_ans_time', np.nan)"
   ]
  },
  {
   "cell_type": "code",
   "execution_count": null,
   "id": "67d7019b-2ab6-4088-91ac-ad6ae20eceb9",
   "metadata": {},
   "outputs": [],
   "source": [
    "pd_tmp_new3_w = pd_tmp_new2_w.copy()"
   ]
  },
  {
   "cell_type": "code",
   "execution_count": null,
   "id": "8a596f22",
   "metadata": {},
   "outputs": [],
   "source": [
    "for index1, row_status in pd_tmp_new3_w.iterrows():   \n",
    "    flag = 0\n",
    "    fr_time = pd.to_datetime(datetime.datetime.now())\n",
    "    acc_time = pd.to_datetime(datetime.datetime.now())\n",
    "        \n",
    "    if not row_status[\"Answer_tup\"]:\n",
    "        pd_tmp_new3_w.at[index1,'First_ans_time'] = np.nan\n",
    "        pd_tmp_new3_w.at[index1,'First_acc_ans_time'] = np.nan\n",
    "        continue\n",
    "\n",
    "    for answer in row_status[\"Answer_tup\"]:\n",
    "        \n",
    "        anwer_time = pd.to_datetime(answer[1])\n",
    "        \n",
    "        if flag == 0:\n",
    "            fr_time = anwer_time\n",
    "            flag = 1\n",
    "        \n",
    "        if fr_time > anwer_time:\n",
    "            fr_time = anwer_time\n",
    "        \n",
    "        if row_status[\"Accepted_Answer_id\"] == answer[0]:\n",
    "            acc_time = anwer_time\n",
    "\n",
    "    pd_tmp_new3_w.at[index1,'First_ans_time'] = fr_time\n",
    "        \n",
    "    if pd.isna(row_status[\"Accepted_Answer_id\"]):\n",
    "        acc_time = np.nan\n",
    "    \n",
    "    pd_tmp_new3_w.at[index1,'First_acc_ans_time'] = acc_time"
   ]
  },
  {
   "cell_type": "code",
   "execution_count": null,
   "id": "638a57c5",
   "metadata": {},
   "outputs": [],
   "source": [
    "# df_status_w_stack.info()"
   ]
  },
  {
   "cell_type": "markdown",
   "id": "847107e7",
   "metadata": {},
   "source": [
    "Write df_status_w_stack to the CSV file:"
   ]
  },
  {
   "cell_type": "code",
   "execution_count": null,
   "id": "4335bdcb",
   "metadata": {},
   "outputs": [],
   "source": [
    "# df_status_w_stack.to_csv('./status_PT_df_w_stack_with_list_of_answers_col.csv', encoding='utf-8')"
   ]
  },
  {
   "cell_type": "markdown",
   "id": "a4253bbc",
   "metadata": {},
   "source": [
    "Read df_status_w_stack from the CSV file:"
   ]
  },
  {
   "cell_type": "code",
   "execution_count": null,
   "id": "29f760c6",
   "metadata": {},
   "outputs": [],
   "source": [
    "# df_status_w_stack = pd.read_csv('./status_df_w_stack_with_list_of_answers_col.csv', encoding=encoding)"
   ]
  },
  {
   "cell_type": "code",
   "execution_count": null,
   "id": "8a424d7c",
   "metadata": {},
   "outputs": [],
   "source": [
    "# df_status_w_stack[\"Duration_ans\"] = df_status_w_stack.apply(lambda row: (row.First_ans_time-row.Q_create_time).days, axis=1)\n",
    "# df_status_w_stack[\"Duration_acc_ans\"] = df_status_w_stack.apply(lambda row: (row.First_acc_ans_time-row.Q_create_time).days, axis=1)\n",
    "pd_tmp_new3_w[\"Duration_ans\"] = pd_tmp_new3_w.apply(lambda row: (row.First_ans_time-row.Q_create_time).total_seconds()/3600 if not pd.isna(row.First_ans_time) else np.nan, axis=1)\n",
    "pd_tmp_new3_w[\"Duration_acc_ans\"] = pd_tmp_new3_w.apply(lambda row: (row.First_acc_ans_time-row.Q_create_time).total_seconds()/3600 if not pd.isna(row.First_acc_ans_time) else np.nan, axis=1)"
   ]
  },
  {
   "cell_type": "code",
   "execution_count": null,
   "id": "415a4f64",
   "metadata": {},
   "outputs": [],
   "source": [
    "# pd_tmp_new3_w['Duration_ans'] = pd_tmp_new3_w['Duration_ans'].fillna(0)\n",
    "# pd_tmp_new3_w['Duration_acc_ans'] = pd_tmp_new3_w['Duration_acc_ans'].fillna(0)"
   ]
  },
  {
   "cell_type": "code",
   "execution_count": null,
   "id": "fecf7b71",
   "metadata": {},
   "outputs": [],
   "source": [
    "# df_status_w_stack.info()"
   ]
  },
  {
   "cell_type": "code",
   "execution_count": null,
   "id": "b85e4eaa",
   "metadata": {},
   "outputs": [],
   "source": [
    "pd_tmp_new3_w.shape"
   ]
  },
  {
   "cell_type": "code",
   "execution_count": null,
   "id": "e00d09fa",
   "metadata": {
    "scrolled": true
   },
   "outputs": [],
   "source": [
    "pd_tmp_new3_w.describe()"
   ]
  },
  {
   "cell_type": "markdown",
   "id": "f19800ec",
   "metadata": {},
   "source": [
    "## Create DF based on the questions do not have stack traces"
   ]
  },
  {
   "cell_type": "markdown",
   "id": "57682814-ce03-41e4-88d5-1ed524f79811",
   "metadata": {
    "tags": []
   },
   "source": [
    "We have to prepare and find answers that has Pytorch parrentID, so first we catch the questions and store as table in DB. Before this job we have to create a table with all answrs and apply inner join to those tables:"
   ]
  },
  {
   "cell_type": "raw",
   "id": "ece49f68-9d28-4236-957e-0a98cd01b9f0",
   "metadata": {
    "tags": []
   },
   "source": [
    "SELECT df_keras_wo_stack.Q_id, all_results.Id, all_results.CreationDate, all_results.ParentId\n",
    "FROM df_keras_wo_stack\n",
    "INNER JOIN all_results\n",
    "ON df_keras_wo_stack.Q_id = all_results.ParentId;"
   ]
  },
  {
   "cell_type": "code",
   "execution_count": null,
   "id": "45f26363",
   "metadata": {},
   "outputs": [],
   "source": [
    "pure_data = working_directory_path + \"db_results/\" + \"keras_ans_all.csv\"\n",
    "path = Path(pure_data)\n",
    "\n",
    "if path.suffix == \".csv\":\n",
    "    df_night_wo = pd.read_csv(path, encoding=encoding)\n",
    "else:\n",
    "    raise ValueError(\"{data_file_path.suffix} extensions are not supported\")"
   ]
  },
  {
   "cell_type": "code",
   "execution_count": null,
   "id": "e9c567d8-93cd-488a-9715-2c3b6a011077",
   "metadata": {},
   "outputs": [],
   "source": [
    "df_night_wo.shape"
   ]
  },
  {
   "cell_type": "code",
   "execution_count": null,
   "id": "9f2258f0-f3e4-4a6a-99a1-9413d666c046",
   "metadata": {},
   "outputs": [],
   "source": [
    "df_night_wo.head()"
   ]
  },
  {
   "cell_type": "code",
   "execution_count": null,
   "id": "6195bf92-32fc-45a2-8560-d3e654b35132",
   "metadata": {
    "tags": []
   },
   "outputs": [],
   "source": [
    "# df_night_wo.drop_duplicates([\"Q_id\", \"Id\", \"ParentId\", \"CreationDate\"], ignore_index=False, inplace=True)\n",
    "df_night_wo = df_night_wo.reset_index(drop=True)"
   ]
  },
  {
   "cell_type": "code",
   "execution_count": null,
   "id": "927a0491",
   "metadata": {},
   "outputs": [],
   "source": [
    "df_status_wo_stack = pd.DataFrame(columns=['First_ans_time', 'First_acc_ans_time', 'Answers'])\n",
    "\n",
    "df_status_wo_stack[\"Q_info\"] = Question_with_wo_trace_info\n",
    "\n",
    "df_status_wo_stack[\"Q_id\"]          = df_status_wo_stack['Q_info'].apply(lambda q_info: q_info[0])\n",
    "df_status_wo_stack[\"Q_create_time\"] = df_status_wo_stack['Q_info'].apply(lambda q_info: q_info[1])\n",
    "df_status_wo_stack[\"View_count\"]    = df_status_wo_stack['Q_info'].apply(lambda q_info: q_info[2])\n",
    "df_status_wo_stack[\"Answer_count\"]  = df_status_wo_stack['Q_info'].apply(lambda q_info: q_info[3])\n",
    "df_status_wo_stack[\"Comment_count\"] = df_status_wo_stack['Q_info'].apply(lambda q_info: q_info[4])\n",
    "df_status_wo_stack[\"Score\"]         = df_status_wo_stack['Q_info'].apply(lambda q_info: q_info[5])\n",
    "df_status_wo_stack[\"Accepted_Answer_id\"] = df_status_wo_stack['Q_info'].apply(lambda q_info: q_info[6])\n",
    "\n",
    "df_status_wo_stack = df_status_wo_stack.drop(['Q_info'], axis='columns')\n",
    "\n",
    "df_status_wo_stack[\"Q_create_time\"] = pd.to_datetime(df_status_wo_stack[\"Q_create_time\"])\n",
    "df_status_wo_stack[\"First_acc_ans_time\"] = pd.to_datetime(df_status_wo_stack[\"First_acc_ans_time\"])\n",
    "df_status_wo_stack[\"First_ans_time\"]     = pd.to_datetime(df_status_wo_stack[\"First_ans_time\"])"
   ]
  },
  {
   "cell_type": "code",
   "execution_count": null,
   "id": "43a896da-2513-472b-8562-a80b6b4c9ce1",
   "metadata": {
    "tags": []
   },
   "outputs": [],
   "source": [
    "df_status_wo_stack[\"Q_id\"].to_csv('../code_output_csv/df_keras_wo_stack.csv', encoding='utf-8')"
   ]
  },
  {
   "cell_type": "code",
   "execution_count": null,
   "id": "bb4a6c56",
   "metadata": {},
   "outputs": [],
   "source": [
    "df_night_wo.head()"
   ]
  },
  {
   "cell_type": "code",
   "execution_count": null,
   "id": "afe64a63",
   "metadata": {},
   "outputs": [],
   "source": [
    "df_status_wo_stack.head()"
   ]
  },
  {
   "cell_type": "code",
   "execution_count": null,
   "id": "02caaef2",
   "metadata": {},
   "outputs": [],
   "source": [
    "df_status_wo_stack['Answers'] = df_status_wo_stack.apply(lambda x: [], axis=1)"
   ]
  },
  {
   "cell_type": "code",
   "execution_count": null,
   "id": "850dca9f-f50d-4844-8636-0c9163cb68dd",
   "metadata": {},
   "outputs": [],
   "source": [
    "df_night_wo.shape"
   ]
  },
  {
   "cell_type": "code",
   "execution_count": null,
   "id": "a8006ded-2978-4735-9e8d-1c6f818c5385",
   "metadata": {},
   "outputs": [],
   "source": [
    "df_status_wo_stack.shape"
   ]
  },
  {
   "cell_type": "code",
   "execution_count": null,
   "id": "73ca48d7",
   "metadata": {
    "tags": []
   },
   "outputs": [],
   "source": [
    "# # It is super time-consuming and never run!\n",
    "# for index1, row_status in df_status_wo_stack.iterrows():\n",
    "#     for index2, row_night in df_night_wo.iterrows():\n",
    "#         if row_night[\"ParentId\"] == row_status[\"Q_id\"]:\n",
    "#                 row_status['Answers'].append((row_night[\"Id\"], row_night[\"CreationDate\"]))"
   ]
  },
  {
   "cell_type": "code",
   "execution_count": null,
   "id": "41fd65ef-8327-4d89-b46a-0b6c9e701df8",
   "metadata": {},
   "outputs": [],
   "source": [
    "pd_tmp_wo = pd.merge(df_status_wo_stack, df_night_wo, how='left',left_on=['Q_id'],right_on=['ParentId']).reset_index(drop=True)"
   ]
  },
  {
   "cell_type": "code",
   "execution_count": null,
   "id": "c3a4bb1c-c844-4fb1-b291-4a243d589c2a",
   "metadata": {
    "tags": []
   },
   "outputs": [],
   "source": [
    "pd_tmp_wo[\"Answer_tup\"] = pd_tmp_wo.apply(lambda x: (x.Id, x.CreationDate), axis=1)"
   ]
  },
  {
   "cell_type": "code",
   "execution_count": null,
   "id": "399421d6-ecc5-41bf-872d-52d39610d1c2",
   "metadata": {},
   "outputs": [],
   "source": [
    "# pd_tmp_new = pd_tmp.groupby([\"First_ans_time\", \"First_acc_ans_time\", \"Q_id_x\", \"Q_create_time\", \"View_count\", \"Comment_count\", \"Score\", \"Answer_count\", \"Accepted_Answer_id\"])[\"Answer_tup\"].agg(list).reset_index()\n",
    "pd_tmp_new_wo = pd_tmp_wo.groupby([\"Q_id_x\", \"Q_create_time\", \"View_count\", \"Comment_count\", \"Score\", \"Answer_count\", \"Accepted_Answer_id\"], dropna=False)[\"Answer_tup\"].agg(list).reset_index()"
   ]
  },
  {
   "cell_type": "code",
   "execution_count": null,
   "id": "d0cf8935-4cfb-4a8f-93ea-8a85965cf76d",
   "metadata": {},
   "outputs": [],
   "source": [
    "pd_tmp_new2_wo = pd_tmp_new_wo[pd_tmp_new_wo.Answer_count != 0].reset_index(drop=True)"
   ]
  },
  {
   "cell_type": "code",
   "execution_count": null,
   "id": "f5d2daa7-d193-4d18-b974-b71b7d697cfe",
   "metadata": {},
   "outputs": [],
   "source": [
    "# def checker_ans_and_ans_tup(row_indx: int, ans_count: int, ans_list: list) -> None:\n",
    "#     if len(ans_list) != ans_count:\n",
    "#         print(\"Error!: \", row_indx, ans_count, ans_list)"
   ]
  },
  {
   "cell_type": "code",
   "execution_count": null,
   "id": "b2018458-7fd9-4ca3-9da1-5714b03e3e6b",
   "metadata": {
    "tags": []
   },
   "outputs": [],
   "source": [
    "# We checked all Q_id_x are unique\n",
    "_ = pd_tmp_new2_wo.apply(lambda row: checker_ans_and_ans_tup(row.Q_id_x, row.Answer_count, row.Answer_tup), axis=1)"
   ]
  },
  {
   "cell_type": "code",
   "execution_count": null,
   "id": "1abeea79",
   "metadata": {},
   "outputs": [],
   "source": [
    "# df_status_wo_stack[\"Answers\"] = df_status_wo_stack[\"Answers\"].apply(lambda answers_list: list(set(answers_list)))"
   ]
  },
  {
   "cell_type": "code",
   "execution_count": null,
   "id": "21fdae5f",
   "metadata": {
    "tags": []
   },
   "outputs": [],
   "source": [
    "# df_status_wo_stack.apply(lambda row: checker_1(row.name, row.Answers, row.Answer_count), axis=1)"
   ]
  },
  {
   "cell_type": "code",
   "execution_count": null,
   "id": "985c2fbc-1102-4751-bb8f-8d7d484182fd",
   "metadata": {},
   "outputs": [],
   "source": [
    "df_status_wo_stack.head()"
   ]
  },
  {
   "cell_type": "code",
   "execution_count": null,
   "id": "6f892ae5-e359-4a30-ae5e-255cc23ae8a5",
   "metadata": {},
   "outputs": [],
   "source": [
    "pd_tmp_new2_wo.head()"
   ]
  },
  {
   "cell_type": "code",
   "execution_count": null,
   "id": "dcb04af7-e1a0-459f-a6a9-220ec4df1038",
   "metadata": {},
   "outputs": [],
   "source": [
    "pd_tmp_new2_wo.insert(len(pd_tmp_new2_wo.columns), 'First_ans_time', np.nan)\n",
    "pd_tmp_new2_wo.insert(len(pd_tmp_new2_wo.columns), 'First_acc_ans_time', np.nan)"
   ]
  },
  {
   "cell_type": "code",
   "execution_count": null,
   "id": "28955ecd-1434-4f76-bac1-6da683f872f3",
   "metadata": {},
   "outputs": [],
   "source": [
    "pd_tmp_new3_wo = pd_tmp_new2_wo.copy()"
   ]
  },
  {
   "cell_type": "code",
   "execution_count": null,
   "id": "ad26bd44",
   "metadata": {},
   "outputs": [],
   "source": [
    "for index1, row_status in pd_tmp_new3_wo.iterrows():   \n",
    "    flag = 0\n",
    "    fr_time = pd.to_datetime(datetime.datetime.now())\n",
    "    acc_time = pd.to_datetime(datetime.datetime.now())\n",
    "        \n",
    "    if not row_status[\"Answer_tup\"]:\n",
    "        pd_tmp_new3_wo.at[index1,'First_ans_time'] = np.nan\n",
    "        pd_tmp_new3_wo.at[index1,'First_acc_ans_time'] = np.nan\n",
    "        continue\n",
    "\n",
    "    for answer in row_status[\"Answer_tup\"]:\n",
    "        \n",
    "        anwer_time = pd.to_datetime(answer[1])\n",
    "        \n",
    "        if flag == 0:\n",
    "            fr_time = anwer_time\n",
    "            flag = 1\n",
    "        \n",
    "        if fr_time > anwer_time:\n",
    "            fr_time = anwer_time\n",
    "        \n",
    "        if row_status[\"Accepted_Answer_id\"] == answer[0]:\n",
    "            acc_time = anwer_time\n",
    "\n",
    "    pd_tmp_new3_wo.at[index1,'First_ans_time'] = fr_time\n",
    "        \n",
    "    if pd.isna(row_status[\"Accepted_Answer_id\"]):\n",
    "        acc_time = np.nan\n",
    "    \n",
    "    pd_tmp_new3_wo.at[index1,'First_acc_ans_time'] = acc_time"
   ]
  },
  {
   "cell_type": "code",
   "execution_count": null,
   "id": "59f34b9f",
   "metadata": {},
   "outputs": [],
   "source": [
    "pd_tmp_new3_wo[\"Duration_ans\"] = pd_tmp_new3_wo.apply(lambda row: (row.First_ans_time-row.Q_create_time).total_seconds()/3600 if not pd.isna(row.First_ans_time) else np.nan, axis=1)\n",
    "pd_tmp_new3_wo[\"Duration_acc_ans\"] = pd_tmp_new3_wo.apply(lambda row: (row.First_acc_ans_time-row.Q_create_time).total_seconds()/3600 if not pd.isna(row.First_acc_ans_time) else np.nan, axis=1)"
   ]
  },
  {
   "cell_type": "code",
   "execution_count": null,
   "id": "4f1467f3",
   "metadata": {},
   "outputs": [],
   "source": [
    "# pd_tmp_new3_wo['Duration_ans'] = pd_tmp_new3_wo['Duration_ans'].fillna(0)\n",
    "# pd_tmp_new3_wo['Duration_acc_ans'] = pd_tmp_new3_wo['Duration_acc_ans'].fillna(0)"
   ]
  },
  {
   "cell_type": "markdown",
   "id": "daac7769",
   "metadata": {},
   "source": [
    "### Find the durarion of answers"
   ]
  },
  {
   "cell_type": "code",
   "execution_count": null,
   "id": "6d6e7aaf-49d8-434f-93c2-1a5874830b9f",
   "metadata": {},
   "outputs": [],
   "source": [
    "# We have to delete rows or posts that doesn't have answer, because their zero values affect the meadian value (or the box plot values):\n",
    "# df_status_w_stack_filtered = pd_tmp_new3_wo[pd_tmp_new3_wo[\"Answer_count\"] > 0]\n",
    "# pd_tmp_new3_filtered = pd_tmp_new3_w[pd_tmp_new3_w[\"Answer_count\"] > 0]"
   ]
  },
  {
   "cell_type": "code",
   "execution_count": null,
   "id": "bf33ac9d-d93f-423f-bec9-f1c38644a4c2",
   "metadata": {
    "tags": []
   },
   "outputs": [],
   "source": [
    "# pd_tmp_new3_w[[\"Q_create_time\", \"First_ans_time\", \"Answer_count\", \"Duration_ans\"]].head(500)"
   ]
  },
  {
   "cell_type": "code",
   "execution_count": null,
   "id": "d355b03d-d61b-4124-9ce2-7dddc08b253e",
   "metadata": {},
   "outputs": [],
   "source": [
    "pd_tmp_new3_w[[\"Q_create_time\", \"First_ans_time\", \"Answer_count\", \"Duration_ans\"]].describe()"
   ]
  },
  {
   "cell_type": "code",
   "execution_count": null,
   "id": "7d041705-edf2-43bf-a88e-45f9d3036f4d",
   "metadata": {},
   "outputs": [],
   "source": [
    "pd_tmp_new3_w.to_csv('./CSV_data/plt_df_keras_w_ans_stack.csv', encoding='utf-8')\n",
    "pd_tmp_new3_wo.to_csv('./CSV_data/plt_df_keras_wo_ans_stack.csv', encoding='utf-8')"
   ]
  },
  {
   "cell_type": "code",
   "execution_count": null,
   "id": "c005c133-bf61-4d79-acc3-19f170740a31",
   "metadata": {},
   "outputs": [],
   "source": [
    "# Example:\n",
    "sns.set_theme(style=\"whitegrid\")\n",
    "\n",
    "# ###################################################################################\n",
    "df_1 = pd.DataFrame(columns=['Question Type', 'Hours'])\n",
    "df_1['Hours'] = pd_tmp_new3_w['Duration_ans']\n",
    "df_1['Question Type'] = df_1['Question Type'].apply(lambda x: \"With Stack Traces\")\n",
    "\n",
    "df_2 = pd.DataFrame(columns=['Question Type', 'Hours'])\n",
    "df_2['Hours'] = pd_tmp_new3_wo['Duration_ans']\n",
    "df_2['Question Type'] = df_2['Question Type'].apply(lambda x: \"W/O Stack Traces\")\n",
    "\n",
    "resultComment = pd.concat([df_1, df_2])\n",
    "resultComment['Type'] = \"First Answer\"\n",
    "# ###################################################################################\n",
    "df_1 = pd.DataFrame(columns=['Question Type', 'Hours'])\n",
    "df_1['Hours'] = pd_tmp_new3_w['Duration_acc_ans']\n",
    "df_1['Question Type'] = df_1['Question Type'].apply(lambda x: \"With Stack Traces\")\n",
    "\n",
    "df_2 = pd.DataFrame(columns=['Question Type', 'Hours'])\n",
    "df_2['Hours'] = pd_tmp_new3_wo['Duration_acc_ans']\n",
    "df_2['Question Type'] = df_2['Question Type'].apply(lambda x: \"W/O Stack Traces\")\n",
    "\n",
    "resultAnswer = pd.concat([df_1, df_2])\n",
    "resultAnswer['Type'] = \"First Accepted Answer\"\n",
    "# ###################################################################################\n",
    "\n",
    "result = pd.concat([resultComment, resultAnswer], ignore_index=True)\n",
    "\n",
    "fig = plt.figure(figsize=(10, 5), dpi=100)\n",
    "\n",
    "sns.violinplot(x=\"Type\", \n",
    "               y=\"Hours\", \n",
    "               data=result, \n",
    "               hue=\"Question Type\", \n",
    "               palette=\"Set2\", #colorblind\n",
    "               split=True, \n",
    "               # scale=\"count\",\n",
    "               # inner=\"quartile\",\n",
    "               scale_hue=False,\n",
    "               width=.5)\n",
    "\n",
    "plt.ylim(-5000,10000)\n",
    "# plt.xlim(-1,1)\n",
    "\n",
    "fig.suptitle('Answers Duration (keras Questions)')\n",
    "# fig.suptitle('TensorFlow Questions', prop={\"size\":10})\n",
    "# plt.gca().axes.get_xaxis().set_visible(False)\n",
    "# plt.legend(loc='upper left')\n",
    "\n",
    "plt.show()"
   ]
  },
  {
   "cell_type": "code",
   "execution_count": null,
   "id": "2cb65388",
   "metadata": {},
   "outputs": [],
   "source": [
    "df_1 = pd.DataFrame(columns=['Questions (with stack traces)', 'Hours'])\n",
    "df_1['Hours'] = pd_tmp_new3_w['Duration_ans']\n",
    "df_1['Questions (with stack traces)'] = df_1['Questions (with stack traces)'].apply(lambda x: \"First Answer\")\n",
    "\n",
    "df_2 = pd.DataFrame(columns=['Questions (with stack traces)', 'Hours'])\n",
    "df_2['Hours'] = pd_tmp_new3_w['Duration_acc_ans']\n",
    "df_2['Questions (with stack traces)'] = df_2['Questions (with stack traces)'].apply(lambda x: \"First Accepted Answer\")\n",
    "\n",
    "result = pd.concat([df_1, df_2])\n",
    "\n",
    "# Reset index\n",
    "result.reset_index(inplace=True)\n",
    "\n",
    "fig = plt.figure(figsize=(10, 5), dpi=100)\n",
    "\n",
    "sns.violinplot(x=result[\"Questions (with stack traces)\"], y=result[\"Hours\"])\n",
    "\n",
    "# plt.ylim(-250,500)\n",
    "\n",
    "# fig = plt.figure(figsize=(10, 5))\n",
    "# gs = fig.add_gridspec(1, 2)\n",
    "\n",
    "# # min_ = min(min(df_status_w_stack['Duration_ans']), min(df_status_w_stack['Duration_acc_ans']))\n",
    "# # max_ = max(max(df_status_w_stack['Duration_ans']), max(df_status_w_stack['Duration_acc_ans']))\n",
    "\n",
    "# ax1 = fig.add_subplot(gs[0, 0])\n",
    "# sns.violinplot(data=df_status_w_stack['Duration_ans'])\n",
    "# ax1.set_xlabel(\"First Answer\")\n",
    "# ax1.set_ylabel(\"Day\")\n",
    "# # ax1 = plt.ylim(min_,max_)\n",
    "\n",
    "# ax2 = fig.add_subplot(gs[0, 1])\n",
    "# sns.violinplot(data=df_status_w_stack['Duration_acc_ans'])\n",
    "# ax2.set_xlabel(\"First Accepted Answer\")\n",
    "# ax2.set_ylabel(\"Day\")\n",
    "# # ax2 = plt.ylim(min_,max_)\n",
    "\n",
    "fig.suptitle('Answers Duration (with stack traces)')\n",
    "\n",
    "fig.tight_layout()\n",
    "plt.show()"
   ]
  },
  {
   "cell_type": "code",
   "execution_count": null,
   "id": "e5b540d9-50f5-4867-be9a-e13e9bd585ba",
   "metadata": {},
   "outputs": [],
   "source": [
    "df_1 = pd.DataFrame(columns=['Questions (W/O stack traces)', 'Hours'])\n",
    "df_1['Hours'] = pd_tmp_new3_wo['Duration_ans']\n",
    "df_1['Questions (W/O stack traces)'] = df_1['Questions (W/O stack traces)'].apply(lambda x: \"First Answer\")\n",
    "\n",
    "df_2 = pd.DataFrame(columns=['Questions (W/O stack traces)', 'Hours'])\n",
    "df_2['Hours'] = pd_tmp_new3_wo['Duration_acc_ans']\n",
    "df_2['Questions (W/O stack traces)'] = df_2['Questions (W/O stack traces)'].apply(lambda x: \"First Accepted Answer\")\n",
    "\n",
    "result = pd.concat([df_1, df_2])\n",
    "\n",
    "# Reset index\n",
    "result.reset_index(inplace=True)\n",
    "\n",
    "fig = plt.figure(figsize=(10, 5), dpi=100)\n",
    "\n",
    "sns.violinplot(x=result[\"Questions (W/O stack traces)\"], y=result[\"Hours\"])\n",
    "\n",
    "# plt.ylim(-250,500)\n",
    "\n",
    "fig.suptitle('Answers Duration (W/O stack traces)')\n",
    "\n",
    "fig.tight_layout()\n",
    "plt.show()"
   ]
  },
  {
   "cell_type": "markdown",
   "id": "e5fd473e",
   "metadata": {},
   "source": [
    "## Statistics Information"
   ]
  },
  {
   "cell_type": "code",
   "execution_count": null,
   "id": "865c91d7",
   "metadata": {},
   "outputs": [],
   "source": [
    "print(\"Question Numbers with all ML tags: \", df.shape[0])"
   ]
  },
  {
   "cell_type": "code",
   "execution_count": null,
   "id": "1ac51430",
   "metadata": {},
   "outputs": [],
   "source": [
    "print(\"Question Numbers (with keras tags): \", df_w_keras_tags.shape[0])"
   ]
  },
  {
   "cell_type": "code",
   "execution_count": null,
   "id": "817104d7",
   "metadata": {},
   "outputs": [],
   "source": [
    "print(\"Question Numbers (without keras tags): \", df.shape[0] - df_w_keras_tags.shape[0])"
   ]
  },
  {
   "cell_type": "code",
   "execution_count": null,
   "id": "0ada499a",
   "metadata": {},
   "outputs": [],
   "source": [
    "print(\"keras Question Numbers (with code): \", count__question_w_code)\n",
    "print(\"keras Question Numbers (without code): \", count__question_wo_code)"
   ]
  },
  {
   "cell_type": "code",
   "execution_count": null,
   "id": "356dcb8a",
   "metadata": {},
   "outputs": [],
   "source": [
    "print(\"keras Question Numbers (with code) have stack trace: \", count_w_t)  # 40 disappeared ?!\n",
    "print(\"keras Question Numbers (with code) that doesn't have stack trace: \",count_wo_t)"
   ]
  },
  {
   "cell_type": "code",
   "execution_count": null,
   "id": "1cebaf5d",
   "metadata": {
    "scrolled": true,
    "tags": []
   },
   "outputs": [],
   "source": [
    "print(\"keras Question Numbers (with stack trace:) on Unix based systems: \", count_unix)\n",
    "print(\"keras Question Numbers (with stack trace:) on Windows based systems: \", count_win)"
   ]
  },
  {
   "cell_type": "code",
   "execution_count": null,
   "id": "3777daa8",
   "metadata": {
    "scrolled": true
   },
   "outputs": [],
   "source": [
    "line_count_unix   = 0\n",
    "line_count_win    = 0\n",
    "line_count_simple = 0\n",
    "\n",
    "for tuple in df_w_keras_tags[\"Line_code_u_w_s\"]:\n",
    "    line_count_unix   += tuple[0]\n",
    "    line_count_win    += tuple[1]\n",
    "    line_count_simple += tuple[2]\n",
    "        \n",
    "print(f\"The total number of line codes in the body part (w/o stack trace) is {line_count_simple}.\")\n",
    "print(f\"The total LOC amongst stack traces is {line_count_unix} (Unix-based reports).\")\n",
    "print(f\"The total LOC amongst stack traces is {line_count_win} (Windows-based reports).\")\n",
    "print(f\"The total LOC amongst stack traces is {line_count_unix+line_count_win}.\")"
   ]
  },
  {
   "cell_type": "code",
   "execution_count": null,
   "id": "13260028-8d85-4f82-8d22-ca47a7e5b65b",
   "metadata": {},
   "outputs": [],
   "source": [
    "print(f\"We found {max(dic.values())} unique pairs in stack traces posts related to the keras frameworks.\")"
   ]
  },
  {
   "cell_type": "code",
   "execution_count": null,
   "id": "ef2d46d5-b096-40ca-83c2-f72897d7114e",
   "metadata": {},
   "outputs": [],
   "source": [
    "import math\n",
    "# print(\"Pst: \", '{:,}'.format(df_w_keras_tags.shape[0]), \"\\nPst_wc: \", math.ceil(count__question_w_code*100/(count__question_w_code+count__question_wo_code)), \"\\nPst_woc:\", 100-math.ceil(count__question_w_code*100/(count__question_w_code+count__question_wo_code)), \"\\nCB:\", '{:,}'.format(count__num_codes), \"\\nCB_ws:\", math.ceil(count_w_t*100/(count_w_t+count_wo_t)), \"\\nCB_wos:\", 100-(math.ceil(count_w_t*100/(count_w_t+count_wo_t))) , \"\\nST:\", '{:,}'.format(count_w_t), \"\\nU:\", math.ceil(count_unix*100/count_w_t), \"\\nW:\",100-math.ceil(count_unix*100/count_w_t))\n",
    "print(\"Pst: \", '{:,}'.format(df_w_keras_tags.shape[0]), \"\\nPst_wc: \", \n",
    "      '{0:0.2f}'.format(count__question_w_code*100/(count__question_w_code+count__question_wo_code)), \n",
    "      \"\\nPst_woc:\", '{0:0.2f}'.format(100-(count__question_w_code*100/(count__question_w_code+count__question_wo_code))), \n",
    "      \"\\nCB:\", '{:,}'.format(count__num_codes), \n",
    "      \"\\nCB_ws:\", '{0:0.2f}'.format(count_w_t*100/(count_w_t+count_wo_t)), \n",
    "      \"\\nCB_wos:\", '{0:0.2f}'.format(100-(count_w_t*100/(count_w_t+count_wo_t))) , \n",
    "      \"\\nST:\", '{:,}'.format(count_w_t), \n",
    "      \"\\nU:\", '{0:0.2f}'.format(count_unix*100/count_w_t), \n",
    "      \"\\nW:\",'{0:0.2f}'.format(100-(count_unix*100/count_w_t)))\n",
    "\n",
    "print( '{:,}'.format(df_w_keras_tags.shape[0]), \n",
    "      '& {0:0.1f}\\%'.format(count__question_w_code*100/(count__question_w_code+count__question_wo_code)), \n",
    "      '& {0:0.1f}\\%'.format(100-(count__question_w_code*100/(count__question_w_code+count__question_wo_code))), \n",
    "      '& {:,}'.format(count__num_codes), \n",
    "      '& {0:0.1f}\\%'.format(count_w_t*100/(count_w_t+count_wo_t)), \n",
    "      '& {0:0.1f}\\%'.format(100-(count_w_t*100/(count_w_t+count_wo_t))) , \n",
    "      '& \\multicolumn{1}{r:}{\\\\textbf{', count_w_t, '}}',\n",
    "      '& {0:0.1f}\\%'.format(count_w_t*100/df_w_keras_tags.shape[0]), \n",
    "      '& {0:0.1f}\\%'.format(count_unix*100/count_w_t), \n",
    "      '& {0:0.1f}\\%'.format(100-(count_unix*100/count_w_t)))\n",
    "\n",
    "print( '{:,}'.format(df_w_keras_tags.shape[0]), \n",
    "      '& {0:0.1f}\\%'.format(count__question_w_code*100/(count__question_w_code+count__question_wo_code)), \n",
    "      '& {:,}'.format(count__num_codes), \n",
    "      '& {0:0.1f}\\%'.format(count_w_t*100/(count_w_t+count_wo_t)), \n",
    "      '& \\multicolumn{1}{r:}{\\\\textbf{', count_w_t, '}}',\n",
    "      '& {0:0.1f}\\%'.format(count_w_t*100/df_w_keras_tags.shape[0]), \n",
    "      '& {0:0.1f}\\%'.format(count_unix*100/count_w_t), \n",
    "      '& {0:0.1f}\\%'.format(100-(count_unix*100/count_w_t)))\n"
   ]
  },
  {
   "cell_type": "code",
   "execution_count": null,
   "id": "3808f478-1be0-46aa-b0e3-81e90bbb5718",
   "metadata": {},
   "outputs": [],
   "source": [
    "print(\"w-ST:\", '{:,}'.format(count_w_t), \"wo-ST:\", '{:,}'.format(count_wo_t))\n",
    "ACC_W, ACC_WO = 87 , 69\n",
    "print('P1: {0:0.4f}'.format(ACC_W/count_w_t))\n",
    "print('N1: {}'.format(count_w_t))\n",
    "print('P2: {0:0.4f}'.format(ACC_WO/count_wo_t))\n",
    "print('N2: {}'.format(count_wo_t))"
   ]
  },
  {
   "cell_type": "markdown",
   "id": "5f01a48e",
   "metadata": {},
   "source": [
    "## Graphical Results"
   ]
  },
  {
   "cell_type": "markdown",
   "id": "034f3688",
   "metadata": {},
   "source": [
    "### LOC"
   ]
  },
  {
   "cell_type": "code",
   "execution_count": null,
   "id": "d2cdecdc",
   "metadata": {},
   "outputs": [],
   "source": [
    "code_wo_trace  = df_w_keras_tags[(df_w_keras_tags.Has_code == True) & (df_w_keras_tags.Has_trace == False)].Line_code_simple_code\n",
    "code_w_trace   = df_w_keras_tags[df_w_keras_tags.Has_trace == True].Line_code_win + df_w_keras_tags[df_w_keras_tags.Has_trace == True].Line_code_uix\n",
    "\n",
    "df_1 = pd.DataFrame(columns=['Question Type', 'LOC (in each question post)'])\n",
    "df_1['LOC (in each question post)'] = code_wo_trace\n",
    "df_1['Question Type'] = df_1['Question Type'].apply(lambda x: \"code blocks w/o stack trace\")\n",
    "\n",
    "df_2 = pd.DataFrame(columns=['Question Type', 'LOC (in each question post)'])\n",
    "df_2['LOC (in each question post)'] = code_w_trace\n",
    "df_2['Question Type'] = df_2['Question Type'].apply(lambda x: \"code blocks with stack trace\")\n",
    "\n",
    "result = pd.concat([df_1, df_2])\n",
    "result['Type'] = \"Question Type\"\n",
    "\n",
    "result.to_csv('./CSV_data/plt_df_loc_keras.csv', encoding='utf-8', index=False)\n",
    "\n",
    "fig = plt.figure(figsize=(5, 5), dpi=100)\n",
    "\n",
    "sns.violinplot(x=\"Type\", \n",
    "               y=\"LOC (in each question post)\", \n",
    "               data=result, \n",
    "               hue=\"Question Type\", \n",
    "               palette=\"Set2\", #colorblind\n",
    "               split=True, \n",
    "               # scale=\"count\",\n",
    "               inner=\"quartile\",\n",
    "               scale_hue=False,\n",
    "               width=.7)\n",
    "\n",
    "plt.ylim(-15, 100)\n",
    "# plt.xlim(-1, 1)\n",
    "\n",
    "fig.suptitle('Comparing the LOC between regular code and stack trace')\n",
    "\n",
    "plt.gca().axes.get_xaxis().set_visible(False)\n",
    "# plt.plot(legend=None)\n",
    "plt.legend(loc='upper right', prop={\"size\":8})\n",
    "fig.tight_layout()\n",
    "\n",
    "plt.show()"
   ]
  },
  {
   "cell_type": "markdown",
   "id": "bdf06607",
   "metadata": {},
   "source": [
    "### Question Length"
   ]
  },
  {
   "cell_type": "code",
   "execution_count": null,
   "id": "f198cd0c-00e6-4673-96e0-300b3dc0492c",
   "metadata": {},
   "outputs": [],
   "source": [
    "df_1 = pd.DataFrame(columns=['Question Type', 'Words (in each question post)'])\n",
    "df_1['Words (in each question post)'] = list_num_words_wo_tra\n",
    "df_1['Question Type'] = df_1['Question Type'].apply(lambda x: \"w/o stack trace\")\n",
    "\n",
    "df_2 = pd.DataFrame(columns=['Question Type', 'Words (in each question post)'])\n",
    "df_2['Words (in each question post)'] = list_num_words_w_tra\n",
    "df_2['Question Type'] = df_2['Question Type'].apply(lambda x: \"with stack trace\")\n",
    "\n",
    "result = pd.concat([df_1, df_2])\n",
    "result['Type'] = \"Question Type\""
   ]
  },
  {
   "cell_type": "code",
   "execution_count": null,
   "id": "27aebb4b-37f8-4817-a1d3-a0d462cbad59",
   "metadata": {},
   "outputs": [],
   "source": [
    "result.to_csv('./CSV_data/plt_df_ques_len_keras.csv', encoding='utf-8', index=False)"
   ]
  },
  {
   "cell_type": "code",
   "execution_count": null,
   "id": "92381996",
   "metadata": {},
   "outputs": [],
   "source": [
    "fig = plt.figure(figsize=(4, 5), dpi=100)\n",
    "\n",
    "sns.violinplot(x=\"Type\", \n",
    "               y=\"Words (in each question post)\", \n",
    "               data=result, \n",
    "               hue=\"Question Type\", \n",
    "               palette=\"Set2\", #colorblind\n",
    "               split=True, \n",
    "               scale=\"count\",\n",
    "               inner=\"quartile\",\n",
    "               scale_hue=False,\n",
    "               width=.7)\n",
    "\n",
    "plt.ylim(0, 300)\n",
    "# plt.xlim(-1, 1)\n",
    "\n",
    "fig.suptitle('Comparing the Question Length')\n",
    "\n",
    "plt.gca().axes.get_xaxis().set_visible(False)\n",
    "# plt.plot(legend=None)\n",
    "plt.legend(loc='upper right', prop={\"size\":8})\n",
    "fig.tight_layout()\n",
    "\n",
    "plt.show()"
   ]
  },
  {
   "cell_type": "markdown",
   "id": "4bb4fb36",
   "metadata": {},
   "source": [
    "### Plotting Score, View, Answer, Comment Counts "
   ]
  },
  {
   "cell_type": "code",
   "execution_count": null,
   "id": "9593359f-60ab-48a0-b48c-a93d7f61679a",
   "metadata": {},
   "outputs": [],
   "source": [
    "df_status_w_stack.to_csv('./CSV_data/plt_df_keras_w_table3_stack.csv', encoding='utf-8')\n",
    "df_status_wo_stack.to_csv('./CSV_data/plt_df_keras_wo_table3_stack.csv', encoding='utf-8')"
   ]
  },
  {
   "cell_type": "code",
   "execution_count": null,
   "id": "8a03529c",
   "metadata": {},
   "outputs": [],
   "source": [
    "def get_sturges_rule_number(n_obser: int) -> int:\n",
    "    '''\n",
    "    Sturges’ Rule is the most common method for determining the optimal number of bins.\n",
    "\n",
    "    Parameters:\n",
    "    ----------\n",
    "    n_obser : int\n",
    "        The total number of observations in the dataset.\n",
    "\n",
    "    Returns:\n",
    "    ----------\n",
    "    Use ⌈ ⌉ for returning a value: Symbols that mean “ceiling” – i.e. round the answer up to\n",
    "    the nearest integer.\n",
    "    '''\n",
    "    # return round(1 + math.log2(n_obser))\n",
    "    return round(np.ceil(1 + (3.322 * np.log10(n_obser))))"
   ]
  },
  {
   "cell_type": "code",
   "execution_count": null,
   "id": "53a4e98d",
   "metadata": {},
   "outputs": [],
   "source": [
    "plt.figure(figsize=[25,15])\n",
    "plt.subplot(211)\n",
    "\n",
    "plt.title('View Count (With Stack Traces)', fontsize=25)\n",
    "plt.xlabel('\\nView Range', fontsize=20)\n",
    "plt.ylabel('Frequency', fontsize=20)\n",
    "\n",
    "n_bins = get_sturges_rule_number(len(df_status_w_stack['View_count']))\n",
    "\n",
    "n, bins, patches = plt.hist(df_status_w_stack['View_count'], \n",
    "                             bins=n_bins, \n",
    "                             log=True, \n",
    "                             align='right', \n",
    "                             color='purple', \n",
    "                             edgecolor='black')\n",
    "\n",
    "# define minor ticks and draw a grid with them\n",
    "minor_locator = AutoMinorLocator(2)\n",
    "plt.gca().xaxis.set_minor_locator(minor_locator)\n",
    "# plt.grid(False)\n",
    "# plt.grid(which='minor', color='white', lw = 0.5)\n",
    "# x ticks\n",
    "xticks = [(bins[idx+1] + value)/2 for idx, value in enumerate(bins[:-1])]\n",
    "dist = (xticks[1] - xticks[0])/2\n",
    "xticks = [e+dist for e in xticks]\n",
    "xticks_labels = [ \"{:.1f}\\nto\\n{:.1f}\".format(value, bins[idx+1]) for idx, value in enumerate(bins[:-1])]\n",
    "plt.xticks(xticks, labels = xticks_labels, fontsize=18)\n",
    "\n",
    "\n",
    "plt.subplot(212)\n",
    "\n",
    "plt.title('View Count (W/O Stack Traces)', fontsize=25)\n",
    "plt.xlabel('\\nView Range', fontsize=20)\n",
    "plt.ylabel('Frequency', fontsize=20)\n",
    "\n",
    "n_bins = get_sturges_rule_number(len(df_status_wo_stack['View_count']))\n",
    "\n",
    "n, bins, patches = plt.hist(df_status_wo_stack['View_count'], \n",
    "                             bins=n_bins, \n",
    "                             log=True, \n",
    "                             align='right', \n",
    "                             color='purple', \n",
    "                             edgecolor='black')\n",
    "\n",
    "# define minor ticks and draw a grid with them\n",
    "minor_locator = AutoMinorLocator(2)\n",
    "plt.gca().xaxis.set_minor_locator(minor_locator)\n",
    "# plt.grid(which='minor', color='white', lw = 0.5)\n",
    "# x ticks\n",
    "xticks = [(bins[idx+1] + value)/2 for idx, value in enumerate(bins[:-1])]\n",
    "dist = (xticks[1] - xticks[0])/2\n",
    "xticks = [e+dist for e in xticks]\n",
    "xticks_labels = [ \"{:.1f}\\nto\\n{:.1f}\".format(value, bins[idx+1]) for idx, value in enumerate(bins[:-1])]\n",
    "plt.xticks(xticks, labels = xticks_labels, fontsize=15)\n",
    "\n",
    "plt.tight_layout(pad=4.0)\n",
    "plt.show()"
   ]
  },
  {
   "cell_type": "code",
   "execution_count": null,
   "id": "cb5a9b0f",
   "metadata": {},
   "outputs": [],
   "source": [
    "df_1 = pd.DataFrame(columns=['Question Type', 'Frequency'])\n",
    "df_1['Frequency'] = df_status_wo_stack['View_count']\n",
    "df_1['Question Type'] = df_1['Question Type'].apply(lambda x: \"W/O Stack Traces\")\n",
    "\n",
    "df_2 = pd.DataFrame(columns=['Question Type', 'Frequency'])\n",
    "df_2['Frequency'] = df_status_w_stack['View_count']\n",
    "df_2['Question Type'] = df_2['Question Type'].apply(lambda x: \"With Stack Traces\")\n",
    "\n",
    "result = pd.concat([df_1, df_2])\n",
    "result['Type'] = \"Question Type\"\n",
    "\n",
    "fig = plt.figure(figsize=(5, 5), dpi=100)\n",
    "\n",
    "sns.violinplot(x=\"Type\", \n",
    "               y=\"Frequency\", \n",
    "               data=result, \n",
    "               hue=\"Question Type\", \n",
    "               palette=\"Set2\", #colorblind\n",
    "               split=True, \n",
    "               scale=\"count\",\n",
    "               inner=\"quartile\",\n",
    "               scale_hue=False,\n",
    "               width=.7)\n",
    "\n",
    "plt.ylim(-2500,13000)\n",
    "# plt.xlim(-1,1)\n",
    "\n",
    "fig.suptitle('View Count')\n",
    "plt.gca().axes.get_xaxis().set_visible(False)\n",
    "# plt.plot(legend=None)\n",
    "plt.legend(loc='upper right', prop={\"size\":10})\n",
    "fig.tight_layout()\n",
    "plt.show()"
   ]
  },
  {
   "cell_type": "code",
   "execution_count": null,
   "id": "2e8319c7",
   "metadata": {},
   "outputs": [],
   "source": [
    "plt.figure(figsize=[25,15])\n",
    "\n",
    "plt.subplot(211)\n",
    "\n",
    "plt.title('Answer Count (With Stack Traces)', fontsize=25)\n",
    "plt.xlabel('\\nAnswer Range', fontsize=20)\n",
    "plt.ylabel('Frequency', fontsize=20)\n",
    "\n",
    "n_bins = get_sturges_rule_number(len(df_status_w_stack['Answer_count']))\n",
    "\n",
    "n, bins, patches = plt.hist(df_status_w_stack['Answer_count'], \n",
    "                             bins=n_bins, \n",
    "                             log=True, \n",
    "                             align='right', \n",
    "                             color='g', \n",
    "                             edgecolor='black')\n",
    "\n",
    "# define minor ticks and draw a grid with them\n",
    "minor_locator = AutoMinorLocator(2)\n",
    "plt.gca().xaxis.set_minor_locator(minor_locator)\n",
    "# plt.grid(which='minor', color='white', lw = 0.5)\n",
    "# x ticks\n",
    "xticks = [(bins[idx+1] + value)/2 for idx, value in enumerate(bins[:-1])]\n",
    "dist = (xticks[1] - xticks[0])/2\n",
    "xticks = [e+dist for e in xticks]\n",
    "xticks_labels = [ \"{:.1f}\\nto\\n{:.1f}\".format(value, bins[idx+1]) for idx, value in enumerate(bins[:-1])]\n",
    "plt.xticks(xticks, labels = xticks_labels, fontsize=18)\n",
    "\n",
    "plt.subplot(212)\n",
    "\n",
    "plt.title('Answer Count (W/O Stack Traces)', fontsize=25)\n",
    "plt.xlabel('\\nAnswer Range', fontsize=20)\n",
    "plt.ylabel('Frequency', fontsize=20)\n",
    "\n",
    "n_bins = get_sturges_rule_number(len(df_status_wo_stack['Answer_count']))\n",
    "\n",
    "n, bins, patches = plt.hist(df_status_wo_stack['Answer_count'], \n",
    "                             bins=n_bins, \n",
    "                             log=True, \n",
    "                             align='right', \n",
    "                             color='g', \n",
    "                             edgecolor='black')\n",
    "\n",
    "# define minor ticks and draw a grid with them\n",
    "minor_locator = AutoMinorLocator(2)\n",
    "plt.gca().xaxis.set_minor_locator(minor_locator)\n",
    "# plt.grid(which='minor', color='white', lw = 0.5)\n",
    "# x ticks\n",
    "xticks = [(bins[idx+1] + value)/2 for idx, value in enumerate(bins[:-1])]\n",
    "dist = (xticks[1] - xticks[0])/2\n",
    "xticks = [e+dist for e in xticks]\n",
    "xticks_labels = [ \"{:.1f}\\nto\\n{:.1f}\".format(value, bins[idx+1]) for idx, value in enumerate(bins[:-1])]\n",
    "plt.xticks(xticks, labels = xticks_labels, fontsize=18)\n",
    "\n",
    "plt.tight_layout(pad=4.0)\n",
    "plt.show()"
   ]
  },
  {
   "cell_type": "code",
   "execution_count": null,
   "id": "0f44e9b9",
   "metadata": {},
   "outputs": [],
   "source": [
    "sns.set_theme(style=\"whitegrid\")\n",
    "df_1 = pd.DataFrame(columns=['Question Type', 'Frequency'])\n",
    "df_1['Frequency'] = df_status_wo_stack['Answer_count']\n",
    "df_1['Question Type'] = df_1['Question Type'].apply(lambda x: \"W/O Stack Traces\")\n",
    "\n",
    "df_2 = pd.DataFrame(columns=['Question Type', 'Frequency'])\n",
    "df_2['Frequency'] = df_status_w_stack['Answer_count']\n",
    "df_2['Question Type'] = df_2['Question Type'].apply(lambda x: \"With Stack Traces\")\n",
    "\n",
    "result = pd.concat([df_1, df_2])\n",
    "result['Type'] = \"Question Type\"\n",
    "\n",
    "fig = plt.figure(figsize=(5, 5), dpi=100)\n",
    "\n",
    "sns.violinplot(x=\"Type\", \n",
    "               y=\"Frequency\", \n",
    "               data=result, \n",
    "               hue=\"Question Type\", \n",
    "               palette=\"Set2\", #colorblind\n",
    "               split=True, \n",
    "               scale=\"count\",\n",
    "               inner=\"quartile\",\n",
    "               scale_hue=False,\n",
    "               width=.5)\n",
    "\n",
    "plt.ylim(-.5,4.1)\n",
    "# plt.xlim(-1,1)\n",
    "\n",
    "fig.suptitle('Answer Count')\n",
    "plt.gca().axes.get_xaxis().set_visible(False)\n",
    "# plt.plot(legend=None)\n",
    "plt.legend(loc='upper right', prop={\"size\":10})\n",
    "\n",
    "plt.show()"
   ]
  },
  {
   "cell_type": "code",
   "execution_count": null,
   "id": "a2f7989a",
   "metadata": {},
   "outputs": [],
   "source": [
    "plt.figure(figsize=[25,15])\n",
    "\n",
    "plt.subplot(211)\n",
    "\n",
    "plt.title('Comment Count (With Stack Traces)', fontsize=25)\n",
    "plt.xlabel('\\nComment Range', fontsize=20)\n",
    "plt.ylabel('Frequency', fontsize=20)\n",
    "\n",
    "n_bins = get_sturges_rule_number(len(df_status_w_stack['Comment_count']))\n",
    "\n",
    "n, bins, patches = plt.hist(df_status_w_stack['Comment_count'], \n",
    "                             bins=n_bins, \n",
    "                             log=True, \n",
    "                             align='right', \n",
    "                             color='b', \n",
    "                             edgecolor='black')\n",
    "\n",
    "# define minor ticks and draw a grid with them\n",
    "minor_locator = AutoMinorLocator(2)\n",
    "plt.gca().xaxis.set_minor_locator(minor_locator)\n",
    "# plt.grid(which='minor', color='white', lw = 0.5)\n",
    "# x ticks\n",
    "xticks = [(bins[idx+1] + value)/2 for idx, value in enumerate(bins[:-1])]\n",
    "dist = (xticks[1] - xticks[0])/2\n",
    "xticks = [e+dist for e in xticks]\n",
    "xticks_labels = [ \"{:.1f}\\nto\\n{:.1f}\".format(value, bins[idx+1]) for idx, value in enumerate(bins[:-1])]\n",
    "plt.xticks(xticks, labels = xticks_labels, fontsize=18)\n",
    "\n",
    "plt.subplot(212)\n",
    "\n",
    "plt.title('Comment Count (W/O Stack Traces)', fontsize=25)\n",
    "plt.xlabel('\\nComment Range', fontsize=20)\n",
    "plt.ylabel('Frequency', fontsize=20)\n",
    "\n",
    "n_bins = get_sturges_rule_number(len(df_status_wo_stack['Comment_count']))\n",
    "\n",
    "n, bins, patches = plt.hist(df_status_wo_stack['Comment_count'], \n",
    "                             bins=n_bins, \n",
    "                             log=True, \n",
    "                             align='right', \n",
    "                             color='b', \n",
    "                             edgecolor='black')\n",
    "\n",
    "# define minor ticks and draw a grid with them\n",
    "minor_locator = AutoMinorLocator(2)\n",
    "plt.gca().xaxis.set_minor_locator(minor_locator)\n",
    "# plt.grid(which='minor', color='white', lw = 0.5)\n",
    "# x ticks\n",
    "xticks = [(bins[idx+1] + value)/2 for idx, value in enumerate(bins[:-1])]\n",
    "dist = (xticks[1] - xticks[0])/2\n",
    "xticks = [e+dist for e in xticks]\n",
    "xticks_labels = [ \"{:.1f}\\nto\\n{:.1f}\".format(value, bins[idx+1]) for idx, value in enumerate(bins[:-1])]\n",
    "plt.xticks(xticks, labels = xticks_labels, fontsize=18)\n",
    "\n",
    "plt.tight_layout(pad=4.0)\n",
    "\n",
    "plt.show()"
   ]
  },
  {
   "cell_type": "code",
   "execution_count": null,
   "id": "46a20d74",
   "metadata": {},
   "outputs": [],
   "source": [
    "df_1 = pd.DataFrame(columns=['Question Type', 'Frequency'])\n",
    "df_1['Frequency'] = df_status_wo_stack['Comment_count']\n",
    "df_1['Question Type'] = df_1['Question Type'].apply(lambda x: \"W/O Stack Traces\")\n",
    "\n",
    "df_2 = pd.DataFrame(columns=['Question Type', 'Frequency'])\n",
    "df_2['Frequency'] = df_status_w_stack['Comment_count']\n",
    "df_2['Question Type'] = df_2['Question Type'].apply(lambda x: \"With Stack Traces\")\n",
    "\n",
    "result = pd.concat([df_1, df_2])\n",
    "result['Type'] = \"Question Type\"\n",
    "\n",
    "fig = plt.figure(figsize=(5, 5), dpi=100)\n",
    "\n",
    "sns.violinplot(x=\"Type\", \n",
    "               y=\"Frequency\", \n",
    "               data=result, \n",
    "               hue=\"Question Type\", \n",
    "               palette=\"Set2\", #colorblind\n",
    "               split=True, \n",
    "               scale=\"count\",\n",
    "               inner=\"quartile\",\n",
    "               scale_hue=False,\n",
    "               width=.5)\n",
    "\n",
    "plt.ylim(-1.1,10)\n",
    "# plt.xlim(-1,1)\n",
    "\n",
    "fig.suptitle('Comment Count')\n",
    "plt.gca().axes.get_xaxis().set_visible(False)\n",
    "# plt.plot(legend=None)\n",
    "plt.legend(loc='upper right', prop={\"size\":10})\n",
    "\n",
    "plt.show()"
   ]
  },
  {
   "cell_type": "code",
   "execution_count": null,
   "id": "5d464c39",
   "metadata": {},
   "outputs": [],
   "source": [
    "# Example:\n",
    "\n",
    "sns.set_theme(style=\"whitegrid\")\n",
    "# ###################################################################################\n",
    "df_1 = pd.DataFrame(columns=['Question Type', 'Frequency'])\n",
    "df_1['Frequency'] = df_status_wo_stack['Comment_count']\n",
    "df_1['Question Type'] = df_1['Question Type'].apply(lambda x: \"W/O Stack Traces\")\n",
    "\n",
    "df_2 = pd.DataFrame(columns=['Question Type', 'Frequency'])\n",
    "df_2['Frequency'] = df_status_w_stack['Comment_count']\n",
    "df_2['Question Type'] = df_2['Question Type'].apply(lambda x: \"With Stack Traces\")\n",
    "\n",
    "resultComment = pd.concat([df_1, df_2])\n",
    "resultComment['Type'] = \"Comment Count\"\n",
    "# ###################################################################################\n",
    "df_1 = pd.DataFrame(columns=['Question Type', 'Frequency'])\n",
    "df_1['Frequency'] = df_status_wo_stack['Answer_count']\n",
    "df_1['Question Type'] = df_1['Question Type'].apply(lambda x: \"W/O Stack Traces\")\n",
    "\n",
    "df_2 = pd.DataFrame(columns=['Question Type', 'Frequency'])\n",
    "df_2['Frequency'] = df_status_w_stack['Answer_count']\n",
    "df_2['Question Type'] = df_2['Question Type'].apply(lambda x: \"With Stack Traces\")\n",
    "\n",
    "resultAnswer = pd.concat([df_1, df_2])\n",
    "resultAnswer['Type'] = \"Answer Count\"\n",
    "# ###################################################################################\n",
    "# df_1 = pd.DataFrame(columns=['Question Type', 'Frequency'])\n",
    "# df_1['Frequency'] = df_status_wo_stack['View_count']\n",
    "# df_1['Question Type'] = df_1['Question Type'].apply(lambda x: \"W/O Stack Traces\")\n",
    "\n",
    "# df_2 = pd.DataFrame(columns=['Question Type', 'Frequency'])\n",
    "# df_2['Frequency'] = df_status_w_stack['View_count']\n",
    "# df_2['Question Type'] = df_2['Question Type'].apply(lambda x: \"With Stack Traces\")\n",
    "\n",
    "# resultView = pd.concat([df_1, df_2])\n",
    "# resultView['Type'] = \"View Count\"\n",
    "# ###################################################################################\n",
    "# df_1 = pd.DataFrame(columns=['Question Type', 'Frequency'])\n",
    "# df_1['Frequency'] = df_status_wo_stack['Score']\n",
    "# df_1['Question Type'] = df_1['Question Type'].apply(lambda x: \"W/O Stack Traces\")\n",
    "\n",
    "# df_2 = pd.DataFrame(columns=['Question Type', 'Frequency'])\n",
    "# df_2['Frequency'] = df_status_w_stack['Score']\n",
    "# df_2['Question Type'] = df_2['Question Type'].apply(lambda x: \"With Stack Traces\")\n",
    "\n",
    "# resultScore = pd.concat([df_1, df_2])\n",
    "# resultScore['Type'] = \"Score Count\"\n",
    "# ###################################################################################\n",
    "result = pd.concat([resultComment, resultAnswer], ignore_index=True)\n",
    "\n",
    "fig = plt.figure(figsize=(10, 5), dpi=100)\n",
    "\n",
    "sns.violinplot(x=\"Type\", \n",
    "               y=\"Frequency\", \n",
    "               data=result, \n",
    "               hue=\"Question Type\", \n",
    "               palette=\"Set2\", #colorblind\n",
    "               split=True, \n",
    "               scale=\"count\",\n",
    "               inner=\"quartile\",\n",
    "               scale_hue=False,\n",
    "               width=.5)\n",
    "\n",
    "plt.ylim(-1,6)\n",
    "# plt.xlim(-1,1)\n",
    "\n",
    "fig.suptitle('keras Questions')\n",
    "# fig.suptitle('TensorFlow Questions', prop={\"size\":10})\n",
    "# plt.gca().axes.get_xaxis().set_visible(False)\n",
    "# plt.legend(loc='upper left')\n",
    "\n",
    "plt.show()"
   ]
  },
  {
   "cell_type": "code",
   "execution_count": null,
   "id": "1599a8c9",
   "metadata": {},
   "outputs": [],
   "source": [
    "plt.figure(figsize=[25,15])\n",
    "\n",
    "plt.subplot(211)\n",
    "\n",
    "plt.title('Score Count (With Stack Traces)', fontsize=25)\n",
    "plt.xlabel('\\nScore Range', fontsize=20)\n",
    "plt.ylabel('Frequency', fontsize=20)\n",
    "\n",
    "n_bins = get_sturges_rule_number(len(df_status_w_stack['Score']))\n",
    "\n",
    "n, bins, patches = plt.hist(df_status_w_stack['Score'], \n",
    "                             bins=n_bins, \n",
    "                             log=True, \n",
    "                             align='right', \n",
    "                             color='orange', \n",
    "                             edgecolor='black')\n",
    "\n",
    "# define minor ticks and draw a grid with them\n",
    "minor_locator = AutoMinorLocator(2)\n",
    "plt.gca().xaxis.set_minor_locator(minor_locator)\n",
    "# plt.grid(which='minor', color='white', lw = 0.5)\n",
    "# x ticks\n",
    "xticks = [(bins[idx+1] + value)/2 for idx, value in enumerate(bins[:-1])]\n",
    "dist = (xticks[1] - xticks[0])/2\n",
    "xticks = [e+dist for e in xticks]\n",
    "xticks_labels = [ \"{:.1f}\\nto\\n{:.1f}\".format(value, bins[idx+1]) for idx, value in enumerate(bins[:-1])]\n",
    "plt.xticks(xticks, labels = xticks_labels, fontsize=18)\n",
    "\n",
    "plt.subplot(212)\n",
    "\n",
    "plt.title('Score Count (W/O Stack Traces)', fontsize=25)\n",
    "plt.xlabel('\\nScore Range', fontsize=20)\n",
    "plt.ylabel('Frequency', fontsize=20)\n",
    "\n",
    "n_bins = get_sturges_rule_number(len(df_status_wo_stack['Score']))\n",
    "\n",
    "n, bins, patches = plt.hist(df_status_wo_stack['Score'], \n",
    "                             bins=n_bins, \n",
    "                             log=True, \n",
    "                             align='right', \n",
    "                             color='orange', \n",
    "                             edgecolor='black')\n",
    "\n",
    "# define minor ticks and draw a grid with them\n",
    "minor_locator = AutoMinorLocator(2)\n",
    "plt.gca().xaxis.set_minor_locator(minor_locator)\n",
    "# plt.grid(which='minor', color='white', lw = 0.5)\n",
    "# x ticks\n",
    "xticks = [(bins[idx+1] + value)/2 for idx, value in enumerate(bins[:-1])]\n",
    "dist = (xticks[1] - xticks[0])/2\n",
    "xticks = [e+dist for e in xticks]\n",
    "xticks_labels = [ \"{:.1f}\\nto\\n{:.1f}\".format(value, bins[idx+1]) for idx, value in enumerate(bins[:-1])]\n",
    "plt.xticks(xticks, labels = xticks_labels, fontsize=18)\n",
    "\n",
    "plt.tight_layout(pad=4.0)\n",
    "plt.show()"
   ]
  },
  {
   "cell_type": "code",
   "execution_count": null,
   "id": "beea8d59",
   "metadata": {},
   "outputs": [],
   "source": [
    "df_1 = pd.DataFrame(columns=['Question Type', 'Frequency'])\n",
    "df_1['Frequency'] = df_status_wo_stack['Score']\n",
    "df_1['Question Type'] = df_1['Question Type'].apply(lambda x: \"W/O Stack Traces\")\n",
    "\n",
    "df_2 = pd.DataFrame(columns=['Question Type', 'Frequency'])\n",
    "df_2['Frequency'] = df_status_w_stack['Score']\n",
    "df_2['Question Type'] = df_2['Question Type'].apply(lambda x: \"With Stack Traces\")\n",
    "\n",
    "result = pd.concat([df_1, df_2])\n",
    "result['Type'] = \"Question Type\"\n",
    "\n",
    "fig = plt.figure(figsize=(5, 5), dpi=100)\n",
    "\n",
    "sns.violinplot(x=\"Type\", \n",
    "               y=\"Frequency\", \n",
    "               data=result, \n",
    "               hue=\"Question Type\", \n",
    "               palette=\"Set2\", #colorblind\n",
    "               split=True, \n",
    "               scale=\"count\",\n",
    "               inner=\"quartile\",\n",
    "               scale_hue=False,\n",
    "               width=.5)\n",
    "\n",
    "plt.ylim(-7,15)\n",
    "# plt.xlim(-1,1)\n",
    "\n",
    "fig.suptitle('Score Count')\n",
    "plt.gca().axes.get_xaxis().set_visible(False)\n",
    "# plt.plot(legend=None)\n",
    "plt.legend(loc='upper right', prop={\"size\":10})\n",
    "fig.tight_layout()\n",
    "plt.show()"
   ]
  },
  {
   "cell_type": "code",
   "execution_count": null,
   "id": "f5c70366-05e3-42b2-86cc-f11621064f88",
   "metadata": {},
   "outputs": [],
   "source": [
    "result2, result_remove2 = CloConSeqGen_v3(dic_count, threshold=2)"
   ]
  },
  {
   "cell_type": "code",
   "execution_count": null,
   "id": "756060e6-a3a2-4d09-8f92-b4fdbb0d518a",
   "metadata": {},
   "outputs": [],
   "source": [
    "win_size_list_2 = []\n",
    "for element in result2:\n",
    "    win_size_list_2.append(len(element[1]))\n",
    "win_size_set_2 = set(win_size_list_2)\n",
    "cnt_2=collections.Counter(win_size_list_2)\n",
    "\n",
    "x = np.array(sorted(cnt_2.keys())) # the label locations\n",
    "width = 0.25  # the width of the bars\n",
    "\n",
    "patters_num_2 = []\n",
    "for key in sorted(cnt_2.keys()) :\n",
    "    patters_num_2.append(cnt_2[key])\n",
    "\n",
    "fig, ax = plt.subplots(figsize=(8, 6), dpi=110)\n",
    "\n",
    "x = [str(item) for item in x] \n",
    "\n",
    "rects2 = ax.bar(x, patters_num_2, width, label='Support Threshold = 2')\n",
    "\n",
    "ax.set_title('Keras', fontname=\"Times New Roman\", fontsize=16)\n",
    "ax.legend(prop={'family':'Times New Roman', 'size':10}, facecolor='w', framealpha=1)\n",
    "\n",
    "ax.set_xlabel('Pattern\\'s length', fontname=\"Times New Roman\", fontsize=14)\n",
    "ax.set_xticks(x)\n",
    "\n",
    "ax.set_ylabel('The number of stack trace patterns', labelpad=10, fontname=\"Times New Roman\", fontsize=14)\n",
    "ax.set_yticks(range(0, max(patters_num_2)+1, 100))\n",
    "\n",
    "ax.bar_label(rects2, padding=3)\n",
    "\n",
    "win_size_list = []\n",
    "for element in result2:\n",
    "    win_size_list.append(len(element[1]))\n",
    "win_size_set = set(win_size_list)\n",
    "counter=collections.Counter(win_size_list)\n",
    "\n",
    "counter = dict(sorted(counter.items()))\n",
    "comulative_y = np.cumsum(list(counter.values()))\n",
    "\n",
    "per_list_patterns = []\n",
    "for element in comulative_y:\n",
    "    per_list_patterns.append((element*100)/comulative_y[-1])\n",
    "\n",
    "x2 = counter.keys() \n",
    "x2 = [str(item) for item in x2] \n",
    "\n",
    "ax2 = ax.twinx()\n",
    "ax2.plot(x2, per_list_patterns, '-o', color='green', linewidth=2)\n",
    "ax2.yaxis.set_major_formatter(mtick.PercentFormatter())\n",
    "ax2.set_ylabel('Cumulative % of stack trace patterns', labelpad=10, fontname=\"Times New Roman\", fontsize=14)\n",
    "\n",
    "ax2.grid(axis = 'y', color='green', linestyle='--', linewidth=0.5)\n",
    "# ax2.grid(False)\n",
    "ax.grid(False)\n",
    "\n",
    "fig.tight_layout()\n",
    "# plt.savefig('keras_le_rq1.pdf')\n",
    "plt.show()"
   ]
  },
  {
   "cell_type": "code",
   "execution_count": null,
   "id": "4abb2ba5-102f-47ba-9912-fdafc7edbaf0",
   "metadata": {},
   "outputs": [],
   "source": [
    "plt_dic_keras_plength_rq1 = {\"x\":x, \"y2\":per_list_patterns, \"y1\": patters_num_2}\n",
    "pickle.dump(plt_dic_keras_plength_rq1, open(\"./Pickle_data/plt_dic_keras_plength_rq1.p\", \"wb\"))"
   ]
  },
  {
   "cell_type": "code",
   "execution_count": null,
   "id": "5f49fefc-c53a-4b58-9bfa-30ee2dd2207a",
   "metadata": {},
   "outputs": [],
   "source": [
    "import matplotlib.pyplot as plt\n",
    "plt.rcParams[\"font.family\"] = \"sans-serif\"\n",
    "\n",
    "result2, result_remove2 = CloConSeqGen_v3(dic_count, threshold=2)\n",
    "      \n",
    "sorted_result2 = sorted(result2, key=lambda tup: tup[0])\n",
    "\n",
    "sup_x = sorted(set([element[0] for element in result2]))\n",
    "\n",
    "len_sup_y = []\n",
    "lst_supp = [y[0] for y in sorted_result2]\n",
    "\n",
    "cnt = collections.Counter(lst_supp)\n",
    "for item in sup_x:\n",
    "    len_sup_y.append(cnt[item])\n",
    "    \n",
    "comulative_y = np.cumsum(list(cnt.values()))\n",
    "\n",
    "per_len_sup_y = []\n",
    "for element in comulative_y:\n",
    "    per_len_sup_y.append((element*100)/comulative_y[-1])\n",
    "per_len_sup_y = [100-x for x in per_len_sup_y]\n",
    "per_len_sup_y.insert(0, 100)\n",
    "per_len_sup_y.pop()\n",
    "\n",
    "fig, ax = plt.subplots(figsize=(35, 6), dpi=110)\n",
    "sup_x = [str(item) for item in sup_x] \n",
    "\n",
    "rects = ax.bar(sup_x, len_sup_y, width=0.5, label='Support Threshold = 2')\n",
    "\n",
    "ax.set_title('Keras', fontname=\"Times New Roman\", fontsize=16)\n",
    "ax.legend(prop={'family':'Times New Roman', 'size':10}, facecolor='w', framealpha=1)\n",
    "\n",
    "ax.set_xlabel('Support', fontname=\"Times New Roman\", fontsize=14)\n",
    "ax.set_xticks(sup_x)\n",
    "plt.xlim([-1, len(sup_x)])\n",
    "\n",
    "ax.set_ylabel('The number of stack trace patterns', labelpad=10, fontname=\"Times New Roman\", fontsize=14)\n",
    "ax.set_yticks(range(0, max(len_sup_y)+1, 100))\n",
    "\n",
    "ax.bar_label(rects, padding=3)\n",
    "\n",
    "ax2 = ax.twinx()\n",
    "plt.plot(sup_x, per_len_sup_y, '--o', color='orange', linewidth=2)\n",
    "ax2.yaxis.set_major_formatter(mtick.PercentFormatter())\n",
    "ax2.set_ylabel('Cumulative % of stack trace patterns', labelpad=10, fontname=\"Times New Roman\", fontsize=14)\n",
    "\n",
    "ax2.grid(axis = 'y', color='orange', linestyle='--', linewidth=0.5)\n",
    "# ax2.grid(False)\n",
    "ax.grid(False)\n",
    "\n",
    "fig.tight_layout()\n",
    "# plt.savefig('keras_sup_rq1.pdf')\n",
    "plt.show()"
   ]
  },
  {
   "cell_type": "code",
   "execution_count": null,
   "id": "79e624e0-5237-45af-aa0f-2e71e7b7c9fc",
   "metadata": {},
   "outputs": [],
   "source": [
    "plt_dic_keras_sup_rq1 = {\"x\":sup_x, \"y2\":per_len_sup_y, \"y1\": len_sup_y}\n",
    "pickle.dump(plt_dic_keras_sup_rq1, open(\"./Pickle_data/plt_dic_keras_sup_rq1.p\", \"wb\"))"
   ]
  }
 ],
 "metadata": {
  "kernelspec": {
   "display_name": "Python 3 (ipykernel)",
   "language": "python",
   "name": "python3"
  },
  "language_info": {
   "codemirror_mode": {
    "name": "ipython",
    "version": 3
   },
   "file_extension": ".py",
   "mimetype": "text/x-python",
   "name": "python",
   "nbconvert_exporter": "python",
   "pygments_lexer": "ipython3",
   "version": "3.9.12"
  },
  "toc-autonumbering": true,
  "toc-showcode": false,
  "toc-showmarkdowntxt": false
 },
 "nbformat": 4,
 "nbformat_minor": 5
}
