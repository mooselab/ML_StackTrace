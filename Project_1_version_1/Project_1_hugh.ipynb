{
 "cells": [
  {
   "cell_type": "markdown",
   "id": "782e8f80-78a9-4e0b-9384-896f365185cf",
   "metadata": {},
   "source": [
    "# Stack Traces Project (Huggingface OOk!)"
   ]
  },
  {
   "cell_type": "markdown",
   "id": "c515ef5d",
   "metadata": {},
   "source": [
    "## Importing the necessary libraries"
   ]
  },
  {
   "cell_type": "code",
   "execution_count": 1,
   "id": "3ea3aa8e-15cb-4ec1-b427-1144fcc9f458",
   "metadata": {},
   "outputs": [],
   "source": [
    "import pandas as pd\n",
    "import numpy as np\n",
    "import re\n",
    "from pathlib import Path\n",
    "from typing import Tuple, List, Optional, Union, Tuple\n",
    "from pprint import pprint\n",
    "import matplotlib.pyplot as plt\n",
    "from matplotlib.ticker import AutoMinorLocator\n",
    "from matplotlib import gridspec\n",
    "import string\n",
    "import seaborn as sns\n",
    "import datetime\n",
    "from itertools import permutations\n",
    "import heapq\n",
    "import csv\n",
    "import pickle\n",
    "import matplotlib.ticker as mtick\n",
    "import collections\n",
    "\n",
    "# pd.options.display.max_colwidth = 500\n",
    "# pd.options.display.max_columns = None\n",
    "# pd.options.display.max_rows = None\n",
    "pd.set_option('display.max_rows', 500)\n",
    "pd.set_option('display.max_columns', 500)\n",
    "pd.set_option('display.width', 1000)"
   ]
  },
  {
   "cell_type": "markdown",
   "id": "c925ffd5",
   "metadata": {},
   "source": [
    "## Setting up the project environment"
   ]
  },
  {
   "cell_type": "code",
   "execution_count": 2,
   "id": "725feedf-a5c7-4192-aa8f-3ca77a152adb",
   "metadata": {},
   "outputs": [],
   "source": [
    "# .csv configuration\n",
    "encoding = \"utf-8\"\n",
    "delimiter = None\n",
    "working_directory_path = \"../\""
   ]
  },
  {
   "cell_type": "markdown",
   "id": "c81c38ac-0fcf-425c-91bb-813366418dbf",
   "metadata": {},
   "source": [
    "## Loading the question dataset"
   ]
  },
  {
   "cell_type": "code",
   "execution_count": 3,
   "id": "b03769f4-5831-40d4-84ea-4262e234886b",
   "metadata": {
    "tags": []
   },
   "outputs": [],
   "source": [
    "pure_data = working_directory_path + \"question_tag.csv\"\n",
    "path = Path(pure_data)\n",
    "\n",
    "if path.suffix == \".csv\":\n",
    "    df = pd.read_csv(path, encoding=encoding)\n",
    "else:\n",
    "    raise ValueError(\"{data_file_path.suffix} extensions are not supported\")"
   ]
  },
  {
   "cell_type": "code",
   "execution_count": 4,
   "id": "e6396565-7035-4813-8fd1-5572a916c8c2",
   "metadata": {},
   "outputs": [
    {
     "data": {
      "text/plain": [
       "(163194, 11)"
      ]
     },
     "execution_count": 4,
     "metadata": {},
     "output_type": "execute_result"
    }
   ],
   "source": [
    "df.shape"
   ]
  },
  {
   "cell_type": "markdown",
   "id": "2e408693",
   "metadata": {},
   "source": [
    "## Answering the first research question (RQ1)"
   ]
  },
  {
   "cell_type": "markdown",
   "id": "db9a6e6e-46f4-432b-81c6-a5f646d6dd08",
   "metadata": {},
   "source": [
    "### Filtering the specific tags"
   ]
  },
  {
   "cell_type": "code",
   "execution_count": 5,
   "id": "eae1d276-5b01-482b-b244-cd89bef86bd7",
   "metadata": {},
   "outputs": [],
   "source": [
    "def tag_filter(pref_tags: List, tags: str) -> bool:\n",
    "    regex = \"\"\n",
    "    for tag in pref_tags:\n",
    "        regex += '(?=.*\\\\b'+ tag +'([+-]?([0-9]*[.])?[0-9]*)\\\\b)'\n",
    "    regex = r\"^\" + regex + \".*$\"\n",
    "    tags = tags.strip().lower()\n",
    "    match_result = re.match(regex, tags, re.MULTILINE | re.IGNORECASE)\n",
    "    if match_result is None:\n",
    "        return 0\n",
    "    else:\n",
    "        return 1"
   ]
  },
  {
   "cell_type": "code",
   "execution_count": 6,
   "id": "6b05dfaf-8a60-4a86-b341-b78d16a32226",
   "metadata": {},
   "outputs": [],
   "source": [
    "tags = [\"huggingface\", \"python\"]\n",
    "df['HasPreferableTags'] = df['Tags'].apply(lambda row_tags: tag_filter(tags, row_tags))"
   ]
  },
  {
   "cell_type": "code",
   "execution_count": 7,
   "id": "40b740ac-83e0-45f1-a2be-e8825609ee76",
   "metadata": {},
   "outputs": [],
   "source": [
    "df_w_hf_tags = df[df['HasPreferableTags']==True]"
   ]
  },
  {
   "cell_type": "code",
   "execution_count": 8,
   "id": "3a2d3ed2-b450-4151-8856-352d7e8a2463",
   "metadata": {},
   "outputs": [],
   "source": [
    "df_w_hf_tags = df_w_hf_tags.drop(['HasPreferableTags'], axis='columns')"
   ]
  },
  {
   "cell_type": "code",
   "execution_count": 9,
   "id": "9d29af0d-07a5-42f9-add8-f9d33d4fde03",
   "metadata": {},
   "outputs": [
    {
     "data": {
      "text/plain": [
       "(425, 11)"
      ]
     },
     "execution_count": 9,
     "metadata": {},
     "output_type": "execute_result"
    }
   ],
   "source": [
    "df_w_hf_tags.shape"
   ]
  },
  {
   "cell_type": "code",
   "execution_count": 10,
   "id": "eb8b23cc-bffd-4fc3-a8c6-1fae9798336f",
   "metadata": {},
   "outputs": [],
   "source": [
    "df_w_hf_tags.drop_duplicates([\"Id\", \"PostTypeId\", \"AcceptedAnswerId\", \"ViewCount\", \"AnswerCount\", \"CommentCount\", \"Score\", \"Title\"], ignore_index=False, inplace=True)\n",
    "df_w_hf_tags = df_w_hf_tags.reset_index(drop=True)"
   ]
  },
  {
   "cell_type": "code",
   "execution_count": 11,
   "id": "b79a315e-28a4-4ae4-8fb7-dcfb510a291e",
   "metadata": {},
   "outputs": [
    {
     "data": {
      "text/plain": [
       "(236, 11)"
      ]
     },
     "execution_count": 11,
     "metadata": {},
     "output_type": "execute_result"
    }
   ],
   "source": [
    "df_w_hf_tags.shape"
   ]
  },
  {
   "cell_type": "markdown",
   "id": "b42c00d1-5318-4553-8095-36a402d1f559",
   "metadata": {
    "tags": []
   },
   "source": [
    "The new dataset that has a specific tag/s is reduced to:"
   ]
  },
  {
   "cell_type": "code",
   "execution_count": 12,
   "id": "15fdfa92-2d73-4f6c-af4d-4a814b7d11d6",
   "metadata": {},
   "outputs": [
    {
     "name": "stdout",
     "output_type": "stream",
     "text": [
      "The orginal DB:  163194\n",
      "The new DB (hf):  236\n",
      "The difference is:  162958\n"
     ]
    }
   ],
   "source": [
    "print(\"The orginal DB: \", df.shape[0])\n",
    "print(\"The new DB (hf): \", df_w_hf_tags.shape[0])\n",
    "print(\"The difference is: \", df.shape[0] - df_w_hf_tags.shape[0])"
   ]
  },
  {
   "cell_type": "code",
   "execution_count": 13,
   "id": "2050397c-ca76-4c95-843d-71fbd9940991",
   "metadata": {},
   "outputs": [
    {
     "data": {
      "text/html": [
       "<div>\n",
       "<style scoped>\n",
       "    .dataframe tbody tr th:only-of-type {\n",
       "        vertical-align: middle;\n",
       "    }\n",
       "\n",
       "    .dataframe tbody tr th {\n",
       "        vertical-align: top;\n",
       "    }\n",
       "\n",
       "    .dataframe thead th {\n",
       "        text-align: right;\n",
       "    }\n",
       "</style>\n",
       "<table border=\"1\" class=\"dataframe\">\n",
       "  <thead>\n",
       "    <tr style=\"text-align: right;\">\n",
       "      <th></th>\n",
       "      <th>Id</th>\n",
       "      <th>PostTypeId</th>\n",
       "      <th>AcceptedAnswerId</th>\n",
       "      <th>CreationDate</th>\n",
       "      <th>ViewCount</th>\n",
       "      <th>AnswerCount</th>\n",
       "      <th>CommentCount</th>\n",
       "      <th>Score</th>\n",
       "      <th>Title</th>\n",
       "      <th>Body</th>\n",
       "      <th>Tags</th>\n",
       "    </tr>\n",
       "  </thead>\n",
       "  <tbody>\n",
       "    <tr>\n",
       "      <th>0</th>\n",
       "      <td>61913010</td>\n",
       "      <td>1</td>\n",
       "      <td>61913108.0</td>\n",
       "      <td>2020-05-20 12:20:43</td>\n",
       "      <td>1792</td>\n",
       "      <td>2</td>\n",
       "      <td>0</td>\n",
       "      <td>2</td>\n",
       "      <td>Can not import pipeline from transformers</td>\n",
       "      <td>&lt;p&gt;I have installed &lt;code&gt;pytorch&lt;/code&gt; with ...</td>\n",
       "      <td>&lt;python&gt;&lt;python-3.x&gt;&lt;pipeline&gt;&lt;huggingface-tra...</td>\n",
       "    </tr>\n",
       "    <tr>\n",
       "      <th>1</th>\n",
       "      <td>60940110</td>\n",
       "      <td>1</td>\n",
       "      <td>NaN</td>\n",
       "      <td>2020-03-30 21:50:45</td>\n",
       "      <td>118</td>\n",
       "      <td>0</td>\n",
       "      <td>0</td>\n",
       "      <td>1</td>\n",
       "      <td>How to perform text classification inference u...</td>\n",
       "      <td>&lt;p&gt;To Whom It May Concern,&lt;/p&gt;\\n\\n&lt;p&gt;After tra...</td>\n",
       "      <td>&lt;python&gt;&lt;pytorch&gt;&lt;huggingface-transformers&gt;</td>\n",
       "    </tr>\n",
       "    <tr>\n",
       "      <th>2</th>\n",
       "      <td>62303645</td>\n",
       "      <td>1</td>\n",
       "      <td>NaN</td>\n",
       "      <td>2020-06-10 12:31:10</td>\n",
       "      <td>102</td>\n",
       "      <td>0</td>\n",
       "      <td>1</td>\n",
       "      <td>1</td>\n",
       "      <td>Hugging Face Transformer multiprocessing training</td>\n",
       "      <td>&lt;p&gt;I'm trying to train NER using distilbert on...</td>\n",
       "      <td>&lt;python&gt;&lt;deep-learning&gt;&lt;pytorch&gt;&lt;huggingface-t...</td>\n",
       "    </tr>\n",
       "    <tr>\n",
       "      <th>3</th>\n",
       "      <td>64313576</td>\n",
       "      <td>1</td>\n",
       "      <td>NaN</td>\n",
       "      <td>2020-10-12 07:44:17</td>\n",
       "      <td>41</td>\n",
       "      <td>1</td>\n",
       "      <td>3</td>\n",
       "      <td>0</td>\n",
       "      <td>Why does the evaluation loss increases when tr...</td>\n",
       "      <td>&lt;p&gt;Training a &lt;code&gt;huggingface transformers&lt;/...</td>\n",
       "      <td>&lt;python&gt;&lt;pytorch&gt;&lt;huggingface-transformers&gt;</td>\n",
       "    </tr>\n",
       "    <tr>\n",
       "      <th>4</th>\n",
       "      <td>64727226</td>\n",
       "      <td>1</td>\n",
       "      <td>NaN</td>\n",
       "      <td>2020-11-07 11:34:12</td>\n",
       "      <td>70</td>\n",
       "      <td>0</td>\n",
       "      <td>5</td>\n",
       "      <td>1</td>\n",
       "      <td>How to get access intermediate layers paramete...</td>\n",
       "      <td>&lt;pre&gt;&lt;code&gt;import torch\\nimport transformers\\n...</td>\n",
       "      <td>&lt;python&gt;&lt;pytorch&gt;&lt;bert-language-model&gt;&lt;hugging...</td>\n",
       "    </tr>\n",
       "  </tbody>\n",
       "</table>\n",
       "</div>"
      ],
      "text/plain": [
       "         Id  PostTypeId  AcceptedAnswerId         CreationDate  ViewCount  AnswerCount  CommentCount  Score                                              Title                                               Body                                               Tags\n",
       "0  61913010           1        61913108.0  2020-05-20 12:20:43       1792            2             0      2          Can not import pipeline from transformers  <p>I have installed <code>pytorch</code> with ...  <python><python-3.x><pipeline><huggingface-tra...\n",
       "1  60940110           1               NaN  2020-03-30 21:50:45        118            0             0      1  How to perform text classification inference u...  <p>To Whom It May Concern,</p>\\n\\n<p>After tra...        <python><pytorch><huggingface-transformers>\n",
       "2  62303645           1               NaN  2020-06-10 12:31:10        102            0             1      1  Hugging Face Transformer multiprocessing training  <p>I'm trying to train NER using distilbert on...  <python><deep-learning><pytorch><huggingface-t...\n",
       "3  64313576           1               NaN  2020-10-12 07:44:17         41            1             3      0  Why does the evaluation loss increases when tr...  <p>Training a <code>huggingface transformers</...        <python><pytorch><huggingface-transformers>\n",
       "4  64727226           1               NaN  2020-11-07 11:34:12         70            0             5      1  How to get access intermediate layers paramete...  <pre><code>import torch\\nimport transformers\\n...  <python><pytorch><bert-language-model><hugging..."
      ]
     },
     "execution_count": 13,
     "metadata": {},
     "output_type": "execute_result"
    }
   ],
   "source": [
    "df_w_hf_tags.head()"
   ]
  },
  {
   "cell_type": "markdown",
   "id": "28990026-83cc-4af5-94f6-5b2a75eb41f7",
   "metadata": {
    "tags": []
   },
   "source": [
    "### Extracting the code parts from body"
   ]
  },
  {
   "cell_type": "code",
   "execution_count": 14,
   "id": "23057f26-0779-428d-885f-7b166ea7ebca",
   "metadata": {},
   "outputs": [],
   "source": [
    "def extract_code_blocks(body: str, _id: int) -> List:\n",
    "    global index\n",
    "    # regex = r\"<pre><code>((.*?)|(\\n)*)*(<\\/code><\\/pre>|</pre></code>)\"\n",
    "    # regex = r\"(<pre>|(<pre((.*?)|(\\n)*)*><code>))((.*?)|(\\n)*)*(<\\/code><\\/pre>|</pre></code>|</pre>)\"\n",
    "    regex = r\"<pre(><code>|>|(((.*?)|(\\n)*)><code>)|((.*?)|(\\n)*)>)((.*?)|(\\n)*)*(<\\/code><\\/pre>|</pre></code>|</pre>)\"\n",
    "    matches = re.finditer(regex, body, re.MULTILINE | re.IGNORECASE)\n",
    "    result = []\n",
    "    \n",
    "    try:\n",
    "        for matchNum, match in enumerate(matches, start=1):\n",
    "            code = match.group()\n",
    "            code = re.sub('<pre(><code>|>|(((.*?)|(\\n)*)><code>)|((.*?)|(\\n)*)>)', '', code)\n",
    "            code = code.replace(\"<pre><code>\", \"\")\n",
    "            code = code.replace(\"</pre></code>\", \"\")\n",
    "            code = code.replace(\"</code></pre>\", \"\")\n",
    "            result.append(code)\n",
    "    except:\n",
    "        print(\"\\n Error(1): \", _id)\n",
    "        print(body)\n",
    "        return None\n",
    "    \n",
    "    return result"
   ]
  },
  {
   "cell_type": "code",
   "execution_count": 15,
   "id": "f87db6b2-b24a-45d5-a7d2-e234bc3f0f73",
   "metadata": {
    "tags": []
   },
   "outputs": [],
   "source": [
    "df_w_hf_tags['Code'] = df_w_hf_tags.apply(lambda row: extract_code_blocks(row.Body, row.Id), axis=1)"
   ]
  },
  {
   "cell_type": "code",
   "execution_count": 16,
   "id": "25534f29-f886-4366-9c74-366cb41becd3",
   "metadata": {},
   "outputs": [],
   "source": [
    "# print(df_w_tags.iloc[7]['Body'])\n",
    "# print(type(extract_code_blocks(df_w_tags.iloc[7]['Body'])))\n",
    "# print(len(extract_code_blocks(df_w_tags.iloc[7]['Body'])))\n",
    "# print(extract_code_blocks(df_w_tags.iloc[7]['Body'])[0])"
   ]
  },
  {
   "cell_type": "markdown",
   "id": "3a8b1e27-61be-4359-9b1c-c80828413913",
   "metadata": {},
   "source": [
    "Reset the index of dataframe:"
   ]
  },
  {
   "cell_type": "code",
   "execution_count": 17,
   "id": "e700b0aa-2f79-43c5-90e8-f969379e8f5d",
   "metadata": {},
   "outputs": [],
   "source": [
    "df_w_hf_tags = df_w_hf_tags.reset_index(drop=True)"
   ]
  },
  {
   "cell_type": "markdown",
   "id": "4bdbd611",
   "metadata": {},
   "source": [
    "#### Finding the number of questions that have a code or not"
   ]
  },
  {
   "cell_type": "code",
   "execution_count": 18,
   "id": "717748e7",
   "metadata": {},
   "outputs": [],
   "source": [
    "count__question_w_code  = 0\n",
    "count__question_wo_code = 0\n",
    "count__num_codes = 0\n",
    "\n",
    "def counting_w_or_wo_code(row_code: List) -> bool:\n",
    "    global count__question_w_code, count__question_wo_code, count__num_codes\n",
    "    \n",
    "    if row_code:\n",
    "        count__question_w_code = count__question_w_code + 1\n",
    "        count__num_codes += len(row_code)\n",
    "        return True\n",
    "    else:\n",
    "        count__question_wo_code = count__question_wo_code + 1\n",
    "        return False"
   ]
  },
  {
   "cell_type": "code",
   "execution_count": 19,
   "id": "9a723e24",
   "metadata": {},
   "outputs": [],
   "source": [
    "df_w_hf_tags['Has_code'] = df_w_hf_tags['Code'].apply(lambda row_code: counting_w_or_wo_code(row_code))"
   ]
  },
  {
   "cell_type": "code",
   "execution_count": 20,
   "id": "d8547f91-ce63-4b34-a349-f13a0815fb18",
   "metadata": {},
   "outputs": [
    {
     "name": "stdout",
     "output_type": "stream",
     "text": [
      "We have 236 records in our DB, including 204 posts that have code block in themselve and 32 w/o any code block.\n",
      "We have 460 number of code blocks including stacktrace, snippet code, error message.\n"
     ]
    }
   ],
   "source": [
    "print(f\"We have {df_w_hf_tags.shape[0]} records in our DB, including {count__question_w_code} posts that have code block in themselve and {count__question_wo_code} w/o any code block.\")\n",
    "print(f\"We have {count__num_codes} number of code blocks including stacktrace, snippet code, error message.\")"
   ]
  },
  {
   "cell_type": "markdown",
   "id": "f1edb42b-4758-4edf-860f-cd382c2ad8aa",
   "metadata": {},
   "source": [
    "### Define two lists for storing the information of the questions w or w/o Code Block"
   ]
  },
  {
   "cell_type": "code",
   "execution_count": 21,
   "id": "ce1b0b18-8a13-43a4-a139-fe1158369540",
   "metadata": {},
   "outputs": [],
   "source": [
    "Question_w_code_info = []\n",
    "Question_wo_code_info = []\n",
    "\n",
    "def counting_w_or_wo_code(row_id: int, \n",
    "                           row_cr: object, \n",
    "                           row_vc: int, \n",
    "                           row_ac: int, \n",
    "                           row_cc: int, \n",
    "                           row_sc: int, \n",
    "                           row_ac_an_id: float, \n",
    "                           has_code: bool) -> None:\n",
    "    \n",
    "    global Question_w_code_info, Question_wo_code_info\n",
    "\n",
    "    if has_code:\n",
    "        Question_w_code_info.append((row_id, row_cr, row_vc, row_ac, row_cc, row_sc, row_ac_an_id))\n",
    "\n",
    "    else:\n",
    "        Question_wo_code_info.append((row_id, row_cr, row_vc, row_ac, row_cc, row_sc, row_ac_an_id))\n",
    "\n",
    "# Change 1\n",
    "_ = df_w_hf_tags.apply(lambda row: counting_w_or_wo_code(row.Id, \n",
    "                                                           row.CreationDate, \n",
    "                                                           row.ViewCount,\n",
    "                                                           row.AnswerCount,\n",
    "                                                           row.CommentCount,\n",
    "                                                           row.Score,\n",
    "                                                           row.AcceptedAnswerId,\n",
    "                                                           row.Has_code), axis=1)\n",
    "df_q_w_code_v1 = pd.DataFrame(columns=['First_ans_time', 'First_acc_ans_time', 'Answers'])\n",
    "df_q_w_code_v1[\"Q_info\"] = Question_w_code_info\n",
    "df_q_w_code_v1[\"Q_id\"]          = df_q_w_code_v1['Q_info'].apply(lambda q_info: q_info[0])\n",
    "df_q_w_code_v1[\"Q_create_time\"] = df_q_w_code_v1['Q_info'].apply(lambda q_info: q_info[1])\n",
    "df_q_w_code_v1[\"View_count\"]    = df_q_w_code_v1['Q_info'].apply(lambda q_info: q_info[2])\n",
    "df_q_w_code_v1[\"Answer_count\"]  = df_q_w_code_v1['Q_info'].apply(lambda q_info: q_info[3])\n",
    "df_q_w_code_v1[\"Comment_count\"] = df_q_w_code_v1['Q_info'].apply(lambda q_info: q_info[4])\n",
    "df_q_w_code_v1[\"Score\"]         = df_q_w_code_v1['Q_info'].apply(lambda q_info: q_info[5])\n",
    "df_q_w_code_v1[\"Accepted_Answer_id\"] = df_q_w_code_v1['Q_info'].apply(lambda q_info: q_info[6])\n",
    "df_q_w_code_v1 = df_q_w_code_v1.drop(['Q_info'], axis='columns')\n",
    "df_q_w_code_v1[\"Q_create_time\"]      = pd.to_datetime(df_q_w_code_v1[\"Q_create_time\"])\n",
    "df_q_w_code_v1[\"First_acc_ans_time\"] = pd.to_datetime(df_q_w_code_v1[\"First_acc_ans_time\"])\n",
    "df_q_w_code_v1[\"First_ans_time\"]     = pd.to_datetime(df_q_w_code_v1[\"First_ans_time\"])\n",
    "# Change 2\n",
    "df_q_w_code_v1[\"Q_id\"].to_csv('../code_output_csv/df_hugh_q_w_code.csv', encoding='utf-8')"
   ]
  },
  {
   "cell_type": "raw",
   "id": "bc2ace9d-c72d-40ae-9efe-655aae9b1608",
   "metadata": {},
   "source": [
    "SELECT df_hugh_q_w_code.Q_id, all_results.Id, all_results.CreationDate, all_results.ParentId\n",
    "FROM df_hugh_q_w_code\n",
    "INNER JOIN all_results\n",
    "ON df_hugh_q_w_code.Q_id = all_results.ParentId;"
   ]
  },
  {
   "cell_type": "code",
   "execution_count": 22,
   "id": "1b5a6f81-9879-4f36-b241-e3ea3444b291",
   "metadata": {
    "tags": []
   },
   "outputs": [],
   "source": [
    "# Change 3\n",
    "pure_data = working_directory_path + \"db_results/\" + \"hugh_q_w_code_result_DB.csv\"\n",
    "path = Path(pure_data)\n",
    "\n",
    "if path.suffix == \".csv\":\n",
    "    df_night = pd.read_csv(path, encoding=encoding)\n",
    "else:\n",
    "    raise ValueError(\"{data_file_path.suffix} extensions are not supported\")\n",
    "pd_tmp_w = pd.merge(df_q_w_code_v1, df_night, how='outer',left_on=['Q_id'], right_on=['ParentId']).reset_index(drop=True)\n",
    "pd_tmp_w[\"Answer_tup\"] = pd_tmp_w.apply(lambda x: (x.Id, x.CreationDate), axis=1)\n",
    "pd_tmp_new_w = pd_tmp_w.groupby([\"Q_id_x\", \"Q_create_time\", \"View_count\", \"Comment_count\", \"Score\", \"Answer_count\", \"Accepted_Answer_id\"], dropna=False)[\"Answer_tup\"].agg(list).reset_index()\n",
    "pd_tmp_new2_w = pd_tmp_new_w[pd_tmp_new_w.Answer_count != 0].reset_index(drop=True)\n",
    "def checker_1(i, answers_list, answers_count):\n",
    "    global counter\n",
    "    if len(answers_list) != answers_count:\n",
    "        print(\"Error \", i, len(answers_list), answers_count)\n",
    "\n",
    "def checker_ans_and_ans_tup(row_indx: int, ans_count: int, ans_list: list) -> None:\n",
    "    if len(ans_list) != ans_count:\n",
    "        print(\"Error!: \", row_indx, ans_count, ans_list)\n",
    "_ = pd_tmp_new2_w.apply(lambda row: checker_ans_and_ans_tup(row.name, row.Answer_count, row.Answer_tup), axis=1)\n",
    "pd_tmp_new2_w.insert(len(pd_tmp_new2_w.columns), 'First_ans_time', np.nan)\n",
    "pd_tmp_new2_w.insert(len(pd_tmp_new2_w.columns), 'First_acc_ans_time', np.nan)\n",
    "pd_tmp_new3_w = pd_tmp_new2_w.copy()\n",
    "for index1, row_status in pd_tmp_new3_w.iterrows():   \n",
    "    flag = 0\n",
    "    fr_time = pd.to_datetime(datetime.datetime.now())\n",
    "    acc_time = pd.to_datetime(datetime.datetime.now())\n",
    "        \n",
    "    if not row_status[\"Answer_tup\"]:\n",
    "        pd_tmp_new3_w.at[index1,'First_ans_time'] = np.nan\n",
    "        pd_tmp_new3_w.at[index1,'First_acc_ans_time'] = np.nan\n",
    "        continue\n",
    "\n",
    "    for answer in row_status[\"Answer_tup\"]:\n",
    "        \n",
    "        anwer_time = pd.to_datetime(answer[1])\n",
    "        \n",
    "        if flag == 0:\n",
    "            fr_time = anwer_time\n",
    "            flag = 1\n",
    "        \n",
    "        if fr_time > anwer_time:\n",
    "            fr_time = anwer_time\n",
    "        \n",
    "        if row_status[\"Accepted_Answer_id\"] == answer[0]:\n",
    "            acc_time = anwer_time\n",
    "\n",
    "    pd_tmp_new3_w.at[index1,'First_ans_time'] = fr_time\n",
    "        \n",
    "    if pd.isna(row_status[\"Accepted_Answer_id\"]):\n",
    "        acc_time = np.nan\n",
    "    \n",
    "    pd_tmp_new3_w.at[index1,'First_acc_ans_time'] = acc_time\n",
    "pd_tmp_new3_w[\"Duration_ans\"] = pd_tmp_new3_w.apply(lambda row: (row.First_ans_time-row.Q_create_time).total_seconds()/3600 if not pd.isna(row.First_ans_time) else np.nan, axis=1)\n",
    "pd_tmp_new3_w[\"Duration_acc_ans\"] = pd_tmp_new3_w.apply(lambda row: (row.First_acc_ans_time-row.Q_create_time).total_seconds()/3600 if not pd.isna(row.First_acc_ans_time) else np.nan, axis=1)"
   ]
  },
  {
   "cell_type": "code",
   "execution_count": 23,
   "id": "45232350-2914-408b-a95b-6214bf812e98",
   "metadata": {},
   "outputs": [],
   "source": [
    "df_q_wo_code_v1 = pd.DataFrame(columns=['First_ans_time', 'First_acc_ans_time', 'Answers'])\n",
    "df_q_wo_code_v1[\"Q_info\"] = Question_wo_code_info\n",
    "df_q_wo_code_v1[\"Q_id\"]          = df_q_wo_code_v1['Q_info'].apply(lambda q_info: q_info[0])\n",
    "df_q_wo_code_v1[\"Q_create_time\"] = df_q_wo_code_v1['Q_info'].apply(lambda q_info: q_info[1])\n",
    "df_q_wo_code_v1[\"View_count\"]    = df_q_wo_code_v1['Q_info'].apply(lambda q_info: q_info[2])\n",
    "df_q_wo_code_v1[\"Answer_count\"]  = df_q_wo_code_v1['Q_info'].apply(lambda q_info: q_info[3])\n",
    "df_q_wo_code_v1[\"Comment_count\"] = df_q_wo_code_v1['Q_info'].apply(lambda q_info: q_info[4])\n",
    "df_q_wo_code_v1[\"Score\"]         = df_q_wo_code_v1['Q_info'].apply(lambda q_info: q_info[5])\n",
    "df_q_wo_code_v1[\"Accepted_Answer_id\"] = df_q_wo_code_v1['Q_info'].apply(lambda q_info: q_info[6])\n",
    "df_q_wo_code_v1 = df_q_wo_code_v1.drop(['Q_info'], axis='columns')\n",
    "df_q_wo_code_v1[\"Q_create_time\"] = pd.to_datetime(df_q_wo_code_v1[\"Q_create_time\"])\n",
    "df_q_wo_code_v1[\"First_acc_ans_time\"] = pd.to_datetime(df_q_wo_code_v1[\"First_acc_ans_time\"])\n",
    "df_q_wo_code_v1[\"First_ans_time\"]     = pd.to_datetime(df_q_wo_code_v1[\"First_ans_time\"])\n",
    "# Change 5\n",
    "df_q_wo_code_v1[\"Q_id\"].to_csv('../code_output_csv/df_hugh_q_wo_code.csv', encoding='utf-8')"
   ]
  },
  {
   "cell_type": "raw",
   "id": "aa01f38c-9b28-4cb5-a24c-cf91c4c66eb7",
   "metadata": {
    "tags": []
   },
   "source": [
    "SELECT df_hugh_q_wo_code.Q_id, all_results.Id, all_results.CreationDate, all_results.ParentId\n",
    "FROM df_hugh_q_wo_code\n",
    "INNER JOIN all_results\n",
    "ON df_hugh_q_wo_code.Q_id = all_results.ParentId;"
   ]
  },
  {
   "cell_type": "code",
   "execution_count": 24,
   "id": "ccc10763-d318-4e8d-83d6-8349f9066f0e",
   "metadata": {},
   "outputs": [],
   "source": [
    "# Change 4\n",
    "pure_data = working_directory_path + \"db_results/\" + \"hugh_q_wo_code_result_DB.csv\"\n",
    "path = Path(pure_data)\n",
    "\n",
    "if path.suffix == \".csv\":\n",
    "    df_night_wo = pd.read_csv(path, encoding=encoding)\n",
    "else:\n",
    "    raise ValueError(\"{data_file_path.suffix} extensions are not supported\")\n",
    "df_night_wo = df_night_wo.reset_index(drop=True)\n",
    "df_q_wo_code_v1['Answers'] = df_q_wo_code_v1.apply(lambda x: [], axis=1)\n",
    "pd_tmp_wo = pd.merge(df_q_wo_code_v1, df_night_wo, how='left',left_on=['Q_id'],right_on=['ParentId']).reset_index(drop=True)\n",
    "pd_tmp_wo[\"Answer_tup\"] = pd_tmp_wo.apply(lambda x: (x.Id, x.CreationDate), axis=1)\n",
    "pd_tmp_new_wo = pd_tmp_wo.groupby([\"Q_id_x\", \"Q_create_time\", \"View_count\", \"Comment_count\", \"Score\", \"Answer_count\", \"Accepted_Answer_id\"], dropna=False)[\"Answer_tup\"].agg(list).reset_index()\n",
    "pd_tmp_new2_wo = pd_tmp_new_wo[pd_tmp_new_wo.Answer_count != 0].reset_index(drop=True)\n",
    "def checker_ans_and_ans_tup(row_indx: int, ans_count: int, ans_list: list) -> None:\n",
    "    if len(ans_list) != ans_count:\n",
    "        print(\"Error!: \", row_indx, ans_count, ans_list)\n",
    "_ = pd_tmp_new2_wo.apply(lambda row: checker_ans_and_ans_tup(row.name, row.Answer_count, row.Answer_tup), axis=1)\n",
    "pd_tmp_new2_wo.insert(len(pd_tmp_new2_wo.columns), 'First_ans_time', np.nan)\n",
    "pd_tmp_new2_wo.insert(len(pd_tmp_new2_wo.columns), 'First_acc_ans_time', np.nan)\n",
    "pd_tmp_new3_wo = pd_tmp_new2_wo.copy()\n",
    "for index1, row_status in pd_tmp_new3_wo.iterrows():   \n",
    "    flag = 0\n",
    "    fr_time = pd.to_datetime(datetime.datetime.now())\n",
    "    acc_time = pd.to_datetime(datetime.datetime.now())\n",
    "        \n",
    "    if not row_status[\"Answer_tup\"]:\n",
    "        pd_tmp_new3_wo.at[index1,'First_ans_time'] = np.nan\n",
    "        pd_tmp_new3_wo.at[index1,'First_acc_ans_time'] = np.nan\n",
    "        continue\n",
    "\n",
    "    for answer in row_status[\"Answer_tup\"]:\n",
    "        \n",
    "        anwer_time = pd.to_datetime(answer[1])\n",
    "        \n",
    "        if flag == 0:\n",
    "            fr_time = anwer_time\n",
    "            flag = 1\n",
    "        \n",
    "        if fr_time > anwer_time:\n",
    "            fr_time = anwer_time\n",
    "        \n",
    "        if row_status[\"Accepted_Answer_id\"] == answer[0]:\n",
    "            acc_time = anwer_time\n",
    "\n",
    "    pd_tmp_new3_wo.at[index1,'First_ans_time'] = fr_time\n",
    "        \n",
    "    if pd.isna(row_status[\"Accepted_Answer_id\"]):\n",
    "        acc_time = np.nan\n",
    "    \n",
    "    pd_tmp_new3_wo.at[index1,'First_acc_ans_time'] = acc_time\n",
    "pd_tmp_new3_wo[\"Duration_ans\"] = pd_tmp_new3_wo.apply(lambda row: (row.First_ans_time-row.Q_create_time).total_seconds()/3600 if not pd.isna(row.First_ans_time) else np.nan, axis=1)\n",
    "pd_tmp_new3_wo[\"Duration_acc_ans\"] = pd_tmp_new3_wo.apply(lambda row: (row.First_acc_ans_time-row.Q_create_time).total_seconds()/3600 if not pd.isna(row.First_acc_ans_time) else np.nan, axis=1)\n",
    "#Change 6\n",
    "pd_tmp_new3_w.to_csv('./plt_hugh_q_w_code.csv', encoding='utf-8')\n",
    "pd_tmp_new3_wo.to_csv('./plt_hugh_q_wo_code.csv', encoding='utf-8')"
   ]
  },
  {
   "cell_type": "markdown",
   "id": "76009349",
   "metadata": {},
   "source": [
    "### Extracting the text parts from body"
   ]
  },
  {
   "cell_type": "code",
   "execution_count": 25,
   "id": "426b615b",
   "metadata": {},
   "outputs": [],
   "source": [
    "def extract_text_blocks(i: int, body: str) -> Optional[List]:\n",
    "    # It's bug\n",
    "    if i in [10005, 14212, 21959, 26677, 53279, 22356]: \n",
    "        body = body + \"</p>\"\n",
    "\n",
    "    regex = r\"(<p>((.*?)|(\\n)*)*<\\/p>)|(<ul>((.*?)|(\\n)*)*<\\/ul>)|(<ol>((.*?)|(\\n)*)*<\\/ol>)\"\n",
    "    matches = re.finditer(regex, body, re.MULTILINE | re.IGNORECASE)\n",
    "    result = []\n",
    "    \n",
    "    if i in [18397]:\n",
    "        return result\n",
    "\n",
    "    try:\n",
    "        for matchNum, match in enumerate(matches, start=1):\n",
    "            text = match.group()\n",
    "            text = text.replace(\"<p>\", \"\")\n",
    "            text = text.replace(\"<strong>\", \"\")\n",
    "            text = text.replace(\"<br>\", \"\")\n",
    "            text = text.replace(\"<ol>\", \"\")\n",
    "            text = text.replace(\"<ul>\", \"\")\n",
    "            text = text.replace(\"<li>\", \"\")\n",
    "            text = text.replace(\"</p>\", \"\")\n",
    "            text = text.replace(\"</strong>\", \"\")\n",
    "            text = text.replace(\"</ol>\", \"\")\n",
    "            text = text.replace(\"</ul>\", \"\")\n",
    "            text = text.replace(\"</li>\", \"\")\n",
    "            result.append(text)\n",
    "        return result\n",
    "    except:\n",
    "        print(\"Error(1): \", i)\n",
    "        print(body)\n",
    "        return None"
   ]
  },
  {
   "cell_type": "code",
   "execution_count": 26,
   "id": "96ff4ec3",
   "metadata": {},
   "outputs": [],
   "source": [
    "df_w_hf_tags['Text'] = df_w_hf_tags.apply(lambda row: extract_text_blocks(row.name, row.Body), axis=1)"
   ]
  },
  {
   "cell_type": "markdown",
   "id": "ec3bb294",
   "metadata": {},
   "source": [
    "#### Finding the number of body words"
   ]
  },
  {
   "cell_type": "code",
   "execution_count": 27,
   "id": "18933061",
   "metadata": {},
   "outputs": [],
   "source": [
    "def find_q_text_words(text_list: List) -> int:\n",
    "    word_count = 0\n",
    "    for text in text_list:\n",
    "        word_count += sum([i.strip(string.punctuation).isalpha() for i in text.split()])\n",
    "    return word_count"
   ]
  },
  {
   "cell_type": "code",
   "execution_count": 28,
   "id": "15bc8431",
   "metadata": {},
   "outputs": [],
   "source": [
    "df_w_hf_tags['Q_text_words_num'] = df_w_hf_tags[\"Text\"].apply(lambda text_list: find_q_text_words(text_list))"
   ]
  },
  {
   "cell_type": "markdown",
   "id": "b24d4e61-0992-43cf-bfc4-83cebb7d1bbf",
   "metadata": {},
   "source": [
    "Save the dataframe as csv format"
   ]
  },
  {
   "cell_type": "code",
   "execution_count": 29,
   "id": "3d8f131a-19f7-46b8-b8e3-399ba5537607",
   "metadata": {
    "tags": []
   },
   "outputs": [],
   "source": [
    "# df_w_Tens_tags.to_csv('./amin_result_v1.csv', encoding='utf-8')"
   ]
  },
  {
   "cell_type": "markdown",
   "id": "a4a5ff90-afcd-45a3-9d2d-a2b58de44dd9",
   "metadata": {},
   "source": [
    "### Find the Regular Expressions for Unix and Windows base Pathnames"
   ]
  },
  {
   "cell_type": "markdown",
   "id": "d3406a54-9a09-4255-8287-d16fab93833d",
   "metadata": {},
   "source": [
    "#### 1) Absolute and Relative Pathnames in UNIX OS"
   ]
  },
  {
   "cell_type": "markdown",
   "id": "20c90be3-66df-4290-972f-940233a71e7c",
   "metadata": {},
   "source": [
    "Stack/trace example: https://stackoverflow.com/questions/37337728/tensorflow-internalerror-blas-sgemm-launch-failed"
   ]
  },
  {
   "cell_type": "markdown",
   "id": "30e9d6c0-8adb-4939-9f06-329b036eb875",
   "metadata": {},
   "source": [
    "Find the restrictions and limitations related to the Unix pathnames: https://www.cyberciti.biz/faq/linuxunix-rules-for-naming-file-and-directory-names/"
   ]
  },
  {
   "cell_type": "markdown",
   "id": "fe32c563-d1db-4f0a-9820-62fd42a6591e",
   "metadata": {},
   "source": [
    "Online regular expression environment for testing: https://regex101.com/r/ZyEx5u/4"
   ]
  },
  {
   "cell_type": "markdown",
   "id": "76d9456a-4c9e-4a8f-bee5-86a5be847e82",
   "metadata": {},
   "source": [
    "> Regular Expression: \"[^\\n\\&\\:\\|\\>\\<\\/\\ \\\"\\;\\&]*(\\/[^\\n\\&\\:\\|\\>\\<\\/]+)+\\/([^\\n\\&\\:\\|\\>\\<\\/]+)(\\.pyc|\\.py)\""
   ]
  },
  {
   "cell_type": "markdown",
   "id": "d6bb6875-32a5-4f52-b33a-9cb522a49f72",
   "metadata": {},
   "source": [
    "#### 1) Pathnames in Windows OS"
   ]
  },
  {
   "cell_type": "markdown",
   "id": "dcd9c86a-e55e-4200-85ff-ed3033b4ee64",
   "metadata": {},
   "source": [
    "Stack/trace example: https://stackoverflow.com/questions/49434031/tensorflow-on-windows-cpu-version-importerror-no-module-named-pywrap-tensorf"
   ]
  },
  {
   "cell_type": "markdown",
   "id": "84dd40a8-d970-435c-a06d-6a32130d3055",
   "metadata": {},
   "source": [
    "Find the restrictions and limitations related to the Windows pathnames: <br /> \n",
    "https://docs.microsoft.com/en-us/dotnet/standard/io/file-path-formats <br />\n",
    "https://docs.microsoft.com/en-us/windows/win32/fileio/naming-a-file"
   ]
  },
  {
   "cell_type": "markdown",
   "id": "ced5ffa1-d9f8-4e8c-b9a8-8f438af95a1a",
   "metadata": {},
   "source": [
    "Online regular expression environment for testing: https://regex101.com/r/L6xmCa/1 , https://regex101.com/r/wz1WqW/1"
   ]
  },
  {
   "cell_type": "markdown",
   "id": "2ec1be13-b32c-4d50-9ea2-490eafe5b139",
   "metadata": {},
   "source": [
    "> Regular Expression: \"[a-zA-Z]:\\\\?([^\\<\\>\\:\\\"\\\\\\/\\/\\|\\?\\*\\n]+\\\\)+([^\\<\\>\\:\\\"\\\\\\/\\/\\|\\?\\*\\n]+)(\\.pyc|\\.py)\""
   ]
  },
  {
   "cell_type": "code",
   "execution_count": 30,
   "id": "bc401c12-44a2-402c-9e4a-1de67941e502",
   "metadata": {},
   "outputs": [],
   "source": [
    "def extract_pathnames_from_code_column(code_sec: List) -> Tuple[str, List]: \n",
    "    try:\n",
    "        result_post_file_names = []\n",
    "        OS_flag = None\n",
    "        \n",
    "        for code in code_sec:\n",
    "            regex_unix    = r\"[^\\n\\&\\:\\|\\>\\<\\/\\ \\\"\\;\\&]*(\\/[^\\n\\&\\:\\|\\>\\<\\/]+)+\\/([^\\n\\&\\:\\|\\>\\<\\/]+)(\\.pyc|\\.py)[^\\d\\n]+(\\d*)\\W*in\\W+([a-zA-Z_$][a-zA-Z_$0-9]*)\"\n",
    "            regex_windows = r\"(([a-zA-Z]:)|\\~)\\\\?([^\\<\\>\\:\\\"\\\\\\/\\/\\|\\?\\*\\n]+\\\\)+([^\\<\\>\\:\\\"\\\\\\/\\/\\|\\?\\*\\n]+)(\\.pyc|\\.py)[^\\d\\n]+(\\d*)\\W*in\\W+([a-zA-Z_$][a-zA-Z_$0-9]*)\"\n",
    "            pattern_unix  = re.compile(regex_unix)\n",
    "            pattern_windows  = re.compile(regex_windows)\n",
    "            if pattern_unix.search(code):\n",
    "                OS_flag = \"unix\"\n",
    "                break\n",
    "            elif pattern_windows.search(code):\n",
    "                OS_flag = \"windows\"\n",
    "                break\n",
    "        \n",
    "        if OS_flag == \"unix\":\n",
    "            for code in code_sec:\n",
    "                regex = r\"[^\\n\\&\\:\\|\\>\\<\\/\\ \\\"\\;\\&]*(\\/[^\\n\\&\\:\\|\\>\\<\\/]+)+\\/([^\\n\\&\\:\\|\\>\\<\\/]+)(\\.pyc|\\.py)[^\\d\\n]+(\\d*)\\W*in\\W+([a-zA-Z_$][a-zA-Z_$0-9]*)\"\n",
    "                code = code.replace(\"\\\\n\", \"\\n\")\n",
    "                code = code.replace('&lt;', '<')\n",
    "                code = code.replace('&gt;', '>')\n",
    "                code = code.replace('&quot;', '\"')\n",
    "                matches = re.finditer(regex, code, re.MULTILINE)\n",
    "                file_names_for_each_code_part = []\n",
    "\n",
    "                for matchNum, match in enumerate(matches, start=1):\n",
    "                    file_names_for_each_code_part.append((match.groups()[1].strip(), match.groups()[4].strip()))\n",
    "#                     file_names_for_each_code_part.append(match.groups()[1].strip())\n",
    "                    # print (\"Match {matchNum} was found at {start}-{end}: {match}\".format(matchNum = matchNum, start = match.start(), end = match.end(), match = match.group()))\n",
    "                    # for groupNum in range(0, len(match.groups())):\n",
    "                        # groupNum = groupNum + 1\n",
    "                        # print (\"Group {groupNum} found at {start}-{end}: {group}\".format(groupNum = groupNum, start = match.start(groupNum), end = match.end(groupNum), group = match.group(groupNum)))\n",
    "#                 print(file_names_for_each_code_part)\n",
    "#                 file_names_for_each_code_part = list(set(file_names_for_each_code_part))            # Create a unique list\n",
    "#                 print(file_names_for_each_code_part)\n",
    "                \n",
    "                if file_names_for_each_code_part:                                                   # Ignore the empty list\n",
    "                    result_post_file_names.append(file_names_for_each_code_part)\n",
    "                    \n",
    "        elif OS_flag == \"windows\":\n",
    "            for code in code_sec:\n",
    "                regex = r\"(([a-zA-Z]:)|\\~)\\\\?([^\\<\\>\\:\\\"\\\\\\/\\/\\|\\?\\*\\n]+\\\\)+([^\\<\\>\\:\\\"\\\\\\/\\/\\|\\?\\*\\n]+)(\\.pyc|\\.py)[^\\d\\n]+(\\d*)\\W*in\\W+([a-zA-Z_$][a-zA-Z_$0-9]*)\"\n",
    "                code = code.replace('&lt;', '<')\n",
    "                code = code.replace('&gt;', '>')\n",
    "                code = code.replace('&quot;', '\"')\n",
    "                matches = re.finditer(regex, code, re.MULTILINE)                            \n",
    "                file_names_for_each_code_part = []\n",
    "\n",
    "                for matchNum, match in enumerate(matches, start=1):\n",
    "                    file_names_for_each_code_part.append((match.groups()[3].strip(), match.groups()[6].strip()))\n",
    "#                     file_names_for_each_code_part.append(match.groups()[1].strip())\n",
    "                    # print (\"Match {matchNum} was found at {start}-{end}: {match}\".format(matchNum = matchNum, start = match.start(), end = match.end(), match = match.group()))\n",
    "                    # for groupNum in range(0, len(match.groups())):\n",
    "                        # groupNum = groupNum + 1\n",
    "                        # print (\"Group {groupNum} found at {start}-{end}: {group}\".format(groupNum = groupNum, start = match.start(groupNum), end = match.end(groupNum), group = match.group(groupNum)))\n",
    "#                 file_names_for_each_code_part = [s.strip() for s in file_names_for_each_code_part]  # Strip the list\n",
    "#                 file_names_for_each_code_part = list(set(file_names_for_each_code_part))            # create a unique list\n",
    "                if file_names_for_each_code_part:                                                     # Ignore the empty list\n",
    "                    result_post_file_names.append(file_names_for_each_code_part)\n",
    "            \n",
    "    except:\n",
    "        print(\"\\n Error(2): \\n\", code_sec)\n",
    "        return None, None\n",
    "\n",
    "    return OS_flag, result_post_file_names"
   ]
  },
  {
   "cell_type": "code",
   "execution_count": 31,
   "id": "fc583436-6446-47b3-8811-ee3b316c57cf",
   "metadata": {},
   "outputs": [
    {
     "data": {
      "text/plain": [
       "('unix',\n",
       " [[('run', 'module'),\n",
       "   ('grad_mode', 'decorate_context'),\n",
       "   ('generation_utils', 'generate')]])"
      ]
     },
     "execution_count": 31,
     "metadata": {},
     "output_type": "execute_result"
    }
   ],
   "source": [
    "# Example for Unix path\n",
    "# https://stackoverflow.com/questions/51839415/tensorflow-valueerror-rank-mismatch\n",
    "# df_w_hf_tags.iloc[9][:]\n",
    "extract_pathnames_from_code_column(df_w_hf_tags[\"Code\"][51])"
   ]
  },
  {
   "cell_type": "code",
   "execution_count": 32,
   "id": "8642e202-ad70-4f13-9440-57eeeb3fda8a",
   "metadata": {
    "scrolled": true
   },
   "outputs": [],
   "source": [
    "# Example for Windows path\n",
    "# df_w_hf_tags['Code'] = df_w_hf_tags['Body'].apply(lambda row_body: extract_code_blocks(row_body))\n",
    "# print(df_w_hf_tags[\"Code\"][9])\n",
    "# extract_pathnames_from_code_column(df_w_hf_tags[\"Code\"][84])\n",
    "# extract_pathnames_from_code_column(df_w_hf_tags[\"Code\"][606])"
   ]
  },
  {
   "cell_type": "code",
   "execution_count": 33,
   "id": "0c61970a",
   "metadata": {},
   "outputs": [],
   "source": [
    "# df_w_hf_tags[\"Body\"][606]"
   ]
  },
  {
   "cell_type": "code",
   "execution_count": 34,
   "id": "0dd38400-fb42-4dc7-8f9d-deb13a98c1a0",
   "metadata": {
    "tags": []
   },
   "outputs": [],
   "source": [
    "df_w_hf_tags['Bugy_py_files'] = df_w_hf_tags['Code'].apply(lambda row_code_ex: extract_pathnames_from_code_column(row_code_ex))"
   ]
  },
  {
   "cell_type": "markdown",
   "id": "23e7d4de",
   "metadata": {},
   "source": [
    "Save the dataframe as csv format"
   ]
  },
  {
   "cell_type": "code",
   "execution_count": 35,
   "id": "4e4ea318-37e3-4d03-b3a2-566723d22160",
   "metadata": {
    "tags": []
   },
   "outputs": [],
   "source": [
    "# df_w_hf_tags.loc[df_w_PT_tags['Id'] == 46509039]"
   ]
  },
  {
   "cell_type": "code",
   "execution_count": 36,
   "id": "4718e5db-2866-4f96-8a3a-2a09e559cb99",
   "metadata": {},
   "outputs": [],
   "source": [
    "# df_w_hf_tags[[\"Title\", \"Code\", \"Bugy_py_files\"]].head(100)\n",
    "# df_w_hf_tags.to_csv('./hf_Code_bug.csv', sep='\\n', encoding='utf-8')\n",
    "# df_w_hf_tags['Bugy_py_files'].to_csv('./hf_bugy_tuples.csv', encoding='utf-8')"
   ]
  },
  {
   "cell_type": "code",
   "execution_count": 37,
   "id": "a7e0c3f2",
   "metadata": {},
   "outputs": [],
   "source": [
    "def create_has_trace_col(cal_tuple) -> bool:\n",
    "    if cal_tuple[0] == \"windows\" or cal_tuple[0] == \"unix\":\n",
    "        return True\n",
    "    elif cal_tuple[0] is None:\n",
    "        return False\n",
    "    else:\n",
    "        print(\"Error!\")"
   ]
  },
  {
   "cell_type": "code",
   "execution_count": 38,
   "id": "acd983ea",
   "metadata": {},
   "outputs": [],
   "source": [
    "df_w_hf_tags['Has_trace'] = df_w_hf_tags['Bugy_py_files'].apply(lambda cell_tuple: create_has_trace_col(cell_tuple))"
   ]
  },
  {
   "cell_type": "markdown",
   "id": "5e60aff5",
   "metadata": {},
   "source": [
    "#### Finding the number and type of LOC in the body of post:"
   ]
  },
  {
   "cell_type": "markdown",
   "id": "b33da7bf-c174-48ba-999c-766d91c33a7a",
   "metadata": {},
   "source": [
    "For example how many pairs did you find in a post and defining the OS of that stack trace"
   ]
  },
  {
   "cell_type": "code",
   "execution_count": 39,
   "id": "9c25a136",
   "metadata": {},
   "outputs": [],
   "source": [
    "def finding_line_of_code(code_list: List) -> Tuple[int, int, int]:\n",
    "    line_count_trace_win   = 0\n",
    "    line_count_trace_unix  = 0\n",
    "    line_count_simple_code = 0\n",
    "    \n",
    "    for code in code_list:\n",
    "        regex_unix    = r\"[^\\n\\&\\:\\|\\>\\<\\/\\ \\\"\\;\\&]*(\\/[^\\n\\&\\:\\|\\>\\<\\/]+)+\\/([^\\n\\&\\:\\|\\>\\<\\/]+)(\\.pyc|\\.py)[^\\d\\n]+(\\d*)\\W*in\\W+([a-zA-Z_$][a-zA-Z_$0-9]*)\"\n",
    "        regex_windows = r\"(([a-zA-Z]:)|\\~)\\\\?([^\\<\\>\\:\\\"\\\\\\/\\/\\|\\?\\*\\n]+\\\\)+([^\\<\\>\\:\\\"\\\\\\/\\/\\|\\?\\*\\n]+)(\\.pyc|\\.py)[^\\d\\n]+(\\d*)\\W*in\\W+([a-zA-Z_$][a-zA-Z_$0-9]*)\"\n",
    "        # regex_unix    = r\"[^\\n\\&\\:\\|\\>\\<\\/\\ \\\"\\;\\&]*(\\/[^\\n\\&\\:\\|\\>\\<\\/]+)+\\/([^\\n\\&\\:\\|\\>\\<\\/]+)(\\.pyc|\\.py)[^\\d\\n]+(\\d+)\\W*in\\W*([a-zA-Z_$][a-zA-Z_$0-9]*)\"\n",
    "        # regex_windows = r\"[a-zA-Z]:\\\\?([^\\<\\>\\:\\\"\\\\\\/\\/\\|\\?\\*\\n]+\\\\)+([^\\<\\>\\:\\\"\\\\\\/\\/\\|\\?\\*\\n]+)(\\.pyc|\\.py)[^\\d\\n]+(\\d+)\\W*in\\W*([a-zA-Z_$][a-zA-Z_$0-9]*)\"\n",
    "        pattern_unix  = re.compile(regex_unix)\n",
    "        pattern_windows = re.compile(regex_windows)\n",
    "        if pattern_unix.search(code):\n",
    "            OS_flag = \"unix\"\n",
    "        elif pattern_windows.search(code):\n",
    "            OS_flag = \"windows\"\n",
    "        else:\n",
    "            OS_flag = \"nothing\"\n",
    "            \n",
    "        if OS_flag == \"unix\":\n",
    "            line_count_trace_unix += len(code.splitlines())\n",
    "        elif OS_flag == \"windows\":\n",
    "            line_count_trace_win += len(code.splitlines())\n",
    "        elif OS_flag == \"nothing\":\n",
    "            line_count_simple_code += len(code.splitlines()) \n",
    "        else:\n",
    "            print(\"Error!\")\n",
    "\n",
    "    return (line_count_trace_unix, line_count_trace_win, line_count_simple_code)"
   ]
  },
  {
   "cell_type": "code",
   "execution_count": 40,
   "id": "4054d8d7",
   "metadata": {},
   "outputs": [
    {
     "data": {
      "text/plain": [
       "(0, 29, 78)"
      ]
     },
     "execution_count": 40,
     "metadata": {},
     "output_type": "execute_result"
    }
   ],
   "source": [
    "finding_line_of_code(df_w_hf_tags.loc[19, 'Code'])"
   ]
  },
  {
   "cell_type": "code",
   "execution_count": 41,
   "id": "c2f3958c",
   "metadata": {},
   "outputs": [],
   "source": [
    "df_w_hf_tags['Line_code_u_w_s'] = df_w_hf_tags['Code'].apply(lambda code_list: finding_line_of_code(code_list))"
   ]
  },
  {
   "cell_type": "code",
   "execution_count": 42,
   "id": "b3e57594",
   "metadata": {},
   "outputs": [],
   "source": [
    "df_w_hf_tags['Line_code_uix'] = df_w_hf_tags['Line_code_u_w_s'].apply(lambda loc_tuple: loc_tuple[0])"
   ]
  },
  {
   "cell_type": "code",
   "execution_count": 43,
   "id": "4a683106",
   "metadata": {},
   "outputs": [],
   "source": [
    "df_w_hf_tags['Line_code_win'] = df_w_hf_tags['Line_code_u_w_s'].apply(lambda loc_tuple: loc_tuple[1])"
   ]
  },
  {
   "cell_type": "code",
   "execution_count": 44,
   "id": "b99bf6ab",
   "metadata": {},
   "outputs": [],
   "source": [
    "# Has a code (Python code) inside the post\n",
    "df_w_hf_tags['Line_code_simple_code'] = df_w_hf_tags['Line_code_u_w_s'].apply(lambda loc_tuple: loc_tuple[2])"
   ]
  },
  {
   "cell_type": "code",
   "execution_count": 45,
   "id": "3534efd4",
   "metadata": {
    "scrolled": true,
    "tags": []
   },
   "outputs": [
    {
     "data": {
      "text/html": [
       "<div>\n",
       "<style scoped>\n",
       "    .dataframe tbody tr th:only-of-type {\n",
       "        vertical-align: middle;\n",
       "    }\n",
       "\n",
       "    .dataframe tbody tr th {\n",
       "        vertical-align: top;\n",
       "    }\n",
       "\n",
       "    .dataframe thead th {\n",
       "        text-align: right;\n",
       "    }\n",
       "</style>\n",
       "<table border=\"1\" class=\"dataframe\">\n",
       "  <thead>\n",
       "    <tr style=\"text-align: right;\">\n",
       "      <th></th>\n",
       "      <th>Id</th>\n",
       "      <th>PostTypeId</th>\n",
       "      <th>AcceptedAnswerId</th>\n",
       "      <th>CreationDate</th>\n",
       "      <th>ViewCount</th>\n",
       "      <th>AnswerCount</th>\n",
       "      <th>CommentCount</th>\n",
       "      <th>Score</th>\n",
       "      <th>Title</th>\n",
       "      <th>Body</th>\n",
       "      <th>Tags</th>\n",
       "      <th>Code</th>\n",
       "      <th>Has_code</th>\n",
       "      <th>Text</th>\n",
       "      <th>Q_text_words_num</th>\n",
       "      <th>Bugy_py_files</th>\n",
       "      <th>Has_trace</th>\n",
       "      <th>Line_code_u_w_s</th>\n",
       "      <th>Line_code_uix</th>\n",
       "      <th>Line_code_win</th>\n",
       "      <th>Line_code_simple_code</th>\n",
       "    </tr>\n",
       "  </thead>\n",
       "  <tbody>\n",
       "    <tr>\n",
       "      <th>0</th>\n",
       "      <td>61913010</td>\n",
       "      <td>1</td>\n",
       "      <td>61913108.0</td>\n",
       "      <td>2020-05-20 12:20:43</td>\n",
       "      <td>1792</td>\n",
       "      <td>2</td>\n",
       "      <td>0</td>\n",
       "      <td>2</td>\n",
       "      <td>Can not import pipeline from transformers</td>\n",
       "      <td>&lt;p&gt;I have installed &lt;code&gt;pytorch&lt;/code&gt; with ...</td>\n",
       "      <td>&lt;python&gt;&lt;python-3.x&gt;&lt;pipeline&gt;&lt;huggingface-tra...</td>\n",
       "      <td>[from transformers import pipeline\\n----------...</td>\n",
       "      <td>True</td>\n",
       "      <td>[I have installed &lt;code&gt;pytorch&lt;/code&gt; with &lt;c...</td>\n",
       "      <td>49</td>\n",
       "      <td>(None, [])</td>\n",
       "      <td>False</td>\n",
       "      <td>(0, 0, 7)</td>\n",
       "      <td>0</td>\n",
       "      <td>0</td>\n",
       "      <td>7</td>\n",
       "    </tr>\n",
       "    <tr>\n",
       "      <th>1</th>\n",
       "      <td>60940110</td>\n",
       "      <td>1</td>\n",
       "      <td>NaN</td>\n",
       "      <td>2020-03-30 21:50:45</td>\n",
       "      <td>118</td>\n",
       "      <td>0</td>\n",
       "      <td>0</td>\n",
       "      <td>1</td>\n",
       "      <td>How to perform text classification inference u...</td>\n",
       "      <td>&lt;p&gt;To Whom It May Concern,&lt;/p&gt;\\n\\n&lt;p&gt;After tra...</td>\n",
       "      <td>&lt;python&gt;&lt;pytorch&gt;&lt;huggingface-transformers&gt;</td>\n",
       "      <td>[merges.txt\\ntokenizer_config.json\\nconfig.jso...</td>\n",
       "      <td>True</td>\n",
       "      <td>[To Whom It May Concern,, After training a &lt;co...</td>\n",
       "      <td>89</td>\n",
       "      <td>(None, [])</td>\n",
       "      <td>False</td>\n",
       "      <td>(0, 0, 7)</td>\n",
       "      <td>0</td>\n",
       "      <td>0</td>\n",
       "      <td>7</td>\n",
       "    </tr>\n",
       "  </tbody>\n",
       "</table>\n",
       "</div>"
      ],
      "text/plain": [
       "         Id  PostTypeId  AcceptedAnswerId         CreationDate  ViewCount  AnswerCount  CommentCount  Score                                              Title                                               Body                                               Tags                                               Code  Has_code                                               Text  Q_text_words_num Bugy_py_files  Has_trace Line_code_u_w_s  Line_code_uix  Line_code_win  Line_code_simple_code\n",
       "0  61913010           1        61913108.0  2020-05-20 12:20:43       1792            2             0      2          Can not import pipeline from transformers  <p>I have installed <code>pytorch</code> with ...  <python><python-3.x><pipeline><huggingface-tra...  [from transformers import pipeline\\n----------...      True  [I have installed <code>pytorch</code> with <c...                49    (None, [])      False       (0, 0, 7)              0              0                      7\n",
       "1  60940110           1               NaN  2020-03-30 21:50:45        118            0             0      1  How to perform text classification inference u...  <p>To Whom It May Concern,</p>\\n\\n<p>After tra...        <python><pytorch><huggingface-transformers>  [merges.txt\\ntokenizer_config.json\\nconfig.jso...      True  [To Whom It May Concern,, After training a <co...                89    (None, [])      False       (0, 0, 7)              0              0                      7"
      ]
     },
     "execution_count": 45,
     "metadata": {},
     "output_type": "execute_result"
    }
   ],
   "source": [
    "df_w_hf_tags.head(2)"
   ]
  },
  {
   "cell_type": "markdown",
   "id": "a1df9f31-0798-47d2-9659-848b16c85d74",
   "metadata": {},
   "source": [
    "We found there are some duplocated rows in our DB, so we eleminate those based on some columns "
   ]
  },
  {
   "cell_type": "markdown",
   "id": "06fde1f5",
   "metadata": {},
   "source": [
    "#### Question Post's Length (body of the post): Defining the lists for plotting their comparisons"
   ]
  },
  {
   "cell_type": "code",
   "execution_count": 46,
   "id": "bd5dee83",
   "metadata": {},
   "outputs": [],
   "source": [
    "list_num_words_w_tra  = []\n",
    "list_num_words_wo_tra = []\n",
    "\n",
    "for index1, row in df_w_hf_tags.iterrows():\n",
    "    if row.Has_trace is True:\n",
    "        list_num_words_w_tra.append(row.Q_text_words_num)\n",
    "    elif row.Has_trace is False:\n",
    "        list_num_words_wo_tra.append(row.Q_text_words_num)\n",
    "    else:\n",
    "        print(\"Error!\")"
   ]
  },
  {
   "cell_type": "markdown",
   "id": "684ae0b5-da13-4ad7-b853-44783e21104b",
   "metadata": {},
   "source": [
    "#### OS Stack Traces: Defining the number of stack straces the belongs to the Unix or Windows OS"
   ]
  },
  {
   "cell_type": "code",
   "execution_count": 47,
   "id": "bd3530e5-831c-4db8-b250-089f05938c10",
   "metadata": {},
   "outputs": [
    {
     "name": "stdout",
     "output_type": "stream",
     "text": [
      "We found the 5 of stackoverflow's posts that belong to the Windows OS.\n",
      "We found the 35 of stackoverflow's posts that belong to the Unix OS.\n"
     ]
    }
   ],
   "source": [
    "counter_win  = 0\n",
    "counter_unix = 0\n",
    "# dim_win  = []\n",
    "# dim_unix = []\n",
    "\n",
    "for tp in df_w_hf_tags[\"Bugy_py_files\"]:\n",
    "    if tp[0] == \"windows\":\n",
    "        counter_win += 1\n",
    "#         np_array = np.array(tuple[1], dtype=object)\n",
    "#         dim_win.append(np_array.shape)\n",
    "        \n",
    "    elif tp[0] == \"unix\":\n",
    "        counter_unix += 1\n",
    "#         np_array = np.array(tuple[1], dtype=object)\n",
    "#         dim_unix.append(np_array.shape)\n",
    "\n",
    "print(f\"We found the {counter_win} of stackoverflow's posts that belong to the Windows OS.\")\n",
    "print(f\"We found the {counter_unix} of stackoverflow's posts that belong to the Unix OS.\")\n",
    "# print(\"The dimensions of Windows labels is: \", set(dim_win))\n",
    "# print(\"The dimensions of Unix labels is: \", set(dim_unix))"
   ]
  },
  {
   "cell_type": "code",
   "execution_count": 48,
   "id": "862bb743-f63d-4f4f-9b62-e38bb4711f08",
   "metadata": {},
   "outputs": [
    {
     "data": {
      "text/plain": [
       "Id                         int64\n",
       "PostTypeId                 int64\n",
       "AcceptedAnswerId         float64\n",
       "CreationDate              object\n",
       "ViewCount                  int64\n",
       "AnswerCount                int64\n",
       "CommentCount               int64\n",
       "Score                      int64\n",
       "Title                     object\n",
       "Body                      object\n",
       "Tags                      object\n",
       "Code                      object\n",
       "Has_code                    bool\n",
       "Text                      object\n",
       "Q_text_words_num           int64\n",
       "Bugy_py_files             object\n",
       "Has_trace                   bool\n",
       "Line_code_u_w_s           object\n",
       "Line_code_uix              int64\n",
       "Line_code_win              int64\n",
       "Line_code_simple_code      int64\n",
       "dtype: object"
      ]
     },
     "execution_count": 48,
     "metadata": {},
     "output_type": "execute_result"
    }
   ],
   "source": [
    "df_w_hf_tags.dtypes"
   ]
  },
  {
   "cell_type": "markdown",
   "id": "85e4c57c-d11e-4e1d-ac85-9c155d748630",
   "metadata": {},
   "source": [
    "#### Define two lists for storing the information of the questions w or w/o stack traces"
   ]
  },
  {
   "cell_type": "code",
   "execution_count": 49,
   "id": "7a685f8b",
   "metadata": {},
   "outputs": [],
   "source": [
    "count_w_t  = 0\n",
    "count_wo_t = 0\n",
    "count_win  = 0\n",
    "count_unix = 0\n",
    "\n",
    "Question_with_trace_info = []\n",
    "Question_with_wo_trace_info = []\n",
    "\n",
    "def counting_w_or_wo_trace(row_id: int, \n",
    "                           row_cr: object, \n",
    "                           row_vc: int, \n",
    "                           row_ac: int, \n",
    "                           row_cc: int, \n",
    "                           row_sc: int, \n",
    "                           row_ac_an_id: float, \n",
    "                           row_t: object, \n",
    "                           has_code: bool) -> None:\n",
    "    \n",
    "    global count_w_t, count_wo_t, count_win, count_unix, Question_with_trace_info, Question_with_wo_trace_info\n",
    "\n",
    "    if has_code:\n",
    "        if row_t[0] is not None:\n",
    "            count_w_t = count_w_t + 1\n",
    "            Question_with_trace_info.append((row_id, row_cr, row_vc, row_ac, row_cc, row_sc, row_ac_an_id))\n",
    "            \n",
    "            if row_t[0] == 'unix':\n",
    "                count_unix = count_unix + 1\n",
    "            else:\n",
    "                count_win = count_win + 1\n",
    "        else:\n",
    "            count_wo_t = count_wo_t + 1\n",
    "            Question_with_wo_trace_info.append((row_id, row_cr, row_vc, row_ac, row_cc, row_sc, row_ac_an_id))"
   ]
  },
  {
   "cell_type": "code",
   "execution_count": 50,
   "id": "ee29fdfd",
   "metadata": {
    "tags": []
   },
   "outputs": [],
   "source": [
    "_ = df_w_hf_tags.apply(lambda row: counting_w_or_wo_trace(row.Id, \n",
    "                                                               row.CreationDate, \n",
    "                                                               row.ViewCount,\n",
    "                                                               row.AnswerCount,\n",
    "                                                               row.CommentCount,\n",
    "                                                               row.Score,\n",
    "                                                               row.AcceptedAnswerId,\n",
    "                                                               row.Bugy_py_files, \n",
    "                                                               row.Has_code), axis=1)"
   ]
  },
  {
   "cell_type": "code",
   "execution_count": 51,
   "id": "6047b8b4-23c3-4feb-a5ef-fd432cc90c2f",
   "metadata": {},
   "outputs": [
    {
     "data": {
      "text/plain": [
       "40"
      ]
     },
     "execution_count": 51,
     "metadata": {},
     "output_type": "execute_result"
    }
   ],
   "source": [
    "len(Question_with_trace_info)"
   ]
  },
  {
   "cell_type": "markdown",
   "id": "255f73aa-307c-4ca5-ad1f-9c80e0067c0f",
   "metadata": {},
   "source": [
    "#### Creating a string matrix of pairs"
   ]
  },
  {
   "cell_type": "markdown",
   "id": "ccfe9422-3706-4fc3-9135-8cbd87353226",
   "metadata": {
    "tags": []
   },
   "source": [
    "https://stackoverflow.com/questions/32037893/numpy-fix-array-with-rows-of-different-lengths-by-filling-the-empty-elements-wi"
   ]
  },
  {
   "cell_type": "code",
   "execution_count": 52,
   "id": "3390d5ca-986e-4ddf-a48f-eb4e45ab46dc",
   "metadata": {},
   "outputs": [],
   "source": [
    "def numpy_fillna(data: List) -> np.ndarray:\n",
    "    # Get lengths of each row of data\n",
    "    lens = np.array([len(i) for i in data])\n",
    "\n",
    "    # Mask of valid places in each row\n",
    "    mask = np.arange(lens.max()) < lens[:, None]\n",
    "\n",
    "    # Setup output array and put elements from data into masked positions\n",
    "    out = np.zeros(mask.shape, dtype='object')\n",
    "    out[mask] = np.concatenate(data)\n",
    "    \n",
    "    return out"
   ]
  },
  {
   "cell_type": "code",
   "execution_count": 53,
   "id": "043411f3-4d8b-43b5-89e2-7a9b5d9e1385",
   "metadata": {
    "tags": []
   },
   "outputs": [],
   "source": [
    "_2D_array_with_str = []\n",
    "\n",
    "# The below list store the post Id for each pattern (or row in _2D_array). \n",
    "# We have to mention that the index of _2D_array and _Id_array helps us to find the id pattern quickly.\n",
    "_Id_array = []\n",
    "\n",
    "for index1, row in df_w_hf_tags.iterrows():\n",
    "    row_tuple = row.Bugy_py_files\n",
    "    row_id = row.Id\n",
    "    \n",
    "    # row: (some rows have multiple patterns)\n",
    "    # ('unix', [[('estimator', 'train'), ('estimator', '_train_model'), \n",
    "    #            ('estimator', '_train_model_default'), ('estimator', '_call_model_fn'), ('nn_ops', 'sparse_softmax_cross_entropy_with_logits')]])\n",
    "    \n",
    "    if row_tuple[0] is None: continue\n",
    "    \n",
    "    for element in row_tuple[1]:\n",
    "        _Id_array.append(row_id)\n",
    "        _2D_array_with_str.append(element)\n",
    "\n",
    "# _2D_array_pad = numpy_fillna(_2D_array)"
   ]
  },
  {
   "cell_type": "code",
   "execution_count": 54,
   "id": "859d9ebd-f61a-4031-9d13-c424894396cd",
   "metadata": {},
   "outputs": [
    {
     "data": {
      "text/plain": [
       "[('network', 'save'),\n",
       " ('save', 'save_model'),\n",
       " ('hdf5_format', 'save_model_to_hdf5'),\n",
       " ('saving_utils', 'model_metadata'),\n",
       " ('saving_utils', 'model_metadata'),\n",
       " ('network', 'get_config'),\n",
       " ('network', 'get_network_config'),\n",
       " ('generic_utils', 'serialize_keras_object'),\n",
       " ('network', 'get_config')]"
      ]
     },
     "execution_count": 54,
     "metadata": {},
     "output_type": "execute_result"
    }
   ],
   "source": [
    "_2D_array_with_str[0]"
   ]
  },
  {
   "cell_type": "markdown",
   "id": "1ccb7b7f-c4a7-490f-aaf2-d1ffad28ebd9",
   "metadata": {},
   "source": [
    "#### Find the Id of a post based on its pattern:"
   ]
  },
  {
   "cell_type": "code",
   "execution_count": 55,
   "id": "b61c1236-480b-49f7-b2e0-3999cebe59aa",
   "metadata": {
    "tags": []
   },
   "outputs": [],
   "source": [
    "a = _2D_array_with_str[0]"
   ]
  },
  {
   "cell_type": "code",
   "execution_count": 56,
   "id": "59466323-c25b-4670-98c1-e8319f297851",
   "metadata": {},
   "outputs": [
    {
     "data": {
      "text/plain": [
       "[('network', 'save'),\n",
       " ('save', 'save_model'),\n",
       " ('hdf5_format', 'save_model_to_hdf5'),\n",
       " ('saving_utils', 'model_metadata'),\n",
       " ('saving_utils', 'model_metadata'),\n",
       " ('network', 'get_config'),\n",
       " ('network', 'get_network_config'),\n",
       " ('generic_utils', 'serialize_keras_object'),\n",
       " ('network', 'get_config')]"
      ]
     },
     "execution_count": 56,
     "metadata": {},
     "output_type": "execute_result"
    }
   ],
   "source": [
    "a"
   ]
  },
  {
   "cell_type": "code",
   "execution_count": 57,
   "id": "f4fff9b0-4939-474b-9db2-03740e518292",
   "metadata": {},
   "outputs": [],
   "source": [
    "# len(_Id_array), _Id_array[5941]"
   ]
  },
  {
   "cell_type": "code",
   "execution_count": 58,
   "id": "bd127746",
   "metadata": {
    "tags": []
   },
   "outputs": [],
   "source": [
    "# tmpDf = df_w_keras_tags.drop_duplicates(\"Id\")[[\"Id\",\"Bugy_py_files\"]]\n",
    "# tmpDf.reset_index(drop=True,inplace=True)"
   ]
  },
  {
   "cell_type": "code",
   "execution_count": 59,
   "id": "011040c8-4e62-47f6-8b80-17452d5ab17c",
   "metadata": {},
   "outputs": [],
   "source": [
    "# tmpDf.Bugy_py_files = tmpDf.Bugy_py_files.apply(lambda row : row[1])"
   ]
  },
  {
   "cell_type": "code",
   "execution_count": 60,
   "id": "a246d875-46f5-4ed5-8919-e8d966d2c4e7",
   "metadata": {},
   "outputs": [],
   "source": [
    "# tmpDf_not_empty = tmpDf[tmpDf.Bugy_py_files.map(lambda d: len(d)) > 0].copy()"
   ]
  },
  {
   "cell_type": "code",
   "execution_count": 61,
   "id": "76dc06c5-96a1-4ce2-a397-abc846c9833b",
   "metadata": {},
   "outputs": [],
   "source": [
    "# tmpDf_not_empty[tmpDf_not_empty.Bugy_py_files.map(lambda d: d[0]==a)]"
   ]
  },
  {
   "cell_type": "code",
   "execution_count": 62,
   "id": "4fbcc9bf-5289-4d28-95ea-4929db4305ef",
   "metadata": {},
   "outputs": [],
   "source": [
    "# df_w_Tens_tags[\"T\"].loc[df_w_Tens_tags['Id'] == 60535969]"
   ]
  },
  {
   "cell_type": "markdown",
   "id": "0fffa51f-6992-42c2-9cf0-fd1888ae4047",
   "metadata": {},
   "source": [
    "#### Creating a numerical matrix"
   ]
  },
  {
   "cell_type": "markdown",
   "id": "eb2ab766-8031-4eca-9cef-455c127c6283",
   "metadata": {},
   "source": [
    "https://www.geeksforgeeks.org/python-pandas-factorize/"
   ]
  },
  {
   "cell_type": "markdown",
   "id": "e4cbea84-d201-4010-9759-c32f05b80aa9",
   "metadata": {},
   "source": [
    "##### Creating a dictionary based on pairs and assigning a unique number to that"
   ]
  },
  {
   "cell_type": "code",
   "execution_count": 63,
   "id": "8257c9af",
   "metadata": {},
   "outputs": [],
   "source": [
    "# dict pair : int\n",
    "\n",
    "dic = {} \n",
    "specific_val = 1\n",
    "for row in _2D_array_with_str:\n",
    "    for element in row:\n",
    "        if element not in dic:\n",
    "            dic[element] = specific_val\n",
    "            specific_val += 1"
   ]
  },
  {
   "cell_type": "code",
   "execution_count": 64,
   "id": "82ffd8ee",
   "metadata": {},
   "outputs": [
    {
     "name": "stdout",
     "output_type": "stream",
     "text": [
      "The number of unique pairs is:  125\n"
     ]
    }
   ],
   "source": [
    "print(\"The number of unique pairs is: \", max(dic.values()))"
   ]
  },
  {
   "cell_type": "markdown",
   "id": "dedfa8c9-9b6c-4643-b0b7-6b39e7fe40e4",
   "metadata": {},
   "source": [
    "##### Converting strings on the _2D_array into numbers "
   ]
  },
  {
   "cell_type": "code",
   "execution_count": 65,
   "id": "0ff5062e",
   "metadata": {},
   "outputs": [],
   "source": [
    "_2D_array = _2D_array_with_str.copy()\n",
    "for i, row in enumerate(_2D_array):\n",
    "    for j in range(len(row)):\n",
    "        _2D_array[i][j] = dic[_2D_array[i][j]]"
   ]
  },
  {
   "cell_type": "code",
   "execution_count": 66,
   "id": "ec5559a2",
   "metadata": {
    "tags": []
   },
   "outputs": [],
   "source": [
    "# _2D_array[0:10]"
   ]
  },
  {
   "cell_type": "code",
   "execution_count": 67,
   "id": "f97135b6",
   "metadata": {},
   "outputs": [],
   "source": [
    "# uniqe_dic int : pair\n",
    "uniqe_dic = dict([(value, key) for key, value in dic.items()])"
   ]
  },
  {
   "cell_type": "code",
   "execution_count": 68,
   "id": "0ad42800-39d4-4917-9e25-541a9d53efef",
   "metadata": {},
   "outputs": [],
   "source": [
    "# uniqe_dic"
   ]
  },
  {
   "cell_type": "markdown",
   "id": "3a621bac-8178-438b-8464-73225fe218a7",
   "metadata": {},
   "source": [
    "By the below function we deleted duplicated rows in 2d_array:"
   ]
  },
  {
   "cell_type": "code",
   "execution_count": 69,
   "id": "ca3c46e1-7f42-4369-8ea3-6a25dbadc990",
   "metadata": {},
   "outputs": [],
   "source": [
    "def find_2d_array_dup(_2d_array: list) -> Tuple[int, list]:\n",
    "    \n",
    "    dup_count = 0\n",
    "    _2d_array_tmp = _2d_array.copy()\n",
    "    _2d_array_tmp_next = []\n",
    "    \n",
    "    idx = 0\n",
    "    while idx != len(_2d_array_tmp):\n",
    "        \n",
    "        for indx_previous in range(0, idx+1):\n",
    "            _2d_array_tmp_next.append(_2d_array_tmp[indx_previous])\n",
    "        \n",
    "        for indx_next in range(idx+1, len(_2d_array_tmp)):\n",
    "#             print(idx, indx_next)\n",
    "#             print(_2d_array_tmp)\n",
    "#             print(_2d_array_tmp_next)\n",
    "\n",
    "            if _2d_array_tmp[idx] == _2d_array_tmp[indx_next]:\n",
    "                dup_count += 1\n",
    "            else:\n",
    "                _2d_array_tmp_next.append(_2d_array_tmp[indx_next])\n",
    "#         print(_2d_array_tmp_next)\n",
    "#         print(len(_2d_array_tmp_next))\n",
    "#         break\n",
    "        _2d_array_tmp = _2d_array_tmp_next\n",
    "        _2d_array_tmp_next = []\n",
    "        idx += 1\n",
    "    \n",
    "    return dup_count, _2d_array_tmp"
   ]
  },
  {
   "cell_type": "code",
   "execution_count": 70,
   "id": "cd20b1db-3f52-4f69-ad94-f91eff4c5a81",
   "metadata": {},
   "outputs": [],
   "source": [
    "# duplication_row, _2D_array_new = find_2d_array_dup(_2D_array)"
   ]
  },
  {
   "cell_type": "code",
   "execution_count": 71,
   "id": "038074a7-a09a-4288-9368-db126c18d2d2",
   "metadata": {},
   "outputs": [],
   "source": [
    "# print(f\"We decresed the number of patterns from {len(_2D_array)} to {len(_2D_array_new)}.\")"
   ]
  },
  {
   "cell_type": "markdown",
   "id": "fa324359",
   "metadata": {},
   "source": [
    "## Answering the second research question (RQ2): Finding Patterns"
   ]
  },
  {
   "cell_type": "markdown",
   "id": "31312935",
   "metadata": {},
   "source": [
    "## Contiguous Sequential Pattern Mining"
   ]
  },
  {
   "cell_type": "markdown",
   "id": "d2e4c26c",
   "metadata": {},
   "source": [
    "https://www.cc.gatech.edu/~hic/CS7616/pdf/lecture13.pdf"
   ]
  },
  {
   "cell_type": "markdown",
   "id": "9c8ff498",
   "metadata": {
    "tags": []
   },
   "source": [
    "### Approach (1):"
   ]
  },
  {
   "cell_type": "markdown",
   "id": "b6c9bae7",
   "metadata": {},
   "source": [
    "The shortest yet efficient implementation of the famous frequent sequential pattern mining algorithm PrefixSpan, the famous frequent closed sequential pattern mining algorithm BIDE (in closed.py), and the frequent generator sequential pattern mining algorithm FEAT (in generator.py), as a unified and holistic algorithm framework."
   ]
  },
  {
   "cell_type": "markdown",
   "id": "96570036",
   "metadata": {},
   "source": [
    "https://github.com/chuanconggao/PrefixSpan-py"
   ]
  },
  {
   "cell_type": "code",
   "execution_count": 72,
   "id": "5eaa5c75",
   "metadata": {},
   "outputs": [],
   "source": [
    "# !pip3 install -U prefixspan"
   ]
  },
  {
   "cell_type": "code",
   "execution_count": 73,
   "id": "35702190",
   "metadata": {},
   "outputs": [],
   "source": [
    "# from prefixspan import PrefixSpan"
   ]
  },
  {
   "cell_type": "code",
   "execution_count": 74,
   "id": "c509adf6",
   "metadata": {},
   "outputs": [],
   "source": [
    "# ps = PrefixSpan(_2D_array_pad)"
   ]
  },
  {
   "cell_type": "code",
   "execution_count": 75,
   "id": "df9fc672",
   "metadata": {},
   "outputs": [],
   "source": [
    "# k = ps.frequent(5)"
   ]
  },
  {
   "cell_type": "code",
   "execution_count": 76,
   "id": "b69e8fc1",
   "metadata": {},
   "outputs": [],
   "source": [
    "# file = open(\"/home-students/amghad/sample.txt\", \"w\")\n",
    "# str_list = repr(k)\n",
    "# file.write(str_list)\n",
    "# file.close()"
   ]
  },
  {
   "cell_type": "markdown",
   "id": "34f2979a",
   "metadata": {},
   "source": [
    "### Approach (2): "
   ]
  },
  {
   "cell_type": "markdown",
   "id": "566a8e0a",
   "metadata": {},
   "source": [
    "pymining is a small collection of data mining algorithms implemented in Python. I did not design any of the algorithms, but I use them in my own research so I thought other developers might be interested to use them as well."
   ]
  },
  {
   "cell_type": "markdown",
   "id": "94392e0f",
   "metadata": {},
   "source": [
    "https://github.com/bartdag/pymining"
   ]
  },
  {
   "cell_type": "markdown",
   "id": "411e8d57",
   "metadata": {
    "jp-MarkdownHeadingCollapsed": true,
    "tags": []
   },
   "source": [
    "### Approach (3): By this approach we simply check all possible status for each row (or pattern)"
   ]
  },
  {
   "cell_type": "markdown",
   "id": "4ec37188-5c46-407b-b193-55c54b2e1841",
   "metadata": {},
   "source": [
    "We want to create a dict based on the vectors on the numerical matrix."
   ]
  },
  {
   "cell_type": "markdown",
   "id": "e2f60f00-0840-41a0-8398-8f863bc2bc68",
   "metadata": {},
   "source": [
    "By the below function, we tried to find and search the patterns for each vector based on the window_size"
   ]
  },
  {
   "cell_type": "raw",
   "id": "0d8aae18-d1d3-4282-9bf7-f7fe45ca5d6b",
   "metadata": {},
   "source": [
    "Input Vector: [1, 2, 6, 3]"
   ]
  },
  {
   "cell_type": "raw",
   "id": "822ce776-1a3b-476d-92e6-be663d91ff05",
   "metadata": {},
   "source": [
    "{0: [(2, [(1, 2), (2, 6), (6, 3)]),\n",
    "    (3, [(1, 2, 6), (2, 6, 3)]),\n",
    "    (4, [(1, 2, 6, 3)])]\n",
    " ...}"
   ]
  },
  {
   "cell_type": "markdown",
   "id": "9233612b-f3b4-4328-88ed-7843b13d0957",
   "metadata": {},
   "source": [
    "0: The index of vector <br>\n",
    "list: Contains tuples with different windows_size"
   ]
  },
  {
   "cell_type": "code",
   "execution_count": 77,
   "id": "03fb9196",
   "metadata": {},
   "outputs": [],
   "source": [
    "def append_to_dicc_new(dicc: dict, vec_id: int, list_: list) -> dict:\n",
    "    if vec_id not in dicc:\n",
    "        # key not exist\n",
    "        dicc[vec_id] = list_\n",
    "    else:\n",
    "        # key exist\n",
    "        for tuple_ in list_:\n",
    "            for item in dicc[vec_id]:\n",
    "                if item[0] == tuple_[0]:\n",
    "                    item[1].append(tuple_[1][0])\n",
    "                    break\n",
    "    return dicc"
   ]
  },
  {
   "cell_type": "markdown",
   "id": "b2a2a340-fad0-4464-a15b-01f01995d3b0",
   "metadata": {},
   "source": [
    "The \"low\" parameter can help us control the lower bound of the window_size."
   ]
  },
  {
   "cell_type": "code",
   "execution_count": 78,
   "id": "1c3380c6",
   "metadata": {},
   "outputs": [],
   "source": [
    "low = 10    # <~~~~~~~ define the lower bound threshold\n",
    "up = len(uniqe_dic)\n",
    "dicc = {}     \n",
    "\n",
    "for i_v, vector in enumerate(_2D_array):    \n",
    "    for index, element in enumerate(vector):\n",
    "        list_ = []\n",
    "        for wind_size in range(low, len(vector)+1-index):\n",
    "            list_.append((wind_size, [(*vector[index:index+wind_size], )]))\n",
    "        dicc = append_to_dicc_new(dicc, i_v, list_)    "
   ]
  },
  {
   "cell_type": "code",
   "execution_count": 79,
   "id": "f09aefad",
   "metadata": {},
   "outputs": [],
   "source": [
    "def remove_duplication(dup_list: list) -> list:\n",
    "    final_list = []\n",
    "    for item in dup_list:\n",
    "        if item not in final_list:\n",
    "            final_list.append(item)\n",
    "        else:\n",
    "            indx = final_list.index(item)\n",
    "            counter = final_list[indx][0] + 1\n",
    "            pair = final_list[indx][1]\n",
    "            final_list.remove(item)\n",
    "            final_list.append((counter, pair))\n",
    "    \n",
    "    return final_list"
   ]
  },
  {
   "cell_type": "markdown",
   "id": "a95a41ac-d183-4807-a0d1-fa9328e359cf",
   "metadata": {},
   "source": [
    "dic_count is a dictionary that key is window_size, and value is a list that contains tuples. Each tuple shows a pair and the number of pair's iteration on the matrix."
   ]
  },
  {
   "cell_type": "raw",
   "id": "4befab67-c057-41a7-84c5-aa6b89e363ef",
   "metadata": {},
   "source": [
    "{2: [(1, (5, 1)),\n",
    "  (1, (1, 6)),\n",
    "  (1, (1, 2)),\n",
    "  (1, (2, 6)),\n",
    "  (2, (6, 3)),\n",
    "  (1, (6, 1)),\n",
    "  (2, (1, 3)),\n",
    "  (3, (4, 5)),\n",
    "  (5, (3, 4)),\n",
    "  (2, (4, 3)),\n",
    "  (1, (3, 6)),\n",
    "  (1, (2, 3)),\n",
    "  (1, (3, 1)),\n",
    "  (2, (1, 4)),\n",
    "  (1, (4, 6))],\n",
    "  ...}"
   ]
  },
  {
   "cell_type": "code",
   "execution_count": 80,
   "id": "9ef3ffab",
   "metadata": {},
   "outputs": [],
   "source": [
    "dic_count = {}\n",
    "\n",
    "for vec_i, list_tuples in dicc.items():\n",
    "#     print(vec_i, list_tuples,\"\\n\")\n",
    "    for tuples_ in list_tuples:\n",
    "#         print(tuples_)\n",
    "        \n",
    "        if tuples_[0] not in dic_count:\n",
    "            lst_ = [(1, tuple_) for tuple_ in tuples_[1]] \n",
    "            \n",
    "            if len(lst_) != len(set(lst_)):\n",
    "                lst_ = remove_duplication(lst_)\n",
    "            \n",
    "            dic_count[tuples_[0]] = lst_  \n",
    "        else:\n",
    "            #(2, [(1, 3), (1, 4), (3, 4), (4, 5), (5, 1)]\n",
    "            #break\n",
    "            for tuple_ in tuples_[1]:\n",
    "                flag = 0 \n",
    "                for item in dic_count[tuples_[0]]:\n",
    "                    if item[1] == tuple_:\n",
    "                        counter = item[0] + 1\n",
    "                        dic_count[tuples_[0]].remove(item)\n",
    "                        dic_count[tuples_[0]].append((counter, item[1]))\n",
    "                        flag = 1\n",
    "                        break\n",
    "                # tuple is new\n",
    "                if flag == 0:\n",
    "                    dic_count[tuples_[0]].append((1, tuple_))\n",
    "#                 else: \n",
    "#                     print(\"Error100\")"
   ]
  },
  {
   "cell_type": "code",
   "execution_count": 81,
   "id": "beee1f2e",
   "metadata": {},
   "outputs": [
    {
     "data": {
      "text/plain": [
       "dict_keys([10, 11, 12, 13, 14, 15, 16, 17, 18, 19, 20, 21, 22, 23, 24, 25, 26, 27, 28, 29, 30, 31, 32, 33, 34, 35, 36, 37, 38, 39, 40, 41, 42, 43, 44, 45, 46, 47, 48, 49, 50, 51, 52])"
      ]
     },
     "execution_count": 81,
     "metadata": {},
     "output_type": "execute_result"
    }
   ],
   "source": [
    "dic_count.keys()"
   ]
  },
  {
   "cell_type": "code",
   "execution_count": 82,
   "id": "722f9e7d",
   "metadata": {},
   "outputs": [],
   "source": [
    "top_dic = {}\n",
    "\n",
    "def get_top_patterns(dic_count, top):\n",
    "    \n",
    "    for win_size, list_tuples in dic_count.items():\n",
    "        \n",
    "        Set_ = {tuple_[0] for tuple_ in list_tuples}\n",
    "        top_list = heapq.nlargest(top, Set_)\n",
    "        \n",
    "        top_dic[win_size] = []\n",
    "        for item in list_tuples:\n",
    "            if item[0] in top_list:\n",
    "                top_dic[win_size].append(item)  "
   ]
  },
  {
   "cell_type": "markdown",
   "id": "ee816038-8e18-4180-b2f2-7af6cd99fd07",
   "metadata": {},
   "source": [
    "The below function based on the dic_count dictionary trys to find x top patterns for each window_size"
   ]
  },
  {
   "cell_type": "code",
   "execution_count": 83,
   "id": "d07908ba",
   "metadata": {},
   "outputs": [],
   "source": [
    "get_top_patterns(dic_count, 2)"
   ]
  },
  {
   "cell_type": "code",
   "execution_count": 84,
   "id": "3fa153b3-af93-4c74-907f-36fefcce2096",
   "metadata": {},
   "outputs": [],
   "source": [
    "# top_dic[10]"
   ]
  },
  {
   "cell_type": "markdown",
   "id": "1e7686e5-ef45-48fa-ac24-a10d5e69c1b4",
   "metadata": {},
   "source": [
    "The below code converts the numbers of pairs to the string"
   ]
  },
  {
   "cell_type": "code",
   "execution_count": 85,
   "id": "7279c556",
   "metadata": {
    "tags": []
   },
   "outputs": [],
   "source": [
    "conv_dic = {}\n",
    "for wind_size, pairs_list in top_dic.items():\n",
    "    conv_dic[wind_size] = []\n",
    "    for pair in pairs_list:\n",
    "        t_tmp = ()\n",
    "        for pair_element in pair[1]:\n",
    "            i_to_str = uniqe_dic[pair_element]\n",
    "            if not i_to_str:\n",
    "                print(\"Error\")\n",
    "            t_tmp = t_tmp + (i_to_str,)\n",
    "        conv_dic[wind_size].append((pair[0], t_tmp))"
   ]
  },
  {
   "cell_type": "code",
   "execution_count": 86,
   "id": "c2612f95-90c6-4e32-975d-9e9f0313e795",
   "metadata": {
    "tags": []
   },
   "outputs": [],
   "source": [
    "# conv_dic[1]"
   ]
  },
  {
   "cell_type": "code",
   "execution_count": 87,
   "id": "82a9a6f3",
   "metadata": {},
   "outputs": [],
   "source": [
    "# with open('dict.csv', 'w') as csv_file:  \n",
    "#     writer = csv.writer(csv_file)\n",
    "#     for key, value in top_dic.items():\n",
    "#         writer.writerow([key, value])"
   ]
  },
  {
   "cell_type": "markdown",
   "id": "85825caa-0ea6-49f4-afb9-467ca6dcd2f8",
   "metadata": {},
   "source": [
    "dic_count is a dictionary that key is window_size, and value is a list that contains tuples. Each tuple shows a pair and the number of pair's iteration on the matrix."
   ]
  },
  {
   "cell_type": "markdown",
   "id": "ef1f87b4-36e2-4376-8f3f-ba55164a1b72",
   "metadata": {},
   "source": [
    "For each window_size we count the number of patterns that we found"
   ]
  },
  {
   "cell_type": "code",
   "execution_count": 88,
   "id": "65a66cc8",
   "metadata": {
    "tags": []
   },
   "outputs": [],
   "source": [
    "pattern_count = [len(value) for key, value in dic_count.items()]"
   ]
  },
  {
   "cell_type": "code",
   "execution_count": 89,
   "id": "5ffe1697",
   "metadata": {
    "tags": []
   },
   "outputs": [
    {
     "data": {
      "image/png": "[encoded data removed]",
      "text/plain": [
       "<Figure size 700x420 with 1 Axes>"
      ]
     },
     "metadata": {},
     "output_type": "display_data"
    }
   ],
   "source": [
    "import matplotlib.pyplot as plt; plt.rcdefaults()\n",
    "import numpy as np\n",
    "import matplotlib.pyplot as plt\n",
    "\n",
    "pattern_window_size = dic_count.keys()\n",
    "y_pos = np.arange(len(pattern_window_size))\n",
    "\n",
    "fig, ax = plt.subplots(figsize =(10, 6), dpi=70)\n",
    "ax.barh(y_pos, pattern_count, align='center', alpha=0.5, log=True)\n",
    "\n",
    "# for i in ax.patches:\n",
    "#     plt.text(i.get_width()+0.2, i.get_y()+0.5,\n",
    "#              str(round((i.get_width()), 2)),\n",
    "#              fontsize = 10, fontweight ='bold',\n",
    "#              color ='grey')\n",
    "\n",
    "# Add Plot Title\n",
    "ax.set_title('Patterns\\' Count for each Window Size',loc ='center')\n",
    "# ax.set_yticks(y_pos, objects)\n",
    "ax.set_xlabel('Count')\n",
    "ax.set_ylabel('Window Size')\n",
    "\n",
    "plt.show()"
   ]
  },
  {
   "cell_type": "markdown",
   "id": "baa8dc6b-c1d8-45fc-a851-184118ca1a3a",
   "metadata": {
    "tags": []
   },
   "source": [
    "### Approach (4): CC-Span"
   ]
  },
  {
   "cell_type": "code",
   "execution_count": 90,
   "id": "87d8aea6-501b-4a56-98ea-2cdad58ed6dc",
   "metadata": {},
   "outputs": [],
   "source": [
    "def append_to_dicc_new(dicc, vec_id, list_):\n",
    "    if vec_id not in dicc:\n",
    "        # key not exist\n",
    "        dicc[vec_id] = list_\n",
    "    else:\n",
    "        # key exist\n",
    "        for tuple_ in list_:\n",
    "            for item in dicc[vec_id]:\n",
    "                if item[0] == tuple_[0]:\n",
    "                    item[1].append(tuple_[1][0])\n",
    "                    break\n",
    "    return dicc"
   ]
  },
  {
   "cell_type": "code",
   "execution_count": 91,
   "id": "f9370071-2ec9-4fbb-8b33-8e66e38b8c48",
   "metadata": {},
   "outputs": [],
   "source": [
    "# Searching Pattern\n",
    "low = 1    # <~~~~~~~ define the lower bound threshold for the window size (the length of a pattern)\n",
    "up = len(uniqe_dic)\n",
    "dicc = {}     \n",
    "\n",
    "for i_v, vector in enumerate(_2D_array):    \n",
    "    for index, element in enumerate(vector):\n",
    "        list_ = []\n",
    "        for wind_size in range(low, len(vector)+1-index):\n",
    "            list_.append((wind_size, [(*vector[index:index+wind_size], )]))\n",
    "        dicc = append_to_dicc_new(dicc, i_v, list_)    "
   ]
  },
  {
   "cell_type": "code",
   "execution_count": 92,
   "id": "8cc8722d-db43-4dba-9531-d34bfa60cc66",
   "metadata": {
    "tags": []
   },
   "outputs": [
    {
     "name": "stdout",
     "output_type": "stream",
     "text": [
      "125\n",
      "dict_keys([0, 1, 2, 3, 4, 5, 6, 7, 8, 9, 10, 11, 12, 13, 14, 15, 16, 17, 18, 19, 20, 21, 22, 23, 24, 25, 26, 27, 28, 29, 30, 31, 32, 33, 34, 35, 36, 37, 38, 39])\n"
     ]
    },
    {
     "data": {
      "text/plain": [
       "40"
      ]
     },
     "execution_count": 92,
     "metadata": {},
     "output_type": "execute_result"
    }
   ],
   "source": [
    "print(len(uniqe_dic))\n",
    "print(dicc.keys())\n",
    "len(_2D_array)"
   ]
  },
  {
   "cell_type": "code",
   "execution_count": 93,
   "id": "a64a3b0e-ffa9-4999-96cf-5bdc766df1a5",
   "metadata": {},
   "outputs": [],
   "source": [
    "# Counting\n",
    "def remove_duplication(dup_list):\n",
    "    final_list = []\n",
    "    for item in dup_list:\n",
    "        if item not in final_list:\n",
    "            final_list.append(item)\n",
    "        else:\n",
    "            indx = final_list.index(item)\n",
    "            counter = final_list[indx][0] + 1\n",
    "            pair = final_list[indx][1]\n",
    "            final_list.remove(item)\n",
    "            final_list.append((counter, pair))\n",
    "    \n",
    "    return final_list"
   ]
  },
  {
   "cell_type": "code",
   "execution_count": 94,
   "id": "ca4b370c-9b01-4e16-a3a6-a7a58bc463e2",
   "metadata": {},
   "outputs": [],
   "source": [
    "dic_count = {}\n",
    "\n",
    "for vec_i, list_tuples in dicc.items():\n",
    "#     print(vec_i, list_tuples,\"\\n\")\n",
    "    for tuples_ in list_tuples:\n",
    "#         print(tuples_)\n",
    "        \n",
    "        if tuples_[0] not in dic_count:\n",
    "            lst_ = [(1, tuple_) for tuple_ in tuples_[1]] \n",
    "            \n",
    "            if len(lst_) != len(set(lst_)):\n",
    "                lst_ = remove_duplication(lst_)\n",
    "            \n",
    "            dic_count[tuples_[0]] = lst_  \n",
    "        else:\n",
    "            #(2, [(1, 3), (1, 4), (3, 4), (4, 5), (5, 1)]\n",
    "            #break\n",
    "            for tuple_ in tuples_[1]:\n",
    "                flag = 0 \n",
    "                for item in dic_count[tuples_[0]]:\n",
    "                    if item[1] == tuple_:\n",
    "                        counter = item[0] + 1\n",
    "                        dic_count[tuples_[0]].remove(item)\n",
    "                        dic_count[tuples_[0]].append((counter, item[1]))\n",
    "                        flag = 1\n",
    "                        break\n",
    "                # tuple is new\n",
    "                if flag == 0:\n",
    "                    dic_count[tuples_[0]].append((1, tuple_))\n",
    "#                 else: \n",
    "#                     print(\"Error100\")\n",
    "#     print(\"salam\", dic_count[2], \"\\n\\n\" )\n",
    "#     if vec_i == 1:\n",
    "#         break\n",
    "\n",
    "# _2d_array = [[1, 3, 4, 3, 4, 5, 1, 4],\n",
    "#              [1, 6, 3, 4, 5],\n",
    "#              [1, 2, 6, 3],\n",
    "#              [6, 1, 3, 4, 5],\n",
    "#              [3, 4, 3, 6],\n",
    "#              [2, 3, 1, 4, 6]]"
   ]
  },
  {
   "cell_type": "code",
   "execution_count": 95,
   "id": "cb0c9fd7-b3c5-4e61-84bd-bd84f14b392a",
   "metadata": {},
   "outputs": [],
   "source": [
    "def is_subsequence(needle: list, haystack: list) -> bool:\n",
    "    # >>> is_subsequence([2, 3, 4], [1, 2, 3, 4, 5, 6])\n",
    "    return any(\n",
    "        haystack[i:i+len(needle)] == needle\n",
    "        for i in range(len(haystack) - len(needle) + 1)\n",
    "    )"
   ]
  },
  {
   "cell_type": "code",
   "execution_count": 96,
   "id": "777e6228-2296-47e7-bc0a-aa9f658346a8",
   "metadata": {},
   "outputs": [],
   "source": [
    "def CloConSeqGen(dic_count: dict, threshold: int) -> list:\n",
    "    closed_list = []\n",
    "    for key, v_list in dic_count.items():\n",
    "        #print(key, v_list)\n",
    "        for item_tup in v_list:\n",
    "            tmp_flag = False\n",
    "            for key, v_list_search in dic_count.items():\n",
    "                for item_tup_search in v_list_search:\n",
    "                    #print(\"compare with: \", item_tup_search[1])\n",
    "                    if len(item_tup_search[1]) >= len(item_tup[1]) and is_subsequence(item_tup[1], item_tup_search[1]) and item_tup[1] != item_tup_search[1]:\n",
    "                        if item_tup[0] == item_tup_search[0]:\n",
    "                            tmp_flag = True\n",
    "            if not tmp_flag and item_tup[0] > threshold:\n",
    "\n",
    "                closed_list.append(item_tup)\n",
    "    return closed_list"
   ]
  },
  {
   "cell_type": "code",
   "execution_count": 97,
   "id": "dfbd276c-0735-4163-910b-27bd57d50fa9",
   "metadata": {
    "tags": []
   },
   "outputs": [
    {
     "data": {
      "text/plain": [
       "dict_keys([1, 2, 3, 4, 5, 6, 7, 8, 9, 10, 11, 12, 13, 14, 15, 16, 17, 18, 19, 20, 21, 22, 23, 24, 25, 26, 27, 28, 29, 30, 31, 32, 33, 34, 35, 36, 37, 38, 39, 40, 41, 42, 43, 44, 45, 46, 47, 48, 49, 50, 51, 52])"
      ]
     },
     "execution_count": 97,
     "metadata": {},
     "output_type": "execute_result"
    }
   ],
   "source": [
    "dic_count.keys()"
   ]
  },
  {
   "cell_type": "code",
   "execution_count": 98,
   "id": "70d292da-2e31-4ae1-9590-255586e51611",
   "metadata": {},
   "outputs": [],
   "source": [
    "def CloConSeqGen_v2(dic_count: dict) -> list:\n",
    "    closed_list = []\n",
    "    flag_first_step = True\n",
    "    for win_size in list(reversed(list(dic_count))):\n",
    "        # Just add the last or the biggest window_size to the list \n",
    "        if flag_first_step:\n",
    "            flag_first_step = False\n",
    "            for item in dic_count[win_size]:\n",
    "                closed_list.append(item)\n",
    "            continue\n",
    "        \n",
    "        # For other window sizes\n",
    "        for item_tup_new in dic_count[win_size]:\n",
    "            flag_visit = False\n",
    "            for item_tup_old in closed_list:\n",
    "                if item_tup_new[0] == item_tup_old[0] and is_subsequence(item_tup_new[1], item_tup_old[1]):\n",
    "                    flag_visit = True\n",
    "                    break\n",
    "            if not flag_visit:\n",
    "                closed_list.append(item_tup_new)\n",
    "\n",
    "    return closed_list"
   ]
  },
  {
   "cell_type": "code",
   "execution_count": 99,
   "id": "cbc205ce-b533-4d9e-81c6-623cc7d67941",
   "metadata": {},
   "outputs": [],
   "source": [
    "def CloConSeqGen_v3(dic_count: dict, threshold: int) -> list:\n",
    "    closed_list = []\n",
    "    flag_first_step = True\n",
    "    for win_size in list(reversed(list(dic_count))):\n",
    "        # Just add the last or the biggest window_size to the list \n",
    "        if flag_first_step:\n",
    "            for item in dic_count[win_size]:\n",
    "                if item[0] >= threshold:\n",
    "                    flag_first_step = False\n",
    "                    closed_list.append(item)\n",
    "            continue\n",
    "        \n",
    "        # For other window sizes\n",
    "        for item_tup_new in dic_count[win_size]:\n",
    "            flag_visit = False\n",
    "            for item_tup_old in closed_list:\n",
    "                if item_tup_new[0] == item_tup_old[0] and is_subsequence(item_tup_new[1], item_tup_old[1]):\n",
    "                    flag_visit = True\n",
    "                    break\n",
    "            if (not flag_visit) and (item_tup_new[0] >= threshold):\n",
    "                closed_list.append(item_tup_new)\n",
    "\n",
    "    return closed_list"
   ]
  },
  {
   "cell_type": "code",
   "execution_count": 100,
   "id": "57c0af36-4426-4796-9124-a3fbffa9354d",
   "metadata": {},
   "outputs": [],
   "source": [
    "# print(CloConSeqGen_v2(dic_count))\n",
    "# print(CloConSeqGen_v3(dic_count, threshold=1))\n",
    "# print(CloConSeqGen_v3(dic_count, threshold=1))\n",
    "result = CloConSeqGen_v3(dic_count, threshold=1)"
   ]
  },
  {
   "cell_type": "code",
   "execution_count": 167,
   "id": "296513cd-87dc-4503-b8d1-e914bd60906a",
   "metadata": {},
   "outputs": [
    {
     "data": {
      "text/plain": [
       "78"
      ]
     },
     "execution_count": 167,
     "metadata": {},
     "output_type": "execute_result"
    }
   ],
   "source": [
    "len(result)"
   ]
  },
  {
   "cell_type": "code",
   "execution_count": 101,
   "id": "d829d6fb-d9cb-4113-9fcb-646783250c5d",
   "metadata": {},
   "outputs": [
    {
     "name": "stdout",
     "output_type": "stream",
     "text": [
      "[1, 2, 3, 4, 5, 6, 10, 13] [78, 46, 25, 14, 6, 3, 2, 1] [100.0, 58.97435897435897, 32.05128205128205, 17.94871794871795, 7.6923076923076925, 3.8461538461538463, 2.5641025641025643, 1.2820512820512822]\n"
     ]
    }
   ],
   "source": [
    "# Find the low and high boundries of CloConSeqGen_v3 result\n",
    "for element in result:\n",
    "    if result.index(element) == 0:\n",
    "        low = element[0] \n",
    "        high = element[0]\n",
    "        continue\n",
    "    if low > element[0]:\n",
    "        low = element[0]\n",
    "    elif high < element[0]:\n",
    "        high = element[0]\n",
    "        \n",
    "sorted_result = sorted(result, key=lambda tup: tup[0])\n",
    "\n",
    "sup_x = sorted(set([element[0] for element in result]))\n",
    "len_sup_y = []\n",
    "\n",
    "for sup in sup_x:\n",
    "    len_sup_y.append(len(sorted_result) - [y[0] for y in sorted_result].index(sup))\n",
    "    \n",
    "per_len_sup_y = [(x*100)/len_sup_y[0] for x in len_sup_y]\n",
    "print(sup_x, len_sup_y, per_len_sup_y)"
   ]
  },
  {
   "cell_type": "code",
   "execution_count": 102,
   "id": "f03b924c-a66f-4fc4-b9a2-33e53411a5c0",
   "metadata": {},
   "outputs": [
    {
     "data": {
      "image/png": "[encoded data removed]",
      "text/plain": [
       "<Figure size 640x480 with 1 Axes>"
      ]
     },
     "metadata": {},
     "output_type": "display_data"
    }
   ],
   "source": [
    "plt.plot(sup_x, len_sup_y, '--o', color='#4b0082', linewidth=2)\n",
    "\n",
    "plt.xlabel('Support')\n",
    "plt.ylabel('# of patterns')\n",
    "plt.title('HughingFace RQ2')\n",
    "# plt.text(60, .025, r'$\\mu=100,\\ \\sigma=15$')\n",
    "# plt.xticks(sup_x)\n",
    "# plt.yticks(len_sup_y)\n",
    "\n",
    "plt.xlim([1, sup_x[-1]])\n",
    "plt.xticks([*range(1, sup_x[-1]+1)])\n",
    "\n",
    "plt.grid(False)\n",
    "plt.show()"
   ]
  },
  {
   "cell_type": "code",
   "execution_count": 103,
   "id": "2ce2ae78-67ae-4933-9957-c0b4c5d075f2",
   "metadata": {},
   "outputs": [
    {
     "data": {
      "image/png": "[encoded data removed]",
      "text/plain": [
       "<Figure size 640x480 with 1 Axes>"
      ]
     },
     "metadata": {},
     "output_type": "display_data"
    }
   ],
   "source": [
    "plt.plot(sup_x, per_len_sup_y, '--o', color='#4b8262', linewidth=2)\n",
    "\n",
    "plt.xlabel('Support')\n",
    "plt.ylabel('% of patterns')\n",
    "plt.title('HughingFace RQ2')\n",
    "# plt.text(60, .025, r'$\\mu=100,\\ \\sigma=15$')\n",
    "\n",
    "# plt.xlim([1, sup_x[-1]])\n",
    "# plt.xticks([*range(1, sup_x[-1]+1)])\n",
    "\n",
    "plt.grid(True)\n",
    "plt.show()"
   ]
  },
  {
   "cell_type": "code",
   "execution_count": 104,
   "id": "461e3565-b673-426e-b5d1-0d4fd9c3cbf1",
   "metadata": {},
   "outputs": [],
   "source": [
    "dic_hug_sup = {\"x\":sup_x, \"y\":per_len_sup_y}\n",
    "pickle.dump(dic_hug_sup, open( \"./dic_hug_sup.p\", \"wb\" ) )"
   ]
  },
  {
   "cell_type": "code",
   "execution_count": 105,
   "id": "0ab69bec-1f27-42d5-8fa3-5e8597e0e9e6",
   "metadata": {},
   "outputs": [
    {
     "data": {
      "image/png": "[encoded data removed]",
      "text/plain": [
       "<Figure size 640x480 with 1 Axes>"
      ]
     },
     "metadata": {},
     "output_type": "display_data"
    }
   ],
   "source": [
    "win_size_list = []\n",
    "for element in result:\n",
    "    win_size_list.append(len(element[1]))\n",
    "win_size_set = set(win_size_list)\n",
    "counter=collections.Counter(win_size_list)\n",
    "\n",
    "counter = dict(sorted(counter.items()))\n",
    "comulative_y = np.cumsum(list(counter.values()))\n",
    "\n",
    "plt.plot(counter.keys(), comulative_y, '--o', color='#4b8262', linewidth=2)\n",
    "\n",
    "plt.xlabel('Window size length')\n",
    "plt.ylabel('# of patterns')\n",
    "plt.title('HughingFace RQ2')\n",
    "# plt.text(60, .025, r'$\\mu=100,\\ \\sigma=15$')\n",
    "\n",
    "plt.grid(True)\n",
    "plt.show()"
   ]
  },
  {
   "cell_type": "code",
   "execution_count": 106,
   "id": "75782eee-25f6-4d7d-bc8b-7b17fdd5d72a",
   "metadata": {},
   "outputs": [
    {
     "data": {
      "image/png": "[encoded data removed]",
      "text/plain": [
       "<Figure size 480x320 with 1 Axes>"
      ]
     },
     "metadata": {},
     "output_type": "display_data"
    }
   ],
   "source": [
    "win_size_list = []\n",
    "for element in result:\n",
    "    win_size_list.append(len(element[1]))\n",
    "win_size_set = set(win_size_list)\n",
    "counter=collections.Counter(win_size_list)\n",
    "\n",
    "counter = dict(sorted(counter.items()))\n",
    "comulative_y = np.cumsum(list(counter.values()))\n",
    "\n",
    "per_list_patterns = []\n",
    "for element in comulative_y:\n",
    "    per_list_patterns.append((element*100)/comulative_y[-1])\n",
    "    \n",
    "fig = plt.figure(figsize=(6, 4), dpi=80)\n",
    "ax1 = fig.add_subplot(111)\n",
    "\n",
    "ax1.plot(counter.keys(), per_list_patterns, '--o', color='#4b8262', linewidth=2)\n",
    "ax1.set_xlabel('Window size length')\n",
    "ax1.set_ylabel('% of patterns')\n",
    "ax1.set_title('HughingFace RQ2')\n",
    "\n",
    "ax1.axis(ymin=0, ymax=102)\n",
    "ax1.yaxis.set_major_formatter(mtick.PercentFormatter())\n",
    "\n",
    "plt.grid(True)\n",
    "plt.show()"
   ]
  },
  {
   "cell_type": "code",
   "execution_count": 107,
   "id": "f32f01da-a10d-4be1-991b-9c543e51a582",
   "metadata": {},
   "outputs": [],
   "source": [
    "dic_hug_win = {\"x\":list(counter.keys()), \"y\":per_list_patterns}\n",
    "pickle.dump(dic_hug_win, open( \"./dic_hug_win.p\", \"wb\" ) )"
   ]
  },
  {
   "cell_type": "code",
   "execution_count": 108,
   "id": "b5e6dfde-947a-4d11-a6a9-42318ff66e7b",
   "metadata": {},
   "outputs": [
    {
     "name": "stdout",
     "output_type": "stream",
     "text": [
      "dict_keys([1, 2, 3, 4, 5, 6, 7, 8, 9, 10, 11, 12, 19, 52]) [51.282051282051285, 62.82051282051282, 65.38461538461539, 75.64102564102564, 80.76923076923077, 85.8974358974359, 87.17948717948718, 91.02564102564102, 93.58974358974359, 94.87179487179488, 96.15384615384616, 97.43589743589743, 98.71794871794872, 100.0]\n"
     ]
    }
   ],
   "source": [
    "print(counter.keys(), per_list_patterns)"
   ]
  },
  {
   "cell_type": "markdown",
   "id": "69976aca-66ae-4651-b7cb-fe34429ec72a",
   "metadata": {
    "jp-MarkdownHeadingCollapsed": true,
    "tags": []
   },
   "source": [
    "### Approach (5):"
   ]
  },
  {
   "cell_type": "markdown",
   "id": "93385165-9c8d-4743-b74a-6040ac7930a6",
   "metadata": {},
   "source": [
    "In this method, we tried to find pattern based on the dic, so it is super time-consuming."
   ]
  },
  {
   "cell_type": "code",
   "execution_count": 109,
   "id": "2a8e7461",
   "metadata": {},
   "outputs": [],
   "source": [
    "# def append_to_dicc(dicc, indx_vec, pair_size, item):\n",
    "#     list_permut_tuples = dicc[indx_vec]\n",
    "#     flag = 0\n",
    "#     for tuple_per in list_permut_tuples:\n",
    "#         if tuple_per[0] == pair_size:\n",
    "#             flag = 1\n",
    "#             # check\n",
    "#             if item in set(tuple_per[1]):\n",
    "#                 print(\"Error1\")\n",
    "#             else:\n",
    "# #                 print(\"old\")\n",
    "#                 tuple_per[1].append(item)\n",
    "#             break\n",
    "#     if flag == 0:\n",
    "# #         arr = []\n",
    "# #         arr.append(item)\n",
    "# #         print(\"new\")\n",
    "#         dicc[indx_vec].append((pair_size, item))\n",
    "#     return dicc "
   ]
  },
  {
   "cell_type": "code",
   "execution_count": 110,
   "id": "b4f30721",
   "metadata": {},
   "outputs": [],
   "source": [
    "# def get_extended_permut(uniqe_dic, list_tuples):\n",
    "#     list_ = []\n",
    "#     for element in list_tuples:\n",
    "#         for key in uniqe_dic:\n",
    "#             list_.append((*element, key))\n",
    "#     return list_"
   ]
  },
  {
   "cell_type": "code",
   "execution_count": 111,
   "id": "8f6f303d",
   "metadata": {},
   "outputs": [],
   "source": [
    "# def get_permut_from_dic(dicc, index_vec, pair_size):\n",
    "#     for tuple_item in dicc[index_vec]:\n",
    "#         if tuple_item[0] == pair_size:\n",
    "#             return tuple_item[1]\n",
    "#     return []"
   ]
  },
  {
   "cell_type": "code",
   "execution_count": 112,
   "id": "6cc23194",
   "metadata": {},
   "outputs": [],
   "source": [
    "# low = 2\n",
    "# up = len(uniqe_dic)\n",
    "# dicc = {} \n",
    "\n",
    "# for m in range(low, up+1):\n",
    "    \n",
    "#     for i_v, vector in enumerate(_2D_array):\n",
    "# #         print(\"\\nvec \", vector)\n",
    "#         list_ = []\n",
    "#         flag = 0\n",
    "#         if m == low:\n",
    "#             permut_list = list(permutations(uniqe_dic.keys(), m))\n",
    "#         else:\n",
    "#             permut_pre = get_permut_from_dic(dicc, i_v, m-1)\n",
    "#             if not permut_pre:\n",
    "#                 # There is no pairs for the previous combination\n",
    "# #                 print(\"\\n\\nsalam\\n\\n\", m)\n",
    "#                 continue\n",
    "#             permut_list = get_extended_permut(uniqe_dic , permut_pre)\n",
    "        \n",
    "# #         print(\"Per list: \", permut_list)\n",
    "# #         print(\"Dicc curent: \", dicc)\n",
    "        \n",
    "#         for pair in permut_list:\n",
    "# #             print(pair)\n",
    "#             for idx, element_str in enumerate(vector):   \n",
    "#                 if element_str == pair[0]:\n",
    "#                     if (idx+len(pair)) <= len(vector): \n",
    "#                         for i_p in range(0, len(pair)):\n",
    "#                             if pair[i_p] != vector[idx+i_p]:\n",
    "#                                 flag = 1\n",
    "#                                 break\n",
    "#                         if flag == 0:\n",
    "#                             list_.append(pair)\n",
    "#                         flag = 0\n",
    "#         # insert to dic\n",
    "#         if m == low:\n",
    "#             dicc[i_v] = [(len(pair), list_)]\n",
    "#         else:\n",
    "#             # List not empty\n",
    "#             if list_:\n",
    "#                 #print(\"sa \", list_)\n",
    "#                 dicc = append_to_dicc(dicc, i_v, len(pair), list_)\n",
    "#             #print(dicc)\n",
    "\n",
    "# #         print(dicc)\n",
    "# #     if m == low+1:\n",
    "# #         break"
   ]
  },
  {
   "cell_type": "code",
   "execution_count": 113,
   "id": "939d07ab",
   "metadata": {},
   "outputs": [],
   "source": [
    "#_2D_array_pad = numpy_fillna(_2D_array)"
   ]
  },
  {
   "cell_type": "code",
   "execution_count": 114,
   "id": "947b7e78",
   "metadata": {},
   "outputs": [],
   "source": [
    "#_2D_array_pad.shape"
   ]
  },
  {
   "cell_type": "code",
   "execution_count": 115,
   "id": "04890c87",
   "metadata": {},
   "outputs": [],
   "source": [
    "# print(f\"The number of entire stack traces is {_2D_array_pad.shape[0]} and the maximum number of pairs in a stack trase is {_2D_array_pad.shape[1]}.\")"
   ]
  },
  {
   "cell_type": "markdown",
   "id": "07b32bcc-71f5-421c-accd-f653be2a3ef5",
   "metadata": {},
   "source": [
    "### Approach (4 OR 3)"
   ]
  },
  {
   "cell_type": "markdown",
   "id": "c357a85a-7885-48e0-8886-14dde5a5c273",
   "metadata": {},
   "source": [
    "We want to create a dict based on the vectors on the numerical matrix."
   ]
  },
  {
   "cell_type": "markdown",
   "id": "179e9b7d-3766-445c-b017-ec754c25a617",
   "metadata": {},
   "source": [
    "By the below function, we tried to find and search the patterns for each vector based on the window_size"
   ]
  },
  {
   "cell_type": "raw",
   "id": "b0198736-e964-4118-94c7-1bd9d62fc5a9",
   "metadata": {},
   "source": [
    "Input Vector: [1, 2, 6, 3]"
   ]
  },
  {
   "cell_type": "raw",
   "id": "83505192-910b-4e1e-8344-81328a8eb8b6",
   "metadata": {},
   "source": [
    "{0: [(2, [(1, 2), (2, 6), (6, 3)]),\n",
    "    (3, [(1, 2, 6), (2, 6, 3)]),\n",
    "    (4, [(1, 2, 6, 3)])]\n",
    " ...}"
   ]
  },
  {
   "cell_type": "markdown",
   "id": "0a38b425-0c57-4d89-976f-5275e737e49f",
   "metadata": {},
   "source": [
    "0: The index of vector <br>\n",
    "list: Contains tuples with different windows_size"
   ]
  },
  {
   "cell_type": "code",
   "execution_count": 116,
   "id": "5f2cd560-0c1c-46d6-9185-03b8c5d55a48",
   "metadata": {},
   "outputs": [],
   "source": [
    "def append_to_dicc_new(dicc: dict, vec_id: int, list_: list) -> dict:\n",
    "    if vec_id not in dicc:\n",
    "        # key not exist\n",
    "        dicc[vec_id] = list_\n",
    "    else:\n",
    "        # key exist\n",
    "        for tuple_ in list_:\n",
    "            for item in dicc[vec_id]:\n",
    "                if item[0] == tuple_[0]:\n",
    "                    item[1].append(tuple_[1][0])\n",
    "                    break\n",
    "    return dicc"
   ]
  },
  {
   "cell_type": "markdown",
   "id": "11242393-1dbb-4639-b6de-4d43bb00d282",
   "metadata": {},
   "source": [
    "The \"low\" parameter can help us control the lower bound of the window_size."
   ]
  },
  {
   "cell_type": "code",
   "execution_count": 117,
   "id": "b294e795-46b9-45a1-9c1a-fcff2fd54b3d",
   "metadata": {},
   "outputs": [],
   "source": [
    "low = 0    # <~~~~~~~ define the lower bound threshold\n",
    "up = len(uniqe_dic)\n",
    "dicc = {}     \n",
    "\n",
    "for i_v, vector in enumerate(_2D_array):    \n",
    "    for index, element in enumerate(vector):\n",
    "        list_ = []\n",
    "        for wind_size in range(low, len(vector)+1-index):\n",
    "            list_.append((wind_size, [(*vector[index:index+wind_size], )]))\n",
    "        dicc = append_to_dicc_new(dicc, i_v, list_)    "
   ]
  },
  {
   "cell_type": "code",
   "execution_count": 118,
   "id": "bec3bb37-1e9a-4d1d-82ca-082eb5b76080",
   "metadata": {},
   "outputs": [],
   "source": [
    "# _2D_array"
   ]
  },
  {
   "cell_type": "code",
   "execution_count": 119,
   "id": "67829418-d3f2-43bb-8d22-ae95fede6605",
   "metadata": {},
   "outputs": [],
   "source": [
    "# dicc.keys()"
   ]
  },
  {
   "cell_type": "code",
   "execution_count": 120,
   "id": "30b279bf-68b7-4617-a80b-6800bc0dd29e",
   "metadata": {},
   "outputs": [],
   "source": [
    "def remove_duplication(dup_list: list) -> list:\n",
    "    final_list = []\n",
    "    for item in dup_list:\n",
    "        if item not in final_list:\n",
    "            final_list.append(item)\n",
    "        else:\n",
    "            indx = final_list.index(item)\n",
    "            counter = final_list[indx][0] + 1\n",
    "            pair = final_list[indx][1]\n",
    "            final_list.remove(item)\n",
    "            final_list.append((counter, pair))\n",
    "    \n",
    "    return final_list"
   ]
  },
  {
   "cell_type": "markdown",
   "id": "4cfb7c10-32b5-443b-8437-7a7a2f0e062b",
   "metadata": {},
   "source": [
    "dic_count is a dictionary that key is window_size, and value is a list that contains tuples. Each tuple shows a pair and the number of pair's iteration on the matrix."
   ]
  },
  {
   "cell_type": "raw",
   "id": "1eb62d1f-1676-44b4-9fd1-38a553ab9104",
   "metadata": {},
   "source": [
    "{2: [(1, (5, 1)),\n",
    "  (1, (1, 6)),\n",
    "  (1, (1, 2)),\n",
    "  (1, (2, 6)),\n",
    "  (2, (6, 3)),\n",
    "  (1, (6, 1)),\n",
    "  (2, (1, 3)),\n",
    "  (3, (4, 5)),\n",
    "  (5, (3, 4)),\n",
    "  (2, (4, 3)),\n",
    "  (1, (3, 6)),\n",
    "  (1, (2, 3)),\n",
    "  (1, (3, 1)),\n",
    "  (2, (1, 4)),\n",
    "  (1, (4, 6))],\n",
    "  ...}"
   ]
  },
  {
   "cell_type": "code",
   "execution_count": 121,
   "id": "3d89a680-9e94-4d2c-9965-a70c70002381",
   "metadata": {},
   "outputs": [],
   "source": [
    "dic_count = {}\n",
    "\n",
    "for vec_i, list_tuples in dicc.items():\n",
    "#     print(vec_i, list_tuples,\"\\n\")\n",
    "    for tuples_ in list_tuples:\n",
    "#         print(tuples_)\n",
    "        \n",
    "        if tuples_[0] not in dic_count:\n",
    "            lst_ = [(1, tuple_) for tuple_ in tuples_[1]] \n",
    "            \n",
    "            if len(lst_) != len(set(lst_)):\n",
    "                lst_ = remove_duplication(lst_)\n",
    "            \n",
    "            dic_count[tuples_[0]] = lst_  \n",
    "        else:\n",
    "            #(2, [(1, 3), (1, 4), (3, 4), (4, 5), (5, 1)]\n",
    "            #break\n",
    "            for tuple_ in tuples_[1]:\n",
    "                flag = 0 \n",
    "                for item in dic_count[tuples_[0]]:\n",
    "                    if item[1] == tuple_:\n",
    "                        counter = item[0] + 1\n",
    "                        dic_count[tuples_[0]].remove(item)\n",
    "                        dic_count[tuples_[0]].append((counter, item[1]))\n",
    "                        flag = 1\n",
    "                        break\n",
    "                # tuple is new\n",
    "                if flag == 0:\n",
    "                    dic_count[tuples_[0]].append((1, tuple_))\n",
    "#                 else: \n",
    "#                     print(\"Error100\")"
   ]
  },
  {
   "cell_type": "markdown",
   "id": "7ad038b7-d5a8-4fa4-93ca-ad75d7fa5fae",
   "metadata": {},
   "source": [
    "dic_count is a dictionary that key is window_size, and value is a list that contains tuples. Each tuple shows a pair and the number of pair's iteration on the matrix."
   ]
  },
  {
   "cell_type": "markdown",
   "id": "fec3d696-c8ce-46a2-849b-123e5496e226",
   "metadata": {},
   "source": [
    "For each window_size we count the number of patterns that we found"
   ]
  },
  {
   "cell_type": "code",
   "execution_count": 122,
   "id": "aa4e44e7-b055-417a-b035-a76bf6091f96",
   "metadata": {},
   "outputs": [
    {
     "data": {
      "text/plain": [
       "[(43, ()), (43, ()), (43, ()), (42, ()), (44, ())]"
      ]
     },
     "execution_count": 122,
     "metadata": {},
     "output_type": "execute_result"
    }
   ],
   "source": [
    "dic_count.pop(0)"
   ]
  },
  {
   "cell_type": "code",
   "execution_count": 123,
   "id": "64d8f115-e210-4aee-91d5-a5536f65f557",
   "metadata": {},
   "outputs": [
    {
     "data": {
      "image/png": "[encoded data removed]",
      "text/plain": [
       "<Figure size 600x400 with 1 Axes>"
      ]
     },
     "metadata": {},
     "output_type": "display_data"
    }
   ],
   "source": [
    "inst_length = dic_count.keys()\n",
    "inst_count = [len(value) for key, value in dic_count.items()]\n",
    "comulative_inst_count = np.cumsum(inst_count)\n",
    "\n",
    "per_comulative_inst_count = []\n",
    "for element in comulative_inst_count:\n",
    "    per_comulative_inst_count.append((element*100)/comulative_inst_count[-1])\n",
    "\n",
    "fig = plt.figure(figsize=(6, 4), dpi=100)\n",
    "ax1 = fig.add_subplot(111)\n",
    "\n",
    "ax1.plot(inst_length, per_comulative_inst_count, '--o', color='#4b8262', linewidth=2)\n",
    "plt.xlabel('Instance\\'s length')\n",
    "plt.ylabel('Cumulative % of stack trace instances')\n",
    "ax1.set_title('Hug RQ2')\n",
    "\n",
    "# plt.vlines(x=5, ymin=60, ymax=95, color='red')\n",
    "\n",
    "# plt.text(5.5, 65, 'sentence', rotation=0)\n",
    "ax1.axis(ymin=0, ymax=102)\n",
    "ax1.yaxis.set_major_formatter(mtick.PercentFormatter())\n",
    "\n",
    "plt.grid(True)\n",
    "plt.show()"
   ]
  },
  {
   "cell_type": "code",
   "execution_count": 124,
   "id": "a2e2e7ee-b20e-4abf-b2da-c14ce4136c00",
   "metadata": {
    "tags": []
   },
   "outputs": [
    {
     "data": {
      "image/png": "[encoded data removed]",
      "text/plain": [
       "<Figure size 700x420 with 1 Axes>"
      ]
     },
     "metadata": {},
     "output_type": "display_data"
    }
   ],
   "source": [
    "# import matplotlib.pyplot as plt; plt.rcdefaults()\n",
    "# import numpy as np\n",
    "# import matplotlib.pyplot as plt\n",
    "fig, ax = plt.subplots(figsize =(10, 6), dpi=70)\n",
    "ax.barh(list(inst_length), inst_count, align='center', alpha=0.5, log=True)\n",
    "\n",
    "for i in ax.patches:\n",
    "    plt.text(i.get_width()+0.2, i.get_y()+0.3,\n",
    "             str(round((i.get_width()), 2)),\n",
    "             fontsize = 10, fontweight ='bold',\n",
    "             color ='grey')\n",
    "\n",
    "# Add Plot Title\n",
    "ax.set_title('The frequency of stack trace intances for each instance\\'s length',loc ='center')\n",
    "# ax.set_yticks(y_pos, objects)\n",
    "ax.set_xlabel('Frequency')\n",
    "ax.set_ylabel('Instance\\'s length')\n",
    "\n",
    "plt.show()"
   ]
  },
  {
   "cell_type": "markdown",
   "id": "902985c2-8378-421e-8ef3-5c6f4950317d",
   "metadata": {},
   "source": [
    "### Approach (4): CC-Span"
   ]
  },
  {
   "cell_type": "code",
   "execution_count": 125,
   "id": "ab8d7695-92d2-4bab-9eb6-58b364ed9697",
   "metadata": {},
   "outputs": [],
   "source": [
    "def append_to_dicc_new(dicc, vec_id, list_):\n",
    "    if vec_id not in dicc:\n",
    "        # key not exist\n",
    "        dicc[vec_id] = list_\n",
    "    else:\n",
    "        # key exist\n",
    "        for tuple_ in list_:\n",
    "            for item in dicc[vec_id]:\n",
    "                if item[0] == tuple_[0]:\n",
    "                    item[1].append(tuple_[1][0])\n",
    "                    break\n",
    "    return dicc"
   ]
  },
  {
   "cell_type": "code",
   "execution_count": 126,
   "id": "30656fa6-cb3a-4501-b6cb-e2d803223dd6",
   "metadata": {},
   "outputs": [],
   "source": [
    "# _2D_array"
   ]
  },
  {
   "cell_type": "code",
   "execution_count": 127,
   "id": "ccf64db7-8d09-49a1-8a48-1c8e2fb00224",
   "metadata": {},
   "outputs": [],
   "source": [
    "# Searching Pattern\n",
    "low = 1     # <~~~~~~~ define the lower bound threshold\n",
    "up = len(uniqe_dic)\n",
    "dicc = {}     \n",
    "\n",
    "for i_v, vector in enumerate(_2D_array):    \n",
    "    for index, element in enumerate(vector):\n",
    "        list_ = []\n",
    "        for wind_size in range(low, len(vector)+1-index):\n",
    "            list_.append((wind_size, [(*vector[index:index+wind_size], )]))\n",
    "        dicc = append_to_dicc_new(dicc, i_v, list_)    "
   ]
  },
  {
   "cell_type": "code",
   "execution_count": 128,
   "id": "db152210-f7e6-4dea-91b9-bb5cd6fb851c",
   "metadata": {},
   "outputs": [],
   "source": [
    "# Counting\n",
    "def remove_duplication(dup_list):\n",
    "    final_list = []\n",
    "    for item in dup_list:\n",
    "        if item not in final_list:\n",
    "            final_list.append(item)\n",
    "        else:\n",
    "            indx = final_list.index(item)\n",
    "            counter = final_list[indx][0] + 1\n",
    "            pair = final_list[indx][1]\n",
    "            final_list.remove(item)\n",
    "            final_list.append((counter, pair))\n",
    "    \n",
    "    return final_list"
   ]
  },
  {
   "cell_type": "code",
   "execution_count": 129,
   "id": "09265fb2-dbc5-44c1-abdd-a806b60f9d87",
   "metadata": {},
   "outputs": [],
   "source": [
    "dic_count = {}\n",
    "\n",
    "for vec_i, list_tuples in dicc.items():\n",
    "#     print(vec_i, list_tuples,\"\\n\")\n",
    "    for tuples_ in list_tuples:\n",
    "#         print(tuples_)\n",
    "        \n",
    "        if tuples_[0] not in dic_count:\n",
    "            lst_ = [(1, tuple_) for tuple_ in tuples_[1]] \n",
    "            \n",
    "            if len(lst_) != len(set(lst_)):\n",
    "                lst_ = remove_duplication(lst_)\n",
    "            \n",
    "            dic_count[tuples_[0]] = lst_  \n",
    "        else:\n",
    "            #(2, [(1, 3), (1, 4), (3, 4), (4, 5), (5, 1)]\n",
    "            #break\n",
    "            for tuple_ in tuples_[1]:\n",
    "                flag = 0 \n",
    "                for item in dic_count[tuples_[0]]:\n",
    "                    if item[1] == tuple_:\n",
    "                        counter = item[0] + 1\n",
    "                        dic_count[tuples_[0]].remove(item)\n",
    "                        dic_count[tuples_[0]].append((counter, item[1]))\n",
    "                        flag = 1\n",
    "                        break\n",
    "                # tuple is new\n",
    "                if flag == 0:\n",
    "                    dic_count[tuples_[0]].append((1, tuple_))\n",
    "#                 else: \n",
    "#                     print(\"Error100\")\n",
    "#     print(\"salam\", dic_count[2], \"\\n\\n\" )\n",
    "#     if vec_i == 1:\n",
    "#         break\n",
    "\n",
    "# _2d_array = [[1, 3, 4, 3, 4, 5, 1, 4],\n",
    "#              [1, 6, 3, 4, 5],\n",
    "#              [1, 2, 6, 3],\n",
    "#              [6, 1, 3, 4, 5],\n",
    "#              [3, 4, 3, 6],\n",
    "#              [2, 3, 1, 4, 6]]"
   ]
  },
  {
   "cell_type": "code",
   "execution_count": 130,
   "id": "9843c0bf-f0bd-409c-a9be-b7980597c07b",
   "metadata": {},
   "outputs": [],
   "source": [
    "def is_subsequence(needle: list, haystack: list) -> bool:\n",
    "    # >>> is_subsequence([2, 3, 4], [1, 2, 3, 4, 5, 6])\n",
    "    return any(\n",
    "        haystack[i:i+len(needle)] == needle\n",
    "        for i in range(len(haystack) - len(needle) + 1)\n",
    "    )"
   ]
  },
  {
   "cell_type": "code",
   "execution_count": 131,
   "id": "5efe7ae8-f6ee-4eaf-8d84-d44dac5fe74d",
   "metadata": {},
   "outputs": [],
   "source": [
    "def CloConSeqGen(dic_count: dict, threshold: int) -> list:\n",
    "    closed_list = []\n",
    "    for key, v_list in dic_count.items():\n",
    "        #print(key, v_list)\n",
    "        for item_tup in v_list:\n",
    "            tmp_flag = False\n",
    "            for key, v_list_search in dic_count.items():\n",
    "                for item_tup_search in v_list_search:\n",
    "                    #print(\"compare with: \", item_tup_search[1])\n",
    "                    if len(item_tup_search[1]) >= len(item_tup[1]) and is_subsequence(item_tup[1], item_tup_search[1]) and item_tup[1] != item_tup_search[1]:\n",
    "                        if item_tup[0] == item_tup_search[0]:\n",
    "                            tmp_flag = True\n",
    "            if not tmp_flag and item_tup[0] > threshold:\n",
    "\n",
    "                closed_list.append(item_tup)\n",
    "    return closed_list"
   ]
  },
  {
   "cell_type": "code",
   "execution_count": 132,
   "id": "8ae17dc1-3fb7-4420-83d7-09a49f5f15b4",
   "metadata": {
    "tags": []
   },
   "outputs": [
    {
     "data": {
      "text/plain": [
       "dict_keys([1, 2, 3, 4, 5, 6, 7, 8, 9, 10, 11, 12, 13, 14, 15, 16, 17, 18, 19, 20, 21, 22, 23, 24, 25, 26, 27, 28, 29, 30, 31, 32, 33, 34, 35, 36, 37, 38, 39, 40, 41, 42, 43, 44, 45, 46, 47, 48, 49, 50, 51, 52])"
      ]
     },
     "execution_count": 132,
     "metadata": {},
     "output_type": "execute_result"
    }
   ],
   "source": [
    "dic_count.keys()"
   ]
  },
  {
   "cell_type": "code",
   "execution_count": 133,
   "id": "7f104237-9d24-4836-9b72-13f9abb5955a",
   "metadata": {},
   "outputs": [],
   "source": [
    "def CloConSeqGen_v2(dic_count: dict) -> list:\n",
    "    closed_list = []\n",
    "    flag_first_step = True\n",
    "    for win_size in list(reversed(list(dic_count))):\n",
    "        # Just add the last or the biggest window_size to the list \n",
    "        if flag_first_step:\n",
    "            flag_first_step = False\n",
    "            for item in dic_count[win_size]:\n",
    "                closed_list.append(item)\n",
    "            continue\n",
    "        \n",
    "        # For other window sizes\n",
    "        for item_tup_new in dic_count[win_size]:\n",
    "            flag_visit = False\n",
    "            for item_tup_old in closed_list:\n",
    "                if item_tup_new[0] == item_tup_old[0] and is_subsequence(item_tup_new[1], item_tup_old[1]):\n",
    "                    flag_visit = True\n",
    "                    break\n",
    "            if not flag_visit:\n",
    "                closed_list.append(item_tup_new)\n",
    "\n",
    "    return len(closed_list)"
   ]
  },
  {
   "cell_type": "code",
   "execution_count": 134,
   "id": "2acf4a72-4716-4621-9b8e-7515b722d76c",
   "metadata": {},
   "outputs": [],
   "source": [
    "def CloConSeqGen_v3(dic_count: dict, threshold: int) -> list:\n",
    "    closed_list = []\n",
    "    removed_closed_list = []\n",
    "    flag_first_step = True\n",
    "    for win_size in list(reversed(list(dic_count))):\n",
    "        # Just add the last or the biggest window_size to the list \n",
    "        if flag_first_step:\n",
    "            for item in dic_count[win_size]:\n",
    "                if item[0] >= threshold:\n",
    "                    flag_first_step = False\n",
    "                    closed_list.append(item)\n",
    "                else:\n",
    "                    removed_closed_list.append(item)\n",
    "            continue\n",
    "        \n",
    "        # For other window sizes\n",
    "        for item_tup_new in dic_count[win_size]:\n",
    "            flag_visit = False\n",
    "            for item_tup_old in closed_list:\n",
    "                if item_tup_new[0] == item_tup_old[0] and is_subsequence(item_tup_new[1], item_tup_old[1]):\n",
    "                    flag_visit = True\n",
    "                    break  \n",
    "            if (not flag_visit) and (item_tup_new[0] >= threshold):\n",
    "                closed_list.append(item_tup_new)\n",
    "            else:\n",
    "                removed_closed_list.append(item_tup_new)\n",
    "\n",
    "    return closed_list, removed_closed_list"
   ]
  },
  {
   "cell_type": "code",
   "execution_count": 135,
   "id": "44a08d98-eeae-4758-a32c-5e3d4ae933c8",
   "metadata": {},
   "outputs": [],
   "source": [
    "# print(CloConSeqGen_v2(dic_count))\n",
    "# print(CloConSeqGen_v3(dic_count, 1))\n",
    "# print(CloConSeqGen_v3(dic_count, 5))"
   ]
  },
  {
   "cell_type": "code",
   "execution_count": 136,
   "id": "d4efd6f4-5108-43b7-b57a-649b07eada9c",
   "metadata": {},
   "outputs": [],
   "source": [
    "# print(CloConSeqGen_v2(dic_count))\n",
    "# print(CloConSeqGen_v3(dic_count, threshold=1))\n",
    "# print(CloConSeqGen_v3(dic_count, threshold=1))\n",
    "result, result_remove = CloConSeqGen_v3(dic_count, threshold=1)"
   ]
  },
  {
   "cell_type": "code",
   "execution_count": 137,
   "id": "a153b10f-801c-43b7-a7f5-0e6812cfc811",
   "metadata": {},
   "outputs": [],
   "source": [
    "# _2D_array"
   ]
  },
  {
   "cell_type": "code",
   "execution_count": 138,
   "id": "3f060ec9-390d-4792-9125-9115d7511f67",
   "metadata": {},
   "outputs": [],
   "source": [
    "# result"
   ]
  },
  {
   "cell_type": "code",
   "execution_count": 139,
   "id": "3219feb3-8415-4b01-bb63-3da8a6c8d7a9",
   "metadata": {
    "tags": []
   },
   "outputs": [
    {
     "name": "stdout",
     "output_type": "stream",
     "text": [
      "[1, 2, 3, 4, 5, 6, 10, 13] [78, 46, 25, 14, 6, 3, 2, 1] [100.0, 58.97435897435897, 32.05128205128205, 17.94871794871795, 7.6923076923076925, 3.8461538461538463, 2.5641025641025643, 1.2820512820512822]\n"
     ]
    }
   ],
   "source": [
    "# Find the low and high boundries of CloConSeqGen_v3 result\n",
    "for element in result:\n",
    "    if result.index(element) == 0:\n",
    "        low = element[0] \n",
    "        high = element[0]\n",
    "        continue\n",
    "    if low > element[0]:\n",
    "        low = element[0]\n",
    "    elif high < element[0]:\n",
    "        high = element[0]\n",
    "        \n",
    "sorted_result = sorted(result, key=lambda tup: tup[0])\n",
    "\n",
    "sup_x = sorted(set([element[0] for element in result]))\n",
    "len_sup_y = []\n",
    "\n",
    "for sup in sup_x:\n",
    "    len_sup_y.append(len(sorted_result) - [y[0] for y in sorted_result].index(sup))\n",
    "    \n",
    "per_len_sup_y = [(x*100)/len_sup_y[0] for x in len_sup_y]\n",
    "print(sup_x, len_sup_y, per_len_sup_y)"
   ]
  },
  {
   "cell_type": "code",
   "execution_count": 140,
   "id": "0e3da367-cd67-4e59-801c-1b90067f6785",
   "metadata": {
    "tags": []
   },
   "outputs": [
    {
     "data": {
      "image/png": "[encoded data removed]",
      "text/plain": [
       "<Figure size 640x480 with 1 Axes>"
      ]
     },
     "metadata": {},
     "output_type": "display_data"
    }
   ],
   "source": [
    "plt.plot(sup_x, len_sup_y, '--o', color='#4b0082', linewidth=2)\n",
    "\n",
    "plt.xlabel('Support (frequency of patterns)')\n",
    "plt.ylabel('# of patterns')\n",
    "# plt.title('Spark ML RQ2')\n",
    "# plt.text(60, .025, r'$\\mu=100,\\ \\sigma=15$')\n",
    "# plt.xticks(sup_x)\n",
    "# plt.yticks(len_sup_y)\n",
    "\n",
    "plt.xlim([1, sup_x[-1]])\n",
    "plt.xticks([*range(1, sup_x[-1]+1)])\n",
    "\n",
    "plt.grid(False)\n",
    "plt.show()"
   ]
  },
  {
   "cell_type": "code",
   "execution_count": 141,
   "id": "17ec47ee-ab50-43b2-9fa6-f6850dbf2089",
   "metadata": {
    "tags": []
   },
   "outputs": [
    {
     "data": {
      "image/png": "[encoded data removed]",
      "text/plain": [
       "<Figure size 600x400 with 1 Axes>"
      ]
     },
     "metadata": {},
     "output_type": "display_data"
    }
   ],
   "source": [
    "fig = plt.figure(figsize=(6, 4), dpi=100)\n",
    "ax1 = fig.add_subplot(111)\n",
    "\n",
    "plt.plot(sup_x, per_len_sup_y, '--o', color='#4b8262', linewidth=2)\n",
    "\n",
    "plt.xlabel('Support')\n",
    "plt.ylabel('Cumulative % of stack trace patterns')\n",
    "plt.title('Hugh RQ2: Find a threshold for the support variable.')\n",
    "# plt.text(60, .025, r'$\\mu=100,\\ \\sigma=15$')\n",
    "plt.vlines(x=2, ymin=20, ymax=90, color='red')\n",
    "\n",
    "plt.text(2.5, 65, 'x=2 and y=60 mean by setting the support threshold \\n to two (support=2), we maintain 60 percent of \\n total patterns (total pattern set is the result of \\n the CC-Span algorithm).! ', rotation=0)\n",
    "\n",
    "# plt.xlim([1, sup_x[-1]])\n",
    "# plt.xticks([*range(1, sup_x[-1]+1)])\n",
    "\n",
    "plt.grid(True)\n",
    "plt.show()"
   ]
  },
  {
   "cell_type": "code",
   "execution_count": 142,
   "id": "91b4d197-7368-49dc-841a-044a9b51125e",
   "metadata": {
    "tags": []
   },
   "outputs": [],
   "source": [
    "dic_spark_sup = {\"x\":sup_x, \"y\":per_len_sup_y}\n",
    "pickle.dump(dic_spark_sup, open( \"./dic_spark_sup.p\", \"wb\" ) )"
   ]
  },
  {
   "cell_type": "code",
   "execution_count": 143,
   "id": "aed58ff9-b56d-4066-a14a-2c90d14ee182",
   "metadata": {
    "tags": []
   },
   "outputs": [
    {
     "data": {
      "image/png": "[encoded data removed]",
      "text/plain": [
       "<Figure size 640x480 with 1 Axes>"
      ]
     },
     "metadata": {},
     "output_type": "display_data"
    }
   ],
   "source": [
    "win_size_list = []\n",
    "for element in result:\n",
    "    win_size_list.append(len(element[1]))\n",
    "win_size_set = set(win_size_list)\n",
    "counter=collections.Counter(win_size_list)\n",
    "\n",
    "counter = dict(sorted(counter.items()))\n",
    "comulative_y = np.cumsum(list(counter.values()))\n",
    "\n",
    "plt.plot(counter.keys(), comulative_y, '--o', color='#4b8262', linewidth=2)\n",
    "\n",
    "plt.xlabel('pattern\\'s length')\n",
    "plt.ylabel('# of patterns')\n",
    "plt.title('Hugh RQ2')\n",
    "# plt.text(60, .025, r'$\\mu=100,\\ \\sigma=15$')\n",
    "\n",
    "plt.grid(True)\n",
    "plt.show()"
   ]
  },
  {
   "cell_type": "code",
   "execution_count": 144,
   "id": "0b63fa56-fe38-4b52-8aee-0adf645fc6e8",
   "metadata": {
    "tags": []
   },
   "outputs": [
    {
     "data": {
      "image/png": "[encoded data removed]",
      "text/plain": [
       "<Figure size 600x400 with 1 Axes>"
      ]
     },
     "metadata": {},
     "output_type": "display_data"
    }
   ],
   "source": [
    "win_size_list = []\n",
    "for element in result:\n",
    "    win_size_list.append(len(element[1]))\n",
    "win_size_set = set(win_size_list)\n",
    "counter=collections.Counter(win_size_list)\n",
    "\n",
    "counter = dict(sorted(counter.items()))\n",
    "comulative_y = np.cumsum(list(counter.values()))\n",
    "\n",
    "per_list_patterns = []\n",
    "for element in comulative_y:\n",
    "    per_list_patterns.append((element*100)/comulative_y[-1])\n",
    "    \n",
    "fig = plt.figure(figsize=(6, 4), dpi=100)\n",
    "ax1 = fig.add_subplot(111)\n",
    "\n",
    "ax1.plot(counter.keys(), per_list_patterns, '--o', color='#4b8262', linewidth=2)\n",
    "plt.xlabel('pattern\\'s length')\n",
    "plt.ylabel('Cumulative % of stack trace patterns')\n",
    "ax1.set_title('Hugh RQ2')\n",
    "\n",
    "plt.vlines(x=5, ymin=60, ymax=95, color='red')\n",
    "\n",
    "plt.text(5.5, 65, 'x=5 and y=80 mean almost 80% of \\n patterns have lower than 5 pattern\\'s length. \\nI coudn\\'t find the benefit of this words. \\nHow we can use this information! ', rotation=0)\n",
    "\n",
    "ax1.axis(ymin=0, ymax=102)\n",
    "ax1.yaxis.set_major_formatter(mtick.PercentFormatter())\n",
    "\n",
    "plt.grid(True)\n",
    "plt.show()"
   ]
  },
  {
   "cell_type": "code",
   "execution_count": 145,
   "id": "e817aef2-627b-424a-8581-a3b82b6f75fe",
   "metadata": {
    "tags": []
   },
   "outputs": [
    {
     "data": {
      "image/png": "[encoded data removed]",
      "text/plain": [
       "<Figure size 600x400 with 1 Axes>"
      ]
     },
     "metadata": {},
     "output_type": "display_data"
    }
   ],
   "source": [
    "fig = plt.figure(figsize=(6, 4), dpi=100)\n",
    "ax1 = fig.add_subplot(111)\n",
    "\n",
    "ax1.bar(counter.keys(), counter.values())\n",
    "ax1.set_title('Hugh RQ2: What is the distribution of patterns\\' length. \\n w/o considering the importance of a pattern. \\n I mean the importance of a pattern comes from it\\'s support number.')\n",
    "plt.xlabel('pattern\\'s length')\n",
    "plt.ylabel('# of stack trace patterns')\n",
    "\n",
    "# ax1.axis(ymin=0, ymax=102)\n",
    "# ax1.yaxis.set_major_formatter(mtick.PercentFormatter())\n",
    "\n",
    "plt.grid(True)\n",
    "plt.show()"
   ]
  },
  {
   "cell_type": "code",
   "execution_count": 146,
   "id": "b8b427a4-b678-4276-a886-2445498ccbd8",
   "metadata": {
    "tags": []
   },
   "outputs": [
    {
     "data": {
      "image/png": "[encoded data removed]",
      "text/plain": [
       "<Figure size 600x400 with 1 Axes>"
      ]
     },
     "metadata": {},
     "output_type": "display_data"
    }
   ],
   "source": [
    "pattern_length = set()\n",
    "for element in result:\n",
    "    pattern_length.add(len(element[1]))\n",
    "pattern_length = list(pattern_length)\n",
    "\n",
    "iterable_int_0 = [0 for _ in range(0, len(pattern_length))]\n",
    "length_import = dict(zip(pattern_length, iterable_int_0))\n",
    "\n",
    "for element in result:\n",
    "    length_import[len(element[1])] += element[0]\n",
    "    \n",
    "total = sum(length_import.values())\n",
    "for key, values in length_import.items():\n",
    "    length_import[key] /= total\n",
    "\n",
    "fig = plt.figure(figsize=(6, 4), dpi=100)\n",
    "ax1 = fig.add_subplot(111)\n",
    "\n",
    "ax1.bar(length_import.keys(), length_import.values())\n",
    "ax1.set_title('Hugh RQ2: What is the distribution of patterns\\' length \\n based on considering the importance of patterns.')\n",
    "plt.xlabel('pattern\\'s length')\n",
    "plt.ylabel('The importance of stack trace pattern')\n",
    "\n",
    "# ax1.axis(ymin=0, ymax=102)\n",
    "# ax1.yaxis.set_major_formatter(mtick.PercentFormatter())\n",
    "\n",
    "plt.grid(True)\n",
    "plt.show()"
   ]
  },
  {
   "cell_type": "code",
   "execution_count": 147,
   "id": "e54d5ebd-cb17-43d4-99ba-4a5f51d20473",
   "metadata": {},
   "outputs": [],
   "source": [
    "dic_spark_win = {\"x\":list(counter.keys()), \"y\":per_list_patterns}\n",
    "pickle.dump(dic_spark_win, open( \"./dic_spark_win.p\", \"wb\" ) )"
   ]
  },
  {
   "cell_type": "code",
   "execution_count": 148,
   "id": "ad03a89d-bece-494a-b6b0-8ce1d181b9d2",
   "metadata": {},
   "outputs": [],
   "source": [
    "# result"
   ]
  },
  {
   "cell_type": "code",
   "execution_count": 149,
   "id": "0fd51a3b-ae9d-45ba-b233-55146bbb3dde",
   "metadata": {},
   "outputs": [],
   "source": [
    "def get_top_patterns(patterns_lst: list, top: int) -> list:\n",
    "    assert top != 0, \"The top value is wrong!\"\n",
    "    top_list = []\n",
    "    support_set = set()\n",
    "    \n",
    "    # Find the support list\n",
    "    for pattern in patterns_lst:\n",
    "        support_set.add(pattern[0])\n",
    "        \n",
    "    top_support_list = sorted(list(support_set))[0:top]\n",
    "    \n",
    "    for pattern in patterns_lst:\n",
    "        if pattern[0] in top_support_list:\n",
    "            top_list.append(pattern)\n",
    "            \n",
    "    return top_list"
   ]
  },
  {
   "cell_type": "markdown",
   "id": "5e226cbe-7ab0-43ad-ba94-4e66c6317f2f",
   "metadata": {},
   "source": [
    "The below function based on the dic_count dictionary trys to find x top patterns for each window_size"
   ]
  },
  {
   "cell_type": "code",
   "execution_count": 150,
   "id": "ec9eaadf-df99-40b2-b635-4543cbb5bca9",
   "metadata": {},
   "outputs": [],
   "source": [
    "top_pattern_num = get_top_patterns(result, 1)"
   ]
  },
  {
   "cell_type": "code",
   "execution_count": 151,
   "id": "f28efd8a-5167-490e-bc6d-bef7e9b8e065",
   "metadata": {},
   "outputs": [
    {
     "data": {
      "text/plain": [
       "32"
      ]
     },
     "execution_count": 151,
     "metadata": {},
     "output_type": "execute_result"
    }
   ],
   "source": [
    "len(top_pattern_num)"
   ]
  },
  {
   "cell_type": "code",
   "execution_count": 152,
   "id": "efcaf672-0eea-4201-ab99-ea88575a91c7",
   "metadata": {
    "tags": []
   },
   "outputs": [],
   "source": [
    "def convert_num_string(input_list: list, unique_dic: dict) -> list:\n",
    "    convert_lst = []\n",
    "    for pattern in input_list:\n",
    "        string_pattern_tuple = ()\n",
    "        for item in pattern[1]:\n",
    "            string_pattern_tuple = string_pattern_tuple + (unique_dic[item],)\n",
    "        convert_lst.append((pattern[0], string_pattern_tuple))\n",
    "    return convert_lst"
   ]
  },
  {
   "cell_type": "markdown",
   "id": "f0c761d3-7dd9-467c-83e3-63e7ff9a3945",
   "metadata": {},
   "source": [
    "The below code converts the number pairs to the string pairs"
   ]
  },
  {
   "cell_type": "code",
   "execution_count": 153,
   "id": "701b8580-0e09-4c71-a944-dcc3eb5b1c67",
   "metadata": {},
   "outputs": [],
   "source": [
    "top_pattern_str = convert_num_string(top_pattern_num, uniqe_dic)"
   ]
  },
  {
   "cell_type": "code",
   "execution_count": 154,
   "id": "ee30427c-23b7-472f-8b3b-9936622bca3f",
   "metadata": {},
   "outputs": [
    {
     "data": {
      "text/plain": [
       "(1,\n",
       " (('pydevd', '_exec'),\n",
       "  ('_pydev_execfile', 'execfile'),\n",
       "  ('stress-test-withpast2', 'module'),\n",
       "  ('module', '__call__'),\n",
       "  ('modeling_gpt2', 'forward'),\n",
       "  ('module', '__call__'),\n",
       "  ('modeling_gpt2', 'forward'),\n",
       "  ('module', '__call__'),\n",
       "  ('modeling_gpt2', 'forward'),\n",
       "  ('module', '__call__'),\n",
       "  ('modeling_gpt2', 'forward'),\n",
       "  ('modeling_gpt2', '_attn')))"
      ]
     },
     "execution_count": 154,
     "metadata": {},
     "output_type": "execute_result"
    }
   ],
   "source": [
    "top_pattern_str[2]"
   ]
  },
  {
   "cell_type": "markdown",
   "id": "9f0be826-7f30-434d-9a62-d630da7ea510",
   "metadata": {
    "tags": []
   },
   "source": [
    "#### Find the Id of a post based on its pattern:"
   ]
  },
  {
   "cell_type": "code",
   "execution_count": 155,
   "id": "55fdf23e-1e78-43a0-8bca-73c67fe5a7d4",
   "metadata": {
    "tags": []
   },
   "outputs": [],
   "source": [
    "assert len(_2D_array_with_str) == len(_2D_array), \"Always should be the same.\""
   ]
  },
  {
   "cell_type": "code",
   "execution_count": 156,
   "id": "9b4d45bc-9003-49a8-ab8a-863947bc0878",
   "metadata": {},
   "outputs": [
    {
     "data": {
      "text/plain": [
       "(40,\n",
       " [59656096,\n",
       "  62979062,\n",
       "  64818504,\n",
       "  65023526,\n",
       "  61019485,\n",
       "  65091635,\n",
       "  64370953,\n",
       "  63465109,\n",
       "  65095129,\n",
       "  61382917,\n",
       "  62936905,\n",
       "  60459292,\n",
       "  64044200,\n",
       "  60848403,\n",
       "  60530393,\n",
       "  61863504,\n",
       "  60833301,\n",
       "  62434075,\n",
       "  64124757,\n",
       "  64180517,\n",
       "  60209265,\n",
       "  62142122,\n",
       "  61888473,\n",
       "  63232732,\n",
       "  60062624,\n",
       "  62671054,\n",
       "  62863374,\n",
       "  62472238,\n",
       "  64180606,\n",
       "  58454157,\n",
       "  64626722,\n",
       "  61680408,\n",
       "  64800623,\n",
       "  62327803,\n",
       "  65082609,\n",
       "  65140400,\n",
       "  63906559,\n",
       "  64406166,\n",
       "  62772819,\n",
       "  64514791])"
      ]
     },
     "execution_count": 156,
     "metadata": {},
     "output_type": "execute_result"
    }
   ],
   "source": [
    "len(_Id_array), _Id_array"
   ]
  },
  {
   "cell_type": "code",
   "execution_count": 157,
   "id": "7e1849a9-4227-4535-815d-c8d1934b0013",
   "metadata": {},
   "outputs": [],
   "source": [
    "def order_sublist(lst_big: list, lst_small: list) -> bool:\n",
    "    return lst_small in [lst_big[i:len(lst_small)+i] for i in range(len(lst_big))]"
   ]
  },
  {
   "cell_type": "code",
   "execution_count": 158,
   "id": "e5c6e20d-88df-44c4-a609-f8ec3bcc28ab",
   "metadata": {
    "tags": []
   },
   "outputs": [
    {
     "name": "stdout",
     "output_type": "stream",
     "text": [
      "Big set: \t [1, 2, 3, 4, 4, 5, 6, 7, 5]\n",
      "Big set: \t [8, 9, 10, 11, 12, 13, 14, 15, 16, 17, 18, 19, 20, 21, 22, 23, 24, 25, 26, 27, 8, 9, 10, 11, 14, 12, 15, 14, 13, 17, 15, 16, 19, 18, 17, 21, 20, 14, 19, 24, 22, 15, 21, 25, 23, 17, 24, 27, 26, 19, 25, 8]\n",
      "Big set: \t [28]\n",
      "Big set: \t [29, 30, 31, 30, 32, 30, 32]\n",
      "Big set: \t [33]\n",
      "Big set: \t [34, 35, 36, 37, 38, 39, 40, 41, 42, 43, 28]\n",
      "Big set: \t [44, 45]\n",
      "Big set: \t [46, 47, 48, 49, 46, 50, 51, 52]\n",
      "Big set: \t [53]\n",
      "Big set: \t [54]\n",
      "Big set: \t [55, 56, 57]\n",
      "Big set: \t [58, 59, 60, 61, 62, 61, 62, 61, 62, 61, 62, 63]\n",
      "Big set: \t [30, 32, 30, 32]\n",
      "Big set: \t [64]\n",
      "Big set: \t [65, 66, 67, 66, 65]\n",
      "Big set: \t [56, 68, 69, 70]\n",
      "Big set: \t [71]\n",
      "Big set: \t [72]\n",
      "Big set: \t [73]\n",
      "Big set: \t [61, 74, 61, 74, 61, 74]\n",
      "Big set: \t [75]\n",
      "Big set: \t [76, 77, 78, 79]\n",
      "Big set: \t [80, 81, 82, 83, 84, 85]\n",
      "Big set: \t [86, 61, 62, 61, 62, 61, 87, 88]\n",
      "Big set: \t [5]\n",
      "Big set: \t [89, 90, 91, 92, 93, 94, 95, 96, 96]\n",
      "Big set: \t [28]\n",
      "Big set: \t [83, 97, 72, 98, 83]\n",
      "Big set: \t [61, 74]\n",
      "Big set: \t [61]\n",
      "Big set: \t [46, 99, 100, 101]\n",
      "Big set: \t [102]\n",
      "Big set: \t [103]\n",
      "Big set: \t [66]\n",
      "Big set: \t [30, 104, 30, 104, 30, 104, 30, 104, 30, 104]\n",
      "Big set: \t [105]\n",
      "Big set: \t [106, 107]\n",
      "Big set: \t [46, 108, 109, 110, 46]\n",
      "Big set: \t [111, 111, 112, 113, 114, 111, 115, 116, 113, 114, 117, 118, 119, 120, 121, 122, 61, 123, 124]\n",
      "Big set: \t [125, 57]\n",
      "Big set: \t [1, 2, 3, 4, 4, 5, 6, 7, 5]\n",
      "Big set: \t [8, 9, 10, 11, 12, 13, 14, 15, 16, 17, 18, 19, 20, 21, 22, 23, 24, 25, 26, 27, 8, 9, 10, 11, 14, 12, 15, 14, 13, 17, 15, 16, 19, 18, 17, 21, 20, 14, 19, 24, 22, 15, 21, 25, 23, 17, 24, 27, 26, 19, 25, 8]\n",
      "Big set: \t [28]\n",
      "Big set: \t [29, 30, 31, 30, 32, 30, 32]\n",
      "Big set: \t [33]\n",
      "Big set: \t [34, 35, 36, 37, 38, 39, 40, 41, 42, 43, 28]\n",
      "Big set: \t [44, 45]\n",
      "Big set: \t [46, 47, 48, 49, 46, 50, 51, 52]\n",
      "Big set: \t [53]\n",
      "Big set: \t [54]\n",
      "Big set: \t [55, 56, 57]\n",
      "Big set: \t [58, 59, 60, 61, 62, 61, 62, 61, 62, 61, 62, 63]\n",
      "Big set: \t [30, 32, 30, 32]\n",
      "Big set: \t [64]\n",
      "Big set: \t [65, 66, 67, 66, 65]\n",
      "Big set: \t [56, 68, 69, 70]\n",
      "Big set: \t [71]\n",
      "Big set: \t [72]\n",
      "Big set: \t [73]\n",
      "Big set: \t [61, 74, 61, 74, 61, 74]\n",
      "Big set: \t [75]\n",
      "Big set: \t [76, 77, 78, 79]\n",
      "Big set: \t [80, 81, 82, 83, 84, 85]\n",
      "Big set: \t [86, 61, 62, 61, 62, 61, 87, 88]\n",
      "Big set: \t [5]\n",
      "Big set: \t [89, 90, 91, 92, 93, 94, 95, 96, 96]\n",
      "Big set: \t [28]\n",
      "Big set: \t [83, 97, 72, 98, 83]\n",
      "Big set: \t [61, 74]\n",
      "Big set: \t [61]\n",
      "Big set: \t [46, 99, 100, 101]\n",
      "Big set: \t [102]\n",
      "Big set: \t [103]\n",
      "Big set: \t [66]\n",
      "Big set: \t [30, 104, 30, 104, 30, 104, 30, 104, 30, 104]\n",
      "Big set: \t [105]\n",
      "Big set: \t [106, 107]\n",
      "Big set: \t [46, 108, 109, 110, 46]\n",
      "Big set: \t [111, 111, 112, 113, 114, 111, 115, 116, 113, 114, 117, 118, 119, 120, 121, 122, 61, 123, 124]\n",
      "Big set: \t [125, 57]\n",
      "Big set: \t [1, 2, 3, 4, 4, 5, 6, 7, 5]\n",
      "Big set: \t [8, 9, 10, 11, 12, 13, 14, 15, 16, 17, 18, 19, 20, 21, 22, 23, 24, 25, 26, 27, 8, 9, 10, 11, 14, 12, 15, 14, 13, 17, 15, 16, 19, 18, 17, 21, 20, 14, 19, 24, 22, 15, 21, 25, 23, 17, 24, 27, 26, 19, 25, 8]\n",
      "Big set: \t [28]\n",
      "Big set: \t [29, 30, 31, 30, 32, 30, 32]\n",
      "Big set: \t [33]\n",
      "Big set: \t [34, 35, 36, 37, 38, 39, 40, 41, 42, 43, 28]\n",
      "Big set: \t [44, 45]\n",
      "Big set: \t [46, 47, 48, 49, 46, 50, 51, 52]\n",
      "Big set: \t [53]\n",
      "Big set: \t [54]\n",
      "Big set: \t [55, 56, 57]\n",
      "Big set: \t [58, 59, 60, 61, 62, 61, 62, 61, 62, 61, 62, 63]\n",
      "Big set: \t [30, 32, 30, 32]\n",
      "Big set: \t [64]\n",
      "Big set: \t [65, 66, 67, 66, 65]\n",
      "Big set: \t [56, 68, 69, 70]\n",
      "Big set: \t [71]\n",
      "Big set: \t [72]\n",
      "Big set: \t [73]\n",
      "Big set: \t [61, 74, 61, 74, 61, 74]\n",
      "Big set: \t [75]\n",
      "Big set: \t [76, 77, 78, 79]\n",
      "Big set: \t [80, 81, 82, 83, 84, 85]\n",
      "Big set: \t [86, 61, 62, 61, 62, 61, 87, 88]\n",
      "Big set: \t [5]\n",
      "Big set: \t [89, 90, 91, 92, 93, 94, 95, 96, 96]\n",
      "Big set: \t [28]\n",
      "Big set: \t [83, 97, 72, 98, 83]\n",
      "Big set: \t [61, 74]\n",
      "Big set: \t [61]\n",
      "Big set: \t [46, 99, 100, 101]\n",
      "Big set: \t [102]\n",
      "Big set: \t [103]\n",
      "Big set: \t [66]\n",
      "Big set: \t [30, 104, 30, 104, 30, 104, 30, 104, 30, 104]\n",
      "Big set: \t [105]\n",
      "Big set: \t [106, 107]\n",
      "Big set: \t [46, 108, 109, 110, 46]\n",
      "Big set: \t [111, 111, 112, 113, 114, 111, 115, 116, 113, 114, 117, 118, 119, 120, 121, 122, 61, 123, 124]\n",
      "Big set: \t [125, 57]\n",
      "Big set: \t [1, 2, 3, 4, 4, 5, 6, 7, 5]\n",
      "Big set: \t [8, 9, 10, 11, 12, 13, 14, 15, 16, 17, 18, 19, 20, 21, 22, 23, 24, 25, 26, 27, 8, 9, 10, 11, 14, 12, 15, 14, 13, 17, 15, 16, 19, 18, 17, 21, 20, 14, 19, 24, 22, 15, 21, 25, 23, 17, 24, 27, 26, 19, 25, 8]\n",
      "Big set: \t [28]\n",
      "Big set: \t [29, 30, 31, 30, 32, 30, 32]\n",
      "Big set: \t [33]\n",
      "Big set: \t [34, 35, 36, 37, 38, 39, 40, 41, 42, 43, 28]\n",
      "Big set: \t [44, 45]\n",
      "Big set: \t [46, 47, 48, 49, 46, 50, 51, 52]\n",
      "Big set: \t [53]\n",
      "Big set: \t [54]\n",
      "Big set: \t [55, 56, 57]\n",
      "Big set: \t [58, 59, 60, 61, 62, 61, 62, 61, 62, 61, 62, 63]\n",
      "Big set: \t [30, 32, 30, 32]\n",
      "Big set: \t [64]\n",
      "Big set: \t [65, 66, 67, 66, 65]\n",
      "Big set: \t [56, 68, 69, 70]\n",
      "Big set: \t [71]\n",
      "Big set: \t [72]\n",
      "Big set: \t [73]\n",
      "Big set: \t [61, 74, 61, 74, 61, 74]\n",
      "Big set: \t [75]\n",
      "Big set: \t [76, 77, 78, 79]\n",
      "Big set: \t [80, 81, 82, 83, 84, 85]\n",
      "Big set: \t [86, 61, 62, 61, 62, 61, 87, 88]\n",
      "Big set: \t [5]\n",
      "Big set: \t [89, 90, 91, 92, 93, 94, 95, 96, 96]\n",
      "Big set: \t [28]\n",
      "Big set: \t [83, 97, 72, 98, 83]\n",
      "Big set: \t [61, 74]\n",
      "Big set: \t [61]\n",
      "Big set: \t [46, 99, 100, 101]\n",
      "Big set: \t [102]\n",
      "Big set: \t [103]\n",
      "Big set: \t [66]\n",
      "Big set: \t [30, 104, 30, 104, 30, 104, 30, 104, 30, 104]\n",
      "Big set: \t [105]\n",
      "Big set: \t [106, 107]\n",
      "Big set: \t [46, 108, 109, 110, 46]\n",
      "Big set: \t [111, 111, 112, 113, 114, 111, 115, 116, 113, 114, 117, 118, 119, 120, 121, 122, 61, 123, 124]\n",
      "Big set: \t [125, 57]\n",
      "Big set: \t [1, 2, 3, 4, 4, 5, 6, 7, 5]\n",
      "Big set: \t [8, 9, 10, 11, 12, 13, 14, 15, 16, 17, 18, 19, 20, 21, 22, 23, 24, 25, 26, 27, 8, 9, 10, 11, 14, 12, 15, 14, 13, 17, 15, 16, 19, 18, 17, 21, 20, 14, 19, 24, 22, 15, 21, 25, 23, 17, 24, 27, 26, 19, 25, 8]\n",
      "Big set: \t [28]\n",
      "Big set: \t [29, 30, 31, 30, 32, 30, 32]\n",
      "Big set: \t [33]\n",
      "Big set: \t [34, 35, 36, 37, 38, 39, 40, 41, 42, 43, 28]\n",
      "Big set: \t [44, 45]\n",
      "Big set: \t [46, 47, 48, 49, 46, 50, 51, 52]\n",
      "Big set: \t [53]\n",
      "Big set: \t [54]\n",
      "Big set: \t [55, 56, 57]\n",
      "Big set: \t [58, 59, 60, 61, 62, 61, 62, 61, 62, 61, 62, 63]\n",
      "Big set: \t [30, 32, 30, 32]\n",
      "Big set: \t [64]\n",
      "Big set: \t [65, 66, 67, 66, 65]\n",
      "Big set: \t [56, 68, 69, 70]\n",
      "Big set: \t [71]\n",
      "Big set: \t [72]\n",
      "Big set: \t [73]\n",
      "Big set: \t [61, 74, 61, 74, 61, 74]\n",
      "Big set: \t [75]\n",
      "Big set: \t [76, 77, 78, 79]\n",
      "Big set: \t [80, 81, 82, 83, 84, 85]\n",
      "Big set: \t [86, 61, 62, 61, 62, 61, 87, 88]\n",
      "Big set: \t [5]\n",
      "Big set: \t [89, 90, 91, 92, 93, 94, 95, 96, 96]\n",
      "Big set: \t [28]\n",
      "Big set: \t [83, 97, 72, 98, 83]\n",
      "Big set: \t [61, 74]\n",
      "Big set: \t [61]\n",
      "Big set: \t [46, 99, 100, 101]\n",
      "Big set: \t [102]\n",
      "Big set: \t [103]\n",
      "Big set: \t [66]\n",
      "Big set: \t [30, 104, 30, 104, 30, 104, 30, 104, 30, 104]\n",
      "Big set: \t [105]\n",
      "Big set: \t [106, 107]\n",
      "Big set: \t [46, 108, 109, 110, 46]\n",
      "Big set: \t [111, 111, 112, 113, 114, 111, 115, 116, 113, 114, 117, 118, 119, 120, 121, 122, 61, 123, 124]\n",
      "Big set: \t [125, 57]\n",
      "Big set: \t [1, 2, 3, 4, 4, 5, 6, 7, 5]\n",
      "Big set: \t [8, 9, 10, 11, 12, 13, 14, 15, 16, 17, 18, 19, 20, 21, 22, 23, 24, 25, 26, 27, 8, 9, 10, 11, 14, 12, 15, 14, 13, 17, 15, 16, 19, 18, 17, 21, 20, 14, 19, 24, 22, 15, 21, 25, 23, 17, 24, 27, 26, 19, 25, 8]\n",
      "Big set: \t [28]\n",
      "Big set: \t [29, 30, 31, 30, 32, 30, 32]\n",
      "Big set: \t [33]\n",
      "Big set: \t [34, 35, 36, 37, 38, 39, 40, 41, 42, 43, 28]\n",
      "Big set: \t [44, 45]\n",
      "Big set: \t [46, 47, 48, 49, 46, 50, 51, 52]\n",
      "Big set: \t [53]\n",
      "Big set: \t [54]\n",
      "Big set: \t [55, 56, 57]\n",
      "Big set: \t [58, 59, 60, 61, 62, 61, 62, 61, 62, 61, 62, 63]\n",
      "Big set: \t [30, 32, 30, 32]\n",
      "Big set: \t [64]\n",
      "Big set: \t [65, 66, 67, 66, 65]\n",
      "Big set: \t [56, 68, 69, 70]\n",
      "Big set: \t [71]\n",
      "Big set: \t [72]\n",
      "Big set: \t [73]\n",
      "Big set: \t [61, 74, 61, 74, 61, 74]\n",
      "Big set: \t [75]\n",
      "Big set: \t [76, 77, 78, 79]\n",
      "Big set: \t [80, 81, 82, 83, 84, 85]\n",
      "Big set: \t [86, 61, 62, 61, 62, 61, 87, 88]\n",
      "Big set: \t [5]\n",
      "Big set: \t [89, 90, 91, 92, 93, 94, 95, 96, 96]\n",
      "Big set: \t [28]\n",
      "Big set: \t [83, 97, 72, 98, 83]\n",
      "Big set: \t [61, 74]\n",
      "Big set: \t [61]\n",
      "Big set: \t [46, 99, 100, 101]\n",
      "Big set: \t [102]\n",
      "Big set: \t [103]\n",
      "Big set: \t [66]\n",
      "Big set: \t [30, 104, 30, 104, 30, 104, 30, 104, 30, 104]\n",
      "Big set: \t [105]\n",
      "Big set: \t [106, 107]\n",
      "Big set: \t [46, 108, 109, 110, 46]\n",
      "Big set: \t [111, 111, 112, 113, 114, 111, 115, 116, 113, 114, 117, 118, 119, 120, 121, 122, 61, 123, 124]\n",
      "Big set: \t [125, 57]\n",
      "Big set: \t [1, 2, 3, 4, 4, 5, 6, 7, 5]\n",
      "Big set: \t [8, 9, 10, 11, 12, 13, 14, 15, 16, 17, 18, 19, 20, 21, 22, 23, 24, 25, 26, 27, 8, 9, 10, 11, 14, 12, 15, 14, 13, 17, 15, 16, 19, 18, 17, 21, 20, 14, 19, 24, 22, 15, 21, 25, 23, 17, 24, 27, 26, 19, 25, 8]\n",
      "Big set: \t [28]\n",
      "Big set: \t [29, 30, 31, 30, 32, 30, 32]\n",
      "Big set: \t [33]\n",
      "Big set: \t [34, 35, 36, 37, 38, 39, 40, 41, 42, 43, 28]\n",
      "Big set: \t [44, 45]\n",
      "Big set: \t [46, 47, 48, 49, 46, 50, 51, 52]\n",
      "Big set: \t [53]\n",
      "Big set: \t [54]\n",
      "Big set: \t [55, 56, 57]\n",
      "Big set: \t [58, 59, 60, 61, 62, 61, 62, 61, 62, 61, 62, 63]\n",
      "Big set: \t [30, 32, 30, 32]\n",
      "Big set: \t [64]\n",
      "Big set: \t [65, 66, 67, 66, 65]\n",
      "Big set: \t [56, 68, 69, 70]\n",
      "Big set: \t [71]\n",
      "Big set: \t [72]\n",
      "Big set: \t [73]\n",
      "Big set: \t [61, 74, 61, 74, 61, 74]\n",
      "Big set: \t [75]\n",
      "Big set: \t [76, 77, 78, 79]\n",
      "Big set: \t [80, 81, 82, 83, 84, 85]\n",
      "Big set: \t [86, 61, 62, 61, 62, 61, 87, 88]\n",
      "Big set: \t [5]\n",
      "Big set: \t [89, 90, 91, 92, 93, 94, 95, 96, 96]\n",
      "Big set: \t [28]\n",
      "Big set: \t [83, 97, 72, 98, 83]\n",
      "Big set: \t [61, 74]\n",
      "Big set: \t [61]\n",
      "Big set: \t [46, 99, 100, 101]\n",
      "Big set: \t [102]\n",
      "Big set: \t [103]\n",
      "Big set: \t [66]\n",
      "Big set: \t [30, 104, 30, 104, 30, 104, 30, 104, 30, 104]\n",
      "Big set: \t [105]\n",
      "Big set: \t [106, 107]\n",
      "Big set: \t [46, 108, 109, 110, 46]\n",
      "Big set: \t [111, 111, 112, 113, 114, 111, 115, 116, 113, 114, 117, 118, 119, 120, 121, 122, 61, 123, 124]\n",
      "Big set: \t [125, 57]\n",
      "Big set: \t [1, 2, 3, 4, 4, 5, 6, 7, 5]\n",
      "Big set: \t [8, 9, 10, 11, 12, 13, 14, 15, 16, 17, 18, 19, 20, 21, 22, 23, 24, 25, 26, 27, 8, 9, 10, 11, 14, 12, 15, 14, 13, 17, 15, 16, 19, 18, 17, 21, 20, 14, 19, 24, 22, 15, 21, 25, 23, 17, 24, 27, 26, 19, 25, 8]\n",
      "Big set: \t [28]\n",
      "Big set: \t [29, 30, 31, 30, 32, 30, 32]\n",
      "Big set: \t [33]\n",
      "Big set: \t [34, 35, 36, 37, 38, 39, 40, 41, 42, 43, 28]\n",
      "Big set: \t [44, 45]\n",
      "Big set: \t [46, 47, 48, 49, 46, 50, 51, 52]\n",
      "Big set: \t [53]\n",
      "Big set: \t [54]\n",
      "Big set: \t [55, 56, 57]\n",
      "Big set: \t [58, 59, 60, 61, 62, 61, 62, 61, 62, 61, 62, 63]\n",
      "Big set: \t [30, 32, 30, 32]\n",
      "Big set: \t [64]\n",
      "Big set: \t [65, 66, 67, 66, 65]\n",
      "Big set: \t [56, 68, 69, 70]\n",
      "Big set: \t [71]\n",
      "Big set: \t [72]\n",
      "Big set: \t [73]\n",
      "Big set: \t [61, 74, 61, 74, 61, 74]\n",
      "Big set: \t [75]\n",
      "Big set: \t [76, 77, 78, 79]\n",
      "Big set: \t [80, 81, 82, 83, 84, 85]\n",
      "Big set: \t [86, 61, 62, 61, 62, 61, 87, 88]\n",
      "Big set: \t [5]\n",
      "Big set: \t [89, 90, 91, 92, 93, 94, 95, 96, 96]\n",
      "Big set: \t [28]\n",
      "Big set: \t [83, 97, 72, 98, 83]\n",
      "Big set: \t [61, 74]\n",
      "Big set: \t [61]\n",
      "Big set: \t [46, 99, 100, 101]\n",
      "Big set: \t [102]\n",
      "Big set: \t [103]\n",
      "Big set: \t [66]\n",
      "Big set: \t [30, 104, 30, 104, 30, 104, 30, 104, 30, 104]\n",
      "Big set: \t [105]\n",
      "Big set: \t [106, 107]\n",
      "Big set: \t [46, 108, 109, 110, 46]\n",
      "Big set: \t [111, 111, 112, 113, 114, 111, 115, 116, 113, 114, 117, 118, 119, 120, 121, 122, 61, 123, 124]\n",
      "Big set: \t [125, 57]\n",
      "Big set: \t [1, 2, 3, 4, 4, 5, 6, 7, 5]\n",
      "Big set: \t [8, 9, 10, 11, 12, 13, 14, 15, 16, 17, 18, 19, 20, 21, 22, 23, 24, 25, 26, 27, 8, 9, 10, 11, 14, 12, 15, 14, 13, 17, 15, 16, 19, 18, 17, 21, 20, 14, 19, 24, 22, 15, 21, 25, 23, 17, 24, 27, 26, 19, 25, 8]\n",
      "Big set: \t [28]\n",
      "Big set: \t [29, 30, 31, 30, 32, 30, 32]\n",
      "Big set: \t [33]\n",
      "Big set: \t [34, 35, 36, 37, 38, 39, 40, 41, 42, 43, 28]\n",
      "Big set: \t [44, 45]\n",
      "Big set: \t [46, 47, 48, 49, 46, 50, 51, 52]\n",
      "Big set: \t [53]\n",
      "Big set: \t [54]\n",
      "Big set: \t [55, 56, 57]\n",
      "Big set: \t [58, 59, 60, 61, 62, 61, 62, 61, 62, 61, 62, 63]\n",
      "Big set: \t [30, 32, 30, 32]\n",
      "Big set: \t [64]\n",
      "Big set: \t [65, 66, 67, 66, 65]\n",
      "Big set: \t [56, 68, 69, 70]\n",
      "Big set: \t [71]\n",
      "Big set: \t [72]\n",
      "Big set: \t [73]\n",
      "Big set: \t [61, 74, 61, 74, 61, 74]\n",
      "Big set: \t [75]\n",
      "Big set: \t [76, 77, 78, 79]\n",
      "Big set: \t [80, 81, 82, 83, 84, 85]\n",
      "Big set: \t [86, 61, 62, 61, 62, 61, 87, 88]\n",
      "Big set: \t [5]\n",
      "Big set: \t [89, 90, 91, 92, 93, 94, 95, 96, 96]\n",
      "Big set: \t [28]\n",
      "Big set: \t [83, 97, 72, 98, 83]\n",
      "Big set: \t [61, 74]\n",
      "Big set: \t [61]\n",
      "Big set: \t [46, 99, 100, 101]\n",
      "Big set: \t [102]\n",
      "Big set: \t [103]\n",
      "Big set: \t [66]\n",
      "Big set: \t [30, 104, 30, 104, 30, 104, 30, 104, 30, 104]\n",
      "Big set: \t [105]\n",
      "Big set: \t [106, 107]\n",
      "Big set: \t [46, 108, 109, 110, 46]\n",
      "Big set: \t [111, 111, 112, 113, 114, 111, 115, 116, 113, 114, 117, 118, 119, 120, 121, 122, 61, 123, 124]\n",
      "Big set: \t [125, 57]\n",
      "Big set: \t [1, 2, 3, 4, 4, 5, 6, 7, 5]\n",
      "Big set: \t [8, 9, 10, 11, 12, 13, 14, 15, 16, 17, 18, 19, 20, 21, 22, 23, 24, 25, 26, 27, 8, 9, 10, 11, 14, 12, 15, 14, 13, 17, 15, 16, 19, 18, 17, 21, 20, 14, 19, 24, 22, 15, 21, 25, 23, 17, 24, 27, 26, 19, 25, 8]\n",
      "Big set: \t [28]\n",
      "Big set: \t [29, 30, 31, 30, 32, 30, 32]\n",
      "Big set: \t [33]\n",
      "Big set: \t [34, 35, 36, 37, 38, 39, 40, 41, 42, 43, 28]\n",
      "Big set: \t [44, 45]\n",
      "Big set: \t [46, 47, 48, 49, 46, 50, 51, 52]\n",
      "Big set: \t [53]\n",
      "Big set: \t [54]\n",
      "Big set: \t [55, 56, 57]\n",
      "Big set: \t [58, 59, 60, 61, 62, 61, 62, 61, 62, 61, 62, 63]\n",
      "Big set: \t [30, 32, 30, 32]\n",
      "Big set: \t [64]\n",
      "Big set: \t [65, 66, 67, 66, 65]\n",
      "Big set: \t [56, 68, 69, 70]\n",
      "Big set: \t [71]\n",
      "Big set: \t [72]\n",
      "Big set: \t [73]\n",
      "Big set: \t [61, 74, 61, 74, 61, 74]\n",
      "Big set: \t [75]\n",
      "Big set: \t [76, 77, 78, 79]\n",
      "Big set: \t [80, 81, 82, 83, 84, 85]\n",
      "Big set: \t [86, 61, 62, 61, 62, 61, 87, 88]\n",
      "Big set: \t [5]\n",
      "Big set: \t [89, 90, 91, 92, 93, 94, 95, 96, 96]\n",
      "Big set: \t [28]\n",
      "Big set: \t [83, 97, 72, 98, 83]\n",
      "Big set: \t [61, 74]\n",
      "Big set: \t [61]\n",
      "Big set: \t [46, 99, 100, 101]\n",
      "Big set: \t [102]\n",
      "Big set: \t [103]\n",
      "Big set: \t [66]\n",
      "Big set: \t [30, 104, 30, 104, 30, 104, 30, 104, 30, 104]\n",
      "Big set: \t [105]\n",
      "Big set: \t [106, 107]\n",
      "Big set: \t [46, 108, 109, 110, 46]\n",
      "Big set: \t [111, 111, 112, 113, 114, 111, 115, 116, 113, 114, 117, 118, 119, 120, 121, 122, 61, 123, 124]\n",
      "Big set: \t [125, 57]\n",
      "Big set: \t [1, 2, 3, 4, 4, 5, 6, 7, 5]\n",
      "Big set: \t [8, 9, 10, 11, 12, 13, 14, 15, 16, 17, 18, 19, 20, 21, 22, 23, 24, 25, 26, 27, 8, 9, 10, 11, 14, 12, 15, 14, 13, 17, 15, 16, 19, 18, 17, 21, 20, 14, 19, 24, 22, 15, 21, 25, 23, 17, 24, 27, 26, 19, 25, 8]\n",
      "Big set: \t [28]\n",
      "Big set: \t [29, 30, 31, 30, 32, 30, 32]\n",
      "Big set: \t [33]\n",
      "Big set: \t [34, 35, 36, 37, 38, 39, 40, 41, 42, 43, 28]\n",
      "Big set: \t [44, 45]\n",
      "Big set: \t [46, 47, 48, 49, 46, 50, 51, 52]\n",
      "Big set: \t [53]\n",
      "Big set: \t [54]\n",
      "Big set: \t [55, 56, 57]\n",
      "Big set: \t [58, 59, 60, 61, 62, 61, 62, 61, 62, 61, 62, 63]\n",
      "Big set: \t [30, 32, 30, 32]\n",
      "Big set: \t [64]\n",
      "Big set: \t [65, 66, 67, 66, 65]\n",
      "Big set: \t [56, 68, 69, 70]\n",
      "Big set: \t [71]\n",
      "Big set: \t [72]\n",
      "Big set: \t [73]\n",
      "Big set: \t [61, 74, 61, 74, 61, 74]\n",
      "Big set: \t [75]\n",
      "Big set: \t [76, 77, 78, 79]\n",
      "Big set: \t [80, 81, 82, 83, 84, 85]\n",
      "Big set: \t [86, 61, 62, 61, 62, 61, 87, 88]\n",
      "Big set: \t [5]\n",
      "Big set: \t [89, 90, 91, 92, 93, 94, 95, 96, 96]\n",
      "Big set: \t [28]\n",
      "Big set: \t [83, 97, 72, 98, 83]\n",
      "Big set: \t [61, 74]\n",
      "Big set: \t [61]\n",
      "Big set: \t [46, 99, 100, 101]\n",
      "Big set: \t [102]\n",
      "Big set: \t [103]\n",
      "Big set: \t [66]\n",
      "Big set: \t [30, 104, 30, 104, 30, 104, 30, 104, 30, 104]\n",
      "Big set: \t [105]\n",
      "Big set: \t [106, 107]\n",
      "Big set: \t [46, 108, 109, 110, 46]\n",
      "Big set: \t [111, 111, 112, 113, 114, 111, 115, 116, 113, 114, 117, 118, 119, 120, 121, 122, 61, 123, 124]\n",
      "Big set: \t [125, 57]\n",
      "Big set: \t [1, 2, 3, 4, 4, 5, 6, 7, 5]\n",
      "Big set: \t [8, 9, 10, 11, 12, 13, 14, 15, 16, 17, 18, 19, 20, 21, 22, 23, 24, 25, 26, 27, 8, 9, 10, 11, 14, 12, 15, 14, 13, 17, 15, 16, 19, 18, 17, 21, 20, 14, 19, 24, 22, 15, 21, 25, 23, 17, 24, 27, 26, 19, 25, 8]\n",
      "Big set: \t [28]\n",
      "Big set: \t [29, 30, 31, 30, 32, 30, 32]\n",
      "Big set: \t [33]\n",
      "Big set: \t [34, 35, 36, 37, 38, 39, 40, 41, 42, 43, 28]\n",
      "Big set: \t [44, 45]\n",
      "Big set: \t [46, 47, 48, 49, 46, 50, 51, 52]\n",
      "Big set: \t [53]\n",
      "Big set: \t [54]\n",
      "Big set: \t [55, 56, 57]\n",
      "Big set: \t [58, 59, 60, 61, 62, 61, 62, 61, 62, 61, 62, 63]\n",
      "Big set: \t [30, 32, 30, 32]\n",
      "Big set: \t [64]\n",
      "Big set: \t [65, 66, 67, 66, 65]\n",
      "Big set: \t [56, 68, 69, 70]\n",
      "Big set: \t [71]\n",
      "Big set: \t [72]\n",
      "Big set: \t [73]\n",
      "Big set: \t [61, 74, 61, 74, 61, 74]\n",
      "Big set: \t [75]\n",
      "Big set: \t [76, 77, 78, 79]\n",
      "Big set: \t [80, 81, 82, 83, 84, 85]\n",
      "Big set: \t [86, 61, 62, 61, 62, 61, 87, 88]\n",
      "Big set: \t [5]\n",
      "Big set: \t [89, 90, 91, 92, 93, 94, 95, 96, 96]\n",
      "Big set: \t [28]\n",
      "Big set: \t [83, 97, 72, 98, 83]\n",
      "Big set: \t [61, 74]\n",
      "Big set: \t [61]\n",
      "Big set: \t [46, 99, 100, 101]\n",
      "Big set: \t [102]\n",
      "Big set: \t [103]\n",
      "Big set: \t [66]\n",
      "Big set: \t [30, 104, 30, 104, 30, 104, 30, 104, 30, 104]\n",
      "Big set: \t [105]\n",
      "Big set: \t [106, 107]\n",
      "Big set: \t [46, 108, 109, 110, 46]\n",
      "Big set: \t [111, 111, 112, 113, 114, 111, 115, 116, 113, 114, 117, 118, 119, 120, 121, 122, 61, 123, 124]\n",
      "Big set: \t [125, 57]\n",
      "Big set: \t [1, 2, 3, 4, 4, 5, 6, 7, 5]\n",
      "Big set: \t [8, 9, 10, 11, 12, 13, 14, 15, 16, 17, 18, 19, 20, 21, 22, 23, 24, 25, 26, 27, 8, 9, 10, 11, 14, 12, 15, 14, 13, 17, 15, 16, 19, 18, 17, 21, 20, 14, 19, 24, 22, 15, 21, 25, 23, 17, 24, 27, 26, 19, 25, 8]\n",
      "Big set: \t [28]\n",
      "Big set: \t [29, 30, 31, 30, 32, 30, 32]\n",
      "Big set: \t [33]\n",
      "Big set: \t [34, 35, 36, 37, 38, 39, 40, 41, 42, 43, 28]\n",
      "Big set: \t [44, 45]\n",
      "Big set: \t [46, 47, 48, 49, 46, 50, 51, 52]\n",
      "Big set: \t [53]\n",
      "Big set: \t [54]\n",
      "Big set: \t [55, 56, 57]\n",
      "Big set: \t [58, 59, 60, 61, 62, 61, 62, 61, 62, 61, 62, 63]\n",
      "Big set: \t [30, 32, 30, 32]\n",
      "Big set: \t [64]\n",
      "Big set: \t [65, 66, 67, 66, 65]\n",
      "Big set: \t [56, 68, 69, 70]\n",
      "Big set: \t [71]\n",
      "Big set: \t [72]\n",
      "Big set: \t [73]\n",
      "Big set: \t [61, 74, 61, 74, 61, 74]\n",
      "Big set: \t [75]\n",
      "Big set: \t [76, 77, 78, 79]\n",
      "Big set: \t [80, 81, 82, 83, 84, 85]\n",
      "Big set: \t [86, 61, 62, 61, 62, 61, 87, 88]\n",
      "Big set: \t [5]\n",
      "Big set: \t [89, 90, 91, 92, 93, 94, 95, 96, 96]\n",
      "Big set: \t [28]\n",
      "Big set: \t [83, 97, 72, 98, 83]\n",
      "Big set: \t [61, 74]\n",
      "Big set: \t [61]\n",
      "Big set: \t [46, 99, 100, 101]\n",
      "Big set: \t [102]\n",
      "Big set: \t [103]\n",
      "Big set: \t [66]\n",
      "Big set: \t [30, 104, 30, 104, 30, 104, 30, 104, 30, 104]\n",
      "Big set: \t [105]\n",
      "Big set: \t [106, 107]\n",
      "Big set: \t [46, 108, 109, 110, 46]\n",
      "Big set: \t [111, 111, 112, 113, 114, 111, 115, 116, 113, 114, 117, 118, 119, 120, 121, 122, 61, 123, 124]\n",
      "Big set: \t [125, 57]\n",
      "Big set: \t [1, 2, 3, 4, 4, 5, 6, 7, 5]\n",
      "Big set: \t [8, 9, 10, 11, 12, 13, 14, 15, 16, 17, 18, 19, 20, 21, 22, 23, 24, 25, 26, 27, 8, 9, 10, 11, 14, 12, 15, 14, 13, 17, 15, 16, 19, 18, 17, 21, 20, 14, 19, 24, 22, 15, 21, 25, 23, 17, 24, 27, 26, 19, 25, 8]\n",
      "Big set: \t [28]\n",
      "Big set: \t [29, 30, 31, 30, 32, 30, 32]\n",
      "Big set: \t [33]\n",
      "Big set: \t [34, 35, 36, 37, 38, 39, 40, 41, 42, 43, 28]\n",
      "Big set: \t [44, 45]\n",
      "Big set: \t [46, 47, 48, 49, 46, 50, 51, 52]\n",
      "Big set: \t [53]\n",
      "Big set: \t [54]\n",
      "Big set: \t [55, 56, 57]\n",
      "Big set: \t [58, 59, 60, 61, 62, 61, 62, 61, 62, 61, 62, 63]\n",
      "Big set: \t [30, 32, 30, 32]\n",
      "Big set: \t [64]\n",
      "Big set: \t [65, 66, 67, 66, 65]\n",
      "Big set: \t [56, 68, 69, 70]\n",
      "Big set: \t [71]\n",
      "Big set: \t [72]\n",
      "Big set: \t [73]\n",
      "Big set: \t [61, 74, 61, 74, 61, 74]\n",
      "Big set: \t [75]\n",
      "Big set: \t [76, 77, 78, 79]\n",
      "Big set: \t [80, 81, 82, 83, 84, 85]\n",
      "Big set: \t [86, 61, 62, 61, 62, 61, 87, 88]\n",
      "Big set: \t [5]\n",
      "Big set: \t [89, 90, 91, 92, 93, 94, 95, 96, 96]\n",
      "Big set: \t [28]\n",
      "Big set: \t [83, 97, 72, 98, 83]\n",
      "Big set: \t [61, 74]\n",
      "Big set: \t [61]\n",
      "Big set: \t [46, 99, 100, 101]\n",
      "Big set: \t [102]\n",
      "Big set: \t [103]\n",
      "Big set: \t [66]\n",
      "Big set: \t [30, 104, 30, 104, 30, 104, 30, 104, 30, 104]\n",
      "Big set: \t [105]\n",
      "Big set: \t [106, 107]\n",
      "Big set: \t [46, 108, 109, 110, 46]\n",
      "Big set: \t [111, 111, 112, 113, 114, 111, 115, 116, 113, 114, 117, 118, 119, 120, 121, 122, 61, 123, 124]\n",
      "Big set: \t [125, 57]\n",
      "Big set: \t [1, 2, 3, 4, 4, 5, 6, 7, 5]\n",
      "Big set: \t [8, 9, 10, 11, 12, 13, 14, 15, 16, 17, 18, 19, 20, 21, 22, 23, 24, 25, 26, 27, 8, 9, 10, 11, 14, 12, 15, 14, 13, 17, 15, 16, 19, 18, 17, 21, 20, 14, 19, 24, 22, 15, 21, 25, 23, 17, 24, 27, 26, 19, 25, 8]\n",
      "Big set: \t [28]\n",
      "Big set: \t [29, 30, 31, 30, 32, 30, 32]\n",
      "Big set: \t [33]\n",
      "Big set: \t [34, 35, 36, 37, 38, 39, 40, 41, 42, 43, 28]\n",
      "Big set: \t [44, 45]\n",
      "Big set: \t [46, 47, 48, 49, 46, 50, 51, 52]\n",
      "Big set: \t [53]\n",
      "Big set: \t [54]\n",
      "Big set: \t [55, 56, 57]\n",
      "Big set: \t [58, 59, 60, 61, 62, 61, 62, 61, 62, 61, 62, 63]\n",
      "Big set: \t [30, 32, 30, 32]\n",
      "Big set: \t [64]\n",
      "Big set: \t [65, 66, 67, 66, 65]\n",
      "Big set: \t [56, 68, 69, 70]\n",
      "Big set: \t [71]\n",
      "Big set: \t [72]\n",
      "Big set: \t [73]\n",
      "Big set: \t [61, 74, 61, 74, 61, 74]\n",
      "Big set: \t [75]\n",
      "Big set: \t [76, 77, 78, 79]\n",
      "Big set: \t [80, 81, 82, 83, 84, 85]\n",
      "Big set: \t [86, 61, 62, 61, 62, 61, 87, 88]\n",
      "Big set: \t [5]\n",
      "Big set: \t [89, 90, 91, 92, 93, 94, 95, 96, 96]\n",
      "Big set: \t [28]\n",
      "Big set: \t [83, 97, 72, 98, 83]\n",
      "Big set: \t [61, 74]\n",
      "Big set: \t [61]\n",
      "Big set: \t [46, 99, 100, 101]\n",
      "Big set: \t [102]\n",
      "Big set: \t [103]\n",
      "Big set: \t [66]\n",
      "Big set: \t [30, 104, 30, 104, 30, 104, 30, 104, 30, 104]\n",
      "Big set: \t [105]\n",
      "Big set: \t [106, 107]\n",
      "Big set: \t [46, 108, 109, 110, 46]\n",
      "Big set: \t [111, 111, 112, 113, 114, 111, 115, 116, 113, 114, 117, 118, 119, 120, 121, 122, 61, 123, 124]\n",
      "Big set: \t [125, 57]\n",
      "Big set: \t [1, 2, 3, 4, 4, 5, 6, 7, 5]\n",
      "Big set: \t [8, 9, 10, 11, 12, 13, 14, 15, 16, 17, 18, 19, 20, 21, 22, 23, 24, 25, 26, 27, 8, 9, 10, 11, 14, 12, 15, 14, 13, 17, 15, 16, 19, 18, 17, 21, 20, 14, 19, 24, 22, 15, 21, 25, 23, 17, 24, 27, 26, 19, 25, 8]\n",
      "Big set: \t [28]\n",
      "Big set: \t [29, 30, 31, 30, 32, 30, 32]\n",
      "Big set: \t [33]\n",
      "Big set: \t [34, 35, 36, 37, 38, 39, 40, 41, 42, 43, 28]\n",
      "Big set: \t [44, 45]\n",
      "Big set: \t [46, 47, 48, 49, 46, 50, 51, 52]\n",
      "Big set: \t [53]\n",
      "Big set: \t [54]\n",
      "Big set: \t [55, 56, 57]\n",
      "Big set: \t [58, 59, 60, 61, 62, 61, 62, 61, 62, 61, 62, 63]\n",
      "Big set: \t [30, 32, 30, 32]\n",
      "Big set: \t [64]\n",
      "Big set: \t [65, 66, 67, 66, 65]\n",
      "Big set: \t [56, 68, 69, 70]\n",
      "Big set: \t [71]\n",
      "Big set: \t [72]\n",
      "Big set: \t [73]\n",
      "Big set: \t [61, 74, 61, 74, 61, 74]\n",
      "Big set: \t [75]\n",
      "Big set: \t [76, 77, 78, 79]\n",
      "Big set: \t [80, 81, 82, 83, 84, 85]\n",
      "Big set: \t [86, 61, 62, 61, 62, 61, 87, 88]\n",
      "Big set: \t [5]\n",
      "Big set: \t [89, 90, 91, 92, 93, 94, 95, 96, 96]\n",
      "Big set: \t [28]\n",
      "Big set: \t [83, 97, 72, 98, 83]\n",
      "Big set: \t [61, 74]\n",
      "Big set: \t [61]\n",
      "Big set: \t [46, 99, 100, 101]\n",
      "Big set: \t [102]\n",
      "Big set: \t [103]\n",
      "Big set: \t [66]\n",
      "Big set: \t [30, 104, 30, 104, 30, 104, 30, 104, 30, 104]\n",
      "Big set: \t [105]\n",
      "Big set: \t [106, 107]\n",
      "Big set: \t [46, 108, 109, 110, 46]\n",
      "Big set: \t [111, 111, 112, 113, 114, 111, 115, 116, 113, 114, 117, 118, 119, 120, 121, 122, 61, 123, 124]\n",
      "Big set: \t [125, 57]\n",
      "Big set: \t [1, 2, 3, 4, 4, 5, 6, 7, 5]\n",
      "Big set: \t [8, 9, 10, 11, 12, 13, 14, 15, 16, 17, 18, 19, 20, 21, 22, 23, 24, 25, 26, 27, 8, 9, 10, 11, 14, 12, 15, 14, 13, 17, 15, 16, 19, 18, 17, 21, 20, 14, 19, 24, 22, 15, 21, 25, 23, 17, 24, 27, 26, 19, 25, 8]\n",
      "Big set: \t [28]\n",
      "Big set: \t [29, 30, 31, 30, 32, 30, 32]\n",
      "Big set: \t [33]\n",
      "Big set: \t [34, 35, 36, 37, 38, 39, 40, 41, 42, 43, 28]\n",
      "Big set: \t [44, 45]\n",
      "Big set: \t [46, 47, 48, 49, 46, 50, 51, 52]\n",
      "Big set: \t [53]\n",
      "Big set: \t [54]\n",
      "Big set: \t [55, 56, 57]\n",
      "Big set: \t [58, 59, 60, 61, 62, 61, 62, 61, 62, 61, 62, 63]\n",
      "Big set: \t [30, 32, 30, 32]\n",
      "Big set: \t [64]\n",
      "Big set: \t [65, 66, 67, 66, 65]\n",
      "Big set: \t [56, 68, 69, 70]\n",
      "Big set: \t [71]\n",
      "Big set: \t [72]\n",
      "Big set: \t [73]\n",
      "Big set: \t [61, 74, 61, 74, 61, 74]\n",
      "Big set: \t [75]\n",
      "Big set: \t [76, 77, 78, 79]\n",
      "Big set: \t [80, 81, 82, 83, 84, 85]\n",
      "Big set: \t [86, 61, 62, 61, 62, 61, 87, 88]\n",
      "Big set: \t [5]\n",
      "Big set: \t [89, 90, 91, 92, 93, 94, 95, 96, 96]\n",
      "Big set: \t [28]\n",
      "Big set: \t [83, 97, 72, 98, 83]\n",
      "Big set: \t [61, 74]\n",
      "Big set: \t [61]\n",
      "Big set: \t [46, 99, 100, 101]\n",
      "Big set: \t [102]\n",
      "Big set: \t [103]\n",
      "Big set: \t [66]\n",
      "Big set: \t [30, 104, 30, 104, 30, 104, 30, 104, 30, 104]\n",
      "Big set: \t [105]\n",
      "Big set: \t [106, 107]\n",
      "Big set: \t [46, 108, 109, 110, 46]\n",
      "Big set: \t [111, 111, 112, 113, 114, 111, 115, 116, 113, 114, 117, 118, 119, 120, 121, 122, 61, 123, 124]\n",
      "Big set: \t [125, 57]\n",
      "Big set: \t [1, 2, 3, 4, 4, 5, 6, 7, 5]\n",
      "Big set: \t [8, 9, 10, 11, 12, 13, 14, 15, 16, 17, 18, 19, 20, 21, 22, 23, 24, 25, 26, 27, 8, 9, 10, 11, 14, 12, 15, 14, 13, 17, 15, 16, 19, 18, 17, 21, 20, 14, 19, 24, 22, 15, 21, 25, 23, 17, 24, 27, 26, 19, 25, 8]\n",
      "Big set: \t [28]\n",
      "Big set: \t [29, 30, 31, 30, 32, 30, 32]\n",
      "Big set: \t [33]\n",
      "Big set: \t [34, 35, 36, 37, 38, 39, 40, 41, 42, 43, 28]\n",
      "Big set: \t [44, 45]\n",
      "Big set: \t [46, 47, 48, 49, 46, 50, 51, 52]\n",
      "Big set: \t [53]\n",
      "Big set: \t [54]\n",
      "Big set: \t [55, 56, 57]\n",
      "Big set: \t [58, 59, 60, 61, 62, 61, 62, 61, 62, 61, 62, 63]\n",
      "Big set: \t [30, 32, 30, 32]\n",
      "Big set: \t [64]\n",
      "Big set: \t [65, 66, 67, 66, 65]\n",
      "Big set: \t [56, 68, 69, 70]\n",
      "Big set: \t [71]\n",
      "Big set: \t [72]\n",
      "Big set: \t [73]\n",
      "Big set: \t [61, 74, 61, 74, 61, 74]\n",
      "Big set: \t [75]\n",
      "Big set: \t [76, 77, 78, 79]\n",
      "Big set: \t [80, 81, 82, 83, 84, 85]\n",
      "Big set: \t [86, 61, 62, 61, 62, 61, 87, 88]\n",
      "Big set: \t [5]\n",
      "Big set: \t [89, 90, 91, 92, 93, 94, 95, 96, 96]\n",
      "Big set: \t [28]\n",
      "Big set: \t [83, 97, 72, 98, 83]\n",
      "Big set: \t [61, 74]\n",
      "Big set: \t [61]\n",
      "Big set: \t [46, 99, 100, 101]\n",
      "Big set: \t [102]\n",
      "Big set: \t [103]\n",
      "Big set: \t [66]\n",
      "Big set: \t [30, 104, 30, 104, 30, 104, 30, 104, 30, 104]\n",
      "Big set: \t [105]\n",
      "Big set: \t [106, 107]\n",
      "Big set: \t [46, 108, 109, 110, 46]\n",
      "Big set: \t [111, 111, 112, 113, 114, 111, 115, 116, 113, 114, 117, 118, 119, 120, 121, 122, 61, 123, 124]\n",
      "Big set: \t [125, 57]\n",
      "Big set: \t [1, 2, 3, 4, 4, 5, 6, 7, 5]\n",
      "Big set: \t [8, 9, 10, 11, 12, 13, 14, 15, 16, 17, 18, 19, 20, 21, 22, 23, 24, 25, 26, 27, 8, 9, 10, 11, 14, 12, 15, 14, 13, 17, 15, 16, 19, 18, 17, 21, 20, 14, 19, 24, 22, 15, 21, 25, 23, 17, 24, 27, 26, 19, 25, 8]\n",
      "Big set: \t [28]\n",
      "Big set: \t [29, 30, 31, 30, 32, 30, 32]\n",
      "Big set: \t [33]\n",
      "Big set: \t [34, 35, 36, 37, 38, 39, 40, 41, 42, 43, 28]\n",
      "Big set: \t [44, 45]\n",
      "Big set: \t [46, 47, 48, 49, 46, 50, 51, 52]\n",
      "Big set: \t [53]\n",
      "Big set: \t [54]\n",
      "Big set: \t [55, 56, 57]\n",
      "Big set: \t [58, 59, 60, 61, 62, 61, 62, 61, 62, 61, 62, 63]\n",
      "Big set: \t [30, 32, 30, 32]\n",
      "Big set: \t [64]\n",
      "Big set: \t [65, 66, 67, 66, 65]\n",
      "Big set: \t [56, 68, 69, 70]\n",
      "Big set: \t [71]\n",
      "Big set: \t [72]\n",
      "Big set: \t [73]\n",
      "Big set: \t [61, 74, 61, 74, 61, 74]\n",
      "Big set: \t [75]\n",
      "Big set: \t [76, 77, 78, 79]\n",
      "Big set: \t [80, 81, 82, 83, 84, 85]\n",
      "Big set: \t [86, 61, 62, 61, 62, 61, 87, 88]\n",
      "Big set: \t [5]\n",
      "Big set: \t [89, 90, 91, 92, 93, 94, 95, 96, 96]\n",
      "Big set: \t [28]\n",
      "Big set: \t [83, 97, 72, 98, 83]\n",
      "Big set: \t [61, 74]\n",
      "Big set: \t [61]\n",
      "Big set: \t [46, 99, 100, 101]\n",
      "Big set: \t [102]\n",
      "Big set: \t [103]\n",
      "Big set: \t [66]\n",
      "Big set: \t [30, 104, 30, 104, 30, 104, 30, 104, 30, 104]\n",
      "Big set: \t [105]\n",
      "Big set: \t [106, 107]\n",
      "Big set: \t [46, 108, 109, 110, 46]\n",
      "Big set: \t [111, 111, 112, 113, 114, 111, 115, 116, 113, 114, 117, 118, 119, 120, 121, 122, 61, 123, 124]\n",
      "Big set: \t [125, 57]\n",
      "Big set: \t [1, 2, 3, 4, 4, 5, 6, 7, 5]\n",
      "Big set: \t [8, 9, 10, 11, 12, 13, 14, 15, 16, 17, 18, 19, 20, 21, 22, 23, 24, 25, 26, 27, 8, 9, 10, 11, 14, 12, 15, 14, 13, 17, 15, 16, 19, 18, 17, 21, 20, 14, 19, 24, 22, 15, 21, 25, 23, 17, 24, 27, 26, 19, 25, 8]\n",
      "Big set: \t [28]\n",
      "Big set: \t [29, 30, 31, 30, 32, 30, 32]\n",
      "Big set: \t [33]\n",
      "Big set: \t [34, 35, 36, 37, 38, 39, 40, 41, 42, 43, 28]\n",
      "Big set: \t [44, 45]\n",
      "Big set: \t [46, 47, 48, 49, 46, 50, 51, 52]\n",
      "Big set: \t [53]\n",
      "Big set: \t [54]\n",
      "Big set: \t [55, 56, 57]\n",
      "Big set: \t [58, 59, 60, 61, 62, 61, 62, 61, 62, 61, 62, 63]\n",
      "Big set: \t [30, 32, 30, 32]\n",
      "Big set: \t [64]\n",
      "Big set: \t [65, 66, 67, 66, 65]\n",
      "Big set: \t [56, 68, 69, 70]\n",
      "Big set: \t [71]\n",
      "Big set: \t [72]\n",
      "Big set: \t [73]\n",
      "Big set: \t [61, 74, 61, 74, 61, 74]\n",
      "Big set: \t [75]\n",
      "Big set: \t [76, 77, 78, 79]\n",
      "Big set: \t [80, 81, 82, 83, 84, 85]\n",
      "Big set: \t [86, 61, 62, 61, 62, 61, 87, 88]\n",
      "Big set: \t [5]\n",
      "Big set: \t [89, 90, 91, 92, 93, 94, 95, 96, 96]\n",
      "Big set: \t [28]\n",
      "Big set: \t [83, 97, 72, 98, 83]\n",
      "Big set: \t [61, 74]\n",
      "Big set: \t [61]\n",
      "Big set: \t [46, 99, 100, 101]\n",
      "Big set: \t [102]\n",
      "Big set: \t [103]\n",
      "Big set: \t [66]\n",
      "Big set: \t [30, 104, 30, 104, 30, 104, 30, 104, 30, 104]\n",
      "Big set: \t [105]\n",
      "Big set: \t [106, 107]\n",
      "Big set: \t [46, 108, 109, 110, 46]\n",
      "Big set: \t [111, 111, 112, 113, 114, 111, 115, 116, 113, 114, 117, 118, 119, 120, 121, 122, 61, 123, 124]\n",
      "Big set: \t [125, 57]\n",
      "Big set: \t [1, 2, 3, 4, 4, 5, 6, 7, 5]\n",
      "Big set: \t [8, 9, 10, 11, 12, 13, 14, 15, 16, 17, 18, 19, 20, 21, 22, 23, 24, 25, 26, 27, 8, 9, 10, 11, 14, 12, 15, 14, 13, 17, 15, 16, 19, 18, 17, 21, 20, 14, 19, 24, 22, 15, 21, 25, 23, 17, 24, 27, 26, 19, 25, 8]\n",
      "Big set: \t [28]\n",
      "Big set: \t [29, 30, 31, 30, 32, 30, 32]\n",
      "Big set: \t [33]\n",
      "Big set: \t [34, 35, 36, 37, 38, 39, 40, 41, 42, 43, 28]\n",
      "Big set: \t [44, 45]\n",
      "Big set: \t [46, 47, 48, 49, 46, 50, 51, 52]\n",
      "Big set: \t [53]\n",
      "Big set: \t [54]\n",
      "Big set: \t [55, 56, 57]\n",
      "Big set: \t [58, 59, 60, 61, 62, 61, 62, 61, 62, 61, 62, 63]\n",
      "Big set: \t [30, 32, 30, 32]\n",
      "Big set: \t [64]\n",
      "Big set: \t [65, 66, 67, 66, 65]\n",
      "Big set: \t [56, 68, 69, 70]\n",
      "Big set: \t [71]\n",
      "Big set: \t [72]\n",
      "Big set: \t [73]\n",
      "Big set: \t [61, 74, 61, 74, 61, 74]\n",
      "Big set: \t [75]\n",
      "Big set: \t [76, 77, 78, 79]\n",
      "Big set: \t [80, 81, 82, 83, 84, 85]\n",
      "Big set: \t [86, 61, 62, 61, 62, 61, 87, 88]\n",
      "Big set: \t [5]\n",
      "Big set: \t [89, 90, 91, 92, 93, 94, 95, 96, 96]\n",
      "Big set: \t [28]\n",
      "Big set: \t [83, 97, 72, 98, 83]\n",
      "Big set: \t [61, 74]\n",
      "Big set: \t [61]\n",
      "Big set: \t [46, 99, 100, 101]\n",
      "Big set: \t [102]\n",
      "Big set: \t [103]\n",
      "Big set: \t [66]\n",
      "Big set: \t [30, 104, 30, 104, 30, 104, 30, 104, 30, 104]\n",
      "Big set: \t [105]\n",
      "Big set: \t [106, 107]\n",
      "Big set: \t [46, 108, 109, 110, 46]\n",
      "Big set: \t [111, 111, 112, 113, 114, 111, 115, 116, 113, 114, 117, 118, 119, 120, 121, 122, 61, 123, 124]\n",
      "Big set: \t [125, 57]\n",
      "Big set: \t [1, 2, 3, 4, 4, 5, 6, 7, 5]\n",
      "Big set: \t [8, 9, 10, 11, 12, 13, 14, 15, 16, 17, 18, 19, 20, 21, 22, 23, 24, 25, 26, 27, 8, 9, 10, 11, 14, 12, 15, 14, 13, 17, 15, 16, 19, 18, 17, 21, 20, 14, 19, 24, 22, 15, 21, 25, 23, 17, 24, 27, 26, 19, 25, 8]\n",
      "Big set: \t [28]\n",
      "Big set: \t [29, 30, 31, 30, 32, 30, 32]\n",
      "Big set: \t [33]\n",
      "Big set: \t [34, 35, 36, 37, 38, 39, 40, 41, 42, 43, 28]\n",
      "Big set: \t [44, 45]\n",
      "Big set: \t [46, 47, 48, 49, 46, 50, 51, 52]\n",
      "Big set: \t [53]\n",
      "Big set: \t [54]\n",
      "Big set: \t [55, 56, 57]\n",
      "Big set: \t [58, 59, 60, 61, 62, 61, 62, 61, 62, 61, 62, 63]\n",
      "Big set: \t [30, 32, 30, 32]\n",
      "Big set: \t [64]\n",
      "Big set: \t [65, 66, 67, 66, 65]\n",
      "Big set: \t [56, 68, 69, 70]\n",
      "Big set: \t [71]\n",
      "Big set: \t [72]\n",
      "Big set: \t [73]\n",
      "Big set: \t [61, 74, 61, 74, 61, 74]\n",
      "Big set: \t [75]\n",
      "Big set: \t [76, 77, 78, 79]\n",
      "Big set: \t [80, 81, 82, 83, 84, 85]\n",
      "Big set: \t [86, 61, 62, 61, 62, 61, 87, 88]\n",
      "Big set: \t [5]\n",
      "Big set: \t [89, 90, 91, 92, 93, 94, 95, 96, 96]\n",
      "Big set: \t [28]\n",
      "Big set: \t [83, 97, 72, 98, 83]\n",
      "Big set: \t [61, 74]\n",
      "Big set: \t [61]\n",
      "Big set: \t [46, 99, 100, 101]\n",
      "Big set: \t [102]\n",
      "Big set: \t [103]\n",
      "Big set: \t [66]\n",
      "Big set: \t [30, 104, 30, 104, 30, 104, 30, 104, 30, 104]\n",
      "Big set: \t [105]\n",
      "Big set: \t [106, 107]\n",
      "Big set: \t [46, 108, 109, 110, 46]\n",
      "Big set: \t [111, 111, 112, 113, 114, 111, 115, 116, 113, 114, 117, 118, 119, 120, 121, 122, 61, 123, 124]\n",
      "Big set: \t [125, 57]\n",
      "Big set: \t [1, 2, 3, 4, 4, 5, 6, 7, 5]\n",
      "Big set: \t [8, 9, 10, 11, 12, 13, 14, 15, 16, 17, 18, 19, 20, 21, 22, 23, 24, 25, 26, 27, 8, 9, 10, 11, 14, 12, 15, 14, 13, 17, 15, 16, 19, 18, 17, 21, 20, 14, 19, 24, 22, 15, 21, 25, 23, 17, 24, 27, 26, 19, 25, 8]\n",
      "Big set: \t [28]\n",
      "Big set: \t [29, 30, 31, 30, 32, 30, 32]\n",
      "Big set: \t [33]\n",
      "Big set: \t [34, 35, 36, 37, 38, 39, 40, 41, 42, 43, 28]\n",
      "Big set: \t [44, 45]\n",
      "Big set: \t [46, 47, 48, 49, 46, 50, 51, 52]\n",
      "Big set: \t [53]\n",
      "Big set: \t [54]\n",
      "Big set: \t [55, 56, 57]\n",
      "Big set: \t [58, 59, 60, 61, 62, 61, 62, 61, 62, 61, 62, 63]\n",
      "Big set: \t [30, 32, 30, 32]\n",
      "Big set: \t [64]\n",
      "Big set: \t [65, 66, 67, 66, 65]\n",
      "Big set: \t [56, 68, 69, 70]\n",
      "Big set: \t [71]\n",
      "Big set: \t [72]\n",
      "Big set: \t [73]\n",
      "Big set: \t [61, 74, 61, 74, 61, 74]\n",
      "Big set: \t [75]\n",
      "Big set: \t [76, 77, 78, 79]\n",
      "Big set: \t [80, 81, 82, 83, 84, 85]\n",
      "Big set: \t [86, 61, 62, 61, 62, 61, 87, 88]\n",
      "Big set: \t [5]\n",
      "Big set: \t [89, 90, 91, 92, 93, 94, 95, 96, 96]\n",
      "Big set: \t [28]\n",
      "Big set: \t [83, 97, 72, 98, 83]\n",
      "Big set: \t [61, 74]\n",
      "Big set: \t [61]\n",
      "Big set: \t [46, 99, 100, 101]\n",
      "Big set: \t [102]\n",
      "Big set: \t [103]\n",
      "Big set: \t [66]\n",
      "Big set: \t [30, 104, 30, 104, 30, 104, 30, 104, 30, 104]\n",
      "Big set: \t [105]\n",
      "Big set: \t [106, 107]\n",
      "Big set: \t [46, 108, 109, 110, 46]\n",
      "Big set: \t [111, 111, 112, 113, 114, 111, 115, 116, 113, 114, 117, 118, 119, 120, 121, 122, 61, 123, 124]\n",
      "Big set: \t [125, 57]\n",
      "Big set: \t [1, 2, 3, 4, 4, 5, 6, 7, 5]\n",
      "Big set: \t [8, 9, 10, 11, 12, 13, 14, 15, 16, 17, 18, 19, 20, 21, 22, 23, 24, 25, 26, 27, 8, 9, 10, 11, 14, 12, 15, 14, 13, 17, 15, 16, 19, 18, 17, 21, 20, 14, 19, 24, 22, 15, 21, 25, 23, 17, 24, 27, 26, 19, 25, 8]\n",
      "Big set: \t [28]\n",
      "Big set: \t [29, 30, 31, 30, 32, 30, 32]\n",
      "Big set: \t [33]\n",
      "Big set: \t [34, 35, 36, 37, 38, 39, 40, 41, 42, 43, 28]\n",
      "Big set: \t [44, 45]\n",
      "Big set: \t [46, 47, 48, 49, 46, 50, 51, 52]\n",
      "Big set: \t [53]\n",
      "Big set: \t [54]\n",
      "Big set: \t [55, 56, 57]\n",
      "Big set: \t [58, 59, 60, 61, 62, 61, 62, 61, 62, 61, 62, 63]\n",
      "Big set: \t [30, 32, 30, 32]\n",
      "Big set: \t [64]\n",
      "Big set: \t [65, 66, 67, 66, 65]\n",
      "Big set: \t [56, 68, 69, 70]\n",
      "Big set: \t [71]\n",
      "Big set: \t [72]\n",
      "Big set: \t [73]\n",
      "Big set: \t [61, 74, 61, 74, 61, 74]\n",
      "Big set: \t [75]\n",
      "Big set: \t [76, 77, 78, 79]\n",
      "Big set: \t [80, 81, 82, 83, 84, 85]\n",
      "Big set: \t [86, 61, 62, 61, 62, 61, 87, 88]\n",
      "Big set: \t [5]\n",
      "Big set: \t [89, 90, 91, 92, 93, 94, 95, 96, 96]\n",
      "Big set: \t [28]\n",
      "Big set: \t [83, 97, 72, 98, 83]\n",
      "Big set: \t [61, 74]\n",
      "Big set: \t [61]\n",
      "Big set: \t [46, 99, 100, 101]\n",
      "Big set: \t [102]\n",
      "Big set: \t [103]\n",
      "Big set: \t [66]\n",
      "Big set: \t [30, 104, 30, 104, 30, 104, 30, 104, 30, 104]\n",
      "Big set: \t [105]\n",
      "Big set: \t [106, 107]\n",
      "Big set: \t [46, 108, 109, 110, 46]\n",
      "Big set: \t [111, 111, 112, 113, 114, 111, 115, 116, 113, 114, 117, 118, 119, 120, 121, 122, 61, 123, 124]\n",
      "Big set: \t [125, 57]\n",
      "Big set: \t [1, 2, 3, 4, 4, 5, 6, 7, 5]\n",
      "Big set: \t [8, 9, 10, 11, 12, 13, 14, 15, 16, 17, 18, 19, 20, 21, 22, 23, 24, 25, 26, 27, 8, 9, 10, 11, 14, 12, 15, 14, 13, 17, 15, 16, 19, 18, 17, 21, 20, 14, 19, 24, 22, 15, 21, 25, 23, 17, 24, 27, 26, 19, 25, 8]\n",
      "Big set: \t [28]\n",
      "Big set: \t [29, 30, 31, 30, 32, 30, 32]\n",
      "Big set: \t [33]\n",
      "Big set: \t [34, 35, 36, 37, 38, 39, 40, 41, 42, 43, 28]\n",
      "Big set: \t [44, 45]\n",
      "Big set: \t [46, 47, 48, 49, 46, 50, 51, 52]\n",
      "Big set: \t [53]\n",
      "Big set: \t [54]\n",
      "Big set: \t [55, 56, 57]\n",
      "Big set: \t [58, 59, 60, 61, 62, 61, 62, 61, 62, 61, 62, 63]\n",
      "Big set: \t [30, 32, 30, 32]\n",
      "Big set: \t [64]\n",
      "Big set: \t [65, 66, 67, 66, 65]\n",
      "Big set: \t [56, 68, 69, 70]\n",
      "Big set: \t [71]\n",
      "Big set: \t [72]\n",
      "Big set: \t [73]\n",
      "Big set: \t [61, 74, 61, 74, 61, 74]\n",
      "Big set: \t [75]\n",
      "Big set: \t [76, 77, 78, 79]\n",
      "Big set: \t [80, 81, 82, 83, 84, 85]\n",
      "Big set: \t [86, 61, 62, 61, 62, 61, 87, 88]\n",
      "Big set: \t [5]\n",
      "Big set: \t [89, 90, 91, 92, 93, 94, 95, 96, 96]\n",
      "Big set: \t [28]\n",
      "Big set: \t [83, 97, 72, 98, 83]\n",
      "Big set: \t [61, 74]\n",
      "Big set: \t [61]\n",
      "Big set: \t [46, 99, 100, 101]\n",
      "Big set: \t [102]\n",
      "Big set: \t [103]\n",
      "Big set: \t [66]\n",
      "Big set: \t [30, 104, 30, 104, 30, 104, 30, 104, 30, 104]\n",
      "Big set: \t [105]\n",
      "Big set: \t [106, 107]\n",
      "Big set: \t [46, 108, 109, 110, 46]\n",
      "Big set: \t [111, 111, 112, 113, 114, 111, 115, 116, 113, 114, 117, 118, 119, 120, 121, 122, 61, 123, 124]\n",
      "Big set: \t [125, 57]\n",
      "Big set: \t [1, 2, 3, 4, 4, 5, 6, 7, 5]\n",
      "Big set: \t [8, 9, 10, 11, 12, 13, 14, 15, 16, 17, 18, 19, 20, 21, 22, 23, 24, 25, 26, 27, 8, 9, 10, 11, 14, 12, 15, 14, 13, 17, 15, 16, 19, 18, 17, 21, 20, 14, 19, 24, 22, 15, 21, 25, 23, 17, 24, 27, 26, 19, 25, 8]\n",
      "Big set: \t [28]\n",
      "Big set: \t [29, 30, 31, 30, 32, 30, 32]\n",
      "Big set: \t [33]\n",
      "Big set: \t [34, 35, 36, 37, 38, 39, 40, 41, 42, 43, 28]\n",
      "Big set: \t [44, 45]\n",
      "Big set: \t [46, 47, 48, 49, 46, 50, 51, 52]\n",
      "Big set: \t [53]\n",
      "Big set: \t [54]\n",
      "Big set: \t [55, 56, 57]\n",
      "Big set: \t [58, 59, 60, 61, 62, 61, 62, 61, 62, 61, 62, 63]\n",
      "Big set: \t [30, 32, 30, 32]\n",
      "Big set: \t [64]\n",
      "Big set: \t [65, 66, 67, 66, 65]\n",
      "Big set: \t [56, 68, 69, 70]\n",
      "Big set: \t [71]\n",
      "Big set: \t [72]\n",
      "Big set: \t [73]\n",
      "Big set: \t [61, 74, 61, 74, 61, 74]\n",
      "Big set: \t [75]\n",
      "Big set: \t [76, 77, 78, 79]\n",
      "Big set: \t [80, 81, 82, 83, 84, 85]\n",
      "Big set: \t [86, 61, 62, 61, 62, 61, 87, 88]\n",
      "Big set: \t [5]\n",
      "Big set: \t [89, 90, 91, 92, 93, 94, 95, 96, 96]\n",
      "Big set: \t [28]\n",
      "Big set: \t [83, 97, 72, 98, 83]\n",
      "Big set: \t [61, 74]\n",
      "Big set: \t [61]\n",
      "Big set: \t [46, 99, 100, 101]\n",
      "Big set: \t [102]\n",
      "Big set: \t [103]\n",
      "Big set: \t [66]\n",
      "Big set: \t [30, 104, 30, 104, 30, 104, 30, 104, 30, 104]\n",
      "Big set: \t [105]\n",
      "Big set: \t [106, 107]\n",
      "Big set: \t [46, 108, 109, 110, 46]\n",
      "Big set: \t [111, 111, 112, 113, 114, 111, 115, 116, 113, 114, 117, 118, 119, 120, 121, 122, 61, 123, 124]\n",
      "Big set: \t [125, 57]\n",
      "Big set: \t [1, 2, 3, 4, 4, 5, 6, 7, 5]\n",
      "Big set: \t [8, 9, 10, 11, 12, 13, 14, 15, 16, 17, 18, 19, 20, 21, 22, 23, 24, 25, 26, 27, 8, 9, 10, 11, 14, 12, 15, 14, 13, 17, 15, 16, 19, 18, 17, 21, 20, 14, 19, 24, 22, 15, 21, 25, 23, 17, 24, 27, 26, 19, 25, 8]\n",
      "Big set: \t [28]\n",
      "Big set: \t [29, 30, 31, 30, 32, 30, 32]\n",
      "Big set: \t [33]\n",
      "Big set: \t [34, 35, 36, 37, 38, 39, 40, 41, 42, 43, 28]\n",
      "Big set: \t [44, 45]\n",
      "Big set: \t [46, 47, 48, 49, 46, 50, 51, 52]\n",
      "Big set: \t [53]\n",
      "Big set: \t [54]\n",
      "Big set: \t [55, 56, 57]\n",
      "Big set: \t [58, 59, 60, 61, 62, 61, 62, 61, 62, 61, 62, 63]\n",
      "Big set: \t [30, 32, 30, 32]\n",
      "Big set: \t [64]\n",
      "Big set: \t [65, 66, 67, 66, 65]\n",
      "Big set: \t [56, 68, 69, 70]\n",
      "Big set: \t [71]\n",
      "Big set: \t [72]\n",
      "Big set: \t [73]\n",
      "Big set: \t [61, 74, 61, 74, 61, 74]\n",
      "Big set: \t [75]\n",
      "Big set: \t [76, 77, 78, 79]\n",
      "Big set: \t [80, 81, 82, 83, 84, 85]\n",
      "Big set: \t [86, 61, 62, 61, 62, 61, 87, 88]\n",
      "Big set: \t [5]\n",
      "Big set: \t [89, 90, 91, 92, 93, 94, 95, 96, 96]\n",
      "Big set: \t [28]\n",
      "Big set: \t [83, 97, 72, 98, 83]\n",
      "Big set: \t [61, 74]\n",
      "Big set: \t [61]\n",
      "Big set: \t [46, 99, 100, 101]\n",
      "Big set: \t [102]\n",
      "Big set: \t [103]\n",
      "Big set: \t [66]\n",
      "Big set: \t [30, 104, 30, 104, 30, 104, 30, 104, 30, 104]\n",
      "Big set: \t [105]\n",
      "Big set: \t [106, 107]\n",
      "Big set: \t [46, 108, 109, 110, 46]\n",
      "Big set: \t [111, 111, 112, 113, 114, 111, 115, 116, 113, 114, 117, 118, 119, 120, 121, 122, 61, 123, 124]\n",
      "Big set: \t [125, 57]\n",
      "Big set: \t [1, 2, 3, 4, 4, 5, 6, 7, 5]\n",
      "Big set: \t [8, 9, 10, 11, 12, 13, 14, 15, 16, 17, 18, 19, 20, 21, 22, 23, 24, 25, 26, 27, 8, 9, 10, 11, 14, 12, 15, 14, 13, 17, 15, 16, 19, 18, 17, 21, 20, 14, 19, 24, 22, 15, 21, 25, 23, 17, 24, 27, 26, 19, 25, 8]\n",
      "Big set: \t [28]\n",
      "Big set: \t [29, 30, 31, 30, 32, 30, 32]\n",
      "Big set: \t [33]\n",
      "Big set: \t [34, 35, 36, 37, 38, 39, 40, 41, 42, 43, 28]\n",
      "Big set: \t [44, 45]\n",
      "Big set: \t [46, 47, 48, 49, 46, 50, 51, 52]\n",
      "Big set: \t [53]\n",
      "Big set: \t [54]\n",
      "Big set: \t [55, 56, 57]\n",
      "Big set: \t [58, 59, 60, 61, 62, 61, 62, 61, 62, 61, 62, 63]\n",
      "Big set: \t [30, 32, 30, 32]\n",
      "Big set: \t [64]\n",
      "Big set: \t [65, 66, 67, 66, 65]\n",
      "Big set: \t [56, 68, 69, 70]\n",
      "Big set: \t [71]\n",
      "Big set: \t [72]\n",
      "Big set: \t [73]\n",
      "Big set: \t [61, 74, 61, 74, 61, 74]\n",
      "Big set: \t [75]\n",
      "Big set: \t [76, 77, 78, 79]\n",
      "Big set: \t [80, 81, 82, 83, 84, 85]\n",
      "Big set: \t [86, 61, 62, 61, 62, 61, 87, 88]\n",
      "Big set: \t [5]\n",
      "Big set: \t [89, 90, 91, 92, 93, 94, 95, 96, 96]\n",
      "Big set: \t [28]\n",
      "Big set: \t [83, 97, 72, 98, 83]\n",
      "Big set: \t [61, 74]\n",
      "Big set: \t [61]\n",
      "Big set: \t [46, 99, 100, 101]\n",
      "Big set: \t [102]\n",
      "Big set: \t [103]\n",
      "Big set: \t [66]\n",
      "Big set: \t [30, 104, 30, 104, 30, 104, 30, 104, 30, 104]\n",
      "Big set: \t [105]\n",
      "Big set: \t [106, 107]\n",
      "Big set: \t [46, 108, 109, 110, 46]\n",
      "Big set: \t [111, 111, 112, 113, 114, 111, 115, 116, 113, 114, 117, 118, 119, 120, 121, 122, 61, 123, 124]\n",
      "Big set: \t [125, 57]\n",
      "Big set: \t [1, 2, 3, 4, 4, 5, 6, 7, 5]\n",
      "Big set: \t [8, 9, 10, 11, 12, 13, 14, 15, 16, 17, 18, 19, 20, 21, 22, 23, 24, 25, 26, 27, 8, 9, 10, 11, 14, 12, 15, 14, 13, 17, 15, 16, 19, 18, 17, 21, 20, 14, 19, 24, 22, 15, 21, 25, 23, 17, 24, 27, 26, 19, 25, 8]\n",
      "Big set: \t [28]\n",
      "Big set: \t [29, 30, 31, 30, 32, 30, 32]\n",
      "Big set: \t [33]\n",
      "Big set: \t [34, 35, 36, 37, 38, 39, 40, 41, 42, 43, 28]\n",
      "Big set: \t [44, 45]\n",
      "Big set: \t [46, 47, 48, 49, 46, 50, 51, 52]\n",
      "Big set: \t [53]\n",
      "Big set: \t [54]\n",
      "Big set: \t [55, 56, 57]\n",
      "Big set: \t [58, 59, 60, 61, 62, 61, 62, 61, 62, 61, 62, 63]\n",
      "Big set: \t [30, 32, 30, 32]\n",
      "Big set: \t [64]\n",
      "Big set: \t [65, 66, 67, 66, 65]\n",
      "Big set: \t [56, 68, 69, 70]\n",
      "Big set: \t [71]\n",
      "Big set: \t [72]\n",
      "Big set: \t [73]\n",
      "Big set: \t [61, 74, 61, 74, 61, 74]\n",
      "Big set: \t [75]\n",
      "Big set: \t [76, 77, 78, 79]\n",
      "Big set: \t [80, 81, 82, 83, 84, 85]\n",
      "Big set: \t [86, 61, 62, 61, 62, 61, 87, 88]\n",
      "Big set: \t [5]\n",
      "Big set: \t [89, 90, 91, 92, 93, 94, 95, 96, 96]\n",
      "Big set: \t [28]\n",
      "Big set: \t [83, 97, 72, 98, 83]\n",
      "Big set: \t [61, 74]\n",
      "Big set: \t [61]\n",
      "Big set: \t [46, 99, 100, 101]\n",
      "Big set: \t [102]\n",
      "Big set: \t [103]\n",
      "Big set: \t [66]\n",
      "Big set: \t [30, 104, 30, 104, 30, 104, 30, 104, 30, 104]\n",
      "Big set: \t [105]\n",
      "Big set: \t [106, 107]\n",
      "Big set: \t [46, 108, 109, 110, 46]\n",
      "Big set: \t [111, 111, 112, 113, 114, 111, 115, 116, 113, 114, 117, 118, 119, 120, 121, 122, 61, 123, 124]\n",
      "Big set: \t [125, 57]\n",
      "Big set: \t [1, 2, 3, 4, 4, 5, 6, 7, 5]\n",
      "Big set: \t [8, 9, 10, 11, 12, 13, 14, 15, 16, 17, 18, 19, 20, 21, 22, 23, 24, 25, 26, 27, 8, 9, 10, 11, 14, 12, 15, 14, 13, 17, 15, 16, 19, 18, 17, 21, 20, 14, 19, 24, 22, 15, 21, 25, 23, 17, 24, 27, 26, 19, 25, 8]\n",
      "Big set: \t [28]\n",
      "Big set: \t [29, 30, 31, 30, 32, 30, 32]\n",
      "Big set: \t [33]\n",
      "Big set: \t [34, 35, 36, 37, 38, 39, 40, 41, 42, 43, 28]\n",
      "Big set: \t [44, 45]\n",
      "Big set: \t [46, 47, 48, 49, 46, 50, 51, 52]\n",
      "Big set: \t [53]\n",
      "Big set: \t [54]\n",
      "Big set: \t [55, 56, 57]\n",
      "Big set: \t [58, 59, 60, 61, 62, 61, 62, 61, 62, 61, 62, 63]\n",
      "Big set: \t [30, 32, 30, 32]\n",
      "Big set: \t [64]\n",
      "Big set: \t [65, 66, 67, 66, 65]\n",
      "Big set: \t [56, 68, 69, 70]\n",
      "Big set: \t [71]\n",
      "Big set: \t [72]\n",
      "Big set: \t [73]\n",
      "Big set: \t [61, 74, 61, 74, 61, 74]\n",
      "Big set: \t [75]\n",
      "Big set: \t [76, 77, 78, 79]\n",
      "Big set: \t [80, 81, 82, 83, 84, 85]\n",
      "Big set: \t [86, 61, 62, 61, 62, 61, 87, 88]\n",
      "Big set: \t [5]\n",
      "Big set: \t [89, 90, 91, 92, 93, 94, 95, 96, 96]\n",
      "Big set: \t [28]\n",
      "Big set: \t [83, 97, 72, 98, 83]\n",
      "Big set: \t [61, 74]\n",
      "Big set: \t [61]\n",
      "Big set: \t [46, 99, 100, 101]\n",
      "Big set: \t [102]\n",
      "Big set: \t [103]\n",
      "Big set: \t [66]\n",
      "Big set: \t [30, 104, 30, 104, 30, 104, 30, 104, 30, 104]\n",
      "Big set: \t [105]\n",
      "Big set: \t [106, 107]\n",
      "Big set: \t [46, 108, 109, 110, 46]\n",
      "Big set: \t [111, 111, 112, 113, 114, 111, 115, 116, 113, 114, 117, 118, 119, 120, 121, 122, 61, 123, 124]\n",
      "Big set: \t [125, 57]\n",
      "Big set: \t [1, 2, 3, 4, 4, 5, 6, 7, 5]\n",
      "Big set: \t [8, 9, 10, 11, 12, 13, 14, 15, 16, 17, 18, 19, 20, 21, 22, 23, 24, 25, 26, 27, 8, 9, 10, 11, 14, 12, 15, 14, 13, 17, 15, 16, 19, 18, 17, 21, 20, 14, 19, 24, 22, 15, 21, 25, 23, 17, 24, 27, 26, 19, 25, 8]\n",
      "Big set: \t [28]\n",
      "Big set: \t [29, 30, 31, 30, 32, 30, 32]\n",
      "Big set: \t [33]\n",
      "Big set: \t [34, 35, 36, 37, 38, 39, 40, 41, 42, 43, 28]\n",
      "Big set: \t [44, 45]\n",
      "Big set: \t [46, 47, 48, 49, 46, 50, 51, 52]\n",
      "Big set: \t [53]\n",
      "Big set: \t [54]\n",
      "Big set: \t [55, 56, 57]\n",
      "Big set: \t [58, 59, 60, 61, 62, 61, 62, 61, 62, 61, 62, 63]\n",
      "Big set: \t [30, 32, 30, 32]\n",
      "Big set: \t [64]\n",
      "Big set: \t [65, 66, 67, 66, 65]\n",
      "Big set: \t [56, 68, 69, 70]\n",
      "Big set: \t [71]\n",
      "Big set: \t [72]\n",
      "Big set: \t [73]\n",
      "Big set: \t [61, 74, 61, 74, 61, 74]\n",
      "Big set: \t [75]\n",
      "Big set: \t [76, 77, 78, 79]\n",
      "Big set: \t [80, 81, 82, 83, 84, 85]\n",
      "Big set: \t [86, 61, 62, 61, 62, 61, 87, 88]\n",
      "Big set: \t [5]\n",
      "Big set: \t [89, 90, 91, 92, 93, 94, 95, 96, 96]\n",
      "Big set: \t [28]\n",
      "Big set: \t [83, 97, 72, 98, 83]\n",
      "Big set: \t [61, 74]\n",
      "Big set: \t [61]\n",
      "Big set: \t [46, 99, 100, 101]\n",
      "Big set: \t [102]\n",
      "Big set: \t [103]\n",
      "Big set: \t [66]\n",
      "Big set: \t [30, 104, 30, 104, 30, 104, 30, 104, 30, 104]\n",
      "Big set: \t [105]\n",
      "Big set: \t [106, 107]\n",
      "Big set: \t [46, 108, 109, 110, 46]\n",
      "Big set: \t [111, 111, 112, 113, 114, 111, 115, 116, 113, 114, 117, 118, 119, 120, 121, 122, 61, 123, 124]\n",
      "Big set: \t [125, 57]\n",
      "Big set: \t [1, 2, 3, 4, 4, 5, 6, 7, 5]\n",
      "Big set: \t [8, 9, 10, 11, 12, 13, 14, 15, 16, 17, 18, 19, 20, 21, 22, 23, 24, 25, 26, 27, 8, 9, 10, 11, 14, 12, 15, 14, 13, 17, 15, 16, 19, 18, 17, 21, 20, 14, 19, 24, 22, 15, 21, 25, 23, 17, 24, 27, 26, 19, 25, 8]\n",
      "Big set: \t [28]\n",
      "Big set: \t [29, 30, 31, 30, 32, 30, 32]\n",
      "Big set: \t [33]\n",
      "Big set: \t [34, 35, 36, 37, 38, 39, 40, 41, 42, 43, 28]\n",
      "Big set: \t [44, 45]\n",
      "Big set: \t [46, 47, 48, 49, 46, 50, 51, 52]\n",
      "Big set: \t [53]\n",
      "Big set: \t [54]\n",
      "Big set: \t [55, 56, 57]\n",
      "Big set: \t [58, 59, 60, 61, 62, 61, 62, 61, 62, 61, 62, 63]\n",
      "Big set: \t [30, 32, 30, 32]\n",
      "Big set: \t [64]\n",
      "Big set: \t [65, 66, 67, 66, 65]\n",
      "Big set: \t [56, 68, 69, 70]\n",
      "Big set: \t [71]\n",
      "Big set: \t [72]\n",
      "Big set: \t [73]\n",
      "Big set: \t [61, 74, 61, 74, 61, 74]\n",
      "Big set: \t [75]\n",
      "Big set: \t [76, 77, 78, 79]\n",
      "Big set: \t [80, 81, 82, 83, 84, 85]\n",
      "Big set: \t [86, 61, 62, 61, 62, 61, 87, 88]\n",
      "Big set: \t [5]\n",
      "Big set: \t [89, 90, 91, 92, 93, 94, 95, 96, 96]\n",
      "Big set: \t [28]\n",
      "Big set: \t [83, 97, 72, 98, 83]\n",
      "Big set: \t [61, 74]\n",
      "Big set: \t [61]\n",
      "Big set: \t [46, 99, 100, 101]\n",
      "Big set: \t [102]\n",
      "Big set: \t [103]\n",
      "Big set: \t [66]\n",
      "Big set: \t [30, 104, 30, 104, 30, 104, 30, 104, 30, 104]\n",
      "Big set: \t [105]\n",
      "Big set: \t [106, 107]\n",
      "Big set: \t [46, 108, 109, 110, 46]\n",
      "Big set: \t [111, 111, 112, 113, 114, 111, 115, 116, 113, 114, 117, 118, 119, 120, 121, 122, 61, 123, 124]\n",
      "Big set: \t [125, 57]\n"
     ]
    }
   ],
   "source": [
    "# This part finds all q_id that has a specific pattern \n",
    "\n",
    "# in the next version we fixed this issue\n",
    "\n",
    "\n",
    "lst_q_id_has_pattern = []\n",
    "\n",
    "for top_pattern in top_pattern_str:\n",
    "    # print(\"Pattern(small set): \\t\", top_pattern[1])\n",
    "    for q_id in _Id_array:\n",
    "        # print(q_id)\n",
    "        assert not df_w_hf_tags.loc[df_w_hf_tags['Id'] == q_id].Bugy_py_files.empty, \"It's not possible!\"\n",
    "        \n",
    "        for item in df_w_hf_tags.loc[df_w_hf_tags['Id'] == q_id].Bugy_py_files.values[0][1]:\n",
    "            print(\"Big set: \\t\", item)\n",
    "            if order_sublist(item, list(top_pattern[1])):\n",
    "                # print(\"Big Set: \\t\", item)\n",
    "                # print(\"Small Set: \\t\", list(top_pattern[1]))\n",
    "                # print(\"\\n\\n\")\n",
    "                lst_q_id_has_pattern.append(q_id)\n",
    "    # print(\"\\n\\n\")"
   ]
  },
  {
   "cell_type": "code",
   "execution_count": 159,
   "id": "c0ba5f1a-621c-43db-8217-afac4efecd5a",
   "metadata": {},
   "outputs": [
    {
     "ename": "AssertionError",
     "evalue": "List not should be empty.",
     "output_type": "error",
     "traceback": [
      "\u001b[0;31m---------------------------------------------------------------------------\u001b[0m",
      "\u001b[0;31mAssertionError\u001b[0m                            Traceback (most recent call last)",
      "Input \u001b[0;32mIn [159]\u001b[0m, in \u001b[0;36m<cell line: 1>\u001b[0;34m()\u001b[0m\n\u001b[0;32m----> 1\u001b[0m \u001b[38;5;28;01massert\u001b[39;00m lst_q_id_has_pattern, \u001b[38;5;124m\"\u001b[39m\u001b[38;5;124mList not should be empty.\u001b[39m\u001b[38;5;124m\"\u001b[39m\n",
      "\u001b[0;31mAssertionError\u001b[0m: List not should be empty."
     ]
    }
   ],
   "source": [
    "assert lst_q_id_has_pattern, \"List not should be empty.\""
   ]
  },
  {
   "cell_type": "code",
   "execution_count": null,
   "id": "8773975b-df82-447d-a2f5-fb09e9b1d8bf",
   "metadata": {},
   "outputs": [],
   "source": [
    "df_pattern = df_w_hf_tags.loc[df_w_hf_tags['Id'].isin(lst_q_id_has_pattern)].reset_index(drop=True)"
   ]
  },
  {
   "cell_type": "code",
   "execution_count": null,
   "id": "bc5e7c88-3b27-48aa-9549-ddd4a0d8dd57",
   "metadata": {},
   "outputs": [],
   "source": [
    "df_pattern.rename(columns = {'Id':'Q_id', 'CreationDate':'Q_create_time'}, inplace = True)"
   ]
  },
  {
   "cell_type": "code",
   "execution_count": null,
   "id": "d79b746a-5914-49fa-9d7c-8058563220a3",
   "metadata": {
    "tags": []
   },
   "outputs": [],
   "source": [
    "pure_data = working_directory_path + \"db_results/\" + \"sp_w_stack_result_DB.csv\"\n",
    "path = Path(pure_data)\n",
    "\n",
    "if path.suffix == \".csv\":\n",
    "    df_night = pd.read_csv(path, encoding=encoding)\n",
    "else:\n",
    "    raise ValueError(\"{data_file_path.suffix} extensions are not supported\")"
   ]
  },
  {
   "cell_type": "code",
   "execution_count": null,
   "id": "dd5bca70-0009-4209-99b4-79088fe4ff08",
   "metadata": {},
   "outputs": [],
   "source": [
    "pd_tmp_w = pd.merge(df_pattern, df_night, how='outer',left_on=['Q_id'], right_on=['ParentId']).reset_index(drop=True)\n",
    "pd_tmp_w[\"Answer_tup\"] = pd_tmp_w.apply(lambda x: (x.Id, x.CreationDate), axis=1)\n",
    "pd_tmp_new_w = pd_tmp_w.groupby([\"Q_id_x\", \"Q_create_time\", \"ViewCount\", \"CommentCount\", \"Score\", \"AnswerCount\", \"AcceptedAnswerId\"], dropna=False)[\"Answer_tup\"].agg(list).reset_index()\n",
    "df_pattern_ans = pd_tmp_new_w[pd_tmp_new_w.AnswerCount != 0].reset_index(drop=True)"
   ]
  },
  {
   "cell_type": "code",
   "execution_count": null,
   "id": "db8b5510-7e39-417f-952f-762d88bb74e6",
   "metadata": {},
   "outputs": [],
   "source": [
    "df_pattern_ans = df_pattern_ans[df_pattern_ans.AcceptedAnswerId > 0]"
   ]
  },
  {
   "cell_type": "code",
   "execution_count": null,
   "id": "d89c4add-6f7f-4f91-a45f-23baccca2cad",
   "metadata": {},
   "outputs": [],
   "source": [
    "def check_patt_ans(lst_ans_id_1, lst_ans_id_2):\n",
    "    assert set(lst_ans_id_1) == set(lst_ans_id_2), \"We couldn't find all answers.\"\n",
    "    assert len(lst_ans_id_1) == len(lst_ans_id_2), \"The length of answer lists are not the same.\""
   ]
  },
  {
   "cell_type": "code",
   "execution_count": null,
   "id": "5bd9dbba-4edf-4f43-ab1d-a123a5cd21de",
   "metadata": {},
   "outputs": [],
   "source": [
    "check_patt_ans(df_pattern_ans.AcceptedAnswerId, df_pattern[df_pattern.AcceptedAnswerId > 0].AcceptedAnswerId)"
   ]
  },
  {
   "cell_type": "code",
   "execution_count": null,
   "id": "2849609b-cc75-4a22-99fa-3604ec25b09b",
   "metadata": {},
   "outputs": [],
   "source": [
    "df_pattern_ans.insert(len(df_pattern_ans.columns), 'First_ans_time', np.nan)\n",
    "df_pattern_ans.insert(len(df_pattern_ans.columns), 'First_acc_ans_time', np.nan)"
   ]
  },
  {
   "cell_type": "code",
   "execution_count": null,
   "id": "c6d26535-d3f8-4cc2-8e86-50433de7f29e",
   "metadata": {},
   "outputs": [],
   "source": [
    "def assign_the_answers(df: pd.DataFrame) -> pd.DataFrame:\n",
    "    for index1, row_status in df.iterrows():   \n",
    "        flag = 0\n",
    "        fr_time = pd.to_datetime(datetime.datetime.now())\n",
    "        acc_time = pd.to_datetime(datetime.datetime.now())\n",
    "\n",
    "        if not row_status[\"Answer_tup\"]:\n",
    "            pd_tmp_new3_w.at[index1,'First_ans_time'] = np.nan\n",
    "            pd_tmp_new3_w.at[index1,'First_acc_ans_time'] = np.nan\n",
    "            continue\n",
    "\n",
    "        for answer in row_status[\"Answer_tup\"]:\n",
    "\n",
    "            anwer_time = pd.to_datetime(answer[1])\n",
    "\n",
    "            if flag == 0:\n",
    "                fr_time = anwer_time\n",
    "                flag = 1\n",
    "\n",
    "            if fr_time > anwer_time:\n",
    "                fr_time = anwer_time\n",
    "\n",
    "            if row_status[\"AcceptedAnswerId\"] == answer[0]:\n",
    "                acc_time = anwer_time\n",
    "\n",
    "        df.at[index1,'First_ans_time'] = fr_time\n",
    "\n",
    "        if pd.isna(row_status[\"AcceptedAnswerId\"]):\n",
    "            acc_time = np.nan\n",
    "\n",
    "        df.at[index1,'First_acc_ans_time'] = acc_time\n",
    "    return df"
   ]
  },
  {
   "cell_type": "code",
   "execution_count": null,
   "id": "b22e6ebb-8fa4-443d-a4b3-d76e3e7c4c6f",
   "metadata": {},
   "outputs": [],
   "source": [
    "df_pattern_ans = assign_the_answers(df_pattern_ans)"
   ]
  },
  {
   "cell_type": "code",
   "execution_count": null,
   "id": "886c6c93-1474-4b85-81b2-f41fba228218",
   "metadata": {},
   "outputs": [],
   "source": [
    "df_pattern_ans[\"Q_create_time\"]      = pd.to_datetime(df_pattern_ans[\"Q_create_time\"])\n",
    "df_pattern_ans[\"First_acc_ans_time\"] = pd.to_datetime(df_pattern_ans[\"First_acc_ans_time\"])\n",
    "df_pattern_ans[\"First_ans_time\"]     = pd.to_datetime(df_pattern_ans[\"First_ans_time\"])"
   ]
  },
  {
   "cell_type": "code",
   "execution_count": null,
   "id": "b7df2e6a-04d7-4b0c-9339-9c83aa762c6a",
   "metadata": {},
   "outputs": [],
   "source": [
    "df_pattern_ans[\"Duration_ans\"] = df_pattern_ans.apply(lambda row: (row.First_ans_time-row.Q_create_time).total_seconds()/3600 if not pd.isna(row.First_ans_time) else np.nan, axis=1)\n",
    "df_pattern_ans[\"Duration_acc_ans\"] = df_pattern_ans.apply(lambda row: (row.First_acc_ans_time-row.Q_create_time).total_seconds()/3600 if not pd.isna(row.First_acc_ans_time) else np.nan, axis=1)"
   ]
  },
  {
   "cell_type": "code",
   "execution_count": null,
   "id": "626c21c2-6152-4548-9440-d3c70296aede",
   "metadata": {},
   "outputs": [],
   "source": [
    "df_pattern_ans"
   ]
  },
  {
   "cell_type": "code",
   "execution_count": null,
   "id": "d49e1dc6-487c-4b33-9b6a-f9c42dba0acc",
   "metadata": {},
   "outputs": [],
   "source": [
    "df_result = pd.DataFrame(columns=['Index', 'Q_id', 'Title', 'OS', '# ST-Post', '# ST', 'Link'])\n",
    "\n",
    "for _indx, row in df_pattern.iterrows():\n",
    "    _c = 0\n",
    "    for item in row.Bugy_py_files[1]:\n",
    "        _c += len(item)\n",
    "    _link = \"https://stackoverflow.com/questions/\" + str(row.Q_id)\n",
    "    df_result = df_result.append({'Index': _indx+1, 'Q_id': row.Q_id, 'Title': row.Title, 'OS': row.Bugy_py_files[0], '# ST-Post': len(row.Bugy_py_files[1]), '# ST': _c, 'Link': _link}, ignore_index=True)"
   ]
  },
  {
   "cell_type": "code",
   "execution_count": null,
   "id": "1c67ab20-8879-4afe-9121-43100fd784ad",
   "metadata": {},
   "outputs": [],
   "source": [
    "regex_unix    = r\"[^\\n\\&\\:\\|\\>\\<\\/\\ \\\"\\;\\&]*(\\/[^\\n\\&\\:\\|\\>\\<\\/]+)+\\/([^\\n\\&\\:\\|\\>\\<\\/\\\\]+)(\\.pyc|\\.py)[^\\d\\n]+(\\d*)\\W*in\\s\\W*\\d*([a-zA-Z_$][a-zA-Z_$0-9]*)\"\n",
    "regex_windows = r\"(([a-zA-Z]:)|\\~)\\\\?\\/?([^\\<\\>\\:\\\"\\\\\\|\\?\\*\\n]+\\\\)+([^\\<\\>\\:\\\"\\\\\\/\\/\\|\\?\\*\\n]+)(\\.pyc|\\.py)[^\\d\\n]+(\\d*)\\W*in\\W+([a-zA-Z_$][a-zA-Z_$0-9]*)\"\n",
    "# https://regex101.com/r/5yCAdA/1   Unix\n",
    "# https://regex101.com/r/50Vcmo/1 Windows"
   ]
  },
  {
   "cell_type": "code",
   "execution_count": null,
   "id": "8fc0b3eb-46e3-4c77-8d60-59eaae00a6c8",
   "metadata": {},
   "outputs": [],
   "source": [
    "pd.options.display.max_colwidth = 500\n",
    "df_pattern.loc[df_pattern.Q_id == 54219826].Bugy_py_files"
   ]
  },
  {
   "cell_type": "code",
   "execution_count": null,
   "id": "3200a226-7809-4e68-bd62-0282e5663298",
   "metadata": {},
   "outputs": [],
   "source": [
    "df_pattern.loc[df_pattern.Q_id == 54219826]"
   ]
  },
  {
   "cell_type": "code",
   "execution_count": null,
   "id": "aaaf0894-f759-4d91-b06a-abd60c357713",
   "metadata": {},
   "outputs": [],
   "source": [
    "lst_id_has_trace_wo_err_mess = []\n",
    "c_has_trace   = 0\n",
    "c_has_err_mes = 0\n",
    "\n",
    "def extract_error_messages(id: int, Has_code: bool, Has_trace: bool, code_sec: List) -> Optional[List]:\n",
    "    try:\n",
    "        global lst_id_has_trace_wo_err_mess, c_has_trace, c_has_err_mes\n",
    "        \n",
    "        if Has_trace: c_has_trace += 1\n",
    "        # if not (Has_trace and Has_code): print(f\"Error (2): It's not possiable. Has_code: {Has_code}, Has_trace: {Has_trace}\")\n",
    "            \n",
    "        result_total = []\n",
    "        \n",
    "        for code in code_sec:\n",
    "            # regex = r\"([A-Z]\\w+(Error|Warning|Exception))([^:]*):\\s(.*)$\"\n",
    "            # V3\n",
    "            regex = r\"^([A-Z]\\w+Error)(\\w|\\s|\\(|\\)|\\d)*:\\s(.*)$\"\n",
    "            # regex = r\"([A-Z]\\w+Error):\\s(.*)$\"\n",
    "            code = code.replace(\"\\\\n\", \"\\n\")\n",
    "            code = code.replace('&lt;', '<')\n",
    "            code = code.replace('&gt;', '>')\n",
    "            code = code.replace('&quot;', '\"')\n",
    "            matches = re.finditer(regex, code, re.MULTILINE)\n",
    "            result_each_code_part = []\n",
    "\n",
    "            for matchNum, match in enumerate(matches, start=1):\n",
    "                result_each_code_part.append((match.groups()[0].strip(), match.groups()[2].strip()))\n",
    "            \n",
    "            if result_each_code_part:   # Ignore the empty list\n",
    "                result_total.append(result_each_code_part)\n",
    "\n",
    "        if (not result_total) and Has_trace: \n",
    "            # print(\"Warning!: We have to check this is ID: \", id)\n",
    "            lst_id_has_trace_wo_err_mess.append(id)\n",
    "        \n",
    "        if result_total:\n",
    "            c_has_err_mes += len(result_total)\n",
    "            \n",
    "        return result_total\n",
    "    \n",
    "    except:\n",
    "        print(\"Error(1): \", id)\n",
    "        print(code_sec)\n",
    "        return None"
   ]
  },
  {
   "cell_type": "code",
   "execution_count": null,
   "id": "15174a2e-3a13-4244-8833-5be11ea86a43",
   "metadata": {
    "tags": []
   },
   "outputs": [],
   "source": [
    "df_pattern[\"Err_msg\"] = df_pattern.apply(lambda row: extract_error_messages(row.Q_id, row.Has_code, row.Has_trace, row.Code), axis=1)"
   ]
  },
  {
   "cell_type": "code",
   "execution_count": null,
   "id": "29d82810-efc9-4968-8722-e6a2eb2a88cd",
   "metadata": {},
   "outputs": [],
   "source": [
    "print(f\"We captured {c_has_trace} stack traces, however {c_has_trace-len(lst_id_has_trace_wo_err_mess)} stacktraces have a one type of error messages. I mean, {len(lst_id_has_trace_wo_err_mess)} stack traces didn't have any error message.\")"
   ]
  },
  {
   "cell_type": "code",
   "execution_count": null,
   "id": "dbc76560-f817-4283-8136-1f08f415666e",
   "metadata": {},
   "outputs": [],
   "source": [
    "df_tmp = df_pattern[df_pattern['Err_msg'].map(lambda err_msg_list: len(err_msg_list)) > 0]\n",
    "df_tmp.reset_index(drop=True, inplace=True)"
   ]
  },
  {
   "cell_type": "code",
   "execution_count": null,
   "id": "ce6e7415-d631-4575-aac0-c59727916206",
   "metadata": {},
   "outputs": [],
   "source": [
    "df_pattern_err_msg = pd.DataFrame(columns=['Q_id', 'ErrorType', 'ErrorMessage'])"
   ]
  },
  {
   "cell_type": "code",
   "execution_count": null,
   "id": "18a03ebe-7fa8-4065-ab15-ca0d1f5f3c0b",
   "metadata": {},
   "outputs": [],
   "source": [
    "def message_extractor(msg_q_id: str, msg_list: list) -> None:\n",
    "    global df_pattern_err_msg\n",
    "    msg_list = np.array(msg_list)\n",
    "    msg_list = msg_list[0, :, :]\n",
    "    \n",
    "    for message in msg_list:\n",
    "        df_pattern_err_msg = df_pattern_err_msg.append({'Q_id': msg_q_id, 'ErrorType': message[0], 'ErrorMessage': message[1]}, ignore_index=True)"
   ]
  },
  {
   "cell_type": "code",
   "execution_count": null,
   "id": "b7be1680-4009-4557-af15-544f99822871",
   "metadata": {
    "tags": []
   },
   "outputs": [],
   "source": [
    "_ = df_tmp.apply(lambda row: message_extractor(row.Q_id, row.Err_msg), axis=1)"
   ]
  },
  {
   "cell_type": "code",
   "execution_count": null,
   "id": "d666a333-4850-4629-bb75-cafe4ecb3e5a",
   "metadata": {},
   "outputs": [],
   "source": [
    "df_pattern_err_msg.shape"
   ]
  },
  {
   "cell_type": "code",
   "execution_count": null,
   "id": "8fbc8dc9-380b-4cae-a5ef-56ee3be7bce8",
   "metadata": {},
   "outputs": [],
   "source": [
    "df_pattern_err_msg"
   ]
  },
  {
   "cell_type": "code",
   "execution_count": null,
   "id": "a88bcd3c-6b9a-467b-9352-6bc99cc3e6e6",
   "metadata": {},
   "outputs": [],
   "source": [
    "# Make sure all the elements are string\n",
    "df_pattern_err_msg = df_pattern_err_msg.applymap(str)\n",
    "\n",
    "# Notice: strip() function will remove leading and trailing whitespaces.\n",
    "df_pattern_err_msg['ErrorType'] = df_pattern_err_msg['ErrorType'].apply(lambda x: x.strip())"
   ]
  },
  {
   "cell_type": "code",
   "execution_count": null,
   "id": "8cdc585a-1521-4926-abd1-3b9ddbee465b",
   "metadata": {},
   "outputs": [],
   "source": [
    "TOP = 6\n",
    "df_tmp = df_pattern_err_msg.groupby(['ErrorType'])['ErrorType'].count().reset_index(name='count').sort_values(['count'], ascending=False)\n",
    "df2 = df_tmp.iloc[:TOP]\n",
    "df2 = df2.append({'ErrorType': 'Other', 'count': df_tmp['count'].iloc[TOP:].sum()}, ignore_index=True)\n",
    "colors = ['tab:blue', 'tab:cyan', 'tab:gray', 'tab:orange', 'tab:red', 'burlywood', 'y']\n",
    "\n",
    "fig, ax = plt.subplots(figsize=(8, 8))\n",
    "\n",
    "patches, texts, pcts =  ax.pie(df2.set_index('ErrorType')['count'],\n",
    "                               labels=df2['ErrorType'],\n",
    "                                autopct='%1.1f%%', \n",
    "                                pctdistance=0.7, \n",
    "                                labeldistance=1.1, \n",
    "                                # textprops={'fontsize': 12},\n",
    "                                textprops={'size': 'x-large'},\n",
    "                                colors=colors,\n",
    "                                wedgeprops={'linewidth': 3.0, 'edgecolor': 'white'},)\n",
    "\n",
    "s = df2.groupby('ErrorType')['count'].sum().map(lambda x : x).sort_values(ascending = False)\n",
    "labels = [f'{name}, {percentage*100:0.1f}%' for name, percentage in zip(s.index, s / s.sum())]\n",
    "ax.legend(bbox_to_anchor=(1.2, 1), \n",
    "           loc='upper left', \n",
    "           # labels=labels,\n",
    "           title=\"Error Types\",\n",
    "           # labelcolor=colors,\n",
    "           fontsize=14)\n",
    "\n",
    "\n",
    "plt.setp(pcts, color='white', fontweight='bold')\n",
    "ax.set_title(\"Error Distribution\", fontsize=18)\n",
    "for i, patch in enumerate(patches):\n",
    "    texts[i].set_color(patch.get_facecolor())\n",
    "    \n",
    "plt.setp(texts, fontweight=600)\n",
    "\n",
    "ax.axis('equal')  \n",
    "# plt.tight_layout()\n",
    "ax.figure.savefig('piechart.png', bbox_inches='tight')"
   ]
  },
  {
   "cell_type": "code",
   "execution_count": null,
   "id": "8560754c-b1cd-438d-9fd0-c57498af09ac",
   "metadata": {},
   "outputs": [],
   "source": [
    "# Get the frequency of each message type\n",
    "print(df_pattern_err_msg.groupby(['ErrorType'])['ErrorType'].count().reset_index(name='count').sort_values(['count'], ascending=False).nlargest(10, 'count'))\n",
    "df_pattern_err_msg.shape"
   ]
  },
  {
   "cell_type": "code",
   "execution_count": null,
   "id": "e87b1c92-a695-48bb-a1cd-e92bde373d1a",
   "metadata": {},
   "outputs": [],
   "source": [
    "print(\"Score median: \", df_pattern.Score.median())\n",
    "print(\"View median: \", df_pattern.ViewCount.median())\n",
    "print(\"Answer_count median: \", df_pattern.AnswerCount.median())\n",
    "print(\"Comment median: \", df_pattern.CommentCount.median())\n",
    "print(\"# Accepted answer:\", df_pattern.AcceptedAnswerId.count(), \"  Total Accepted answer:\", df_pattern.AcceptedAnswerId.shape[0], \"  Percentage of Accepted answer:\", \"{:.2f}\".format(df_pattern.AcceptedAnswerId.count() *100 / df_pattern.AcceptedAnswerId.shape[0]))\n",
    "print(\"LOC median: \", (df_pattern[df_pattern.Has_trace == True].Line_code_win + df_pattern[df_pattern.Has_trace == True].Line_code_uix).median())\n",
    "print(\"LOP median: \", df_pattern.Q_text_words_num.median())\n",
    "print(\"Answer duration median: \", \"{:.2f}\".format(df_pattern_ans.Duration_ans.median()))\n",
    "print(\"Accepted Answer duration median: \", \"{:.2f}\".format(df_pattern_ans.Duration_acc_ans.median()))"
   ]
  },
  {
   "cell_type": "code",
   "execution_count": null,
   "id": "516a5252-4dda-4e7b-ac82-dfa09afa94f0",
   "metadata": {},
   "outputs": [],
   "source": [
    "df_pattern_err_msg.Q_id = df_pattern_err_msg.Q_id.astype(int)\n",
    "df_result.Q_id = df_result.Q_id.astype(int)\n",
    "df_result_mrg = pd.merge(df_pattern_err_msg, df_result, on=[\"Q_id\"], how='right')"
   ]
  },
  {
   "cell_type": "code",
   "execution_count": null,
   "id": "2209f9d3-ce34-4fec-864b-a9eed45478e2",
   "metadata": {
    "tags": []
   },
   "outputs": [],
   "source": [
    "from tabulate import tabulate\n",
    "print(tabulate(df_pattern_err_msg, headers='keys', tablefmt='psql', showindex=False))\n",
    "print(tabulate(df_result, headers='keys', tablefmt='psql', showindex=False))"
   ]
  },
  {
   "cell_type": "code",
   "execution_count": null,
   "id": "6a87aca6-179f-4947-a573-c079f6df1649",
   "metadata": {},
   "outputs": [],
   "source": [
    "df_result_mrg.drop(\"Index\", axis=1, inplace=True)\n",
    "df_result_mrg.to_excel(\"../Emp_st_p_1.xlsx\", sheet_name='Hugging')  "
   ]
  },
  {
   "cell_type": "markdown",
   "id": "4b4bc342",
   "metadata": {},
   "source": [
    "## Answer time"
   ]
  },
  {
   "cell_type": "markdown",
   "id": "448de367",
   "metadata": {
    "tags": []
   },
   "source": [
    "### Loading Answer Dataset"
   ]
  },
  {
   "cell_type": "code",
   "execution_count": null,
   "id": "6b763dbb",
   "metadata": {
    "tags": []
   },
   "outputs": [],
   "source": [
    "# pure_ans_data = working_directory_path + \"ansSample.csv\"\n",
    "# path_ans = Path(pure_ans_data)\n",
    "\n",
    "# if path_ans.suffix == \".csv\":\n",
    "#     df_ans = pd.read_csv(path_ans, encoding=encoding)\n",
    "# else:\n",
    "#     raise ValueError(\"{data_file_path.suffix} extensions are not supported\")"
   ]
  },
  {
   "cell_type": "markdown",
   "id": "0daf259d-561a-4487-9908-da7e4da40191",
   "metadata": {},
   "source": [
    "## Create DF based on the questions contain stack traces"
   ]
  },
  {
   "cell_type": "code",
   "execution_count": null,
   "id": "31d5963c",
   "metadata": {},
   "outputs": [],
   "source": [
    "df_status_w_stack = pd.DataFrame(columns=['First_ans_time', 'First_acc_ans_time', 'Answers'])"
   ]
  },
  {
   "cell_type": "code",
   "execution_count": null,
   "id": "522f93f4",
   "metadata": {},
   "outputs": [],
   "source": [
    "df_status_w_stack[\"Q_info\"] = Question_with_trace_info"
   ]
  },
  {
   "cell_type": "code",
   "execution_count": null,
   "id": "3f03ba0c",
   "metadata": {},
   "outputs": [],
   "source": [
    "Question_with_trace_info[0]"
   ]
  },
  {
   "cell_type": "code",
   "execution_count": null,
   "id": "b3e2b596",
   "metadata": {},
   "outputs": [],
   "source": [
    "df_status_w_stack[\"Q_id\"]          = df_status_w_stack['Q_info'].apply(lambda q_info: q_info[0])\n",
    "df_status_w_stack[\"Q_create_time\"] = df_status_w_stack['Q_info'].apply(lambda q_info: q_info[1])\n",
    "df_status_w_stack[\"View_count\"]    = df_status_w_stack['Q_info'].apply(lambda q_info: q_info[2])\n",
    "df_status_w_stack[\"Answer_count\"]  = df_status_w_stack['Q_info'].apply(lambda q_info: q_info[3])\n",
    "df_status_w_stack[\"Comment_count\"] = df_status_w_stack['Q_info'].apply(lambda q_info: q_info[4])\n",
    "df_status_w_stack[\"Score\"]         = df_status_w_stack['Q_info'].apply(lambda q_info: q_info[5])\n",
    "df_status_w_stack[\"Accepted_Answer_id\"] = df_status_w_stack['Q_info'].apply(lambda q_info: q_info[6])"
   ]
  },
  {
   "cell_type": "code",
   "execution_count": null,
   "id": "28deb778",
   "metadata": {},
   "outputs": [],
   "source": [
    "df_status_w_stack = df_status_w_stack.drop(['Q_info'], axis='columns')"
   ]
  },
  {
   "cell_type": "code",
   "execution_count": null,
   "id": "ba5793bb",
   "metadata": {},
   "outputs": [],
   "source": [
    "df_status_w_stack[\"Q_create_time\"]      = pd.to_datetime(df_status_w_stack[\"Q_create_time\"])\n",
    "df_status_w_stack[\"First_acc_ans_time\"] = pd.to_datetime(df_status_w_stack[\"First_acc_ans_time\"])\n",
    "df_status_w_stack[\"First_ans_time\"]     = pd.to_datetime(df_status_w_stack[\"First_ans_time\"])"
   ]
  },
  {
   "cell_type": "code",
   "execution_count": null,
   "id": "62fe72f8-1eb3-43e2-a7e4-e2ce1dc3e9be",
   "metadata": {},
   "outputs": [],
   "source": [
    "df_status_w_stack.shape"
   ]
  },
  {
   "cell_type": "markdown",
   "id": "4dfd1bbb",
   "metadata": {},
   "source": [
    "#### Filling the Answers column: A list contains the id and time of answers"
   ]
  },
  {
   "cell_type": "markdown",
   "id": "6ba7d931-c4d3-492a-8276-abc6de000ea3",
   "metadata": {},
   "source": [
    "We have to prepare and find answers that has hf parrentID, so first we catch the questions and store as table in DB. Before this job we have to create a table with all answrs and apply inner join to those tables:"
   ]
  },
  {
   "cell_type": "code",
   "execution_count": null,
   "id": "f4d8093c-3c26-4d31-adab-ad1c4bd66959",
   "metadata": {},
   "outputs": [],
   "source": [
    "df_status_w_stack[\"Q_id\"].to_csv('../code_output_csv/df_hf_w_stack.csv', encoding='utf-8')"
   ]
  },
  {
   "cell_type": "raw",
   "id": "61f7376f-6f99-46ba-ac0e-296c646279bd",
   "metadata": {},
   "source": [
    "SELECT df_hf_w_stack.Q_id, all_results.Id, all_results.CreationDate, all_results.ParentId\n",
    "FROM df_hf_w_stack\n",
    "INNER JOIN all_results\n",
    "ON df_hf_w_stack.Q_id = all_results.ParentId;"
   ]
  },
  {
   "cell_type": "code",
   "execution_count": null,
   "id": "510bf191",
   "metadata": {
    "tags": []
   },
   "outputs": [],
   "source": [
    "pure_data = working_directory_path + \"db_results/\" + \"hf_w_stack_result_DB.csv\"\n",
    "path = Path(pure_data)\n",
    "\n",
    "if path.suffix == \".csv\":\n",
    "    df_night = pd.read_csv(path, encoding=encoding)\n",
    "else:\n",
    "    raise ValueError(\"{data_file_path.suffix} extensions are not supported\")"
   ]
  },
  {
   "cell_type": "code",
   "execution_count": null,
   "id": "fd4de2ff",
   "metadata": {
    "tags": []
   },
   "outputs": [],
   "source": [
    "# df_status_w_stack['Answers'] = df_status_w_stack.apply(lambda x: [], axis=1)"
   ]
  },
  {
   "cell_type": "code",
   "execution_count": null,
   "id": "ba9770ef",
   "metadata": {},
   "outputs": [],
   "source": [
    "# for index1, row_status in df_status_w_stack.iterrows():\n",
    "#     for index2, row_night in df_night.iterrows():\n",
    "#             if row_night[\"ParentId\"] == row_status[\"Q_id\"]:\n",
    "#                     row_status['Answers'].append((row_night[\"Id\"], row_night[\"CreationDate\"]))"
   ]
  },
  {
   "cell_type": "code",
   "execution_count": null,
   "id": "ba9e9b00-b12d-498a-a816-9284be6bf1b8",
   "metadata": {},
   "outputs": [],
   "source": [
    "df_night.head(2)"
   ]
  },
  {
   "cell_type": "code",
   "execution_count": null,
   "id": "4ab6729d-3851-4fc3-b528-9edd9796f36c",
   "metadata": {},
   "outputs": [],
   "source": [
    "df_status_w_stack.head(2)"
   ]
  },
  {
   "cell_type": "code",
   "execution_count": null,
   "id": "b3732d4c-0d2b-4cfa-9cd3-c1ad1472244a",
   "metadata": {},
   "outputs": [],
   "source": [
    "pd_tmp_w = pd.merge(df_status_w_stack, df_night, how='outer',left_on=['Q_id'], right_on=['ParentId']).reset_index(drop=True)\n",
    "pd_tmp_w[\"Answer_tup\"] = pd_tmp_w.apply(lambda x: (x.Id, x.CreationDate), axis=1)\n",
    "pd_tmp_new_w = pd_tmp_w.groupby([\"Q_id_x\", \"Q_create_time\", \"View_count\", \"Comment_count\", \"Score\", \"Answer_count\", \"Accepted_Answer_id\"], dropna=False)[\"Answer_tup\"].agg(list).reset_index()\n",
    "pd_tmp_new2_w = pd_tmp_new_w[pd_tmp_new_w.Answer_count != 0].reset_index(drop=True)"
   ]
  },
  {
   "cell_type": "code",
   "execution_count": null,
   "id": "1e42a88a",
   "metadata": {},
   "outputs": [],
   "source": [
    "# df_status_w_stack[\"Answers\"] = df_status_w_stack[\"Answers\"].apply(lambda answers_list: list(set(answers_list)))"
   ]
  },
  {
   "cell_type": "code",
   "execution_count": null,
   "id": "d6cbd12e",
   "metadata": {},
   "outputs": [],
   "source": [
    "def checker_1(i, answers_list, answers_count):\n",
    "    global counter\n",
    "    if len(answers_list) != answers_count:\n",
    "        print(\"Error \", i, len(answers_list), answers_count)\n",
    "\n",
    "def checker_ans_and_ans_tup(row_indx: int, ans_count: int, ans_list: list) -> None:\n",
    "    if len(ans_list) != ans_count:\n",
    "        print(\"Error!: \", row_indx, ans_count, ans_list)"
   ]
  },
  {
   "cell_type": "code",
   "execution_count": null,
   "id": "bff2f339",
   "metadata": {
    "scrolled": true
   },
   "outputs": [],
   "source": [
    "# df_status_w_stack.apply(lambda row: checker_1(row.name, row.Answers, row.Answer_count), axis=1)\n",
    "_ = pd_tmp_new2_w.apply(lambda row: checker_ans_and_ans_tup(row.name, row.Answer_count, row.Answer_tup), axis=1)"
   ]
  },
  {
   "cell_type": "code",
   "execution_count": null,
   "id": "0735f1d5-381b-454f-b369-0968480dfa99",
   "metadata": {},
   "outputs": [],
   "source": [
    "pd_tmp_new2_w.insert(len(pd_tmp_new2_w.columns), 'First_ans_time', np.nan)\n",
    "pd_tmp_new2_w.insert(len(pd_tmp_new2_w.columns), 'First_acc_ans_time', np.nan)"
   ]
  },
  {
   "cell_type": "code",
   "execution_count": null,
   "id": "67d7019b-2ab6-4088-91ac-ad6ae20eceb9",
   "metadata": {},
   "outputs": [],
   "source": [
    "pd_tmp_new3_w = pd_tmp_new2_w.copy()"
   ]
  },
  {
   "cell_type": "code",
   "execution_count": null,
   "id": "8a596f22",
   "metadata": {},
   "outputs": [],
   "source": [
    "for index1, row_status in pd_tmp_new3_w.iterrows():   \n",
    "    flag = 0\n",
    "    fr_time = pd.to_datetime(datetime.datetime.now())\n",
    "    acc_time = pd.to_datetime(datetime.datetime.now())\n",
    "        \n",
    "    if not row_status[\"Answer_tup\"]:\n",
    "        pd_tmp_new3_w.at[index1,'First_ans_time'] = np.nan\n",
    "        pd_tmp_new3_w.at[index1,'First_acc_ans_time'] = np.nan\n",
    "        continue\n",
    "\n",
    "    for answer in row_status[\"Answer_tup\"]:\n",
    "        \n",
    "        anwer_time = pd.to_datetime(answer[1])\n",
    "        \n",
    "        if flag == 0:\n",
    "            fr_time = anwer_time\n",
    "            flag = 1\n",
    "        \n",
    "        if fr_time > anwer_time:\n",
    "            fr_time = anwer_time\n",
    "        \n",
    "        if row_status[\"Accepted_Answer_id\"] == answer[0]:\n",
    "            acc_time = anwer_time\n",
    "\n",
    "    pd_tmp_new3_w.at[index1,'First_ans_time'] = fr_time\n",
    "        \n",
    "    if pd.isna(row_status[\"Accepted_Answer_id\"]):\n",
    "        acc_time = np.nan\n",
    "    \n",
    "    pd_tmp_new3_w.at[index1,'First_acc_ans_time'] = acc_time"
   ]
  },
  {
   "cell_type": "code",
   "execution_count": null,
   "id": "638a57c5",
   "metadata": {},
   "outputs": [],
   "source": [
    "# df_status_w_stack.info()"
   ]
  },
  {
   "cell_type": "markdown",
   "id": "847107e7",
   "metadata": {},
   "source": [
    "Write df_status_w_stack to the CSV file:"
   ]
  },
  {
   "cell_type": "code",
   "execution_count": null,
   "id": "4335bdcb",
   "metadata": {},
   "outputs": [],
   "source": [
    "# df_status_w_stack.to_csv('./status_PT_df_w_stack_with_list_of_answers_col.csv', encoding='utf-8')"
   ]
  },
  {
   "cell_type": "markdown",
   "id": "a4253bbc",
   "metadata": {},
   "source": [
    "Read df_status_w_stack from the CSV file:"
   ]
  },
  {
   "cell_type": "code",
   "execution_count": null,
   "id": "29f760c6",
   "metadata": {},
   "outputs": [],
   "source": [
    "# df_status_w_stack = pd.read_csv('./status_df_w_stack_with_list_of_answers_col.csv', encoding=encoding)"
   ]
  },
  {
   "cell_type": "code",
   "execution_count": null,
   "id": "8a424d7c",
   "metadata": {},
   "outputs": [],
   "source": [
    "# df_status_w_stack[\"Duration_ans\"] = df_status_w_stack.apply(lambda row: (row.First_ans_time-row.Q_create_time).days, axis=1)\n",
    "# df_status_w_stack[\"Duration_acc_ans\"] = df_status_w_stack.apply(lambda row: (row.First_acc_ans_time-row.Q_create_time).days, axis=1)\n",
    "pd_tmp_new3_w[\"Duration_ans\"] = pd_tmp_new3_w.apply(lambda row: (row.First_ans_time-row.Q_create_time).total_seconds()/3600 if not pd.isna(row.First_ans_time) else np.nan, axis=1)\n",
    "pd_tmp_new3_w[\"Duration_acc_ans\"] = pd_tmp_new3_w.apply(lambda row: (row.First_acc_ans_time-row.Q_create_time).total_seconds()/3600 if not pd.isna(row.First_acc_ans_time) else np.nan, axis=1)"
   ]
  },
  {
   "cell_type": "code",
   "execution_count": null,
   "id": "415a4f64",
   "metadata": {},
   "outputs": [],
   "source": [
    "# pd_tmp_new3_w['Duration_ans'] = pd_tmp_new3_w['Duration_ans'].fillna(0)\n",
    "# pd_tmp_new3_w['Duration_acc_ans'] = pd_tmp_new3_w['Duration_acc_ans'].fillna(0)"
   ]
  },
  {
   "cell_type": "code",
   "execution_count": null,
   "id": "fecf7b71",
   "metadata": {},
   "outputs": [],
   "source": [
    "# df_status_w_stack.info()"
   ]
  },
  {
   "cell_type": "code",
   "execution_count": null,
   "id": "b85e4eaa",
   "metadata": {},
   "outputs": [],
   "source": [
    "pd_tmp_new3_w.shape"
   ]
  },
  {
   "cell_type": "code",
   "execution_count": null,
   "id": "e00d09fa",
   "metadata": {
    "scrolled": true
   },
   "outputs": [],
   "source": [
    "pd_tmp_new3_w.describe()"
   ]
  },
  {
   "cell_type": "markdown",
   "id": "f19800ec",
   "metadata": {},
   "source": [
    "## Create DF based on the questions do not have stack traces"
   ]
  },
  {
   "cell_type": "markdown",
   "id": "57682814-ce03-41e4-88d5-1ed524f79811",
   "metadata": {
    "tags": []
   },
   "source": [
    "We have to prepare and find answers that has Pytorch parrentID, so first we catch the questions and store as table in DB. Before this job we have to create a table with all answrs and apply inner join to those tables:"
   ]
  },
  {
   "cell_type": "raw",
   "id": "ece49f68-9d28-4236-957e-0a98cd01b9f0",
   "metadata": {
    "tags": []
   },
   "source": [
    "SELECT df_hf_wo_stack.Q_id, all_results.Id, all_results.CreationDate, all_results.ParentId\n",
    "FROM df_hf_wo_stack\n",
    "INNER JOIN all_results\n",
    "ON df_hf_wo_stack.Q_id = all_results.ParentId;"
   ]
  },
  {
   "cell_type": "code",
   "execution_count": null,
   "id": "45f26363",
   "metadata": {},
   "outputs": [],
   "source": [
    "pure_data = working_directory_path + \"db_results/\" + \"hf_wo_stack_result_DB.csv\"\n",
    "path = Path(pure_data)\n",
    "\n",
    "if path.suffix == \".csv\":\n",
    "    df_night_wo = pd.read_csv(path, encoding=encoding)\n",
    "else:\n",
    "    raise ValueError(\"{data_file_path.suffix} extensions are not supported\")"
   ]
  },
  {
   "cell_type": "code",
   "execution_count": null,
   "id": "e9c567d8-93cd-488a-9715-2c3b6a011077",
   "metadata": {},
   "outputs": [],
   "source": [
    "df_night_wo.shape"
   ]
  },
  {
   "cell_type": "code",
   "execution_count": null,
   "id": "9f2258f0-f3e4-4a6a-99a1-9413d666c046",
   "metadata": {},
   "outputs": [],
   "source": [
    "df_night_wo.head()"
   ]
  },
  {
   "cell_type": "code",
   "execution_count": null,
   "id": "6195bf92-32fc-45a2-8560-d3e654b35132",
   "metadata": {
    "tags": []
   },
   "outputs": [],
   "source": [
    "# df_night_wo.drop_duplicates([\"Q_id\", \"Id\", \"ParentId\", \"CreationDate\"], ignore_index=False, inplace=True)\n",
    "df_night_wo = df_night_wo.reset_index(drop=True)"
   ]
  },
  {
   "cell_type": "code",
   "execution_count": null,
   "id": "927a0491",
   "metadata": {},
   "outputs": [],
   "source": [
    "df_status_wo_stack = pd.DataFrame(columns=['First_ans_time', 'First_acc_ans_time', 'Answers'])\n",
    "\n",
    "df_status_wo_stack[\"Q_info\"] = Question_with_wo_trace_info\n",
    "\n",
    "df_status_wo_stack[\"Q_id\"]          = df_status_wo_stack['Q_info'].apply(lambda q_info: q_info[0])\n",
    "df_status_wo_stack[\"Q_create_time\"] = df_status_wo_stack['Q_info'].apply(lambda q_info: q_info[1])\n",
    "df_status_wo_stack[\"View_count\"]    = df_status_wo_stack['Q_info'].apply(lambda q_info: q_info[2])\n",
    "df_status_wo_stack[\"Answer_count\"]  = df_status_wo_stack['Q_info'].apply(lambda q_info: q_info[3])\n",
    "df_status_wo_stack[\"Comment_count\"] = df_status_wo_stack['Q_info'].apply(lambda q_info: q_info[4])\n",
    "df_status_wo_stack[\"Score\"]         = df_status_wo_stack['Q_info'].apply(lambda q_info: q_info[5])\n",
    "df_status_wo_stack[\"Accepted_Answer_id\"] = df_status_wo_stack['Q_info'].apply(lambda q_info: q_info[6])\n",
    "\n",
    "df_status_wo_stack = df_status_wo_stack.drop(['Q_info'], axis='columns')\n",
    "\n",
    "df_status_wo_stack[\"Q_create_time\"] = pd.to_datetime(df_status_wo_stack[\"Q_create_time\"])\n",
    "df_status_wo_stack[\"First_acc_ans_time\"] = pd.to_datetime(df_status_wo_stack[\"First_acc_ans_time\"])\n",
    "df_status_wo_stack[\"First_ans_time\"]     = pd.to_datetime(df_status_wo_stack[\"First_ans_time\"])"
   ]
  },
  {
   "cell_type": "code",
   "execution_count": null,
   "id": "43a896da-2513-472b-8562-a80b6b4c9ce1",
   "metadata": {
    "tags": []
   },
   "outputs": [],
   "source": [
    "df_status_wo_stack[\"Q_id\"].to_csv('../code_output_csv/df_hf_wo_stack.csv', encoding='utf-8')"
   ]
  },
  {
   "cell_type": "code",
   "execution_count": null,
   "id": "bb4a6c56",
   "metadata": {},
   "outputs": [],
   "source": [
    "df_night_wo.head()"
   ]
  },
  {
   "cell_type": "code",
   "execution_count": null,
   "id": "afe64a63",
   "metadata": {},
   "outputs": [],
   "source": [
    "df_status_wo_stack.head()"
   ]
  },
  {
   "cell_type": "code",
   "execution_count": null,
   "id": "02caaef2",
   "metadata": {},
   "outputs": [],
   "source": [
    "df_status_wo_stack['Answers'] = df_status_wo_stack.apply(lambda x: [], axis=1)"
   ]
  },
  {
   "cell_type": "code",
   "execution_count": null,
   "id": "850dca9f-f50d-4844-8636-0c9163cb68dd",
   "metadata": {},
   "outputs": [],
   "source": [
    "df_night_wo.shape"
   ]
  },
  {
   "cell_type": "code",
   "execution_count": null,
   "id": "a8006ded-2978-4735-9e8d-1c6f818c5385",
   "metadata": {},
   "outputs": [],
   "source": [
    "df_status_wo_stack.shape"
   ]
  },
  {
   "cell_type": "code",
   "execution_count": null,
   "id": "73ca48d7",
   "metadata": {
    "tags": []
   },
   "outputs": [],
   "source": [
    "# # It is super time-consuming and never run!\n",
    "# for index1, row_status in df_status_wo_stack.iterrows():\n",
    "#     for index2, row_night in df_night_wo.iterrows():\n",
    "#         if row_night[\"ParentId\"] == row_status[\"Q_id\"]:\n",
    "#                 row_status['Answers'].append((row_night[\"Id\"], row_night[\"CreationDate\"]))"
   ]
  },
  {
   "cell_type": "code",
   "execution_count": null,
   "id": "41fd65ef-8327-4d89-b46a-0b6c9e701df8",
   "metadata": {},
   "outputs": [],
   "source": [
    "pd_tmp_wo = pd.merge(df_status_wo_stack, df_night_wo, how='left',left_on=['Q_id'],right_on=['ParentId']).reset_index(drop=True)"
   ]
  },
  {
   "cell_type": "code",
   "execution_count": null,
   "id": "c3a4bb1c-c844-4fb1-b291-4a243d589c2a",
   "metadata": {
    "tags": []
   },
   "outputs": [],
   "source": [
    "pd_tmp_wo[\"Answer_tup\"] = pd_tmp_wo.apply(lambda x: (x.Id, x.CreationDate), axis=1)"
   ]
  },
  {
   "cell_type": "code",
   "execution_count": null,
   "id": "399421d6-ecc5-41bf-872d-52d39610d1c2",
   "metadata": {},
   "outputs": [],
   "source": [
    "# pd_tmp_new = pd_tmp.groupby([\"First_ans_time\", \"First_acc_ans_time\", \"Q_id_x\", \"Q_create_time\", \"View_count\", \"Comment_count\", \"Score\", \"Answer_count\", \"Accepted_Answer_id\"])[\"Answer_tup\"].agg(list).reset_index()\n",
    "pd_tmp_new_wo = pd_tmp_wo.groupby([\"Q_id_x\", \"Q_create_time\", \"View_count\", \"Comment_count\", \"Score\", \"Answer_count\", \"Accepted_Answer_id\"], dropna=False)[\"Answer_tup\"].agg(list).reset_index()"
   ]
  },
  {
   "cell_type": "code",
   "execution_count": null,
   "id": "d0cf8935-4cfb-4a8f-93ea-8a85965cf76d",
   "metadata": {},
   "outputs": [],
   "source": [
    "pd_tmp_new2_wo = pd_tmp_new_wo[pd_tmp_new_wo.Answer_count != 0].reset_index(drop=True)"
   ]
  },
  {
   "cell_type": "code",
   "execution_count": null,
   "id": "f5d2daa7-d193-4d18-b974-b71b7d697cfe",
   "metadata": {},
   "outputs": [],
   "source": [
    "def checker_ans_and_ans_tup(row_indx: int, ans_count: int, ans_list: list) -> None:\n",
    "    if len(ans_list) != ans_count:\n",
    "        print(\"Error!: \", row_indx, ans_count, ans_list)"
   ]
  },
  {
   "cell_type": "code",
   "execution_count": null,
   "id": "b2018458-7fd9-4ca3-9da1-5714b03e3e6b",
   "metadata": {
    "tags": []
   },
   "outputs": [],
   "source": [
    "# We checked all Q_id_x are unique\n",
    "_ = pd_tmp_new2_wo.apply(lambda row: checker_ans_and_ans_tup(row.name, row.Answer_count, row.Answer_tup), axis=1)"
   ]
  },
  {
   "cell_type": "code",
   "execution_count": null,
   "id": "1abeea79",
   "metadata": {},
   "outputs": [],
   "source": [
    "# df_status_wo_stack[\"Answers\"] = df_status_wo_stack[\"Answers\"].apply(lambda answers_list: list(set(answers_list)))"
   ]
  },
  {
   "cell_type": "code",
   "execution_count": null,
   "id": "21fdae5f",
   "metadata": {
    "tags": []
   },
   "outputs": [],
   "source": [
    "# df_status_wo_stack.apply(lambda row: checker_1(row.name, row.Answers, row.Answer_count), axis=1)"
   ]
  },
  {
   "cell_type": "code",
   "execution_count": null,
   "id": "985c2fbc-1102-4751-bb8f-8d7d484182fd",
   "metadata": {},
   "outputs": [],
   "source": [
    "df_status_wo_stack.head()"
   ]
  },
  {
   "cell_type": "code",
   "execution_count": null,
   "id": "6f892ae5-e359-4a30-ae5e-255cc23ae8a5",
   "metadata": {},
   "outputs": [],
   "source": [
    "pd_tmp_new2_wo.head()"
   ]
  },
  {
   "cell_type": "code",
   "execution_count": null,
   "id": "dcb04af7-e1a0-459f-a6a9-220ec4df1038",
   "metadata": {},
   "outputs": [],
   "source": [
    "pd_tmp_new2_wo.insert(len(pd_tmp_new2_wo.columns), 'First_ans_time', np.nan)\n",
    "pd_tmp_new2_wo.insert(len(pd_tmp_new2_wo.columns), 'First_acc_ans_time', np.nan)"
   ]
  },
  {
   "cell_type": "code",
   "execution_count": null,
   "id": "28955ecd-1434-4f76-bac1-6da683f872f3",
   "metadata": {},
   "outputs": [],
   "source": [
    "pd_tmp_new3_wo = pd_tmp_new2_wo.copy()"
   ]
  },
  {
   "cell_type": "code",
   "execution_count": null,
   "id": "ad26bd44",
   "metadata": {},
   "outputs": [],
   "source": [
    "for index1, row_status in pd_tmp_new3_wo.iterrows():   \n",
    "    flag = 0\n",
    "    fr_time = pd.to_datetime(datetime.datetime.now())\n",
    "    acc_time = pd.to_datetime(datetime.datetime.now())\n",
    "        \n",
    "    if not row_status[\"Answer_tup\"]:\n",
    "        pd_tmp_new3_wo.at[index1,'First_ans_time'] = np.nan\n",
    "        pd_tmp_new3_wo.at[index1,'First_acc_ans_time'] = np.nan\n",
    "        continue\n",
    "\n",
    "    for answer in row_status[\"Answer_tup\"]:\n",
    "        \n",
    "        anwer_time = pd.to_datetime(answer[1])\n",
    "        \n",
    "        if flag == 0:\n",
    "            fr_time = anwer_time\n",
    "            flag = 1\n",
    "        \n",
    "        if fr_time > anwer_time:\n",
    "            fr_time = anwer_time\n",
    "        \n",
    "        if row_status[\"Accepted_Answer_id\"] == answer[0]:\n",
    "            acc_time = anwer_time\n",
    "\n",
    "    pd_tmp_new3_wo.at[index1,'First_ans_time'] = fr_time\n",
    "        \n",
    "    if pd.isna(row_status[\"Accepted_Answer_id\"]):\n",
    "        acc_time = np.nan\n",
    "    \n",
    "    pd_tmp_new3_wo.at[index1,'First_acc_ans_time'] = acc_time"
   ]
  },
  {
   "cell_type": "code",
   "execution_count": null,
   "id": "59f34b9f",
   "metadata": {},
   "outputs": [],
   "source": [
    "pd_tmp_new3_wo[\"Duration_ans\"] = pd_tmp_new3_wo.apply(lambda row: (row.First_ans_time-row.Q_create_time).total_seconds()/3600 if not pd.isna(row.First_ans_time) else np.nan, axis=1)\n",
    "pd_tmp_new3_wo[\"Duration_acc_ans\"] = pd_tmp_new3_wo.apply(lambda row: (row.First_acc_ans_time-row.Q_create_time).total_seconds()/3600 if not pd.isna(row.First_acc_ans_time) else np.nan, axis=1)"
   ]
  },
  {
   "cell_type": "code",
   "execution_count": null,
   "id": "4f1467f3",
   "metadata": {},
   "outputs": [],
   "source": [
    "# pd_tmp_new3_wo['Duration_ans'] = pd_tmp_new3_wo['Duration_ans'].fillna(0)\n",
    "# pd_tmp_new3_wo['Duration_acc_ans'] = pd_tmp_new3_wo['Duration_acc_ans'].fillna(0)"
   ]
  },
  {
   "cell_type": "markdown",
   "id": "daac7769",
   "metadata": {},
   "source": [
    "### Find the durarion of answers"
   ]
  },
  {
   "cell_type": "code",
   "execution_count": null,
   "id": "6d6e7aaf-49d8-434f-93c2-1a5874830b9f",
   "metadata": {},
   "outputs": [],
   "source": [
    "# We have to delete rows or posts that doesn't have answer, because their zero values affect the meadian value (or the box plot values):\n",
    "# df_status_w_stack_filtered = pd_tmp_new3_wo[pd_tmp_new3_wo[\"Answer_count\"] > 0]\n",
    "# pd_tmp_new3_filtered = pd_tmp_new3_w[pd_tmp_new3_w[\"Answer_count\"] > 0]"
   ]
  },
  {
   "cell_type": "code",
   "execution_count": null,
   "id": "bf33ac9d-d93f-423f-bec9-f1c38644a4c2",
   "metadata": {
    "tags": []
   },
   "outputs": [],
   "source": [
    "# pd_tmp_new3_w[[\"Q_create_time\", \"First_ans_time\", \"Answer_count\", \"Duration_ans\"]].head(500)"
   ]
  },
  {
   "cell_type": "code",
   "execution_count": null,
   "id": "d355b03d-d61b-4124-9ce2-7dddc08b253e",
   "metadata": {},
   "outputs": [],
   "source": [
    "pd_tmp_new3_w[[\"Q_create_time\", \"First_ans_time\", \"Answer_count\", \"Duration_ans\"]].describe()"
   ]
  },
  {
   "cell_type": "code",
   "execution_count": null,
   "id": "45d16a47-babf-47b9-b61a-a0123e56deb2",
   "metadata": {},
   "outputs": [],
   "source": [
    "pd_tmp_new3_w.shape"
   ]
  },
  {
   "cell_type": "code",
   "execution_count": null,
   "id": "79372687-ed74-485d-8b54-04c2e9adafeb",
   "metadata": {},
   "outputs": [],
   "source": [
    "pd_tmp_new3_w.to_csv('./plt_df_hugh_w_ans_stack.csv', encoding='utf-8')\n",
    "pd_tmp_new3_wo.to_csv('./plt_df_hugh_wo_ans_stack.csv', encoding='utf-8')"
   ]
  },
  {
   "cell_type": "code",
   "execution_count": null,
   "id": "c005c133-bf61-4d79-acc3-19f170740a31",
   "metadata": {},
   "outputs": [],
   "source": [
    "# Example:\n",
    "sns.set_theme(style=\"whitegrid\")\n",
    "\n",
    "# ###################################################################################\n",
    "df_1 = pd.DataFrame(columns=['Question Type', 'Hours'])\n",
    "df_1['Hours'] = pd_tmp_new3_w['Duration_ans']\n",
    "df_1['Question Type'] = df_1['Question Type'].apply(lambda x: \"With Stack Traces\")\n",
    "\n",
    "df_2 = pd.DataFrame(columns=['Question Type', 'Hours'])\n",
    "df_2['Hours'] = pd_tmp_new3_wo['Duration_ans']\n",
    "df_2['Question Type'] = df_2['Question Type'].apply(lambda x: \"W/O Stack Traces\")\n",
    "\n",
    "resultComment = pd.concat([df_1, df_2])\n",
    "resultComment['Type'] = \"First Answer\"\n",
    "# ###################################################################################\n",
    "df_1 = pd.DataFrame(columns=['Question Type', 'Hours'])\n",
    "df_1['Hours'] = pd_tmp_new3_w['Duration_acc_ans']\n",
    "df_1['Question Type'] = df_1['Question Type'].apply(lambda x: \"With Stack Traces\")\n",
    "\n",
    "df_2 = pd.DataFrame(columns=['Question Type', 'Hours'])\n",
    "df_2['Hours'] = pd_tmp_new3_wo['Duration_acc_ans']\n",
    "df_2['Question Type'] = df_2['Question Type'].apply(lambda x: \"W/O Stack Traces\")\n",
    "\n",
    "resultAnswer = pd.concat([df_1, df_2])\n",
    "resultAnswer['Type'] = \"First Accepted Answer\"\n",
    "# ###################################################################################\n",
    "\n",
    "result = pd.concat([resultComment, resultAnswer], ignore_index=True)\n",
    "\n",
    "fig = plt.figure(figsize=(10, 5), dpi=100)\n",
    "\n",
    "sns.violinplot(x=\"Type\", \n",
    "               y=\"Hours\", \n",
    "               data=result, \n",
    "               hue=\"Question Type\", \n",
    "               palette=\"Set2\", #colorblind\n",
    "               split=True, \n",
    "               # scale=\"count\",\n",
    "               # inner=\"quartile\",\n",
    "               scale_hue=False,\n",
    "               width=.5)\n",
    "\n",
    "plt.ylim(-5000,10000)\n",
    "# plt.xlim(-1,1)\n",
    "\n",
    "fig.suptitle('Answers Duration (Hugging Face Questions)')\n",
    "# fig.suptitle('TensorFlow Questions', prop={\"size\":10})\n",
    "# plt.gca().axes.get_xaxis().set_visible(False)\n",
    "# plt.legend(loc='upper left')\n",
    "\n",
    "plt.show()"
   ]
  },
  {
   "cell_type": "code",
   "execution_count": null,
   "id": "2cb65388",
   "metadata": {},
   "outputs": [],
   "source": [
    "df_1 = pd.DataFrame(columns=['Questions (with stack traces)', 'Hours'])\n",
    "df_1['Hours'] = pd_tmp_new3_w['Duration_ans']\n",
    "df_1['Questions (with stack traces)'] = df_1['Questions (with stack traces)'].apply(lambda x: \"First Answer\")\n",
    "\n",
    "df_2 = pd.DataFrame(columns=['Questions (with stack traces)', 'Hours'])\n",
    "df_2['Hours'] = pd_tmp_new3_w['Duration_acc_ans']\n",
    "df_2['Questions (with stack traces)'] = df_2['Questions (with stack traces)'].apply(lambda x: \"First Accepted Answer\")\n",
    "\n",
    "result = pd.concat([df_1, df_2])\n",
    "\n",
    "fig = plt.figure(figsize=(10, 5), dpi=100)\n",
    "\n",
    "sns.violinplot(x=result[\"Questions (with stack traces)\"], y=result[\"Hours\"])\n",
    "\n",
    "# plt.ylim(-250,500)\n",
    "\n",
    "# fig = plt.figure(figsize=(10, 5))\n",
    "# gs = fig.add_gridspec(1, 2)\n",
    "\n",
    "# # min_ = min(min(df_status_w_stack['Duration_ans']), min(df_status_w_stack['Duration_acc_ans']))\n",
    "# # max_ = max(max(df_status_w_stack['Duration_ans']), max(df_status_w_stack['Duration_acc_ans']))\n",
    "\n",
    "# ax1 = fig.add_subplot(gs[0, 0])\n",
    "# sns.violinplot(data=df_status_w_stack['Duration_ans'])\n",
    "# ax1.set_xlabel(\"First Answer\")\n",
    "# ax1.set_ylabel(\"Day\")\n",
    "# # ax1 = plt.ylim(min_,max_)\n",
    "\n",
    "# ax2 = fig.add_subplot(gs[0, 1])\n",
    "# sns.violinplot(data=df_status_w_stack['Duration_acc_ans'])\n",
    "# ax2.set_xlabel(\"First Accepted Answer\")\n",
    "# ax2.set_ylabel(\"Day\")\n",
    "# # ax2 = plt.ylim(min_,max_)\n",
    "\n",
    "fig.suptitle('Answers Duration (with stack traces)')\n",
    "\n",
    "fig.tight_layout()\n",
    "plt.show()"
   ]
  },
  {
   "cell_type": "code",
   "execution_count": null,
   "id": "e5b540d9-50f5-4867-be9a-e13e9bd585ba",
   "metadata": {},
   "outputs": [],
   "source": [
    "df_1 = pd.DataFrame(columns=['Questions (W/O stack traces)', 'Hours'])\n",
    "df_1['Hours'] = pd_tmp_new3_wo['Duration_ans']\n",
    "df_1['Questions (W/O stack traces)'] = df_1['Questions (W/O stack traces)'].apply(lambda x: \"First Answer\")\n",
    "\n",
    "df_2 = pd.DataFrame(columns=['Questions (W/O stack traces)', 'Hours'])\n",
    "df_2['Hours'] = pd_tmp_new3_wo['Duration_acc_ans']\n",
    "df_2['Questions (W/O stack traces)'] = df_2['Questions (W/O stack traces)'].apply(lambda x: \"First Accepted Answer\")\n",
    "\n",
    "result = pd.concat([df_1, df_2])\n",
    "\n",
    "fig = plt.figure(figsize=(10, 5), dpi=100)\n",
    "\n",
    "sns.violinplot(x=result[\"Questions (W/O stack traces)\"], y=result[\"Hours\"])\n",
    "\n",
    "# plt.ylim(-250,500)\n",
    "\n",
    "fig.suptitle('Answers Duration (W/O stack traces)')\n",
    "\n",
    "fig.tight_layout()\n",
    "plt.show()"
   ]
  },
  {
   "cell_type": "markdown",
   "id": "e5fd473e",
   "metadata": {},
   "source": [
    "## Statistics Information"
   ]
  },
  {
   "cell_type": "code",
   "execution_count": null,
   "id": "865c91d7",
   "metadata": {},
   "outputs": [],
   "source": [
    "print(\"Question Numbers with all ML tags: \", df.shape[0])"
   ]
  },
  {
   "cell_type": "code",
   "execution_count": null,
   "id": "1ac51430",
   "metadata": {},
   "outputs": [],
   "source": [
    "print(\"Question Numbers (with Hugging Face tags): \", df_w_hf_tags.shape[0])"
   ]
  },
  {
   "cell_type": "code",
   "execution_count": null,
   "id": "817104d7",
   "metadata": {},
   "outputs": [],
   "source": [
    "print(\"Question Numbers (without Hugging Face tags): \", df.shape[0] - df_w_hf_tags.shape[0])"
   ]
  },
  {
   "cell_type": "code",
   "execution_count": null,
   "id": "0ada499a",
   "metadata": {},
   "outputs": [],
   "source": [
    "print(\"Hugging Face Question Numbers (with code): \", count__question_w_code)\n",
    "print(\"Hugging Face Question Numbers (without code): \", count__question_wo_code)"
   ]
  },
  {
   "cell_type": "code",
   "execution_count": null,
   "id": "356dcb8a",
   "metadata": {},
   "outputs": [],
   "source": [
    "print(\"Hugging Face Question Numbers (with code) have stack trace: \", count_w_t)  # 40 disappeared ?!\n",
    "print(\"Hugging Face Question Numbers (with code) that doesn't have stack trace: \",count_wo_t)"
   ]
  },
  {
   "cell_type": "code",
   "execution_count": null,
   "id": "1cebaf5d",
   "metadata": {
    "scrolled": true,
    "tags": []
   },
   "outputs": [],
   "source": [
    "print(\"Hugging Face Question Numbers (with stack trace:) on Unix based systems: \", count_unix)\n",
    "print(\"Hugging Face Question Numbers (with stack trace:) on Windows based systems: \", count_win)"
   ]
  },
  {
   "cell_type": "code",
   "execution_count": null,
   "id": "3777daa8",
   "metadata": {
    "scrolled": true
   },
   "outputs": [],
   "source": [
    "line_count_unix   = 0\n",
    "line_count_win    = 0\n",
    "line_count_simple = 0\n",
    "\n",
    "for tuple in df_w_hf_tags[\"Line_code_u_w_s\"]:\n",
    "    line_count_unix   += tuple[0]\n",
    "    line_count_win    += tuple[1]\n",
    "    line_count_simple += tuple[2]\n",
    "        \n",
    "print(f\"The total number of line codes in the body part (w/o stack trace) is {line_count_simple}.\")\n",
    "print(f\"The total LOC amongst stack traces is {line_count_unix} (Unix-based reports).\")\n",
    "print(f\"The total LOC amongst stack traces is {line_count_win} (Windows-based reports).\")\n",
    "print(f\"The total LOC amongst stack traces is {line_count_unix+line_count_win}.\")"
   ]
  },
  {
   "cell_type": "code",
   "execution_count": null,
   "id": "13260028-8d85-4f82-8d22-ca47a7e5b65b",
   "metadata": {},
   "outputs": [],
   "source": [
    "print(f\"We found {max(dic.values())} unique pairs in stack traces posts related to the Hugging Face frameworks.\")"
   ]
  },
  {
   "cell_type": "code",
   "execution_count": null,
   "id": "c0c41cdd-06fa-4faa-8e3c-b1214bc92865",
   "metadata": {},
   "outputs": [],
   "source": [
    "import math\n",
    "# print(\"Pst: \", '{:,}'.format(df_w_hf_tags.shape[0]), \"\\nPst_wc: \", math.ceil(count__question_w_code*100/(count__question_w_code+count__question_wo_code)), \"\\nPst_woc:\", 100-math.ceil(count__question_w_code*100/(count__question_w_code+count__question_wo_code)), \"\\nCB:\", '{:,}'.format(count__num_codes), \"\\nCB_ws:\", math.ceil(count_w_t*100/(count_w_t+count_wo_t)), \"\\nCB_wos:\", 100-(math.ceil(count_w_t*100/(count_w_t+count_wo_t))) , \"\\nST:\", '{:,}'.format(count_w_t), \"\\nU:\", math.ceil(count_unix*100/count_w_t), \"\\nW:\",100-math.ceil(count_unix*100/count_w_t))\n",
    "print(\"Pst: \", '{:,}'.format(df_w_hf_tags.shape[0]), \"\\nPst_wc: \", \n",
    "      '{0:0.2f}'.format(count__question_w_code*100/(count__question_w_code+count__question_wo_code)), \n",
    "      \"\\nPst_woc:\", '{0:0.2f}'.format(100-(count__question_w_code*100/(count__question_w_code+count__question_wo_code))), \n",
    "      \"\\nCB:\", '{:,}'.format(count__num_codes), \n",
    "      \"\\nCB_ws:\", '{0:0.2f}'.format(count_w_t*100/(count_w_t+count_wo_t)), \n",
    "      \"\\nCB_wos:\", '{0:0.2f}'.format(100-(count_w_t*100/(count_w_t+count_wo_t))) , \n",
    "      \"\\nST:\", '{:,}'.format(count_w_t), \n",
    "      \"\\nU:\", '{0:0.2f}'.format(count_unix*100/count_w_t), \n",
    "      \"\\nW:\",'{0:0.2f}'.format(100-(count_unix*100/count_w_t)))\n",
    "\n",
    "print( '{:,}'.format(df_w_hf_tags.shape[0]), \n",
    "      '& {0:0.1f}\\%'.format(count__question_w_code*100/(count__question_w_code+count__question_wo_code)), \n",
    "      '& {0:0.1f}\\%'.format(100-(count__question_w_code*100/(count__question_w_code+count__question_wo_code))), \n",
    "      '& {:,}'.format(count__num_codes), \n",
    "      '& {0:0.1f}\\%'.format(count_w_t*100/(count_w_t+count_wo_t)), \n",
    "      '& {0:0.1f}\\%'.format(100-(count_w_t*100/(count_w_t+count_wo_t))) , \n",
    "      '& \\multicolumn{1}{r:}{\\\\textbf{', count_w_t, '}}',\n",
    "      '& {0:0.1f}\\%'.format(count_w_t*100/df_w_hf_tags.shape[0]), \n",
    "      '& {0:0.1f}\\%'.format(count_unix*100/count_w_t), \n",
    "      '& {0:0.1f}\\%'.format(100-(count_unix*100/count_w_t)))\n",
    "\n",
    "print( '{:,}'.format(df_w_hf_tags.shape[0]), \n",
    "      '& {0:0.1f}\\%'.format(count__question_w_code*100/(count__question_w_code+count__question_wo_code)), \n",
    "      '& {:,}'.format(count__num_codes), \n",
    "      '& {0:0.1f}\\%'.format(count_w_t*100/(count_w_t+count_wo_t)), \n",
    "      '& \\multicolumn{1}{r:}{\\\\textbf{', count_w_t, '}}',\n",
    "      '& {0:0.1f}\\%'.format(count_w_t*100/df_w_hf_tags.shape[0]), \n",
    "      '& {0:0.1f}\\%'.format(count_unix*100/count_w_t), \n",
    "      '& {0:0.1f}\\%'.format(100-(count_unix*100/count_w_t)))\n"
   ]
  },
  {
   "cell_type": "code",
   "execution_count": null,
   "id": "9833a361-59e5-4c36-a9e2-58156a8cf4e1",
   "metadata": {},
   "outputs": [],
   "source": [
    "print(\"w-ST:\", '{:,}'.format(count_w_t), \"wo-ST:\", '{:,}'.format(count_wo_t))\n",
    "ACC_W, ACC_WO = 11 , 69\n",
    "print('P1: {0:0.4f}'.format(ACC_W/count_w_t))\n",
    "print('N1: {}'.format(count_w_t))\n",
    "print('P2: {0:0.4f}'.format(ACC_WO/count_wo_t))\n",
    "print('N2: {}'.format(count_wo_t))"
   ]
  },
  {
   "cell_type": "markdown",
   "id": "5f01a48e",
   "metadata": {},
   "source": [
    "## Graphical Results"
   ]
  },
  {
   "cell_type": "markdown",
   "id": "034f3688",
   "metadata": {},
   "source": [
    "### LOC"
   ]
  },
  {
   "cell_type": "code",
   "execution_count": null,
   "id": "d2cdecdc",
   "metadata": {},
   "outputs": [],
   "source": [
    "code_wo_trace  = df_w_hf_tags[(df_w_hf_tags.Has_code == True) & (df_w_hf_tags.Has_trace == False)].Line_code_simple_code\n",
    "code_w_trace   = df_w_hf_tags[df_w_hf_tags.Has_trace == True].Line_code_win + df_w_hf_tags[df_w_hf_tags.Has_trace == True].Line_code_uix\n",
    "\n",
    "df_1 = pd.DataFrame(columns=['Question Type', 'LOC (in each question post)'])\n",
    "df_1['LOC (in each question post)'] = code_wo_trace\n",
    "df_1['Question Type'] = df_1['Question Type'].apply(lambda x: \"code blocks w/o stack trace\")\n",
    "\n",
    "df_2 = pd.DataFrame(columns=['Question Type', 'LOC (in each question post)'])\n",
    "df_2['LOC (in each question post)'] = code_w_trace\n",
    "df_2['Question Type'] = df_2['Question Type'].apply(lambda x: \"code blocks with stack trace\")\n",
    "\n",
    "result = pd.concat([df_1, df_2])\n",
    "result['Type'] = \"Question Type\"\n",
    "\n",
    "result.to_csv('./plt_df_loc_hug.csv', encoding='utf-8', index=False)\n",
    "\n",
    "fig = plt.figure(figsize=(5, 5), dpi=100)\n",
    "\n",
    "sns.violinplot(x=\"Type\", \n",
    "               y=\"LOC (in each question post)\", \n",
    "               data=result, \n",
    "               hue=\"Question Type\", \n",
    "               palette=\"Set2\", #colorblind\n",
    "               split=True, \n",
    "               # scale=\"count\",\n",
    "               inner=\"quartile\",\n",
    "               scale_hue=False,\n",
    "               width=.7)\n",
    "\n",
    "plt.ylim(-15, 100)\n",
    "# plt.xlim(-1, 1)\n",
    "\n",
    "fig.suptitle('Comparing the LOC between regular code and stack trace')\n",
    "\n",
    "plt.gca().axes.get_xaxis().set_visible(False)\n",
    "# plt.plot(legend=None)\n",
    "plt.legend(loc='upper right', prop={\"size\":8})\n",
    "fig.tight_layout()\n",
    "\n",
    "plt.show()"
   ]
  },
  {
   "cell_type": "markdown",
   "id": "bdf06607",
   "metadata": {},
   "source": [
    "### Question Length"
   ]
  },
  {
   "cell_type": "code",
   "execution_count": null,
   "id": "36d4d512-eeec-46ef-b065-ddc3001f5b41",
   "metadata": {},
   "outputs": [],
   "source": [
    "df_1 = pd.DataFrame(columns=['Question Type', 'Words (in each question post)'])\n",
    "df_1['Words (in each question post)'] = list_num_words_wo_tra\n",
    "df_1['Question Type'] = df_1['Question Type'].apply(lambda x: \"w/o stack trace\")\n",
    "\n",
    "df_2 = pd.DataFrame(columns=['Question Type', 'Words (in each question post)'])\n",
    "df_2['Words (in each question post)'] = list_num_words_w_tra\n",
    "df_2['Question Type'] = df_2['Question Type'].apply(lambda x: \"with stack trace\")\n",
    "\n",
    "result = pd.concat([df_1, df_2])\n",
    "result['Type'] = \"Question Type\""
   ]
  },
  {
   "cell_type": "code",
   "execution_count": null,
   "id": "053ffa78-a7ea-4336-b154-b0dda0997d13",
   "metadata": {},
   "outputs": [],
   "source": [
    "df_2.shape"
   ]
  },
  {
   "cell_type": "code",
   "execution_count": null,
   "id": "eeb0e161-7b83-406b-be3a-dfb3c307c9fb",
   "metadata": {},
   "outputs": [],
   "source": [
    "result.to_csv('./plt_df_ques_len_hug.csv', encoding='utf-8', index=False)"
   ]
  },
  {
   "cell_type": "code",
   "execution_count": null,
   "id": "92381996",
   "metadata": {},
   "outputs": [],
   "source": [
    "fig = plt.figure(figsize=(4, 5), dpi=100)\n",
    "\n",
    "sns.violinplot(x=\"Type\", \n",
    "               y=\"Words (in each question post)\", \n",
    "               data=result, \n",
    "               hue=\"Question Type\", \n",
    "               palette=\"Set2\", #colorblind\n",
    "               split=True, \n",
    "               scale=\"count\",\n",
    "               inner=\"quartile\",\n",
    "               scale_hue=False,\n",
    "               width=.7)\n",
    "\n",
    "plt.ylim(0, 300)\n",
    "# plt.xlim(-1, 1)\n",
    "\n",
    "fig.suptitle('Comparing the Question Length')\n",
    "\n",
    "plt.gca().axes.get_xaxis().set_visible(False)\n",
    "# plt.plot(legend=None)\n",
    "plt.legend(loc='upper right', prop={\"size\":8})\n",
    "fig.tight_layout()\n",
    "\n",
    "plt.show()"
   ]
  },
  {
   "cell_type": "markdown",
   "id": "4bb4fb36",
   "metadata": {},
   "source": [
    "### Plotting Score, View, Answer, Comment Counts "
   ]
  },
  {
   "cell_type": "code",
   "execution_count": null,
   "id": "99858e22-6407-4c39-8f56-7beed3a46c13",
   "metadata": {},
   "outputs": [],
   "source": [
    "df_status_w_stack.to_csv('./plt_df_hugh_w_table3_stack.csv', encoding='utf-8')\n",
    "df_status_wo_stack.to_csv('./plt_df_hugh_wo_table3_stack.csv', encoding='utf-8')"
   ]
  },
  {
   "cell_type": "code",
   "execution_count": null,
   "id": "8a03529c",
   "metadata": {},
   "outputs": [],
   "source": [
    "def get_sturges_rule_number(n_obser: int) -> int:\n",
    "    '''\n",
    "    Sturges’ Rule is the most common method for determining the optimal number of bins.\n",
    "\n",
    "    Parameters:\n",
    "    ----------\n",
    "    n_obser : int\n",
    "        The total number of observations in the dataset.\n",
    "\n",
    "    Returns:\n",
    "    ----------\n",
    "    Use ⌈ ⌉ for returning a value: Symbols that mean “ceiling” – i.e. round the answer up to\n",
    "    the nearest integer.\n",
    "    '''\n",
    "    # return round(1 + math.log2(n_obser))\n",
    "    return round(np.ceil(1 + (3.322 * np.log10(n_obser))))"
   ]
  },
  {
   "cell_type": "code",
   "execution_count": null,
   "id": "53a4e98d",
   "metadata": {},
   "outputs": [],
   "source": [
    "plt.figure(figsize=[25,15])\n",
    "plt.subplot(211)\n",
    "\n",
    "plt.title('View Count (With Stack Traces)', fontsize=25)\n",
    "plt.xlabel('\\nView Range', fontsize=20)\n",
    "plt.ylabel('Frequency', fontsize=20)\n",
    "\n",
    "n_bins = get_sturges_rule_number(len(df_status_w_stack['View_count']))\n",
    "\n",
    "n, bins, patches = plt.hist(df_status_w_stack['View_count'], \n",
    "                             bins=n_bins, \n",
    "                             log=True, \n",
    "                             align='right', \n",
    "                             color='purple', \n",
    "                             edgecolor='black')\n",
    "\n",
    "# define minor ticks and draw a grid with them\n",
    "minor_locator = AutoMinorLocator(2)\n",
    "plt.gca().xaxis.set_minor_locator(minor_locator)\n",
    "# plt.grid(False)\n",
    "# plt.grid(which='minor', color='white', lw = 0.5)\n",
    "# x ticks\n",
    "xticks = [(bins[idx+1] + value)/2 for idx, value in enumerate(bins[:-1])]\n",
    "dist = (xticks[1] - xticks[0])/2\n",
    "xticks = [e+dist for e in xticks]\n",
    "xticks_labels = [ \"{:.1f}\\nto\\n{:.1f}\".format(value, bins[idx+1]) for idx, value in enumerate(bins[:-1])]\n",
    "plt.xticks(xticks, labels = xticks_labels, fontsize=18)\n",
    "\n",
    "\n",
    "plt.subplot(212)\n",
    "\n",
    "plt.title('View Count (W/O Stack Traces)', fontsize=25)\n",
    "plt.xlabel('\\nView Range', fontsize=20)\n",
    "plt.ylabel('Frequency', fontsize=20)\n",
    "\n",
    "n_bins = get_sturges_rule_number(len(df_status_wo_stack['View_count']))\n",
    "\n",
    "n, bins, patches = plt.hist(df_status_wo_stack['View_count'], \n",
    "                             bins=n_bins, \n",
    "                             log=True, \n",
    "                             align='right', \n",
    "                             color='purple', \n",
    "                             edgecolor='black')\n",
    "\n",
    "# define minor ticks and draw a grid with them\n",
    "minor_locator = AutoMinorLocator(2)\n",
    "plt.gca().xaxis.set_minor_locator(minor_locator)\n",
    "# plt.grid(which='minor', color='white', lw = 0.5)\n",
    "# x ticks\n",
    "xticks = [(bins[idx+1] + value)/2 for idx, value in enumerate(bins[:-1])]\n",
    "dist = (xticks[1] - xticks[0])/2\n",
    "xticks = [e+dist for e in xticks]\n",
    "xticks_labels = [ \"{:.1f}\\nto\\n{:.1f}\".format(value, bins[idx+1]) for idx, value in enumerate(bins[:-1])]\n",
    "plt.xticks(xticks, labels = xticks_labels, fontsize=15)\n",
    "\n",
    "plt.tight_layout(pad=4.0)\n",
    "plt.show()"
   ]
  },
  {
   "cell_type": "code",
   "execution_count": null,
   "id": "cb5a9b0f",
   "metadata": {},
   "outputs": [],
   "source": [
    "df_1 = pd.DataFrame(columns=['Question Type', 'Frequency'])\n",
    "df_1['Frequency'] = df_status_wo_stack['View_count']\n",
    "df_1['Question Type'] = df_1['Question Type'].apply(lambda x: \"W/O Stack Traces\")\n",
    "\n",
    "df_2 = pd.DataFrame(columns=['Question Type', 'Frequency'])\n",
    "df_2['Frequency'] = df_status_w_stack['View_count']\n",
    "df_2['Question Type'] = df_2['Question Type'].apply(lambda x: \"With Stack Traces\")\n",
    "\n",
    "result = pd.concat([df_1, df_2])\n",
    "result['Type'] = \"Question Type\"\n",
    "\n",
    "fig = plt.figure(figsize=(5, 5), dpi=100)\n",
    "\n",
    "sns.violinplot(x=\"Type\", \n",
    "               y=\"Frequency\", \n",
    "               data=result, \n",
    "               hue=\"Question Type\", \n",
    "               palette=\"Set2\", #colorblind\n",
    "               split=True, \n",
    "               scale=\"count\",\n",
    "               inner=\"quartile\",\n",
    "               scale_hue=False,\n",
    "               width=.7)\n",
    "\n",
    "plt.ylim(-2500,13000)\n",
    "# plt.xlim(-1,1)\n",
    "\n",
    "fig.suptitle('View Count')\n",
    "plt.gca().axes.get_xaxis().set_visible(False)\n",
    "# plt.plot(legend=None)\n",
    "plt.legend(loc='upper right', prop={\"size\":10})\n",
    "fig.tight_layout()\n",
    "plt.show()"
   ]
  },
  {
   "cell_type": "code",
   "execution_count": null,
   "id": "2e8319c7",
   "metadata": {},
   "outputs": [],
   "source": [
    "plt.figure(figsize=[25,15])\n",
    "\n",
    "plt.subplot(211)\n",
    "\n",
    "plt.title('Answer Count (With Stack Traces)', fontsize=25)\n",
    "plt.xlabel('\\nAnswer Range', fontsize=20)\n",
    "plt.ylabel('Frequency', fontsize=20)\n",
    "\n",
    "n_bins = get_sturges_rule_number(len(df_status_w_stack['Answer_count']))\n",
    "\n",
    "n, bins, patches = plt.hist(df_status_w_stack['Answer_count'], \n",
    "                             bins=n_bins, \n",
    "                             log=True, \n",
    "                             align='right', \n",
    "                             color='g', \n",
    "                             edgecolor='black')\n",
    "\n",
    "# define minor ticks and draw a grid with them\n",
    "minor_locator = AutoMinorLocator(2)\n",
    "plt.gca().xaxis.set_minor_locator(minor_locator)\n",
    "# plt.grid(which='minor', color='white', lw = 0.5)\n",
    "# x ticks\n",
    "xticks = [(bins[idx+1] + value)/2 for idx, value in enumerate(bins[:-1])]\n",
    "dist = (xticks[1] - xticks[0])/2\n",
    "xticks = [e+dist for e in xticks]\n",
    "xticks_labels = [ \"{:.1f}\\nto\\n{:.1f}\".format(value, bins[idx+1]) for idx, value in enumerate(bins[:-1])]\n",
    "plt.xticks(xticks, labels = xticks_labels, fontsize=18)\n",
    "\n",
    "plt.subplot(212)\n",
    "\n",
    "plt.title('Answer Count (W/O Stack Traces)', fontsize=25)\n",
    "plt.xlabel('\\nAnswer Range', fontsize=20)\n",
    "plt.ylabel('Frequency', fontsize=20)\n",
    "\n",
    "n_bins = get_sturges_rule_number(len(df_status_wo_stack['Answer_count']))\n",
    "\n",
    "n, bins, patches = plt.hist(df_status_wo_stack['Answer_count'], \n",
    "                             bins=n_bins, \n",
    "                             log=True, \n",
    "                             align='right', \n",
    "                             color='g', \n",
    "                             edgecolor='black')\n",
    "\n",
    "# define minor ticks and draw a grid with them\n",
    "minor_locator = AutoMinorLocator(2)\n",
    "plt.gca().xaxis.set_minor_locator(minor_locator)\n",
    "# plt.grid(which='minor', color='white', lw = 0.5)\n",
    "# x ticks\n",
    "xticks = [(bins[idx+1] + value)/2 for idx, value in enumerate(bins[:-1])]\n",
    "dist = (xticks[1] - xticks[0])/2\n",
    "xticks = [e+dist for e in xticks]\n",
    "xticks_labels = [ \"{:.1f}\\nto\\n{:.1f}\".format(value, bins[idx+1]) for idx, value in enumerate(bins[:-1])]\n",
    "plt.xticks(xticks, labels = xticks_labels, fontsize=18)\n",
    "\n",
    "plt.tight_layout(pad=4.0)\n",
    "plt.show()"
   ]
  },
  {
   "cell_type": "code",
   "execution_count": null,
   "id": "0f44e9b9",
   "metadata": {},
   "outputs": [],
   "source": [
    "sns.set_theme(style=\"whitegrid\")\n",
    "df_1 = pd.DataFrame(columns=['Question Type', 'Frequency'])\n",
    "df_1['Frequency'] = df_status_wo_stack['Answer_count']\n",
    "df_1['Question Type'] = df_1['Question Type'].apply(lambda x: \"W/O Stack Traces\")\n",
    "\n",
    "df_2 = pd.DataFrame(columns=['Question Type', 'Frequency'])\n",
    "df_2['Frequency'] = df_status_w_stack['Answer_count']\n",
    "df_2['Question Type'] = df_2['Question Type'].apply(lambda x: \"With Stack Traces\")\n",
    "\n",
    "result = pd.concat([df_1, df_2])\n",
    "result['Type'] = \"Question Type\"\n",
    "\n",
    "fig = plt.figure(figsize=(5, 5), dpi=100)\n",
    "\n",
    "sns.violinplot(x=\"Type\", \n",
    "               y=\"Frequency\", \n",
    "               data=result, \n",
    "               hue=\"Question Type\", \n",
    "               palette=\"Set2\", #colorblind\n",
    "               split=True, \n",
    "               scale=\"count\",\n",
    "               inner=\"quartile\",\n",
    "               scale_hue=False,\n",
    "               width=.5)\n",
    "\n",
    "plt.ylim(-.5,4.1)\n",
    "# plt.xlim(-1,1)\n",
    "\n",
    "fig.suptitle('Answer Count')\n",
    "plt.gca().axes.get_xaxis().set_visible(False)\n",
    "# plt.plot(legend=None)\n",
    "plt.legend(loc='upper right', prop={\"size\":10})\n",
    "\n",
    "plt.show()"
   ]
  },
  {
   "cell_type": "code",
   "execution_count": null,
   "id": "a2f7989a",
   "metadata": {},
   "outputs": [],
   "source": [
    "plt.figure(figsize=[25,15])\n",
    "\n",
    "plt.subplot(211)\n",
    "\n",
    "plt.title('Comment Count (With Stack Traces)', fontsize=25)\n",
    "plt.xlabel('\\nComment Range', fontsize=20)\n",
    "plt.ylabel('Frequency', fontsize=20)\n",
    "\n",
    "n_bins = get_sturges_rule_number(len(df_status_w_stack['Comment_count']))\n",
    "\n",
    "n, bins, patches = plt.hist(df_status_w_stack['Comment_count'], \n",
    "                             bins=n_bins, \n",
    "                             log=True, \n",
    "                             align='right', \n",
    "                             color='b', \n",
    "                             edgecolor='black')\n",
    "\n",
    "# define minor ticks and draw a grid with them\n",
    "minor_locator = AutoMinorLocator(2)\n",
    "plt.gca().xaxis.set_minor_locator(minor_locator)\n",
    "# plt.grid(which='minor', color='white', lw = 0.5)\n",
    "# x ticks\n",
    "xticks = [(bins[idx+1] + value)/2 for idx, value in enumerate(bins[:-1])]\n",
    "dist = (xticks[1] - xticks[0])/2\n",
    "xticks = [e+dist for e in xticks]\n",
    "xticks_labels = [ \"{:.1f}\\nto\\n{:.1f}\".format(value, bins[idx+1]) for idx, value in enumerate(bins[:-1])]\n",
    "plt.xticks(xticks, labels = xticks_labels, fontsize=18)\n",
    "\n",
    "plt.subplot(212)\n",
    "\n",
    "plt.title('Comment Count (W/O Stack Traces)', fontsize=25)\n",
    "plt.xlabel('\\nComment Range', fontsize=20)\n",
    "plt.ylabel('Frequency', fontsize=20)\n",
    "\n",
    "n_bins = get_sturges_rule_number(len(df_status_wo_stack['Comment_count']))\n",
    "\n",
    "n, bins, patches = plt.hist(df_status_wo_stack['Comment_count'], \n",
    "                             bins=n_bins, \n",
    "                             log=True, \n",
    "                             align='right', \n",
    "                             color='b', \n",
    "                             edgecolor='black')\n",
    "\n",
    "# define minor ticks and draw a grid with them\n",
    "minor_locator = AutoMinorLocator(2)\n",
    "plt.gca().xaxis.set_minor_locator(minor_locator)\n",
    "# plt.grid(which='minor', color='white', lw = 0.5)\n",
    "# x ticks\n",
    "xticks = [(bins[idx+1] + value)/2 for idx, value in enumerate(bins[:-1])]\n",
    "dist = (xticks[1] - xticks[0])/2\n",
    "xticks = [e+dist for e in xticks]\n",
    "xticks_labels = [ \"{:.1f}\\nto\\n{:.1f}\".format(value, bins[idx+1]) for idx, value in enumerate(bins[:-1])]\n",
    "plt.xticks(xticks, labels = xticks_labels, fontsize=18)\n",
    "\n",
    "plt.tight_layout(pad=4.0)\n",
    "\n",
    "plt.show()"
   ]
  },
  {
   "cell_type": "code",
   "execution_count": null,
   "id": "46a20d74",
   "metadata": {},
   "outputs": [],
   "source": [
    "df_1 = pd.DataFrame(columns=['Question Type', 'Frequency'])\n",
    "df_1['Frequency'] = df_status_wo_stack['Comment_count']\n",
    "df_1['Question Type'] = df_1['Question Type'].apply(lambda x: \"W/O Stack Traces\")\n",
    "\n",
    "df_2 = pd.DataFrame(columns=['Question Type', 'Frequency'])\n",
    "df_2['Frequency'] = df_status_w_stack['Comment_count']\n",
    "df_2['Question Type'] = df_2['Question Type'].apply(lambda x: \"With Stack Traces\")\n",
    "\n",
    "result = pd.concat([df_1, df_2])\n",
    "result['Type'] = \"Question Type\"\n",
    "\n",
    "fig = plt.figure(figsize=(5, 5), dpi=100)\n",
    "\n",
    "sns.violinplot(x=\"Type\", \n",
    "               y=\"Frequency\", \n",
    "               data=result, \n",
    "               hue=\"Question Type\", \n",
    "               palette=\"Set2\", #colorblind\n",
    "               split=True, \n",
    "               scale=\"count\",\n",
    "               inner=\"quartile\",\n",
    "               scale_hue=False,\n",
    "               width=.5)\n",
    "\n",
    "plt.ylim(-1.1,10)\n",
    "# plt.xlim(-1,1)\n",
    "\n",
    "fig.suptitle('Comment Count')\n",
    "plt.gca().axes.get_xaxis().set_visible(False)\n",
    "# plt.plot(legend=None)\n",
    "plt.legend(loc='upper right', prop={\"size\":10})\n",
    "\n",
    "plt.show()"
   ]
  },
  {
   "cell_type": "code",
   "execution_count": null,
   "id": "f280ba3b-d8a9-4a34-9f62-113711c3fe36",
   "metadata": {},
   "outputs": [],
   "source": [
    "df_2.shape"
   ]
  },
  {
   "cell_type": "code",
   "execution_count": null,
   "id": "5d464c39",
   "metadata": {},
   "outputs": [],
   "source": [
    "# Example:\n",
    "\n",
    "sns.set_theme(style=\"whitegrid\")\n",
    "# ###################################################################################\n",
    "df_1 = pd.DataFrame(columns=['Question Type', 'Frequency'])\n",
    "df_1['Frequency'] = df_status_wo_stack['Comment_count']\n",
    "df_1['Question Type'] = df_1['Question Type'].apply(lambda x: \"W/O Stack Traces\")\n",
    "\n",
    "df_2 = pd.DataFrame(columns=['Question Type', 'Frequency'])\n",
    "df_2['Frequency'] = df_status_w_stack['Comment_count']\n",
    "df_2['Question Type'] = df_2['Question Type'].apply(lambda x: \"With Stack Traces\")\n",
    "\n",
    "resultComment = pd.concat([df_1, df_2])\n",
    "resultComment['Type'] = \"Comment Count\"\n",
    "# ###################################################################################\n",
    "df_1 = pd.DataFrame(columns=['Question Type', 'Frequency'])\n",
    "df_1['Frequency'] = df_status_wo_stack['Answer_count']\n",
    "df_1['Question Type'] = df_1['Question Type'].apply(lambda x: \"W/O Stack Traces\")\n",
    "\n",
    "df_2 = pd.DataFrame(columns=['Question Type', 'Frequency'])\n",
    "df_2['Frequency'] = df_status_w_stack['Answer_count']\n",
    "df_2['Question Type'] = df_2['Question Type'].apply(lambda x: \"With Stack Traces\")\n",
    "\n",
    "resultAnswer = pd.concat([df_1, df_2])\n",
    "resultAnswer['Type'] = \"Answer Count\"\n",
    "# ###################################################################################\n",
    "# df_1 = pd.DataFrame(columns=['Question Type', 'Frequency'])\n",
    "# df_1['Frequency'] = df_status_wo_stack['View_count']\n",
    "# df_1['Question Type'] = df_1['Question Type'].apply(lambda x: \"W/O Stack Traces\")\n",
    "\n",
    "# df_2 = pd.DataFrame(columns=['Question Type', 'Frequency'])\n",
    "# df_2['Frequency'] = df_status_w_stack['View_count']\n",
    "# df_2['Question Type'] = df_2['Question Type'].apply(lambda x: \"With Stack Traces\")\n",
    "\n",
    "# resultView = pd.concat([df_1, df_2])\n",
    "# resultView['Type'] = \"View Count\"\n",
    "# ###################################################################################\n",
    "# df_1 = pd.DataFrame(columns=['Question Type', 'Frequency'])\n",
    "# df_1['Frequency'] = df_status_wo_stack['Score']\n",
    "# df_1['Question Type'] = df_1['Question Type'].apply(lambda x: \"W/O Stack Traces\")\n",
    "\n",
    "# df_2 = pd.DataFrame(columns=['Question Type', 'Frequency'])\n",
    "# df_2['Frequency'] = df_status_w_stack['Score']\n",
    "# df_2['Question Type'] = df_2['Question Type'].apply(lambda x: \"With Stack Traces\")\n",
    "\n",
    "# resultScore = pd.concat([df_1, df_2])\n",
    "# resultScore['Type'] = \"Score Count\"\n",
    "# ###################################################################################\n",
    "result = pd.concat([resultComment, resultAnswer], ignore_index=True)\n",
    "\n",
    "fig = plt.figure(figsize=(10, 5), dpi=100)\n",
    "\n",
    "sns.violinplot(x=\"Type\", \n",
    "               y=\"Frequency\", \n",
    "               data=result, \n",
    "               hue=\"Question Type\", \n",
    "               palette=\"Set2\", #colorblind\n",
    "               split=True, \n",
    "               scale=\"count\",\n",
    "               inner=\"quartile\",\n",
    "               scale_hue=False,\n",
    "               width=.5)\n",
    "\n",
    "plt.ylim(-1,6)\n",
    "# plt.xlim(-1,1)\n",
    "\n",
    "fig.suptitle('Hugging Face Questions')\n",
    "# fig.suptitle('TensorFlow Questions', prop={\"size\":10})\n",
    "# plt.gca().axes.get_xaxis().set_visible(False)\n",
    "# plt.legend(loc='upper left')\n",
    "\n",
    "plt.show()"
   ]
  },
  {
   "cell_type": "code",
   "execution_count": null,
   "id": "1599a8c9",
   "metadata": {},
   "outputs": [],
   "source": [
    "plt.figure(figsize=[25,15])\n",
    "\n",
    "plt.subplot(211)\n",
    "\n",
    "plt.title('Score Count (With Stack Traces)', fontsize=25)\n",
    "plt.xlabel('\\nScore Range', fontsize=20)\n",
    "plt.ylabel('Frequency', fontsize=20)\n",
    "\n",
    "n_bins = get_sturges_rule_number(len(df_status_w_stack['Score']))\n",
    "\n",
    "n, bins, patches = plt.hist(df_status_w_stack['Score'], \n",
    "                             bins=n_bins, \n",
    "                             log=True, \n",
    "                             align='right', \n",
    "                             color='orange', \n",
    "                             edgecolor='black')\n",
    "\n",
    "# define minor ticks and draw a grid with them\n",
    "minor_locator = AutoMinorLocator(2)\n",
    "plt.gca().xaxis.set_minor_locator(minor_locator)\n",
    "# plt.grid(which='minor', color='white', lw = 0.5)\n",
    "# x ticks\n",
    "xticks = [(bins[idx+1] + value)/2 for idx, value in enumerate(bins[:-1])]\n",
    "dist = (xticks[1] - xticks[0])/2\n",
    "xticks = [e+dist for e in xticks]\n",
    "xticks_labels = [ \"{:.1f}\\nto\\n{:.1f}\".format(value, bins[idx+1]) for idx, value in enumerate(bins[:-1])]\n",
    "plt.xticks(xticks, labels = xticks_labels, fontsize=18)\n",
    "\n",
    "plt.subplot(212)\n",
    "\n",
    "plt.title('Score Count (W/O Stack Traces)', fontsize=25)\n",
    "plt.xlabel('\\nScore Range', fontsize=20)\n",
    "plt.ylabel('Frequency', fontsize=20)\n",
    "\n",
    "n_bins = get_sturges_rule_number(len(df_status_wo_stack['Score']))\n",
    "\n",
    "n, bins, patches = plt.hist(df_status_wo_stack['Score'], \n",
    "                             bins=n_bins, \n",
    "                             log=True, \n",
    "                             align='right', \n",
    "                             color='orange', \n",
    "                             edgecolor='black')\n",
    "\n",
    "# define minor ticks and draw a grid with them\n",
    "minor_locator = AutoMinorLocator(2)\n",
    "plt.gca().xaxis.set_minor_locator(minor_locator)\n",
    "# plt.grid(which='minor', color='white', lw = 0.5)\n",
    "# x ticks\n",
    "xticks = [(bins[idx+1] + value)/2 for idx, value in enumerate(bins[:-1])]\n",
    "dist = (xticks[1] - xticks[0])/2\n",
    "xticks = [e+dist for e in xticks]\n",
    "xticks_labels = [ \"{:.1f}\\nto\\n{:.1f}\".format(value, bins[idx+1]) for idx, value in enumerate(bins[:-1])]\n",
    "plt.xticks(xticks, labels = xticks_labels, fontsize=18)\n",
    "\n",
    "plt.tight_layout(pad=4.0)\n",
    "plt.show()"
   ]
  },
  {
   "cell_type": "code",
   "execution_count": null,
   "id": "beea8d59",
   "metadata": {},
   "outputs": [],
   "source": [
    "df_1 = pd.DataFrame(columns=['Question Type', 'Frequency'])\n",
    "df_1['Frequency'] = df_status_wo_stack['Score']\n",
    "df_1['Question Type'] = df_1['Question Type'].apply(lambda x: \"W/O Stack Traces\")\n",
    "\n",
    "df_2 = pd.DataFrame(columns=['Question Type', 'Frequency'])\n",
    "df_2['Frequency'] = df_status_w_stack['Score']\n",
    "df_2['Question Type'] = df_2['Question Type'].apply(lambda x: \"With Stack Traces\")\n",
    "\n",
    "result = pd.concat([df_1, df_2])\n",
    "result['Type'] = \"Question Type\"\n",
    "\n",
    "fig = plt.figure(figsize=(5, 5), dpi=100)\n",
    "\n",
    "sns.violinplot(x=\"Type\", \n",
    "               y=\"Frequency\", \n",
    "               data=result, \n",
    "               hue=\"Question Type\", \n",
    "               palette=\"Set2\", #colorblind\n",
    "               split=True, \n",
    "               scale=\"count\",\n",
    "               inner=\"quartile\",\n",
    "               scale_hue=False,\n",
    "               width=.5)\n",
    "\n",
    "plt.ylim(-7,15)\n",
    "# plt.xlim(-1,1)\n",
    "\n",
    "fig.suptitle('Score Count')\n",
    "plt.gca().axes.get_xaxis().set_visible(False)\n",
    "# plt.plot(legend=None)\n",
    "plt.legend(loc='upper right', prop={\"size\":10})\n",
    "fig.tight_layout()\n",
    "plt.show()"
   ]
  },
  {
   "cell_type": "code",
   "execution_count": null,
   "id": "b194f14c-6e35-472f-b9bd-fb03c86857a8",
   "metadata": {},
   "outputs": [],
   "source": [
    "df_2.shape"
   ]
  },
  {
   "cell_type": "code",
   "execution_count": null,
   "id": "6a3e8425",
   "metadata": {},
   "outputs": [],
   "source": [
    "# facecolor = '#EAEAEA'\n",
    "# color_bars = '#3475D0'\n",
    "# txt_color1 = '#252525'\n",
    "# txt_color2 = '#004C74'\n",
    "# fig, ax = plt.subplots(1, figsize=(20,6), facecolor=facecolor)\n",
    "# ax.set_facecolor(facecolor)\n",
    "# n, bins, patches = plt.hist(df_status_w_stack['Score'], \n",
    "#                              bins=n_bins, color=color_bars, log=True)\n",
    "# #grid\n",
    "# minor_locator = AutoMinorLocator(2)\n",
    "# plt.gca().xaxis.set_minor_locator(minor_locator)\n",
    "# # plt.grid(which='minor', color=facecolor, lw = 0.5)\n",
    "# xticks = [(bins[idx+1] + value)/2 for idx, value in enumerate(bins[:-1])]\n",
    "# xticks_labels = [ \"{:.0f}-{:.0f}\".format(value, bins[idx+1]) for idx, value in enumerate(bins[:-1])]\n",
    "# plt.xticks(xticks, labels=xticks_labels, c=txt_color1, fontsize=13)\n",
    "\n",
    "# # remove major and minor ticks from the x axis, but keep the labels\n",
    "# ax.tick_params(axis='x', which='both',length=0)\n",
    "# # remove y ticks\n",
    "# plt.yticks([])\n",
    "\n",
    "# # Hide the right and top spines\n",
    "# ax.spines['bottom'].set_visible(False)\n",
    "# ax.spines['left'].set_visible(False)\n",
    "# ax.spines['right'].set_visible(False)\n",
    "# ax.spines['top'].set_visible(False)\n",
    "# for idx, value in enumerate(n):\n",
    "#     if value > 0:\n",
    "#         plt.text(xticks[idx], value+5, int(value), ha='center', fontsize=16, c=txt_color1)\n",
    "\n",
    "# plt.title('\\nTensorFlow - Score Count\\n', loc = 'center', fontsize = 20, c=txt_color1)\n",
    "# plt.xlabel('\\nScore Range', c=txt_color2, fontsize=14)\n",
    "# plt.ylabel('\\nFrequency', c=txt_color2, fontsize=14)\n",
    "# plt.tight_layout()\n",
    "# # plt.savefig('costs.png', facecolor=facecolor)"
   ]
  },
  {
   "cell_type": "code",
   "execution_count": null,
   "id": "2ec2aa5c",
   "metadata": {},
   "outputs": [],
   "source": [
    "# import datetime\n",
    "\n",
    "# flag = 0\n",
    "# fr_time = pd.to_datetime(datetime.datetime.now())\n",
    "# acc_time = pd.to_datetime(datetime.datetime.now())\n",
    "\n",
    "# for answer in tt:\n",
    "#     anwer_time = pd.to_datetime(answer[1])\n",
    "#     if flag == 0:\n",
    "#         fr_time = anwer_time\n",
    "#         flag = 1\n",
    "    \n",
    "#     if fr_time > anwer_time:\n",
    "#         fr_time = anwer_time\n",
    "    \n",
    "#     if int(60535969) == answer[0]:\n",
    "#         acc_time = anwer_time\n",
    "\n",
    "# print(fr_time)\n",
    "# print(acc_time)"
   ]
  },
  {
   "cell_type": "code",
   "execution_count": null,
   "id": "9a53f160",
   "metadata": {},
   "outputs": [],
   "source": [
    "# fig = plt.figure(figsize=(10, 5))\n",
    "# gs = fig.add_gridspec(1, 2)\n",
    "\n",
    "# min_ = min(min(df_status_w_stack['View_count']), min(df_status_wo_stack['View_count']))\n",
    "# max_ = max(max(df_status_w_stack['View_count']), max(df_status_wo_stack['View_count']))\n",
    "\n",
    "# ax1 = fig.add_subplot(gs[0, 0])\n",
    "# sns.violinplot(data=df_status_w_stack['View_count'])\n",
    "# ax1.set_xlabel(\"with Stack Traces\")\n",
    "# ax1.set_ylabel(\"Frequency\")\n",
    "# ax1 = plt.ylim(min_,max_)\n",
    "\n",
    "# ax2 = fig.add_subplot(gs[0, 1])\n",
    "# sns.violinplot(data=df_status_wo_stack['View_count'])\n",
    "# ax2.set_xlabel(\"w/o Stack Traces\")\n",
    "# ax2.set_ylabel(\"Frequency\")\n",
    "# ax2 = plt.ylim(min_,max_)"
   ]
  },
  {
   "cell_type": "code",
   "execution_count": null,
   "id": "6fcf446f-652d-42ac-8a08-2f21e529a64f",
   "metadata": {},
   "outputs": [],
   "source": []
  },
  {
   "cell_type": "code",
   "execution_count": null,
   "id": "48b9f7a0-c19e-4bcb-99bb-ba7f7b417ca2",
   "metadata": {},
   "outputs": [],
   "source": []
  },
  {
   "cell_type": "code",
   "execution_count": null,
   "id": "b3f1e37d-79ab-41b9-ade8-fb539f17ff75",
   "metadata": {},
   "outputs": [],
   "source": []
  }
 ],
 "metadata": {
  "kernelspec": {
   "display_name": "Python 3 (ipykernel)",
   "language": "python",
   "name": "python3"
  },
  "language_info": {
   "codemirror_mode": {
    "name": "ipython",
    "version": 3
   },
   "file_extension": ".py",
   "mimetype": "text/x-python",
   "name": "python",
   "nbconvert_exporter": "python",
   "pygments_lexer": "ipython3",
   "version": "3.9.12"
  },
  "toc-autonumbering": true,
  "toc-showcode": false,
  "toc-showmarkdowntxt": false
 },
 "nbformat": 4,
 "nbformat_minor": 5
}
